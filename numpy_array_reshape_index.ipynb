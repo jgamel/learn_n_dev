{
  "nbformat": 4,
  "nbformat_minor": 0,
  "metadata": {
    "colab": {
      "name": "numpy_array_reshape_index.ipynb",
      "provenance": [],
      "collapsed_sections": [],
      "authorship_tag": "ABX9TyO9A+KqC2SUd/rRP6QC21ME",
      "include_colab_link": true
    },
    "kernelspec": {
      "name": "python3",
      "display_name": "Python 3"
    },
    "language_info": {
      "name": "python"
    }
  },
  "cells": [
    {
      "cell_type": "markdown",
      "metadata": {
        "id": "view-in-github",
        "colab_type": "text"
      },
      "source": [
        "<a href=\"https://colab.research.google.com/github/jgamel/learn_n_dev/blob/python_data_prep_cleaning/numpy_array_reshape_index.ipynb\" target=\"_parent\"><img src=\"https://colab.research.google.com/assets/colab-badge.svg\" alt=\"Open In Colab\"/></a>"
      ]
    },
    {
      "cell_type": "markdown",
      "source": [
        "# How to Index, Slice and Reshape NumPy Arrays for Machine Learning"
      ],
      "metadata": {
        "id": "Haa31ATCTdBN"
      }
    },
    {
      "cell_type": "markdown",
      "source": [
        "Machine learning data is represented as arrays.\n",
        "\n",
        "In Python, data is almost universally represented as NumPy arrays.\n",
        "\n",
        "If you are new to Python, you may be confused by some of the pythonic ways of accessing data, such as negative indexing and array slicing."
      ],
      "metadata": {
        "id": "jXcG3QAbTfTs"
      }
    },
    {
      "cell_type": "markdown",
      "source": [
        "### Overview"
      ],
      "metadata": {
        "id": "U0ezgmugTkAe"
      }
    },
    {
      "cell_type": "markdown",
      "source": [
        "* From List to Arrays\n",
        "* Array Indexing\n",
        "* Array Slicing\n",
        "* Array Reshaping"
      ],
      "metadata": {
        "id": "d3QzoUm8TzPc"
      }
    },
    {
      "cell_type": "markdown",
      "source": [
        "## From List to Arrays"
      ],
      "metadata": {
        "id": "36emUl2fUBB4"
      }
    },
    {
      "cell_type": "markdown",
      "source": [
        "In general, I recommend loading your data from file using Pandas or even NumPy functions.\n",
        "\n"
      ],
      "metadata": {
        "id": "UzZAmYflU_ZH"
      }
    },
    {
      "cell_type": "markdown",
      "source": [
        "### **One-Dimensional List to Array**\n",
        "\n",
        "You may load your data or generate your data and have access to it as a list.\n",
        "\n",
        "You can convert a one-dimensional list of data to an array by calling the array() NumPy function."
      ],
      "metadata": {
        "id": "wOglZphWVDzP"
      }
    },
    {
      "cell_type": "code",
      "source": [
        "# one dimensional example\n",
        "from numpy import array\n",
        "# list of data\n",
        "data = [11, 22, 33, 44, 55]\n",
        "# array of data\n",
        "data = array(data)\n",
        "print(data)\n",
        "print(type(data))"
      ],
      "metadata": {
        "colab": {
          "base_uri": "https://localhost:8080/"
        },
        "id": "eUSs5gp0VHsj",
        "outputId": "13a4d4dc-4b6f-48d0-a4bc-28de24179c34"
      },
      "execution_count": 1,
      "outputs": [
        {
          "output_type": "stream",
          "name": "stdout",
          "text": [
            "[11 22 33 44 55]\n",
            "<class 'numpy.ndarray'>\n"
          ]
        }
      ]
    },
    {
      "cell_type": "markdown",
      "source": [
        "Running the example converts the one-dimensional list to a NumPy array."
      ],
      "metadata": {
        "id": "NUAaJq3AVPUB"
      }
    },
    {
      "cell_type": "markdown",
      "source": [
        "### **Two-Dimensional List of Lists to Array**\n",
        "\n",
        "It is more likely in machine learning that you will have two-dimensional data.\n",
        "\n",
        "That is a table of data where each row represents a new observation and each column a new feature.\n",
        "\n",
        "Perhaps you generated the data or loaded it using custom code and now you have a list of lists. Each list represents a new observation.\n",
        "\n",
        "You can convert your list of lists to a NumPy array the same way as above, by calling the array() function."
      ],
      "metadata": {
        "id": "909RMtiOVP1q"
      }
    },
    {
      "cell_type": "code",
      "source": [
        "# two dimensional example\n",
        "from numpy import array\n",
        "# list of data\n",
        "data = [[11, 22],\n",
        "\t\t[33, 44],\n",
        "\t\t[55, 66]]\n",
        "# array of data\n",
        "data = array(data)\n",
        "print(data)\n",
        "print(type(data))"
      ],
      "metadata": {
        "colab": {
          "base_uri": "https://localhost:8080/"
        },
        "id": "wANdM5vwVeDe",
        "outputId": "1a9d7f8d-85a3-461a-d20f-b52dd5037503"
      },
      "execution_count": 2,
      "outputs": [
        {
          "output_type": "stream",
          "name": "stdout",
          "text": [
            "[[11 22]\n",
            " [33 44]\n",
            " [55 66]]\n",
            "<class 'numpy.ndarray'>\n"
          ]
        }
      ]
    },
    {
      "cell_type": "markdown",
      "source": [
        "## Array Indexing"
      ],
      "metadata": {
        "id": "x5ySsLf7Vm9O"
      }
    },
    {
      "cell_type": "markdown",
      "source": [
        "Once your data is represented using a NumPy array, you can access it using indexing.\n",
        "\n",
        "Let’s look at some examples of accessing data via indexing."
      ],
      "metadata": {
        "id": "nYGIKuX-Vn7v"
      }
    },
    {
      "cell_type": "markdown",
      "source": [
        "### One-Dimensional Indexing\n",
        "\n",
        "Generally, indexing works just like you would expect from your experience with other programming languages, like Java, C#, and C++.\n",
        "\n",
        "For example, you can access elements using the bracket operator [] specifying the zero-offset index for the value to retrieve."
      ],
      "metadata": {
        "id": "U9KfjOwtVqA-"
      }
    },
    {
      "cell_type": "code",
      "source": [
        "# simple indexing\n",
        "from numpy import array\n",
        "# define array\n",
        "data = array([11, 22, 33, 44, 55])\n",
        "# index data\n",
        "print(data[0])\n",
        "print(data[4])"
      ],
      "metadata": {
        "colab": {
          "base_uri": "https://localhost:8080/"
        },
        "id": "IoZK0zkGVuBR",
        "outputId": "ce4c73be-8de9-4f69-b565-8a3321fbab07"
      },
      "execution_count": 3,
      "outputs": [
        {
          "output_type": "stream",
          "name": "stdout",
          "text": [
            "11\n",
            "55\n"
          ]
        }
      ]
    },
    {
      "cell_type": "markdown",
      "source": [
        "Running the example prints the first and last values in the array.\n",
        "\n",
        "Specifying integers too large for the bound of the array will cause an error."
      ],
      "metadata": {
        "id": "5afNkICXV4jR"
      }
    },
    {
      "cell_type": "code",
      "source": [
        "# simple indexing\n",
        "from numpy import array\n",
        "# define array\n",
        "data = array([11, 22, 33, 44, 55])\n",
        "# index data\n",
        "print(data[2])"
      ],
      "metadata": {
        "colab": {
          "base_uri": "https://localhost:8080/"
        },
        "id": "EXBEM5k1V_qW",
        "outputId": "49fbf610-486a-405d-c3cb-bf51d285add3"
      },
      "execution_count": 5,
      "outputs": [
        {
          "output_type": "stream",
          "name": "stdout",
          "text": [
            "33\n"
          ]
        }
      ]
    },
    {
      "cell_type": "markdown",
      "source": [
        "Running the example prints the following error:\n",
        "\n",
        "```IndexError: index 5 is out of bounds for axis 0 with size 5```\n",
        "\n",
        "One key difference is that you can use negative indexes to retrieve values offset from the end of the array.\n",
        "\n",
        "For example, the index -1 refers to the last item in the array. The index -2 returns the second last item all the way back to -5 for the first item in the current example."
      ],
      "metadata": {
        "id": "mBcu_PSZWvwE"
      }
    },
    {
      "cell_type": "code",
      "source": [
        "# simple indexing\n",
        "from numpy import array\n",
        "# define array\n",
        "data = array([11, 22, 33, 44, 55])\n",
        "# index data\n",
        "print(data[-1])\n",
        "print(data[-5])"
      ],
      "metadata": {
        "colab": {
          "base_uri": "https://localhost:8080/"
        },
        "id": "EO7QbJTdW9QS",
        "outputId": "7948a53e-1401-4a00-a585-5cc03056723e"
      },
      "execution_count": 6,
      "outputs": [
        {
          "output_type": "stream",
          "name": "stdout",
          "text": [
            "55\n",
            "11\n"
          ]
        }
      ]
    },
    {
      "cell_type": "markdown",
      "source": [
        "###Two-Dimensional Indexing\n",
        "Indexing two-dimensional data is similar to indexing one-dimensional data, except that a comma is used to separate the index for each dimension.\n",
        "\n",
        "```data[0,0]```\n",
        "\n",
        "This is different from C-based languages where a separate bracket operator is used for each dimension.\n",
        "\n",
        "```data[0][0]```\n",
        "\n",
        "For example, we can access the first row and the first column as follows:"
      ],
      "metadata": {
        "id": "ev4VikmjXCqb"
      }
    },
    {
      "cell_type": "code",
      "source": [
        "# 2d indexing\n",
        "from numpy import array\n",
        "# define array\n",
        "data = array([[11, 22], [33, 44], [55, 66]])\n",
        "# index data\n",
        "print(data[0,0])"
      ],
      "metadata": {
        "colab": {
          "base_uri": "https://localhost:8080/"
        },
        "id": "n-fn2BVcXMF1",
        "outputId": "168158ca-2b80-426e-b2d7-1b1982f951a4"
      },
      "execution_count": 7,
      "outputs": [
        {
          "output_type": "stream",
          "name": "stdout",
          "text": [
            "11\n"
          ]
        }
      ]
    },
    {
      "cell_type": "markdown",
      "source": [
        "If we are interested in all items in the first row, we could leave the second dimension index empty, for example:"
      ],
      "metadata": {
        "id": "bX7euIq4XQTU"
      }
    },
    {
      "cell_type": "code",
      "source": [
        "# 2d indexing\n",
        "from numpy import array\n",
        "# define array\n",
        "data = array([[11, 22], [33, 44], [55, 66]])\n",
        "# index data\n",
        "print(data[0,])"
      ],
      "metadata": {
        "colab": {
          "base_uri": "https://localhost:8080/"
        },
        "id": "0yqRrYLJXQ0P",
        "outputId": "c9048021-9b05-4d50-d518-dbd079e8a428"
      },
      "execution_count": 8,
      "outputs": [
        {
          "output_type": "stream",
          "name": "stdout",
          "text": [
            "[11 22]\n"
          ]
        }
      ]
    },
    {
      "cell_type": "markdown",
      "source": [
        "## Array Slicing"
      ],
      "metadata": {
        "id": "k4cDyltKXW42"
      }
    },
    {
      "cell_type": "markdown",
      "source": [
        "\n",
        "So far, so good; creating and indexing arrays looks familiar.\n",
        "\n",
        "Now we come to array slicing, and this is one feature that causes problems for beginners to Python and NumPy arrays.\n",
        "\n",
        "Structures like lists and NumPy arrays can be sliced. This means that a subsequence of the structure can be indexed and retrieved.\n",
        "\n",
        "This is most useful in machine learning when specifying input variables and output variables, or splitting training rows from testing rows.\n",
        "\n",
        "Slicing is specified using the colon operator ‘:’ with a ‘from‘ and ‘to‘ index before and after the column respectively. The slice extends from the ‘from’ index and ends one item before the ‘to’ index.\n",
        "\n",
        "```data[from:to]```\n",
        "\n",
        "Let’s work through some examples."
      ],
      "metadata": {
        "id": "5M7qImF4XYq8"
      }
    },
    {
      "cell_type": "markdown",
      "source": [
        "###One-Dimensional Slicing\n",
        "You can access all data in an array dimension by specifying the slice ‘:’ with no indexes."
      ],
      "metadata": {
        "id": "KjidSQTFXlbz"
      }
    },
    {
      "cell_type": "code",
      "source": [
        "# simple slicing\n",
        "from numpy import array\n",
        "# define array\n",
        "data = array([11, 22, 33, 44, 55])\n",
        "print(data[:])"
      ],
      "metadata": {
        "colab": {
          "base_uri": "https://localhost:8080/"
        },
        "id": "A659zjHAXnRr",
        "outputId": "388fb33e-5114-4160-9207-0546b80dbd99"
      },
      "execution_count": 9,
      "outputs": [
        {
          "output_type": "stream",
          "name": "stdout",
          "text": [
            "[11 22 33 44 55]\n"
          ]
        }
      ]
    },
    {
      "cell_type": "markdown",
      "source": [
        "The first item of the array can be sliced by specifying a slice that starts at index 0 and ends at index 1 (one item before the ‘to’ index)."
      ],
      "metadata": {
        "id": "tZejGlCEXrxP"
      }
    },
    {
      "cell_type": "code",
      "source": [
        "# simple slicing\n",
        "from numpy import array\n",
        "# define array\n",
        "data = array([11, 22, 33, 44, 55])\n",
        "print(data[0:1])"
      ],
      "metadata": {
        "colab": {
          "base_uri": "https://localhost:8080/"
        },
        "id": "GEcH1a50XsWs",
        "outputId": "14c25bc3-32e9-4297-c5cc-01e2be0a0c5e"
      },
      "execution_count": 10,
      "outputs": [
        {
          "output_type": "stream",
          "name": "stdout",
          "text": [
            "[11]\n"
          ]
        }
      ]
    },
    {
      "cell_type": "markdown",
      "source": [
        "We can also use negative indexes in slices. For example, we can slice the last two items in the list by starting the slice at -2 (the second last item) and not specifying a ‘to’ index; that takes the slice to the end of the dimension."
      ],
      "metadata": {
        "id": "lm_9nyMHX_lt"
      }
    },
    {
      "cell_type": "code",
      "source": [
        "# simple slicing\n",
        "from numpy import array\n",
        "# define array\n",
        "data = array([11, 22, 33, 44, 55])\n",
        "print(data[-2:])"
      ],
      "metadata": {
        "colab": {
          "base_uri": "https://localhost:8080/"
        },
        "id": "GMxy-g11YAga",
        "outputId": "24af4bf9-a760-4a3a-abc6-722945debb98"
      },
      "execution_count": 11,
      "outputs": [
        {
          "output_type": "stream",
          "name": "stdout",
          "text": [
            "[44 55]\n"
          ]
        }
      ]
    },
    {
      "cell_type": "markdown",
      "source": [
        "###Two-Dimensional Slicing\n",
        "Let’s look at the two examples of two-dimensional slicing you are most likely to use in machine learning.\n",
        "\n",
        "**Split Input and Output Features**\n",
        "It is common to split your loaded data into input variables (X) and the output variable (y).\n",
        "\n",
        "We can do this by slicing all rows and all columns up to, but before the last column, then separately indexing the last column.\n",
        "\n",
        "For the input features, we can select all rows and all columns except the last one by specifying ‘:’ for in the rows index, and :-1 in the columns index.\n",
        "\n",
        "```X = [:, :-1]```\n",
        "\n",
        "For the output column, we can select all rows again using ‘:’ and index just the last column by specifying the -1 index.\n",
        "\n",
        "```y = [:, -1]```\n",
        "\n",
        "Putting all of this together, we can separate a 3-column 2D dataset into input and output data as follows:"
      ],
      "metadata": {
        "id": "Wl3U2p_BYJOO"
      }
    },
    {
      "cell_type": "code",
      "source": [
        "# split input and output\n",
        "from numpy import array\n",
        "# define array\n",
        "data = array([[11, 22, 33],\n",
        "\t\t[44, 55, 66],\n",
        "\t\t[77, 88, 99]])\n",
        "# separate data\n",
        "X, y = data[:, :-1], data[:, -1]\n",
        "print(X)\n",
        "print(y)"
      ],
      "metadata": {
        "colab": {
          "base_uri": "https://localhost:8080/"
        },
        "id": "FRnp4YPxZT-f",
        "outputId": "91f2080b-8293-449e-bbba-df5864ccb0bf"
      },
      "execution_count": 12,
      "outputs": [
        {
          "output_type": "stream",
          "name": "stdout",
          "text": [
            "[[11 22]\n",
            " [44 55]\n",
            " [77 88]]\n",
            "[33 66 99]\n"
          ]
        }
      ]
    },
    {
      "cell_type": "markdown",
      "source": [
        "**Split Train and Test Rows**\n",
        "\n",
        "It is common to split a loaded dataset into separate train and test sets.\n",
        "\n",
        "This is a splitting of rows where some portion will be used to train the model and the remaining portion will be used to estimate the skill of the trained model.\n",
        "\n",
        "This would involve slicing all columns by specifying ‘:’ in the second dimension index. The training dataset would be all rows from the beginning to the split point.\n",
        "\n",
        "```\n",
        "dataset\n",
        "train = data[:split, :]\n",
        "```\n",
        "\n",
        "The test dataset would be all rows starting from the split point to the end of the dimension.\n",
        "\n",
        "```test = data[split:, :]```\n",
        "\n",
        "Putting all of this together, we can split the dataset at the contrived split point of 2."
      ],
      "metadata": {
        "id": "GbQG7p8uZZH3"
      }
    },
    {
      "cell_type": "code",
      "source": [
        "# split train and test\n",
        "from numpy import array\n",
        "# define array\n",
        "data = array([[11, 22, 33],\n",
        "\t\t[44, 55, 66],\n",
        "\t\t[77, 88, 99]])\n",
        "# separate data\n",
        "split = 2\n",
        "train,test = data[:split,:],data[split:,:]\n",
        "print(train)\n",
        "print(test)"
      ],
      "metadata": {
        "colab": {
          "base_uri": "https://localhost:8080/"
        },
        "id": "ZHq18aIGZ9NH",
        "outputId": "c811be36-0543-42b4-ea4d-3bb064c69a63"
      },
      "execution_count": 13,
      "outputs": [
        {
          "output_type": "stream",
          "name": "stdout",
          "text": [
            "[[11 22 33]\n",
            " [44 55 66]]\n",
            "[[77 88 99]]\n"
          ]
        }
      ]
    },
    {
      "cell_type": "markdown",
      "source": [
        "## Array Reshaping"
      ],
      "metadata": {
        "id": "YvCEWFJaZmlK"
      }
    },
    {
      "cell_type": "markdown",
      "source": [
        "How to Index, Slice and Reshape NumPy Arrays for Machine Learning\n",
        "by Jason Brownlee on October 25, 2017 in Linear Algebra\n",
        "Tweet Tweet  Share\n",
        "Last Updated on June 13, 2020\n",
        "\n",
        "Machine learning data is represented as arrays.\n",
        "\n",
        "In Python, data is almost universally represented as NumPy arrays.\n",
        "\n",
        "If you are new to Python, you may be confused by some of the pythonic ways of accessing data, such as negative indexing and array slicing.\n",
        "\n",
        "In this tutorial, you will discover how to manipulate and access your data correctly in NumPy arrays.\n",
        "\n",
        "After completing this tutorial, you will know:\n",
        "\n",
        "How to convert your list data to NumPy arrays.\n",
        "How to access data using Pythonic indexing and slicing.\n",
        "How to resize your data to meet the expectations of some machine learning APIs.\n",
        "Kick-start your project with my new book Linear Algebra for Machine Learning, including step-by-step tutorials and the Python source code files for all examples.\n",
        "\n",
        "Let’s get started.\n",
        "\n",
        "Update Jul/2019: Fixed small typo related to reshaping 1D data (thanks Rodrigue).\n",
        "How to Index, Slice and Reshape NumPy Arrays for Machine Learning in Python\n",
        "How to Index, Slice and Reshape NumPy Arrays for Machine Learning in Python\n",
        "Photo by Björn Söderqvist, some rights reserved.\n",
        "\n",
        "Tutorial Overview\n",
        "This tutorial is divided into 4 parts; they are:\n",
        "\n",
        "From List to Arrays\n",
        "Array Indexing\n",
        "Array Slicing\n",
        "Array Reshaping\n",
        "Need help with Linear Algebra for Machine Learning?\n",
        "Take my free 7-day email crash course now (with sample code).\n",
        "\n",
        "Click to sign-up and also get a free PDF Ebook version of the course.\n",
        "\n",
        "Download Your FREE Mini-Course\n",
        "\n",
        "1. From List to Arrays\n",
        "In general, I recommend loading your data from file using Pandas or even NumPy functions.\n",
        "\n",
        "For examples, see the post:\n",
        "\n",
        "How To Load Machine Learning Data in Python\n",
        "This section assumes you have loaded or generated your data by other means and it is now represented using Python lists.\n",
        "\n",
        "Let’s look at converting your data in lists to NumPy arrays.\n",
        "\n",
        "One-Dimensional List to Array\n",
        "You may load your data or generate your data and have access to it as a list.\n",
        "\n",
        "You can convert a one-dimensional list of data to an array by calling the array() NumPy function.\n",
        "\n",
        "# one dimensional example\n",
        "from numpy import array\n",
        "# list of data\n",
        "data = [11, 22, 33, 44, 55]\n",
        "# array of data\n",
        "data = array(data)\n",
        "print(data)\n",
        "print(type(data))\n",
        "Running the example converts the one-dimensional list to a NumPy array.\n",
        "\n",
        "[11 22 33 44 55]\n",
        "<class 'numpy.ndarray'>\n",
        "Two-Dimensional List of Lists to Array\n",
        "It is more likely in machine learning that you will have two-dimensional data.\n",
        "\n",
        "That is a table of data where each row represents a new observation and each column a new feature.\n",
        "\n",
        "Perhaps you generated the data or loaded it using custom code and now you have a list of lists. Each list represents a new observation.\n",
        "\n",
        "You can convert your list of lists to a NumPy array the same way as above, by calling the array() function.\n",
        "\n",
        "# two dimensional example\n",
        "from numpy import array\n",
        "# list of data\n",
        "data = [[11, 22],\n",
        "\t\t[33, 44],\n",
        "\t\t[55, 66]]\n",
        "# array of data\n",
        "data = array(data)\n",
        "print(data)\n",
        "print(type(data))\n",
        "Running the example shows the data successfully converted.\n",
        "\n",
        "[[11 22]\n",
        " [33 44]\n",
        " [55 66]]\n",
        "<class 'numpy.ndarray'>\n",
        "2. Array Indexing\n",
        "Once your data is represented using a NumPy array, you can access it using indexing.\n",
        "\n",
        "Let’s look at some examples of accessing data via indexing.\n",
        "\n",
        "One-Dimensional Indexing\n",
        "Generally, indexing works just like you would expect from your experience with other programming languages, like Java, C#, and C++.\n",
        "\n",
        "For example, you can access elements using the bracket operator [] specifying the zero-offset index for the value to retrieve.\n",
        "\n",
        "# simple indexing\n",
        "from numpy import array\n",
        "# define array\n",
        "data = array([11, 22, 33, 44, 55])\n",
        "# index data\n",
        "print(data[0])\n",
        "print(data[4])\n",
        "Running the example prints the first and last values in the array.\n",
        "\n",
        "11\n",
        "55\n",
        "Specifying integers too large for the bound of the array will cause an error.\n",
        "\n",
        "# simple indexing\n",
        "from numpy import array\n",
        "# define array\n",
        "data = array([11, 22, 33, 44, 55])\n",
        "# index data\n",
        "print(data[5])\n",
        "Running the example prints the following error:\n",
        "\n",
        "IndexError: index 5 is out of bounds for axis 0 with size 5\n",
        "One key difference is that you can use negative indexes to retrieve values offset from the end of the array.\n",
        "\n",
        "For example, the index -1 refers to the last item in the array. The index -2 returns the second last item all the way back to -5 for the first item in the current example.\n",
        "\n",
        "# simple indexing\n",
        "from numpy import array\n",
        "# define array\n",
        "data = array([11, 22, 33, 44, 55])\n",
        "# index data\n",
        "print(data[-1])\n",
        "print(data[-5])\n",
        "Running the example prints the last and first items in the array.\n",
        "\n",
        "55\n",
        "11\n",
        "Two-Dimensional Indexing\n",
        "Indexing two-dimensional data is similar to indexing one-dimensional data, except that a comma is used to separate the index for each dimension.\n",
        "\n",
        "data[0,0]\n",
        "This is different from C-based languages where a separate bracket operator is used for each dimension.\n",
        "\n",
        "data[0][0]\n",
        "For example, we can access the first row and the first column as follows:\n",
        "\n",
        "# 2d indexing\n",
        "from numpy import array\n",
        "# define array\n",
        "data = array([[11, 22], [33, 44], [55, 66]])\n",
        "# index data\n",
        "print(data[0,0])\n",
        "Running the example prints the first item in the dataset.\n",
        "\n",
        "11\n",
        "If we are interested in all items in the first row, we could leave the second dimension index empty, for example:\n",
        "\n",
        "# 2d indexing\n",
        "from numpy import array\n",
        "# define array\n",
        "data = array([[11, 22], [33, 44], [55, 66]])\n",
        "# index data\n",
        "print(data[0,])\n",
        "This prints the first row of data.\n",
        "\n",
        "[11 22]\n",
        "3. Array Slicing\n",
        "So far, so good; creating and indexing arrays looks familiar.\n",
        "\n",
        "Now we come to array slicing, and this is one feature that causes problems for beginners to Python and NumPy arrays.\n",
        "\n",
        "Structures like lists and NumPy arrays can be sliced. This means that a subsequence of the structure can be indexed and retrieved.\n",
        "\n",
        "This is most useful in machine learning when specifying input variables and output variables, or splitting training rows from testing rows.\n",
        "\n",
        "Slicing is specified using the colon operator ‘:’ with a ‘from‘ and ‘to‘ index before and after the column respectively. The slice extends from the ‘from’ index and ends one item before the ‘to’ index.\n",
        "\n",
        "data[from:to]\n",
        "Let’s work through some examples.\n",
        "\n",
        "One-Dimensional Slicing\n",
        "You can access all data in an array dimension by specifying the slice ‘:’ with no indexes.\n",
        "\n",
        "# simple slicing\n",
        "from numpy import array\n",
        "# define array\n",
        "data = array([11, 22, 33, 44, 55])\n",
        "print(data[:])\n",
        "Running the example prints all elements in the array.\n",
        "\n",
        "[11 22 33 44 55]\n",
        "The first item of the array can be sliced by specifying a slice that starts at index 0 and ends at index 1 (one item before the ‘to’ index).\n",
        "\n",
        "# simple slicing\n",
        "from numpy import array\n",
        "# define array\n",
        "data = array([11, 22, 33, 44, 55])\n",
        "print(data[0:1])\n",
        "Running the example returns a subarray with the first element.\n",
        "\n",
        "[11]\n",
        "We can also use negative indexes in slices. For example, we can slice the last two items in the list by starting the slice at -2 (the second last item) and not specifying a ‘to’ index; that takes the slice to the end of the dimension.\n",
        "\n",
        "# simple slicing\n",
        "from numpy import array\n",
        "# define array\n",
        "data = array([11, 22, 33, 44, 55])\n",
        "print(data[-2:])\n",
        "Running the example returns a subarray with the last two items only.\n",
        "\n",
        "[44 55]\n",
        "Two-Dimensional Slicing\n",
        "Let’s look at the two examples of two-dimensional slicing you are most likely to use in machine learning.\n",
        "\n",
        "Split Input and Output Features\n",
        "It is common to split your loaded data into input variables (X) and the output variable (y).\n",
        "\n",
        "We can do this by slicing all rows and all columns up to, but before the last column, then separately indexing the last column.\n",
        "\n",
        "For the input features, we can select all rows and all columns except the last one by specifying ‘:’ for in the rows index, and :-1 in the columns index.\n",
        "\n",
        "X = [:, :-1]\n",
        "For the output column, we can select all rows again using ‘:’ and index just the last column by specifying the -1 index.\n",
        "\n",
        "y = [:, -1]\n",
        "Putting all of this together, we can separate a 3-column 2D dataset into input and output data as follows:\n",
        "\n",
        "# split input and output\n",
        "from numpy import array\n",
        "# define array\n",
        "data = array([[11, 22, 33],\n",
        "\t\t[44, 55, 66],\n",
        "\t\t[77, 88, 99]])\n",
        "# separate data\n",
        "X, y = data[:, :-1], data[:, -1]\n",
        "print(X)\n",
        "print(y)\n",
        "Running the example prints the separated X and y elements. Note that X is a 2D array and y is a 1D array.\n",
        "\n",
        "[[11 22]\n",
        " [44 55]\n",
        " [77 88]]\n",
        "[33 66 99]\n",
        "Split Train and Test Rows\n",
        "It is common to split a loaded dataset into separate train and test sets.\n",
        "\n",
        "This is a splitting of rows where some portion will be used to train the model and the remaining portion will be used to estimate the skill of the trained model.\n",
        "\n",
        "This would involve slicing all columns by specifying ‘:’ in the second dimension index. The training dataset would be all rows from the beginning to the split point.\n",
        "\n",
        "dataset\n",
        "train = data[:split, :]\n",
        "The test dataset would be all rows starting from the split point to the end of the dimension.\n",
        "\n",
        "test = data[split:, :]\n",
        "Putting all of this together, we can split the dataset at the contrived split point of 2.\n",
        "\n",
        "# split train and test\n",
        "from numpy import array\n",
        "# define array\n",
        "data = array([[11, 22, 33],\n",
        "\t\t[44, 55, 66],\n",
        "\t\t[77, 88, 99]])\n",
        "# separate data\n",
        "split = 2\n",
        "train,test = data[:split,:],data[split:,:]\n",
        "print(train)\n",
        "print(test)\n",
        "Running the example selects the first two rows for training and the last row for the test set.\n",
        "\n",
        "[[11 22 33]\n",
        "[44 55 66]]\n",
        "[[77 88 99]]\n",
        "4. Array Reshaping\n",
        "After slicing your data, you may need to reshape it.\n",
        "\n",
        "For example, some libraries, such as scikit-learn, may require that a one-dimensional array of output variables (y) be shaped as a two-dimensional array with one column and outcomes for each row.\n",
        "\n",
        "Some algorithms, like the Long Short-Term Memory recurrent neural network in Keras, require input to be specified as a three-dimensional array comprised of samples, timesteps, and features.\n",
        "\n",
        "It is important to know how to reshape your NumPy arrays so that your data meets the expectation of specific Python libraries. We will look at these two examples.\n",
        "\n"
      ],
      "metadata": {
        "id": "wNH6Lh5UaGhi"
      }
    },
    {
      "cell_type": "markdown",
      "source": [
        "### Data Shape\n",
        "\n",
        "NumPy arrays have a shape attribute that returns a tuple of the length of each dimension of the array.\n",
        "\n",
        "For example:"
      ],
      "metadata": {
        "id": "U__SGxqgaJmj"
      }
    },
    {
      "cell_type": "code",
      "source": [
        "# array shape\n",
        "from numpy import array\n",
        "# define array\n",
        "data = array([11, 22, 33, 44, 55])\n",
        "print(data.shape)"
      ],
      "metadata": {
        "colab": {
          "base_uri": "https://localhost:8080/"
        },
        "id": "waXGXRX7aPYj",
        "outputId": "7430155b-629d-423b-dc69-55bf3c77873c"
      },
      "execution_count": 14,
      "outputs": [
        {
          "output_type": "stream",
          "name": "stdout",
          "text": [
            "(5,)\n"
          ]
        }
      ]
    },
    {
      "cell_type": "markdown",
      "source": [
        "A tuple with two lengths is returned for a two-dimensional array."
      ],
      "metadata": {
        "id": "Y2-WvyT3aoxT"
      }
    },
    {
      "cell_type": "code",
      "source": [
        "# array shape\n",
        "from numpy import array\n",
        "# list of data\n",
        "data = [[11, 22],\n",
        "\t\t[33, 44],\n",
        "\t\t[55, 66]]\n",
        "# array of data\n",
        "data = array(data)\n",
        "print(data.shape)"
      ],
      "metadata": {
        "colab": {
          "base_uri": "https://localhost:8080/"
        },
        "id": "0bkczYkJazCF",
        "outputId": "9496ae5e-4fc4-4d63-c616-c7485e9be906"
      },
      "execution_count": 15,
      "outputs": [
        {
          "output_type": "stream",
          "name": "stdout",
          "text": [
            "(3, 2)\n"
          ]
        }
      ]
    },
    {
      "cell_type": "markdown",
      "source": [
        "You can use the size of your array dimensions in the shape dimension, such as specifying parameters.\n",
        "\n",
        "The elements of the tuple can be accessed just like an array, with the 0th index for the number of rows and the 1st index for the number of columns. For example:\n"
      ],
      "metadata": {
        "id": "XK1njShWa4eu"
      }
    },
    {
      "cell_type": "code",
      "source": [
        "# array shape\n",
        "from numpy import array\n",
        "# list of data\n",
        "data = [[11, 22],\n",
        "\t\t[33, 44],\n",
        "\t\t[55, 66]]\n",
        "# array of data\n",
        "data = array(data)\n",
        "print('Rows: %d' % data.shape[0])\n",
        "print('Cols: %d' % data.shape[1])"
      ],
      "metadata": {
        "colab": {
          "base_uri": "https://localhost:8080/"
        },
        "id": "tufmhU2Aa9Jt",
        "outputId": "38d797db-2029-4dd7-b759-458e819eac82"
      },
      "execution_count": 16,
      "outputs": [
        {
          "output_type": "stream",
          "name": "stdout",
          "text": [
            "Rows: 3\n",
            "Cols: 2\n"
          ]
        }
      ]
    },
    {
      "cell_type": "markdown",
      "source": [
        "### Reshape 1D to 2D Array\n",
        "It is common to need to reshape a one-dimensional array into a two-dimensional array with one column and multiple rows.\n",
        "\n",
        "NumPy provides the reshape() function on the NumPy array object that can be used to reshape the data.\n",
        "\n",
        "The reshape() function takes a single argument that specifies the new shape of the array. In the case of reshaping a one-dimensional array into a two-dimensional array with one column, the tuple would be the shape of the array as the first dimension (data.shape[0]) and 1 for the second dimension.\n",
        "\n",
        "```data = data.reshape((data.shape[0], 1))```\n",
        "\n",
        "Putting this all together, we get the following worked example."
      ],
      "metadata": {
        "id": "TeHLaIDUbE6a"
      }
    },
    {
      "cell_type": "code",
      "source": [
        "# reshape 1D array\n",
        "from numpy import array\n",
        "from numpy import reshape\n",
        "# define array\n",
        "data = array([11, 22, 33, 44, 55])\n",
        "print(data.shape)\n",
        "# reshape\n",
        "data = data.reshape((data.shape[0], 1))\n",
        "print(data.shape)"
      ],
      "metadata": {
        "colab": {
          "base_uri": "https://localhost:8080/"
        },
        "id": "iKySmySPbSNf",
        "outputId": "a30ec6db-0fee-4cb2-edce-34fde3b5361b"
      },
      "execution_count": 17,
      "outputs": [
        {
          "output_type": "stream",
          "name": "stdout",
          "text": [
            "(5,)\n",
            "(5, 1)\n"
          ]
        }
      ]
    },
    {
      "cell_type": "markdown",
      "source": [
        "Reshape 2D to 3D Array\n",
        "It is common to need to reshape two-dimensional data where each row represents a sequence into a three-dimensional array for algorithms that expect multiple samples of one or more time steps and one or more features.\n",
        "\n",
        "A good example is the LSTM recurrent neural network model in the Keras deep learning library.\n",
        "\n",
        "The reshape function can be used directly, specifying the new dimensionality. This is clear with an example where each sequence has multiple time steps with one observation (feature) at each time step.\n",
        "\n",
        "We can use the sizes in the shape attribute on the array to specify the number of samples (rows) and columns (time steps) and fix the number of features at 1.\n",
        "\n",
        "```data.reshape((data.shape[0], data.shape[1], 1))```\n",
        "\n",
        "Putting this all together, we get the following worked example.\n",
        "\n"
      ],
      "metadata": {
        "id": "2c-cBht2cDhp"
      }
    },
    {
      "cell_type": "code",
      "source": [
        "# reshape 2D array\n",
        "from numpy import array\n",
        "# list of data\n",
        "data = [[11, 22],\n",
        "\t\t[33, 44],\n",
        "\t\t[55, 66]]\n",
        "# array of data\n",
        "data = array(data)\n",
        "print(data.shape)\n",
        "# reshape\n",
        "data = data.reshape((data.shape[0], data.shape[1], 1))\n"
      ],
      "metadata": {
        "colab": {
          "base_uri": "https://localhost:8080/"
        },
        "id": "g6uC_8HBcG_m",
        "outputId": "1f1a6cf9-6e4d-4e08-ed04-5935e44100a5"
      },
      "execution_count": 18,
      "outputs": [
        {
          "output_type": "stream",
          "name": "stdout",
          "text": [
            "(3, 2)\n"
          ]
        }
      ]
    }
  ]
}