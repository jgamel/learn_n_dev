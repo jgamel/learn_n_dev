{
  "nbformat": 4,
  "nbformat_minor": 0,
  "metadata": {
    "colab": {
      "name": "maplotlib_guide.ipynb",
      "provenance": [],
      "collapsed_sections": [],
      "authorship_tag": "ABX9TyOka1ZZXkSIlMKawEMpwALe",
      "include_colab_link": true
    },
    "kernelspec": {
      "name": "python3",
      "display_name": "Python 3"
    },
    "language_info": {
      "name": "python"
    }
  },
  "cells": [
    {
      "cell_type": "markdown",
      "metadata": {
        "id": "view-in-github",
        "colab_type": "text"
      },
      "source": [
        "<a href=\"https://colab.research.google.com/github/jgamel/learn_n_dev/blob/python_programming/maplotlib_guide.ipynb\" target=\"_parent\"><img src=\"https://colab.research.google.com/assets/colab-badge.svg\" alt=\"Open In Colab\"/></a>"
      ]
    },
    {
      "cell_type": "markdown",
      "source": [
        "# Matplotlib Guide"
      ],
      "metadata": {
        "id": "xlbyCOdFgTDp"
      }
    },
    {
      "cell_type": "markdown",
      "source": [
        "# Visualization with Matplotlib"
      ],
      "metadata": {
        "id": "bWqgU6c8sMQu"
      }
    },
    {
      "cell_type": "markdown",
      "source": [
        "We'll now take an in-depth look at the Matplotlib package for visualization in Python. Matplotlib is a multi-platform data visualization library built on NumPy arrays, and designed to work with the broader SciPy stack. It was conceived by John Hunter in 2002, originally as a patch to IPython for enabling interactive MATLAB-style plotting via gnuplot from the IPython command line. IPython's creator, Fernando Perez, was at the time scrambling to finish his PhD, and let John know he wouldn’t have time to review the patch for several months. John took this as a cue to set out on his own, and the Matplotlib package was born, with version 0.1 released in 2003. It received an early boost when it was adopted as the plotting package of choice of the Space Telescope Science Institute (the folks behind the Hubble Telescope), which financially supported Matplotlib’s development and greatly expanded its capabilities.\n",
        "\n",
        "One of Matplotlib’s most important features is its ability to play well with many operating systems and graphics backends. Matplotlib supports dozens of backends and output types, which means you can count on it to work regardless of which operating system you are using or which output format you wish. This cross-platform, everything-to-everyone approach has been one of the great strengths of Matplotlib. It has led to a large user base, which in turn has led to an active developer base and Matplotlib’s powerful tools and ubiquity within the scientific Python world.\n",
        "\n",
        "In recent years, however, the interface and style of Matplotlib have begun to show their age. Newer tools like ggplot and ggvis in the R language, along with web visualization toolkits based on D3js and HTML5 canvas, often make Matplotlib feel clunky and old-fashioned. Still, I'm of the opinion that we cannot ignore Matplotlib's strength as a well-tested, cross-platform graphics engine. Recent Matplotlib versions make it relatively easy to set new global plotting styles, and people have been developing new packages that build on its powerful internals to drive Matplotlib via cleaner, more modern APIs—for example, Seaborn, ggpy, HoloViews, Altair, and even Pandas itself can be used as wrappers around Matplotlib's API. Even with wrappers like these, it is still often useful to dive into Matplotlib's syntax to adjust the final plot output. For this reason, I believe that Matplotlib itself will remain a vital piece of the data visualization stack, even if new tools mean the community gradually moves away from using the Matplotlib API directly."
      ],
      "metadata": {
        "id": "n3ED8kXxsO5n"
      }
    },
    {
      "cell_type": "markdown",
      "source": [
        "###General Matplotlib Tips\n",
        "\n",
        "Before we dive into the details of creating visualizations with Matplotlib, there are a few useful things you should know about using the package."
      ],
      "metadata": {
        "id": "x4N0ze1-tLru"
      }
    },
    {
      "cell_type": "markdown",
      "source": [
        "### Importing Matplotlib\n",
        "\n",
        "Just as we use the ``np`` shorthand for NumPy and the ``pd`` shorthand for Pandas, we will use some standard shorthands for Matplotlib imports:"
      ],
      "metadata": {
        "id": "J4qD_Z3xtQj6"
      }
    },
    {
      "cell_type": "code",
      "source": [
        "import matplotlib as mpl\n",
        "import matplotlib.pyplot as plt"
      ],
      "metadata": {
        "id": "tQqLmMzutdrT"
      },
      "execution_count": 195,
      "outputs": []
    },
    {
      "cell_type": "markdown",
      "source": [
        "The plt interface is what we will use most often, as we shall see throughout this chapter."
      ],
      "metadata": {
        "id": "HADOPMWAtjBY"
      }
    },
    {
      "cell_type": "markdown",
      "source": [
        "### Setting Styles\n",
        "\n",
        "We will use the ``plt.style`` directive to choose appropriate aesthetic styles for our figures.\n",
        "Here we will set the ``classic`` style, which ensures that the plots we create use the classic Matplotlib style:"
      ],
      "metadata": {
        "id": "w8bKXouJtjj2"
      }
    },
    {
      "cell_type": "code",
      "source": [
        "plt.style.use('classic')"
      ],
      "metadata": {
        "id": "SqOnmrvltqzz"
      },
      "execution_count": 196,
      "outputs": []
    },
    {
      "cell_type": "markdown",
      "source": [
        "Throughout this section, we will adjust this style as needed.\n",
        "Note that the stylesheets used here are supported as of Matplotlib version 1.5; if you are using an earlier version of Matplotlib, only the default style is available.\n",
        "For more information on stylesheets, see [Customizing Matplotlib: Configurations and Style Sheets](04.11-Settings-and-Stylesheets.ipynb)."
      ],
      "metadata": {
        "id": "pOOLKOvOtx3J"
      }
    },
    {
      "cell_type": "markdown",
      "source": [
        "### ``show()`` or No ``show()``? How to Display Your Plots"
      ],
      "metadata": {
        "id": "e8DI0K1Lt2yr"
      }
    },
    {
      "cell_type": "markdown",
      "source": [
        "A visualization you can't see won't be of much use, but just how you view your Matplotlib plots depends on the context.\n",
        "The best use of Matplotlib differs depending on how you are using it; roughly, the three applicable contexts are using Matplotlib in a script, in an IPython terminal, or in an IPython notebook."
      ],
      "metadata": {
        "id": "LPfzHmWmt3i2"
      }
    },
    {
      "cell_type": "markdown",
      "source": [
        "#### Plotting from a script\n",
        "\n",
        "If you are using Matplotlib from within a script, the function ``plt.show()`` is your friend.\n",
        "``plt.show()`` starts an event loop, looks for all currently active figure objects, and opens one or more interactive windows that display your figure or figures.\n",
        "\n",
        "So, for example, you may have a file called *myplot.py* containing the following:\n",
        "\n",
        "```python\n",
        "# ------- file: myplot.py ------\n",
        "import matplotlib.pyplot as plt\n",
        "import numpy as np\n",
        "\n",
        "x = np.linspace(0, 10, 100)\n",
        "\n",
        "plt.plot(x, np.sin(x))\n",
        "plt.plot(x, np.cos(x))\n",
        "\n",
        "plt.show()\n",
        "```\n",
        "\n",
        "You can then run this script from the command-line prompt, which will result in a window opening with your figure displayed:\n",
        "\n",
        "```\n",
        "$ python myplot.py\n",
        "```\n",
        "\n",
        "The ``plt.show()`` command does a lot under the hood, as it must interact with your system's interactive graphical backend.\n",
        "The details of this operation can vary greatly from system to system and even installation to installation, but matplotlib does its best to hide all these details from you.\n",
        "\n",
        "One thing to be aware of: the ``plt.show()`` command should be used *only once* per Python session, and is most often seen at the very end of the script.\n",
        "Multiple ``show()`` commands can lead to unpredictable backend-dependent behavior, and should mostly be avoided."
      ],
      "metadata": {
        "id": "Xw6ucDvit8zA"
      }
    },
    {
      "cell_type": "markdown",
      "source": [
        "#### Plotting from an IPython shell\n",
        "\n",
        "It can be very convenient to use Matplotlib interactively within an IPython shell (see [IPython: Beyond Normal Python](01.00-IPython-Beyond-Normal-Python.ipynb)).\n",
        "IPython is built to work well with Matplotlib if you specify Matplotlib mode.\n",
        "To enable this mode, you can use the ``%matplotlib`` magic command after starting ``ipython``:\n",
        "\n",
        "```ipython\n",
        "In [1]: %matplotlib\n",
        "Using matplotlib backend: TkAgg\n",
        "\n",
        "In [2]: import matplotlib.pyplot as plt\n",
        "```\n",
        "\n",
        "At this point, any ``plt`` plot command will cause a figure window to open, and further commands can be run to update the plot.\n",
        "Some changes (such as modifying properties of lines that are already drawn) will not draw automatically: to force an update, use ``plt.draw()``.\n",
        "Using ``plt.show()`` in Matplotlib mode is not required."
      ],
      "metadata": {
        "id": "6lM5b_OBuD1G"
      }
    },
    {
      "cell_type": "code",
      "source": [
        "%matplotlib inline"
      ],
      "metadata": {
        "id": "6VkeSVHEuNtk"
      },
      "execution_count": 197,
      "outputs": []
    },
    {
      "cell_type": "markdown",
      "source": [
        "After running this command (it needs to be done only once per kernel/session), any cell within the notebook that creates a plot will embed a PNG image of the resulting graphic:"
      ],
      "metadata": {
        "id": "9buH2_XpuMSz"
      }
    },
    {
      "cell_type": "code",
      "source": [
        "import numpy as np\n",
        "x = np.linspace(0, 10, 100)\n",
        "\n",
        "fig = plt.figure()\n",
        "plt.plot(x, np.sin(x), '-')\n",
        "plt.plot(x, np.cos(x), '--');"
      ],
      "metadata": {
        "colab": {
          "base_uri": "https://localhost:8080/",
          "height": 273
        },
        "id": "exo-UoEAuQjx",
        "outputId": "f3c966c2-921c-4cfd-951c-379e25ea0ce4"
      },
      "execution_count": 198,
      "outputs": [
        {
          "output_type": "display_data",
          "data": {
            "text/plain": [
              "<Figure size 432x288 with 1 Axes>"
            ],
            "image/png": "[encoded data removed]"
          },
          "metadata": {
            "needs_background": "light"
          }
        }
      ]
    },
    {
      "cell_type": "markdown",
      "source": [
        "### Saving Figures to File\n",
        "\n",
        "One nice feature of Matplotlib is the ability to save figures in a wide variety of formats.\n",
        "Saving a figure can be done using the ``savefig()`` command.\n",
        "For example, to save the previous figure as a PNG file, you can run this:"
      ],
      "metadata": {
        "id": "znu_p3A0ub6U"
      }
    },
    {
      "cell_type": "code",
      "source": [
        "fig.savefig('my_figure.png')"
      ],
      "metadata": {
        "id": "MdPc-tBZucjj"
      },
      "execution_count": 199,
      "outputs": []
    },
    {
      "cell_type": "markdown",
      "source": [
        "We now have a file called my_figure.png in the current working directory:"
      ],
      "metadata": {
        "id": "DtugjWhaufmG"
      }
    },
    {
      "cell_type": "code",
      "source": [
        "!ls -lh my_figure.png"
      ],
      "metadata": {
        "colab": {
          "base_uri": "https://localhost:8080/"
        },
        "id": "YIR8TxQSujka",
        "outputId": "596e7648-8a5c-45ec-923d-a449f1cd6ab1"
      },
      "execution_count": 200,
      "outputs": [
        {
          "output_type": "stream",
          "name": "stdout",
          "text": [
            "-rw-r--r-- 1 root root 26K Jun  8 14:31 my_figure.png\n"
          ]
        }
      ]
    },
    {
      "cell_type": "markdown",
      "source": [
        "To confirm that it contains what we think it contains, let's use the IPython ``Image`` object to display the contents of this file:"
      ],
      "metadata": {
        "id": "Id8GvAeouquW"
      }
    },
    {
      "cell_type": "code",
      "source": [
        "from IPython.display import Image\n",
        "Image('my_figure.png')"
      ],
      "metadata": {
        "colab": {
          "base_uri": "https://localhost:8080/",
          "height": 417
        },
        "id": "qRdAx7SHurr6",
        "outputId": "35a79522-2086-4572-e399-f2056506ba3f"
      },
      "execution_count": 201,
      "outputs": [
        {
          "output_type": "execute_result",
          "data": {
            "text/plain": [
              "<IPython.core.display.Image object>"
            ],
            "image/png": "[encoded data removed]"
          },
          "metadata": {},
          "execution_count": 201
        }
      ]
    },
    {
      "cell_type": "markdown",
      "source": [
        "In ``savefig()``, the file format is inferred from the extension of the given filename.\n",
        "Depending on what backends you have installed, many different file formats are available.\n",
        "The list of supported file types can be found for your system by using the following method of the figure canvas object:"
      ],
      "metadata": {
        "id": "hnSjHzE3u0wf"
      }
    },
    {
      "cell_type": "code",
      "source": [
        "fig.canvas.get_supported_filetypes()"
      ],
      "metadata": {
        "colab": {
          "base_uri": "https://localhost:8080/"
        },
        "id": "25Kh906Xu65v",
        "outputId": "b74a2571-b708-4caa-b47f-3850bced04e2"
      },
      "execution_count": 202,
      "outputs": [
        {
          "output_type": "execute_result",
          "data": {
            "text/plain": [
              "{'eps': 'Encapsulated Postscript',\n",
              " 'jpeg': 'Joint Photographic Experts Group',\n",
              " 'jpg': 'Joint Photographic Experts Group',\n",
              " 'pdf': 'Portable Document Format',\n",
              " 'pgf': 'PGF code for LaTeX',\n",
              " 'png': 'Portable Network Graphics',\n",
              " 'ps': 'Postscript',\n",
              " 'raw': 'Raw RGBA bitmap',\n",
              " 'rgba': 'Raw RGBA bitmap',\n",
              " 'svg': 'Scalable Vector Graphics',\n",
              " 'svgz': 'Scalable Vector Graphics',\n",
              " 'tif': 'Tagged Image File Format',\n",
              " 'tiff': 'Tagged Image File Format'}"
            ]
          },
          "metadata": {},
          "execution_count": 202
        }
      ]
    },
    {
      "cell_type": "markdown",
      "source": [
        "Note that when saving your figure, it's not necessary to use plt.show() or related commands discussed earlier."
      ],
      "metadata": {
        "id": "W3wylRE2vAuz"
      }
    },
    {
      "cell_type": "markdown",
      "source": [
        "## Two Interfaces for the Price of One\n",
        "\n",
        "A potentially confusing feature of Matplotlib is its dual interfaces: a convenient MATLAB-style state-based interface, and a more powerful object-oriented interface. We'll quickly highlight the differences between the two here."
      ],
      "metadata": {
        "id": "19d9u1CEvEBb"
      }
    },
    {
      "cell_type": "markdown",
      "source": [
        "#### MATLAB-style Interface\n",
        "\n",
        "Matplotlib was originally written as a Python alternative for MATLAB users, and much of its syntax reflects that fact.\n",
        "The MATLAB-style tools are contained in the pyplot (``plt``) interface.\n",
        "For example, the following code will probably look quite familiar to MATLAB users:"
      ],
      "metadata": {
        "id": "9Bs8hvYovMFy"
      }
    },
    {
      "cell_type": "code",
      "source": [
        "plt.figure()  # create a plot figure\n",
        "\n",
        "# create the first of two panels and set current axis\n",
        "plt.subplot(2, 1, 1) # (rows, columns, panel number)\n",
        "plt.plot(x, np.sin(x))\n",
        "\n",
        "# create the second panel and set current axis\n",
        "plt.subplot(2, 1, 2)\n",
        "plt.plot(x, np.cos(x));"
      ],
      "metadata": {
        "colab": {
          "base_uri": "https://localhost:8080/",
          "height": 273
        },
        "id": "TbYwr13uvPXA",
        "outputId": "c7e1d834-339a-4eae-fa86-6888d5c560c5"
      },
      "execution_count": 206,
      "outputs": [
        {
          "output_type": "display_data",
          "data": {
            "text/plain": [
              "<Figure size 432x288 with 2 Axes>"
            ],
            "image/png": "[encoded data removed]"
          },
          "metadata": {
            "needs_background": "light"
          }
        }
      ]
    },
    {
      "cell_type": "markdown",
      "source": [
        "It is important to note that this interface is *stateful*: it keeps track of the \"current\" figure and axes, which are where all ``plt`` commands are applied.\n",
        "You can get a reference to these using the ``plt.gcf()`` (get current figure) and ``plt.gca()`` (get current axes) routines.\n",
        "\n",
        "While this stateful interface is fast and convenient for simple plots, it is easy to run into problems.\n",
        "For example, once the second panel is created, how can we go back and add something to the first?\n",
        "This is possible within the MATLAB-style interface, but a bit clunky.\n",
        "Fortunately, there is a better way."
      ],
      "metadata": {
        "id": "EASeFFQTvxi_"
      }
    },
    {
      "cell_type": "markdown",
      "source": [
        "#### Object-oriented interface\n",
        "\n",
        "The object-oriented interface is available for these more complicated situations, and for when you want more control over your figure.\n",
        "Rather than depending on some notion of an \"active\" figure or axes, in the object-oriented interface the plotting functions are *methods* of explicit ``Figure`` and ``Axes`` objects.\n",
        "To re-create the previous plot using this style of plotting, you might do the following:"
      ],
      "metadata": {
        "id": "fXoRrBDov0L1"
      }
    },
    {
      "cell_type": "code",
      "source": [
        "# First create a grid of plots\n",
        "# ax will be an array of two Axes objects\n",
        "fig, ax = plt.subplots(2)\n",
        "\n",
        "# Call plot() method on the appropriate object\n",
        "ax[0].plot(x, np.sin(x))\n",
        "ax[1].plot(x, np.cos(x));"
      ],
      "metadata": {
        "colab": {
          "base_uri": "https://localhost:8080/",
          "height": 273
        },
        "id": "BudSQv0Hv7Jp",
        "outputId": "5763b4ad-eb83-468d-c211-00ccf26cf72e"
      },
      "execution_count": 207,
      "outputs": [
        {
          "output_type": "display_data",
          "data": {
            "text/plain": [
              "<Figure size 432x288 with 2 Axes>"
            ],
            "image/png": "[encoded data removed]"
          },
          "metadata": {
            "needs_background": "light"
          }
        }
      ]
    },
    {
      "cell_type": "markdown",
      "source": [
        "For more simple plots, the choice of which style to use is largely a matter of preference, but the object-oriented approach can become a necessity as plots become more complicated.\n",
        "Throughout this chapter, we will switch between the MATLAB-style and object-oriented interfaces, depending on what is most convenient.\n",
        "In most cases, the difference is as small as switching ``plt.plot()`` to ``ax.plot()``, but there are a few gotchas that we will highlight as they come up in the following sections."
      ],
      "metadata": {
        "id": "7ROu2S3Fv_55"
      }
    },
    {
      "cell_type": "markdown",
      "source": [
        "# Maplotlib CheatSheet"
      ],
      "metadata": {
        "id": "7p3we9d_wBQn"
      }
    },
    {
      "cell_type": "markdown",
      "source": [
        "Matplotlib is a Python 2D plotting library which produces publication-quality figures in a variety of hardcopy formats and interactive environments across platforms."
      ],
      "metadata": {
        "id": "r20Z2IMTgV4v"
      }
    },
    {
      "cell_type": "markdown",
      "source": [
        "##Prepare The Data"
      ],
      "metadata": {
        "id": "galE1XB7g2cm"
      }
    },
    {
      "cell_type": "markdown",
      "source": [
        "###1D Data"
      ],
      "metadata": {
        "id": "ryAYjRwEg-yz"
      }
    },
    {
      "cell_type": "code",
      "source": [
        "import numpy as np\n",
        "x = np.linspace(0, 10, 100)\n",
        "y = np.cos(x)\n",
        "z = np.sin(x)"
      ],
      "metadata": {
        "id": "nNUDkFyQg7H2"
      },
      "execution_count": 120,
      "outputs": []
    },
    {
      "cell_type": "markdown",
      "source": [
        "###2D Data or Images"
      ],
      "metadata": {
        "id": "JwIcb777hOZC"
      }
    },
    {
      "cell_type": "code",
      "source": [
        "data = 2 * np.random.random((10, 10))\n",
        "data2 = 3 * np.random.random((10, 10))\n",
        "Y, X = np.mgrid[-3:3:100j, -3:3:100j]\n",
        "U = -1 - X**2 + Y\n",
        "V = 1 + X - Y**2\n",
        "from matplotlib.cbook import get_sample_data\n",
        "img = np.load(get_sample_data('axes_grid/bivariate_normal.npy'))"
      ],
      "metadata": {
        "id": "lDqdwI8bhQA1"
      },
      "execution_count": 121,
      "outputs": []
    },
    {
      "cell_type": "markdown",
      "source": [
        "##Create Plot"
      ],
      "metadata": {
        "id": "i6Shdt81hfjK"
      }
    },
    {
      "cell_type": "code",
      "source": [
        "import matplotlib.pyplot as plt\n",
        "\n",
        "%matplotlib inline"
      ],
      "metadata": {
        "id": "VRDsc5aBhiMu"
      },
      "execution_count": 122,
      "outputs": []
    },
    {
      "cell_type": "markdown",
      "source": [
        "###Figure"
      ],
      "metadata": {
        "id": "AyTcPCV5hy07"
      }
    },
    {
      "cell_type": "code",
      "source": [
        "fig = plt.figure()\n",
        "fig\n"
      ],
      "metadata": {
        "colab": {
          "base_uri": "https://localhost:8080/",
          "height": 53
        },
        "id": "JeCdVDkih08x",
        "outputId": "aec42321-05f0-4b26-b9c0-d6708b847014"
      },
      "execution_count": 123,
      "outputs": [
        {
          "output_type": "execute_result",
          "data": {
            "text/plain": [
              "<Figure size 432x288 with 0 Axes>"
            ]
          },
          "metadata": {},
          "execution_count": 123
        },
        {
          "output_type": "display_data",
          "data": {
            "text/plain": [
              "<Figure size 432x288 with 0 Axes>"
            ]
          },
          "metadata": {}
        }
      ]
    },
    {
      "cell_type": "code",
      "source": [
        "fig2 = plt.figure(figsize=plt.figaspect(2.0))\n",
        "fig2"
      ],
      "metadata": {
        "colab": {
          "base_uri": "https://localhost:8080/",
          "height": 53
        },
        "id": "cyFAONbWh8qt",
        "outputId": "7567ba2d-69c7-4690-f603-60f190f256dd"
      },
      "execution_count": 124,
      "outputs": [
        {
          "output_type": "execute_result",
          "data": {
            "text/plain": [
              "<Figure size 288x576 with 0 Axes>"
            ]
          },
          "metadata": {},
          "execution_count": 124
        },
        {
          "output_type": "display_data",
          "data": {
            "text/plain": [
              "<Figure size 288x576 with 0 Axes>"
            ]
          },
          "metadata": {}
        }
      ]
    },
    {
      "cell_type": "markdown",
      "source": [
        "###Axes"
      ],
      "metadata": {
        "id": "Vght7oP0iVEf"
      }
    },
    {
      "cell_type": "markdown",
      "source": [
        "All plotting is done with respect to an Axes. In most cases, a\n",
        " subplot will fit your needs. A subplot is an axes on a grid system.\n"
      ],
      "metadata": {
        "id": "EVU6icmniX8c"
      }
    },
    {
      "cell_type": "code",
      "source": [
        "fig.add_axes()\n",
        "ax1 = fig.add_subplot(221) #row-col-num\n",
        "ax3 = fig.add_subplot(212)\n",
        "fig3, axes = plt.subplots(nrows=2,ncols=2)\n",
        "fig4, axes2 = plt.subplots(ncols=3)"
      ],
      "metadata": {
        "colab": {
          "base_uri": "https://localhost:8080/",
          "height": 521
        },
        "id": "azOH5Ny0iWIR",
        "outputId": "b407f2b4-c227-441f-b154-ddb738871106"
      },
      "execution_count": 125,
      "outputs": [
        {
          "output_type": "display_data",
          "data": {
            "text/plain": [
              "<Figure size 432x288 with 4 Axes>"
            ],
            "image/png": "[encoded data removed]"
          },
          "metadata": {
            "needs_background": "light"
          }
        },
        {
          "output_type": "display_data",
          "data": {
            "text/plain": [
              "<Figure size 432x288 with 3 Axes>"
            ],
            "image/png": "[encoded data removed]"
          },
          "metadata": {
            "needs_background": "light"
          }
        }
      ]
    },
    {
      "cell_type": "markdown",
      "source": [
        "##Save Plot"
      ],
      "metadata": {
        "id": "jz9sJlVziz_J"
      }
    },
    {
      "cell_type": "code",
      "source": [
        "plt.savefig('/tmp/foo1.png')  #Save figures\n",
        "plt.savefig('/tmp/foo2.png', transparent=True)  #Save transparent figures"
      ],
      "metadata": {
        "colab": {
          "base_uri": "https://localhost:8080/",
          "height": 35
        },
        "id": "ScdbxGZmi1d8",
        "outputId": "baa43da6-f4f0-47e9-baa3-374f17d717e7"
      },
      "execution_count": 126,
      "outputs": [
        {
          "output_type": "display_data",
          "data": {
            "text/plain": [
              "<Figure size 432x288 with 0 Axes>"
            ]
          },
          "metadata": {}
        }
      ]
    },
    {
      "cell_type": "code",
      "source": [
        "!ls /tmp"
      ],
      "metadata": {
        "colab": {
          "base_uri": "https://localhost:8080/"
        },
        "id": "p_p9syK2i_1I",
        "outputId": "9bae42ea-a523-4fa8-c565-231f93d66e46"
      },
      "execution_count": 127,
      "outputs": [
        {
          "output_type": "stream",
          "name": "stdout",
          "text": [
            "dap_multiplexer.6bb987320cb8.root.log.INFO.20220608-124637.44\n",
            "dap_multiplexer.INFO\n",
            "debugger_1x7rt6imuh\n",
            "foo1.png\n",
            "foo2.png\n",
            "foo.png\n",
            "initgoogle_syslog_dir.0\n",
            "pyright-95-KNVZji2qkaME\n",
            "pyright-95-qiJbaAn6aYLQ\n",
            "python-languageserver-cancellation\n"
          ]
        }
      ]
    },
    {
      "cell_type": "markdown",
      "source": [
        "##Show Plot"
      ],
      "metadata": {
        "id": "SApcDV3EkSk3"
      }
    },
    {
      "cell_type": "code",
      "source": [
        "plt.show()"
      ],
      "metadata": {
        "id": "eG3nDaxZkT2z"
      },
      "execution_count": 128,
      "outputs": []
    },
    {
      "cell_type": "markdown",
      "source": [
        "##Plotting Routines"
      ],
      "metadata": {
        "id": "QQ2HUcLHkai3"
      }
    },
    {
      "cell_type": "code",
      "source": [
        "fig, ax = plt.subplots()"
      ],
      "metadata": {
        "colab": {
          "base_uri": "https://localhost:8080/",
          "height": 269
        },
        "id": "eNAnN9AQkb1w",
        "outputId": "7d9b1cd7-b09c-4e7e-db47-15b6636c7125"
      },
      "execution_count": 129,
      "outputs": [
        {
          "output_type": "display_data",
          "data": {
            "text/plain": [
              "<Figure size 432x288 with 1 Axes>"
            ],
            "image/png": "[encoded data removed]"
          },
          "metadata": {
            "needs_background": "light"
          }
        }
      ]
    },
    {
      "cell_type": "code",
      "source": [
        "lines = ax.plot(x,y) #Draw points with lines or markers connecting them"
      ],
      "metadata": {
        "id": "r-yCD5Ltkg88"
      },
      "execution_count": 130,
      "outputs": []
    },
    {
      "cell_type": "code",
      "source": [
        "ax.scatter(x,y) #Draw unconnected points, scaled or colored"
      ],
      "metadata": {
        "colab": {
          "base_uri": "https://localhost:8080/"
        },
        "id": "mG5e-wpCkjg3",
        "outputId": "f7251197-c920-4312-c06a-c823906e7919"
      },
      "execution_count": 131,
      "outputs": [
        {
          "output_type": "execute_result",
          "data": {
            "text/plain": [
              "<matplotlib.collections.PathCollection at 0x7f66742e9f10>"
            ]
          },
          "metadata": {},
          "execution_count": 131
        }
      ]
    },
    {
      "cell_type": "code",
      "source": [
        "axes[0,0].bar([1,2,3],[3,4,5]) #Plot vertical rectangles (constant width)"
      ],
      "metadata": {
        "colab": {
          "base_uri": "https://localhost:8080/"
        },
        "id": "SJBieGlOkkyo",
        "outputId": "0f8d7a07-4f8e-45bc-8aa5-0f68411d94a3"
      },
      "execution_count": 132,
      "outputs": [
        {
          "output_type": "execute_result",
          "data": {
            "text/plain": [
              "<BarContainer object of 3 artists>"
            ]
          },
          "metadata": {},
          "execution_count": 132
        }
      ]
    },
    {
      "cell_type": "code",
      "source": [
        "axes[1,0].barh([0.5,1,2.5],[0,1,2]) #Plot horiontal rectangles (constant height)"
      ],
      "metadata": {
        "colab": {
          "base_uri": "https://localhost:8080/"
        },
        "id": "pUgDuxYjknqs",
        "outputId": "51bc126d-a073-4791-c395-a53d9647cf6d"
      },
      "execution_count": 133,
      "outputs": [
        {
          "output_type": "execute_result",
          "data": {
            "text/plain": [
              "<BarContainer object of 3 artists>"
            ]
          },
          "metadata": {},
          "execution_count": 133
        }
      ]
    },
    {
      "cell_type": "code",
      "source": [
        "axes[1,1].axhline(0.45) #Draw a horizontal line across axes"
      ],
      "metadata": {
        "colab": {
          "base_uri": "https://localhost:8080/"
        },
        "id": "CkgFvfkqktGF",
        "outputId": "835ff7aa-5a45-4e94-99fb-a551fd16b1e9"
      },
      "execution_count": 134,
      "outputs": [
        {
          "output_type": "execute_result",
          "data": {
            "text/plain": [
              "<matplotlib.lines.Line2D at 0x7f6674358e90>"
            ]
          },
          "metadata": {},
          "execution_count": 134
        }
      ]
    },
    {
      "cell_type": "code",
      "source": [
        " axes[0,1].axvline(0.65) #Draw a vertical line across axes"
      ],
      "metadata": {
        "colab": {
          "base_uri": "https://localhost:8080/"
        },
        "id": "14a1kfhFlzI4",
        "outputId": "4ad08897-7f30-4c25-f0f5-1face8577baa"
      },
      "execution_count": 135,
      "outputs": [
        {
          "output_type": "execute_result",
          "data": {
            "text/plain": [
              "<matplotlib.lines.Line2D at 0x7f6674388b50>"
            ]
          },
          "metadata": {},
          "execution_count": 135
        }
      ]
    },
    {
      "cell_type": "code",
      "source": [
        "ax.fill(x,y,color='blue') #Draw filled polygons"
      ],
      "metadata": {
        "colab": {
          "base_uri": "https://localhost:8080/"
        },
        "id": "133aXi2Xl1nP",
        "outputId": "227dae0b-a044-490b-c134-93f1224c4fc5"
      },
      "execution_count": 136,
      "outputs": [
        {
          "output_type": "execute_result",
          "data": {
            "text/plain": [
              "[<matplotlib.patches.Polygon at 0x7f66742f99d0>]"
            ]
          },
          "metadata": {},
          "execution_count": 136
        }
      ]
    },
    {
      "cell_type": "code",
      "source": [
        "ax.fill_between(x,y,color='yellow') #Fill between y-values and 0"
      ],
      "metadata": {
        "colab": {
          "base_uri": "https://localhost:8080/"
        },
        "id": "zV3_fA7gl30M",
        "outputId": "7e6373e0-f4c6-4343-f005-201158b16048"
      },
      "execution_count": 137,
      "outputs": [
        {
          "output_type": "execute_result",
          "data": {
            "text/plain": [
              "<matplotlib.collections.PolyCollection at 0x7f667433a810>"
            ]
          },
          "metadata": {},
          "execution_count": 137
        }
      ]
    },
    {
      "cell_type": "markdown",
      "source": [
        "###2D Data"
      ],
      "metadata": {
        "id": "nYU7e757l8rj"
      }
    },
    {
      "cell_type": "code",
      "source": [
        "\n",
        "fig, ax = plt.subplots()"
      ],
      "metadata": {
        "colab": {
          "base_uri": "https://localhost:8080/",
          "height": 269
        },
        "id": "ol7xXUdJl_2v",
        "outputId": "6cf7b35b-05fd-4ea5-f9b9-7f4da092743a"
      },
      "execution_count": 138,
      "outputs": [
        {
          "output_type": "display_data",
          "data": {
            "text/plain": [
              "<Figure size 432x288 with 1 Axes>"
            ],
            "image/png": "[encoded data removed]"
          },
          "metadata": {
            "needs_background": "light"
          }
        }
      ]
    },
    {
      "cell_type": "code",
      "source": [
        "im = ax.imshow(img, #Colormapped or RGB arrays\n",
        "                   cmap='gist_earth',\n",
        "                   interpolation='nearest',\n",
        "                   vmin=-2,\n",
        "                   vmax=2)\n"
      ],
      "metadata": {
        "id": "17_BZznL2aDE"
      },
      "execution_count": 139,
      "outputs": []
    },
    {
      "cell_type": "code",
      "source": [
        "axes2[0].pcolor(data2) #Pseudocolor plot of 2D array"
      ],
      "metadata": {
        "colab": {
          "base_uri": "https://localhost:8080/"
        },
        "id": "_l8a4RRX2d_f",
        "outputId": "d4ff1941-88f9-45c8-87a3-73b1d00dea87"
      },
      "execution_count": 140,
      "outputs": [
        {
          "output_type": "execute_result",
          "data": {
            "text/plain": [
              "<matplotlib.collections.PolyCollection at 0x7f66742de590>"
            ]
          },
          "metadata": {},
          "execution_count": 140
        }
      ]
    },
    {
      "cell_type": "code",
      "source": [
        "axes2[0].pcolormesh(data) #Pseudocolor plot of 2D array"
      ],
      "metadata": {
        "colab": {
          "base_uri": "https://localhost:8080/"
        },
        "id": "N07thaeF2hsS",
        "outputId": "e2c5fc65-bc04-43f9-fe46-5cbfdff17bcf"
      },
      "execution_count": 141,
      "outputs": [
        {
          "output_type": "execute_result",
          "data": {
            "text/plain": [
              "<matplotlib.collections.QuadMesh at 0x7f6674390110>"
            ]
          },
          "metadata": {},
          "execution_count": 141
        }
      ]
    },
    {
      "cell_type": "code",
      "source": [
        "CS = plt.contour(Y,X,U) #Plot contours"
      ],
      "metadata": {
        "colab": {
          "base_uri": "https://localhost:8080/",
          "height": 269
        },
        "id": "0xNbDPNf2ivT",
        "outputId": "b4acc725-2085-430a-cd70-f61497daad90"
      },
      "execution_count": 142,
      "outputs": [
        {
          "output_type": "display_data",
          "data": {
            "text/plain": [
              "<Figure size 432x288 with 1 Axes>"
            ],
            "image/png": "[encoded data removed]"
          },
          "metadata": {
            "needs_background": "light"
          }
        }
      ]
    },
    {
      "cell_type": "code",
      "source": [
        "axes2[2].contourf(data) #Plot filled contours"
      ],
      "metadata": {
        "colab": {
          "base_uri": "https://localhost:8080/"
        },
        "id": "B3Iw5Bag2oBy",
        "outputId": "575ff7e5-d2a8-439c-fc94-f2db48941f76"
      },
      "execution_count": 143,
      "outputs": [
        {
          "output_type": "execute_result",
          "data": {
            "text/plain": [
              "<matplotlib.contour.QuadContourSet at 0x7f66742031d0>"
            ]
          },
          "metadata": {},
          "execution_count": 143
        }
      ]
    },
    {
      "cell_type": "code",
      "source": [
        "axes2[2]= ax.clabel(CS) #Label a contour plot\n"
      ],
      "metadata": {
        "id": "Vo5fZp9521SO"
      },
      "execution_count": 144,
      "outputs": []
    },
    {
      "cell_type": "markdown",
      "source": [
        "##Vector Fields"
      ],
      "metadata": {
        "id": "3NgFU2O324eK"
      }
    },
    {
      "cell_type": "code",
      "source": [
        "axes[0,1].arrow(0,0,0.5,0.5) #Add an arrow to the axes"
      ],
      "metadata": {
        "colab": {
          "base_uri": "https://localhost:8080/"
        },
        "id": "EifApvzw263F",
        "outputId": "fbc387cf-358c-465c-f694-afe85428e9c9"
      },
      "execution_count": 145,
      "outputs": [
        {
          "output_type": "execute_result",
          "data": {
            "text/plain": [
              "<matplotlib.patches.FancyArrow at 0x7f66741b3550>"
            ]
          },
          "metadata": {},
          "execution_count": 145
        }
      ]
    },
    {
      "cell_type": "code",
      "source": [
        "axes[1,1].quiver(y,z) #Plot a 2D field of arrows"
      ],
      "metadata": {
        "colab": {
          "base_uri": "https://localhost:8080/"
        },
        "id": "6Xo04eDH3el2",
        "outputId": "0c404b4b-d232-481a-afc0-dbb294cd4cde"
      },
      "execution_count": 146,
      "outputs": [
        {
          "output_type": "execute_result",
          "data": {
            "text/plain": [
              "<matplotlib.quiver.Quiver at 0x7f66741b3f10>"
            ]
          },
          "metadata": {},
          "execution_count": 146
        }
      ]
    },
    {
      "cell_type": "code",
      "source": [
        "axes[0,1].streamplot(X,Y,U,V) #Plot a 2D field of arrows"
      ],
      "metadata": {
        "colab": {
          "base_uri": "https://localhost:8080/"
        },
        "id": "kk32TSgG3ipq",
        "outputId": "edc988ba-4b44-4e6a-f758-45149654cbe2"
      },
      "execution_count": 147,
      "outputs": [
        {
          "output_type": "execute_result",
          "data": {
            "text/plain": [
              "<matplotlib.streamplot.StreamplotSet at 0x7f66740fae90>"
            ]
          },
          "metadata": {},
          "execution_count": 147
        }
      ]
    },
    {
      "cell_type": "markdown",
      "source": [
        "##Data Distributions"
      ],
      "metadata": {
        "id": "WhMItBaq3kym"
      }
    },
    {
      "cell_type": "code",
      "source": [
        "ax1.hist(y) #Plot a histogram"
      ],
      "metadata": {
        "colab": {
          "base_uri": "https://localhost:8080/"
        },
        "id": "Zlq7Pvci3nQT",
        "outputId": "133a89ef-fc72-4ac2-b3e9-8e21decdbacd"
      },
      "execution_count": 148,
      "outputs": [
        {
          "output_type": "execute_result",
          "data": {
            "text/plain": [
              "(array([26.,  8.,  7.,  6.,  6.,  6.,  6.,  7.,  8., 20.]),\n",
              " array([-9.99947166e-01, -7.99952450e-01, -5.99957733e-01, -3.99963016e-01,\n",
              "        -1.99968300e-01,  2.64169119e-05,  2.00021134e-01,  4.00015850e-01,\n",
              "         6.00010567e-01,  8.00005283e-01,  1.00000000e+00]),\n",
              " <a list of 10 Patch objects>)"
            ]
          },
          "metadata": {},
          "execution_count": 148
        }
      ]
    },
    {
      "cell_type": "code",
      "source": [
        "ax3.boxplot(y) #Make a box and whisker plot"
      ],
      "metadata": {
        "colab": {
          "base_uri": "https://localhost:8080/"
        },
        "id": "xC58fUsk3uQ-",
        "outputId": "f0b07e5d-dc77-4cb2-db99-5ca7dd0854ad"
      },
      "execution_count": 149,
      "outputs": [
        {
          "output_type": "execute_result",
          "data": {
            "text/plain": [
              "{'boxes': [<matplotlib.lines.Line2D at 0x7f6674085ed0>],\n",
              " 'caps': [<matplotlib.lines.Line2D at 0x7f667408ce90>,\n",
              "  <matplotlib.lines.Line2D at 0x7f6674095410>],\n",
              " 'fliers': [<matplotlib.lines.Line2D at 0x7f66748d4dd0>],\n",
              " 'means': [],\n",
              " 'medians': [<matplotlib.lines.Line2D at 0x7f6674a9cc90>],\n",
              " 'whiskers': [<matplotlib.lines.Line2D at 0x7f6674085c10>,\n",
              "  <matplotlib.lines.Line2D at 0x7f667408c950>]}"
            ]
          },
          "metadata": {},
          "execution_count": 149
        }
      ]
    },
    {
      "cell_type": "code",
      "source": [
        "ax3.violinplot(z) #Make a violin plot"
      ],
      "metadata": {
        "colab": {
          "base_uri": "https://localhost:8080/"
        },
        "id": "IbtdS7lo4Zo9",
        "outputId": "b0a0e2a4-8133-4717-b846-a2d117f48156"
      },
      "execution_count": 150,
      "outputs": [
        {
          "output_type": "execute_result",
          "data": {
            "text/plain": [
              "{'bodies': [<matplotlib.collections.PolyCollection at 0x7f66749161d0>],\n",
              " 'cbars': <matplotlib.collections.LineCollection at 0x7f6674e68090>,\n",
              " 'cmaxes': <matplotlib.collections.LineCollection at 0x7f667484ce90>,\n",
              " 'cmins': <matplotlib.collections.LineCollection at 0x7f6674e68cd0>}"
            ]
          },
          "metadata": {},
          "execution_count": 150
        }
      ]
    },
    {
      "cell_type": "markdown",
      "source": [
        "##Plot Anatomy & Workflow"
      ],
      "metadata": {
        "id": "VhKifZsw5ItA"
      }
    },
    {
      "cell_type": "markdown",
      "source": [
        "###Plot Anatomy"
      ],
      "metadata": {
        "id": "2gU3q7TG5KK6"
      }
    },
    {
      "cell_type": "markdown",
      "source": [
        "***Workflow***\n",
        "\n",
        "The basic steps to creating plots with matplotlib are:\n",
        "Y-axis\n",
        "Axes/Subplot\n",
        "X- axis\n",
        "Figure\n",
        "1 Prepare Data 2 Create Plot 3 Plot 4 Customized Plot 5 Save Plot 6 Show Plot"
      ],
      "metadata": {
        "id": "2m-piEPv5NzX"
      }
    },
    {
      "cell_type": "code",
      "source": [
        "import matplotlib.pyplot as plt"
      ],
      "metadata": {
        "id": "dofStJPO5W6B"
      },
      "execution_count": 151,
      "outputs": []
    },
    {
      "cell_type": "code",
      "source": [
        "x = [1,2,3,4] #Step 1\n",
        "y = [10,20,25,30]"
      ],
      "metadata": {
        "id": "YY_SrhVS5ZPd"
      },
      "execution_count": 152,
      "outputs": []
    },
    {
      "cell_type": "code",
      "source": [
        "fig = plt.figure() #Step 2"
      ],
      "metadata": {
        "colab": {
          "base_uri": "https://localhost:8080/",
          "height": 35
        },
        "id": "NK66dUay5ekV",
        "outputId": "eacacbf5-d682-4755-8d5a-c2f7055e1da4"
      },
      "execution_count": 153,
      "outputs": [
        {
          "output_type": "display_data",
          "data": {
            "text/plain": [
              "<Figure size 432x288 with 0 Axes>"
            ]
          },
          "metadata": {}
        }
      ]
    },
    {
      "cell_type": "code",
      "source": [
        "ax = fig.add_subplot(111) #Step 3"
      ],
      "metadata": {
        "id": "PqXfEt2B5kMw"
      },
      "execution_count": 154,
      "outputs": []
    },
    {
      "cell_type": "code",
      "source": [
        "ax.plot(x, y, color='lightblue', linewidth=3) #Step 3, 4\n",
        "ax.scatter([2,4,6],\n",
        "           [5,15,25],\n",
        "            color='darkgreen',\n",
        "            marker='^')\n",
        "ax.set_xlim(1, 6.5)"
      ],
      "metadata": {
        "colab": {
          "base_uri": "https://localhost:8080/"
        },
        "id": "OsqTT8f85pw5",
        "outputId": "e05aef16-a8be-4811-d517-cc28bcc72feb"
      },
      "execution_count": 155,
      "outputs": [
        {
          "output_type": "execute_result",
          "data": {
            "text/plain": [
              "(1.0, 6.5)"
            ]
          },
          "metadata": {},
          "execution_count": 155
        }
      ]
    },
    {
      "cell_type": "code",
      "source": [
        "plt.savefig('/tmp/foo.png') #Step 5"
      ],
      "metadata": {
        "colab": {
          "base_uri": "https://localhost:8080/",
          "height": 35
        },
        "id": "nXEYoU0i5yYW",
        "outputId": "7a738c90-5908-4643-f7ae-661836ae6b03"
      },
      "execution_count": 156,
      "outputs": [
        {
          "output_type": "display_data",
          "data": {
            "text/plain": [
              "<Figure size 432x288 with 0 Axes>"
            ]
          },
          "metadata": {}
        }
      ]
    },
    {
      "cell_type": "code",
      "source": [
        "#plt.plot([x,y])\n",
        "plt.show() #Step 6"
      ],
      "metadata": {
        "id": "M6tVBI_Q54Lg"
      },
      "execution_count": 157,
      "outputs": []
    },
    {
      "cell_type": "markdown",
      "source": [
        "##Close and Clear"
      ],
      "metadata": {
        "id": "d3GErJa-XN0i"
      }
    },
    {
      "cell_type": "code",
      "source": [
        "plt.cla() #Clear an axis"
      ],
      "metadata": {
        "colab": {
          "base_uri": "https://localhost:8080/",
          "height": 269
        },
        "id": "0oaUMKIEXP-d",
        "outputId": "2f09fa83-eefd-45a9-e234-3dee8b587f7e"
      },
      "execution_count": 158,
      "outputs": [
        {
          "output_type": "display_data",
          "data": {
            "text/plain": [
              "<Figure size 432x288 with 1 Axes>"
            ],
            "image/png": "[encoded data removed]"
          },
          "metadata": {
            "needs_background": "light"
          }
        }
      ]
    },
    {
      "cell_type": "code",
      "source": [
        "plt.clf() #Clear the entire figure"
      ],
      "metadata": {
        "colab": {
          "base_uri": "https://localhost:8080/",
          "height": 35
        },
        "id": "gOM8T01FXUtP",
        "outputId": "8967b8f2-5496-4657-e5d0-24d1007ef762"
      },
      "execution_count": 159,
      "outputs": [
        {
          "output_type": "display_data",
          "data": {
            "text/plain": [
              "<Figure size 432x288 with 0 Axes>"
            ]
          },
          "metadata": {}
        }
      ]
    },
    {
      "cell_type": "code",
      "source": [
        "plt.close() #Close a window"
      ],
      "metadata": {
        "id": "8MtUPRilXXNk"
      },
      "execution_count": 160,
      "outputs": []
    },
    {
      "cell_type": "markdown",
      "source": [
        "##Plotting Cutomize Plot"
      ],
      "metadata": {
        "id": "F_zetFqYXirS"
      }
    },
    {
      "cell_type": "markdown",
      "source": [
        "###Colors, Color Bars & Color Maps"
      ],
      "metadata": {
        "id": "oURx_NqqXl13"
      }
    },
    {
      "cell_type": "code",
      "source": [
        "plt.plot(x, x, x, np.power(x,2),np.power(x,3))"
      ],
      "metadata": {
        "colab": {
          "base_uri": "https://localhost:8080/",
          "height": 319
        },
        "id": "_JRvAwGOYbqW",
        "outputId": "f725276a-cd45-412b-a901-2e7a49c52b16"
      },
      "execution_count": 161,
      "outputs": [
        {
          "output_type": "execute_result",
          "data": {
            "text/plain": [
              "[<matplotlib.lines.Line2D at 0x7f6674947bd0>,\n",
              " <matplotlib.lines.Line2D at 0x7f6674947e50>,\n",
              " <matplotlib.lines.Line2D at 0x7f6674392410>]"
            ]
          },
          "metadata": {},
          "execution_count": 161
        },
        {
          "output_type": "display_data",
          "data": {
            "text/plain": [
              "<Figure size 432x288 with 1 Axes>"
            ],
            "image/png": "[encoded data removed]"
          },
          "metadata": {
            "needs_background": "light"
          }
        }
      ]
    },
    {
      "cell_type": "code",
      "source": [
        "ax.plot(x, y, alpha = 0.4)"
      ],
      "metadata": {
        "colab": {
          "base_uri": "https://localhost:8080/"
        },
        "id": "2azfopn7ZdD6",
        "outputId": "dd6e017f-cf5c-4ac0-9070-7977575664c1"
      },
      "execution_count": 162,
      "outputs": [
        {
          "output_type": "execute_result",
          "data": {
            "text/plain": [
              "[<matplotlib.lines.Line2D at 0x7f6674a66550>]"
            ]
          },
          "metadata": {},
          "execution_count": 162
        }
      ]
    },
    {
      "cell_type": "code",
      "source": [
        "ax.plot(x, y, c='k')"
      ],
      "metadata": {
        "colab": {
          "base_uri": "https://localhost:8080/"
        },
        "id": "0Ht_ZpomZeJx",
        "outputId": "e0542049-2efb-4673-9d6e-f9aeb70ad16f"
      },
      "execution_count": 163,
      "outputs": [
        {
          "output_type": "execute_result",
          "data": {
            "text/plain": [
              "[<matplotlib.lines.Line2D at 0x7f6674f8fc90>]"
            ]
          },
          "metadata": {},
          "execution_count": 163
        }
      ]
    },
    {
      "cell_type": "code",
      "source": [
        "fig.colorbar(im, orientation='horizontal')"
      ],
      "metadata": {
        "colab": {
          "base_uri": "https://localhost:8080/"
        },
        "id": "_RaEdLuzZh7z",
        "outputId": "91a0d781-b5da-49fe-ce9b-1bf40038603a"
      },
      "execution_count": 164,
      "outputs": [
        {
          "output_type": "execute_result",
          "data": {
            "text/plain": [
              "<matplotlib.colorbar.Colorbar at 0x7f6674faead0>"
            ]
          },
          "metadata": {},
          "execution_count": 164
        }
      ]
    },
    {
      "cell_type": "code",
      "source": [
        "im = ax.imshow(img,\n",
        "                    cmap='seismic')"
      ],
      "metadata": {
        "id": "Q3Oi93BAZkyc"
      },
      "execution_count": 165,
      "outputs": []
    },
    {
      "cell_type": "markdown",
      "source": [
        "###Markers"
      ],
      "metadata": {
        "id": "i1-ZJRyEZwGM"
      }
    },
    {
      "cell_type": "code",
      "source": [
        "fig, ax = plt.subplots()"
      ],
      "metadata": {
        "colab": {
          "base_uri": "https://localhost:8080/",
          "height": 269
        },
        "id": "tGYKB6ryZy0h",
        "outputId": "7113b5d6-fe0e-4b4e-8afe-d5057ddc001c"
      },
      "execution_count": 166,
      "outputs": [
        {
          "output_type": "display_data",
          "data": {
            "text/plain": [
              "<Figure size 432x288 with 1 Axes>"
            ],
            "image/png": "[encoded data removed]"
          },
          "metadata": {
            "needs_background": "light"
          }
        }
      ]
    },
    {
      "cell_type": "code",
      "source": [
        "ax.scatter(x,y,marker=\".\")"
      ],
      "metadata": {
        "colab": {
          "base_uri": "https://localhost:8080/"
        },
        "id": "yB56PLVGaH5v",
        "outputId": "3e5a8ae7-d1b7-4ced-8834-7389577754d6"
      },
      "execution_count": 167,
      "outputs": [
        {
          "output_type": "execute_result",
          "data": {
            "text/plain": [
              "<matplotlib.collections.PathCollection at 0x7f6674010050>"
            ]
          },
          "metadata": {},
          "execution_count": 167
        }
      ]
    },
    {
      "cell_type": "code",
      "source": [
        "ax.plot(x,y,marker=\"o\")"
      ],
      "metadata": {
        "colab": {
          "base_uri": "https://localhost:8080/"
        },
        "id": "VMjF077TaLY_",
        "outputId": "a908219c-29ea-44d8-827e-e43fff55c910"
      },
      "execution_count": 168,
      "outputs": [
        {
          "output_type": "execute_result",
          "data": {
            "text/plain": [
              "[<matplotlib.lines.Line2D at 0x7f6673f9cbd0>]"
            ]
          },
          "metadata": {},
          "execution_count": 168
        }
      ]
    },
    {
      "cell_type": "markdown",
      "source": [
        "###Linestyles"
      ],
      "metadata": {
        "id": "AZkSzWNjaQAj"
      }
    },
    {
      "cell_type": "code",
      "source": [
        "plt.plot(x,y,linewidth=4.0)"
      ],
      "metadata": {
        "colab": {
          "base_uri": "https://localhost:8080/",
          "height": 283
        },
        "id": "GTn36x40aUek",
        "outputId": "73f4e828-7b98-4e82-9a0f-27396fc54b40"
      },
      "execution_count": 169,
      "outputs": [
        {
          "output_type": "execute_result",
          "data": {
            "text/plain": [
              "[<matplotlib.lines.Line2D at 0x7f6673f74d10>]"
            ]
          },
          "metadata": {},
          "execution_count": 169
        },
        {
          "output_type": "display_data",
          "data": {
            "text/plain": [
              "<Figure size 432x288 with 1 Axes>"
            ],
            "image/png": "[encoded data removed]"
          },
          "metadata": {
            "needs_background": "light"
          }
        }
      ]
    },
    {
      "cell_type": "code",
      "source": [
        "plt.plot(x,y,ls='solid')"
      ],
      "metadata": {
        "colab": {
          "base_uri": "https://localhost:8080/",
          "height": 283
        },
        "id": "W63uiMRgaYYt",
        "outputId": "0cff8039-364b-4c47-a735-e98950f473b6"
      },
      "execution_count": 170,
      "outputs": [
        {
          "output_type": "execute_result",
          "data": {
            "text/plain": [
              "[<matplotlib.lines.Line2D at 0x7f6673eed250>]"
            ]
          },
          "metadata": {},
          "execution_count": 170
        },
        {
          "output_type": "display_data",
          "data": {
            "text/plain": [
              "<Figure size 432x288 with 1 Axes>"
            ],
            "image/png": "[encoded data removed]"
          },
          "metadata": {
            "needs_background": "light"
          }
        }
      ]
    },
    {
      "cell_type": "code",
      "source": [
        "plt.plot(x,y,ls='--')"
      ],
      "metadata": {
        "colab": {
          "base_uri": "https://localhost:8080/",
          "height": 283
        },
        "id": "a0SLYSpcabqS",
        "outputId": "95a17796-e61c-4cc2-af2d-b35e2af9f3d0"
      },
      "execution_count": 171,
      "outputs": [
        {
          "output_type": "execute_result",
          "data": {
            "text/plain": [
              "[<matplotlib.lines.Line2D at 0x7f6673e628d0>]"
            ]
          },
          "metadata": {},
          "execution_count": 171
        },
        {
          "output_type": "display_data",
          "data": {
            "text/plain": [
              "<Figure size 432x288 with 1 Axes>"
            ],
            "image/png": "[encoded data removed]"
          },
          "metadata": {
            "needs_background": "light"
          }
        }
      ]
    },
    {
      "cell_type": "code",
      "source": [
        "plt.plot(x,y,'--',np.power(x,2),np.power(y,3),'-.')"
      ],
      "metadata": {
        "colab": {
          "base_uri": "https://localhost:8080/",
          "height": 301
        },
        "id": "NBiMTmPQafE2",
        "outputId": "2a9374ee-ceeb-4d3b-8738-694b41fcbe64"
      },
      "execution_count": 172,
      "outputs": [
        {
          "output_type": "execute_result",
          "data": {
            "text/plain": [
              "[<matplotlib.lines.Line2D at 0x7f6673de0290>,\n",
              " <matplotlib.lines.Line2D at 0x7f6673de04d0>]"
            ]
          },
          "metadata": {},
          "execution_count": 172
        },
        {
          "output_type": "display_data",
          "data": {
            "text/plain": [
              "<Figure size 432x288 with 1 Axes>"
            ],
            "image/png": "[encoded data removed]"
          },
          "metadata": {
            "needs_background": "light"
          }
        }
      ]
    },
    {
      "cell_type": "code",
      "source": [
        "plt.setp(lines,color='r',linewidth=4.0)"
      ],
      "metadata": {
        "colab": {
          "base_uri": "https://localhost:8080/"
        },
        "id": "VgKC3vW2aynM",
        "outputId": "5db7a872-d3ad-494b-8536-51c6d35946d4"
      },
      "execution_count": 173,
      "outputs": [
        {
          "output_type": "execute_result",
          "data": {
            "text/plain": [
              "[None, None]"
            ]
          },
          "metadata": {},
          "execution_count": 173
        }
      ]
    },
    {
      "cell_type": "markdown",
      "source": [
        "###Text & Annotations"
      ],
      "metadata": {
        "id": "cqErdFMUf0PF"
      }
    },
    {
      "cell_type": "code",
      "source": [
        "ax.text(1,\n",
        "              -2.1,\n",
        "              'Example Graph',\n",
        "              style='italic')"
      ],
      "metadata": {
        "colab": {
          "base_uri": "https://localhost:8080/"
        },
        "id": "45PkXO7tj3FV",
        "outputId": "04120e6b-5eda-4628-aaa0-96c9a3e1c18c"
      },
      "execution_count": 174,
      "outputs": [
        {
          "output_type": "execute_result",
          "data": {
            "text/plain": [
              "Text(1, -2.1, 'Example Graph')"
            ]
          },
          "metadata": {},
          "execution_count": 174
        }
      ]
    },
    {
      "cell_type": "code",
      "source": [
        "ax.annotate(\"Sine\",\n",
        "                  xy=(8, 0),\n",
        "                  xycoords='data',\n",
        "                  xytext=(10.5, 0),\n",
        "                  textcoords='data',\n",
        "                  arrowprops=dict(arrowstyle=\"->\",\n",
        "                  connectionstyle=\"arc3\"),)\n"
      ],
      "metadata": {
        "colab": {
          "base_uri": "https://localhost:8080/"
        },
        "id": "0E0sRmVdj4t6",
        "outputId": "da6564b9-bc9a-46d0-9b2f-7fc5aad8d9bd"
      },
      "execution_count": 175,
      "outputs": [
        {
          "output_type": "execute_result",
          "data": {
            "text/plain": [
              "Text(10.5, 0, 'Sine')"
            ]
          },
          "metadata": {},
          "execution_count": 175
        }
      ]
    },
    {
      "cell_type": "markdown",
      "source": [
        "###Mathtext"
      ],
      "metadata": {
        "id": "WY9hxHBdj9E4"
      }
    },
    {
      "cell_type": "code",
      "source": [
        "plt.title(r'$sigma_i=15$', fontsize=20)"
      ],
      "metadata": {
        "colab": {
          "base_uri": "https://localhost:8080/",
          "height": 306
        },
        "id": "BlaPVIPqj-BH",
        "outputId": "204fffcb-1bbe-4bc2-d679-4be5b3f9ae22"
      },
      "execution_count": 176,
      "outputs": [
        {
          "output_type": "execute_result",
          "data": {
            "text/plain": [
              "Text(0.5, 1.0, '$sigma_i=15$')"
            ]
          },
          "metadata": {},
          "execution_count": 176
        },
        {
          "output_type": "display_data",
          "data": {
            "text/plain": [
              "<Figure size 432x288 with 1 Axes>"
            ],
            "image/png": "[encoded data removed]"
          },
          "metadata": {
            "needs_background": "light"
          }
        }
      ]
    },
    {
      "cell_type": "markdown",
      "source": [
        "###Limits, Legends and Layouts"
      ],
      "metadata": {
        "id": "OxEYgOFGkHOb"
      }
    },
    {
      "cell_type": "markdown",
      "source": [
        "Limits & Autoscaling"
      ],
      "metadata": {
        "id": "DvLj_S33kKfw"
      }
    },
    {
      "cell_type": "code",
      "source": [
        "ax.margins(x=0.0,y=0.1) #Add padding to a plot"
      ],
      "metadata": {
        "id": "uiZePFlikIh9"
      },
      "execution_count": 177,
      "outputs": []
    },
    {
      "cell_type": "code",
      "source": [
        "ax.axis('equal') #Set the aspect ratio of the plot to 1"
      ],
      "metadata": {
        "colab": {
          "base_uri": "https://localhost:8080/"
        },
        "id": "VBLUQ4j2kNOl",
        "outputId": "89751845-039f-484c-efab-5e44c0e750c5"
      },
      "execution_count": 178,
      "outputs": [
        {
          "output_type": "execute_result",
          "data": {
            "text/plain": [
              "(1.0, 4.0, 8.0, 32.0)"
            ]
          },
          "metadata": {},
          "execution_count": 178
        }
      ]
    },
    {
      "cell_type": "code",
      "source": [
        "ax.set(xlim=[0,10.5],ylim=[-1.5,1.5]) #Set limits for x-and y-axis"
      ],
      "metadata": {
        "colab": {
          "base_uri": "https://localhost:8080/"
        },
        "id": "6XsMKXiDkPeJ",
        "outputId": "360f9a3d-9044-43c2-805d-be33a24b24ef"
      },
      "execution_count": 179,
      "outputs": [
        {
          "output_type": "execute_result",
          "data": {
            "text/plain": [
              "[(-1.5, 1.5), (0.0, 10.5)]"
            ]
          },
          "metadata": {},
          "execution_count": 179
        }
      ]
    },
    {
      "cell_type": "code",
      "source": [
        "ax.set_xlim(0,10.5) #Set limits for x-axis"
      ],
      "metadata": {
        "colab": {
          "base_uri": "https://localhost:8080/"
        },
        "id": "pG_brKPmkSMd",
        "outputId": "04bdd7fc-7de5-400a-c815-32fca9153995"
      },
      "execution_count": 180,
      "outputs": [
        {
          "output_type": "execute_result",
          "data": {
            "text/plain": [
              "(0.0, 10.5)"
            ]
          },
          "metadata": {},
          "execution_count": 180
        }
      ]
    },
    {
      "cell_type": "markdown",
      "source": [
        "Legends"
      ],
      "metadata": {
        "id": "GcLXtxr_kUmc"
      }
    },
    {
      "cell_type": "code",
      "source": [
        "ax.set(title='An Example Axes', #Set a title and x-and y-axis labels\n",
        "           ylabel='Y-Axis',\n",
        "           xlabel='X-Axis')"
      ],
      "metadata": {
        "colab": {
          "base_uri": "https://localhost:8080/"
        },
        "id": "XP-DQyNJkqAX",
        "outputId": "cd79758b-11f9-4cf4-df82-4029f3e650b8"
      },
      "execution_count": 187,
      "outputs": [
        {
          "output_type": "execute_result",
          "data": {
            "text/plain": [
              "[Text(3.200000000000003, 0.5, 'Y-Axis'),\n",
              " Text(0.5, 3.1999999999999993, 'X-Axis'),\n",
              " Text(0.5, 1.0, 'An Example Axes')]"
            ]
          },
          "metadata": {},
          "execution_count": 187
        }
      ]
    },
    {
      "cell_type": "code",
      "source": [
        "ax.legend(loc='best') #No overlapping plot elements"
      ],
      "metadata": {
        "colab": {
          "base_uri": "https://localhost:8080/"
        },
        "id": "qXGcyFZNl79v",
        "outputId": "e3bda652-887e-4c26-aff7-c82805fa7597"
      },
      "execution_count": 188,
      "outputs": [
        {
          "output_type": "stream",
          "name": "stderr",
          "text": [
            "No handles with labels found to put in legend.\n"
          ]
        },
        {
          "output_type": "execute_result",
          "data": {
            "text/plain": [
              "<matplotlib.legend.Legend at 0x7f6674b06450>"
            ]
          },
          "metadata": {},
          "execution_count": 188
        }
      ]
    },
    {
      "cell_type": "markdown",
      "source": [
        "Ticks"
      ],
      "metadata": {
        "id": "eJ8TXTIel_xZ"
      }
    },
    {
      "cell_type": "code",
      "source": [
        "ax.xaxis.set(ticks=range(1,5), #Manually set x-ticks\n",
        "                 ticklabels=[3,100,-12,\"foo\"])"
      ],
      "metadata": {
        "colab": {
          "base_uri": "https://localhost:8080/"
        },
        "id": "gKXswWcMmApH",
        "outputId": "d2607b42-0078-4641-f819-f6d3de160790"
      },
      "execution_count": 189,
      "outputs": [
        {
          "output_type": "execute_result",
          "data": {
            "text/plain": [
              "[[<matplotlib.axis.XTick at 0x7f6674ffeb10>,\n",
              "  <matplotlib.axis.XTick at 0x7f6674ffe6d0>,\n",
              "  <matplotlib.axis.XTick at 0x7f6674fd0ed0>,\n",
              "  <matplotlib.axis.XTick at 0x7f6674010cd0>],\n",
              " [Text(0.0, 0, '3'),\n",
              "  Text(0.2, 0, '100'),\n",
              "  Text(0.4, 0, '-12'),\n",
              "  Text(0.6000000000000001, 0, 'foo')]]"
            ]
          },
          "metadata": {},
          "execution_count": 189
        }
      ]
    },
    {
      "cell_type": "code",
      "source": [
        "ax.tick_params(axis='y', #Make y-ticks longer and go in and out\n",
        "                   direction='inout',\n",
        "length=10)"
      ],
      "metadata": {
        "id": "1pTipHDcl-I2"
      },
      "execution_count": 190,
      "outputs": []
    },
    {
      "cell_type": "markdown",
      "source": [
        "Subplot Spacing"
      ],
      "metadata": {
        "id": "37WahwzcmG-c"
      }
    },
    {
      "cell_type": "code",
      "source": [
        "fig3.subplots_adjust(wspace=0.5, #Adjust the spacing between subplots\n",
        "                         hspace=0.3,\n",
        "                         left=0.125,\n",
        "                         right=0.9,\n",
        "                         top=0.9,\n",
        "\n",
        "                         bottom=0.1)\n"
      ],
      "metadata": {
        "id": "KDmCr-WBmHi4"
      },
      "execution_count": 191,
      "outputs": []
    },
    {
      "cell_type": "code",
      "source": [
        "fig.tight_layout() #Fit subplot(s) in to the figure area"
      ],
      "metadata": {
        "id": "zBMnYIxumOYU"
      },
      "execution_count": 192,
      "outputs": []
    },
    {
      "cell_type": "markdown",
      "source": [
        "Axis Spines"
      ],
      "metadata": {
        "id": "KIN53wsQmQaZ"
      }
    },
    {
      "cell_type": "code",
      "source": [
        "ax1.spines['top'].set_visible(False)  #Make the top axis line for a plot invisible\n"
      ],
      "metadata": {
        "id": "4Fn4qVPhmPkC"
      },
      "execution_count": 193,
      "outputs": []
    },
    {
      "cell_type": "code",
      "source": [
        "ax1.spines['bottom'].set_position(('outward',10)) #Move the bottom axis line outward"
      ],
      "metadata": {
        "id": "k5cxnEqhmViO"
      },
      "execution_count": 194,
      "outputs": []
    }
  ]
}