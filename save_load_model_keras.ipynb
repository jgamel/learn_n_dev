{
  "nbformat": 4,
  "nbformat_minor": 0,
  "metadata": {
    "colab": {
      "name": "save_load_model_keras.ipynb",
      "provenance": [],
      "collapsed_sections": [],
      "authorship_tag": "ABX9TyMS8j1TgSDLr24/izKoYbyL",
      "include_colab_link": true
    },
    "kernelspec": {
      "name": "python3",
      "display_name": "Python 3"
    },
    "language_info": {
      "name": "python"
    }
  },
  "cells": [
    {
      "cell_type": "markdown",
      "metadata": {
        "id": "view-in-github",
        "colab_type": "text"
      },
      "source": [
        "<a href=\"https://colab.research.google.com/github/jgamel/learn_n_dev/blob/python_machine_learning/save_load_model_keras.ipynb\" target=\"_parent\"><img src=\"https://colab.research.google.com/assets/colab-badge.svg\" alt=\"Open In Colab\"/></a>"
      ]
    },
    {
      "cell_type": "markdown",
      "source": [
        "# How to Save and Load Your Keras Deep Learning Model"
      ],
      "metadata": {
        "id": "tjnUttB8nHYt"
      }
    },
    {
      "cell_type": "markdown",
      "source": [
        "Given that deep learning models can take hours, days and even weeks to train, it is important to know how to save and load them from disk."
      ],
      "metadata": {
        "id": "PVft1VnqnLYM"
      }
    },
    {
      "cell_type": "markdown",
      "source": [
        "In this script:\n",
        "\n",
        "* How to save model weights and model architecture in separate files.\n",
        "* How to save model architecture in JSON format.\n",
        "* How to save model weights and architecture into a single file for later use."
      ],
      "metadata": {
        "id": "CGqSsDgknN2E"
      }
    },
    {
      "cell_type": "markdown",
      "source": [
        "**Overview:**\n",
        "\n",
        "Keras separates the concerns of saving your model architecture and saving your model weights.\n",
        "\n",
        "Model weights are saved to HDF5 format. This is a grid format that is ideal for storing multi-dimensional arrays of numbers.\n",
        "\n",
        "The model structure can be described and saved using two different formats: JSON and YAML.\n",
        "\n",
        "In this post we are going to look at one example of saving and loading your model to file:\n",
        "\n",
        "* Save Model to JSON.\n",
        "\n",
        "\n",
        "The example will also demonstrate saving and loading your model weights to HDF5 formatted files."
      ],
      "metadata": {
        "id": "BOadq_YjnkLc"
      }
    },
    {
      "cell_type": "markdown",
      "source": [
        "### Save Your Neural Network Model to JSON"
      ],
      "metadata": {
        "id": "HOWJRZ7PnnlO"
      }
    },
    {
      "cell_type": "markdown",
      "source": [
        "JSON is a simple file format for describing data hierarchically.\n",
        "\n",
        "Keras provides the ability to describe any model using JSON format with a to_json() function. This can be saved to file and later loaded via the model_from_json() function that will create a new model from the JSON specification.\n",
        "\n",
        "The weights are saved directly from the model using the save_weights() function and later loaded using the symmetrical load_weights() function.\n",
        "\n",
        "The example below trains and evaluates a simple model on the Pima Indians dataset. The model is then converted to JSON format and written to model.json in the local directory. The network weights are written to model.h5 in the local directory.\n",
        "\n",
        "The model and weight data is loaded from the saved files and a new model is created. It is important to compile the loaded model before it is used. This is so that predictions made using the model can use the appropriate efficient computation from the Keras backend.\n",
        "\n",
        "The model is evaluated in the same way printing the same evaluation score."
      ],
      "metadata": {
        "id": "WRVR4M9Enqu1"
      }
    },
    {
      "cell_type": "code",
      "source": [
        "# MLP for Pima Indians Dataset Serialize to JSON and HDF5\n",
        "from keras.models import Sequential\n",
        "from keras.layers import Dense\n",
        "from keras.models import model_from_json\n",
        "import numpy\n",
        "import os\n",
        "\n",
        "# fix random seed for reproducibility\n",
        "numpy.random.seed(7)\n",
        "# load pima indians dataset\n",
        "dataset = numpy.loadtxt(\"https://raw.githubusercontent.com/jgamel/learn_n_dev/input_data/pima-indians-diabetes.csv\", delimiter=\",\")\n",
        "# split into input (X) and output (Y) variables\n",
        "X = dataset[:,0:8]\n",
        "Y = dataset[:,8]\n",
        "# create model\n",
        "model = Sequential()\n",
        "model.add(Dense(12, input_dim=8, activation='relu'))\n",
        "model.add(Dense(8, activation='relu'))\n",
        "model.add(Dense(1, activation='sigmoid'))\n",
        "# Compile model\n",
        "model.compile(loss='binary_crossentropy', optimizer='adam', metrics=['accuracy'])\n",
        "# Fit the model\n",
        "model.fit(X, Y, epochs=150, batch_size=10, verbose=0)\n",
        "# evaluate the model\n",
        "scores = model.evaluate(X, Y, verbose=0)\n",
        "print(\"%s: %.2f%%\" % (model.metrics_names[1], scores[1]*100))\n",
        "\n",
        "# serialize model to JSON\n",
        "model_json = model.to_json()\n",
        "with open(\"/tmp/model.json\", \"w\") as json_file:\n",
        "    json_file.write(model_json)\n",
        "# serialize weights to HDF5\n",
        "model.save_weights(\"/tmp/model.h5\")\n",
        "print(\"Saved model to disk\")\n",
        "\n",
        "# later...\n",
        "\n",
        "# load json and create model\n",
        "json_file = open('/tmp/model.json', 'r')\n",
        "loaded_model_json = json_file.read()\n",
        "json_file.close()\n",
        "loaded_model = model_from_json(loaded_model_json)\n",
        "# load weights into new model\n",
        "loaded_model.load_weights(\"/tmp/model.h5\")\n",
        "print(\"Loaded model from disk\")\n",
        "\n",
        "# evaluate loaded model on test data\n",
        "loaded_model.compile(loss='binary_crossentropy', optimizer='rmsprop', metrics=['accuracy'])\n",
        "score = loaded_model.evaluate(X, Y, verbose=0)\n",
        "print(\"%s: %.2f%%\" % (loaded_model.metrics_names[1], score[1]*100))"
      ],
      "metadata": {
        "colab": {
          "base_uri": "https://localhost:8080/"
        },
        "id": "wOeLsFbZlaBJ",
        "outputId": "09c234d4-a36d-44cd-c77c-4854fbee8008"
      },
      "execution_count": 2,
      "outputs": [
        {
          "output_type": "stream",
          "name": "stdout",
          "text": [
            "accuracy: 77.86%\n",
            "Saved model to disk\n",
            "Loaded model from disk\n",
            "accuracy: 77.86%\n"
          ]
        }
      ]
    },
    {
      "cell_type": "code",
      "source": [
        "import os\n",
        "\n",
        "arr = os.listdir('/tmp')\n",
        "print(arr)"
      ],
      "metadata": {
        "id": "-hsLQzs3IhFF",
        "outputId": "4ee97b8f-87b5-4f71-cc84-e37b2abfb765",
        "colab": {
          "base_uri": "https://localhost:8080/"
        }
      },
      "execution_count": 3,
      "outputs": [
        {
          "output_type": "stream",
          "name": "stdout",
          "text": [
            "['model.json', 'model.h5', '__autograph_generated_filed8r0xmho.py', 'initgoogle_syslog_dir.0', 'debugger_1inmw7pt5', 'pyright-95-tArPEXVFji8m', 'pyright-95-tQOpsEVajvJR', 'dap_multiplexer.INFO', '__autograph_generated_file15keeopn.py', '__pycache__', 'dap_multiplexer.a9cb863de123.root.log.INFO.20220505-164926.45', 'python-languageserver-cancellation']\n"
          ]
        }
      ]
    },
    {
      "cell_type": "markdown",
      "source": [
        "Running this example provides the output below.\n",
        "\n",
        "```\n",
        "acc: 78.78%\n",
        "Saved model to disk\n",
        "Loaded model from disk\n",
        "acc: 78.78%\n",
        "```\n",
        "\n",
        "The JSON format of the model looks like the following:\n",
        "\n",
        "```\n",
        "{  \n",
        "   \"class_name\":\"Sequential\",\n",
        "   \"config\":{  \n",
        "      \"name\":\"sequential_1\",\n",
        "      \"layers\":[  \n",
        "         {  \n",
        "            \"class_name\":\"Dense\",\n",
        "            \"config\":{  \n",
        "               \"name\":\"dense_1\",\n",
        "               \"trainable\":true,\n",
        "               \"batch_input_shape\":[  \n",
        "                  null,\n",
        "                  8\n",
        "               ],\n",
        "               \"dtype\":\"float32\",\n",
        "               \"units\":12,\n",
        "               \"activation\":\"relu\",\n",
        "               \"use_bias\":true,\n",
        "               \"kernel_initializer\":{  \n",
        "                  \"class_name\":\"VarianceScaling\",\n",
        "                  \"config\":{  \n",
        "                     \"scale\":1.0,\n",
        "                     \"mode\":\"fan_avg\",\n",
        "                     \"distribution\":\"uniform\",\n",
        "                     \"seed\":null\n",
        "                  }\n",
        "               },\n",
        "               \"bias_initializer\":{  \n",
        "                  \"class_name\":\"Zeros\",\n",
        "                  \"config\":{  \n",
        "\n",
        "                  }\n",
        "               },\n",
        "               \"kernel_regularizer\":null,\n",
        "               \"bias_regularizer\":null,\n",
        "               \"activity_regularizer\":null,\n",
        "               \"kernel_constraint\":null,\n",
        "               \"bias_constraint\":null\n",
        "            }\n",
        "         },\n",
        "         {  \n",
        "            \"class_name\":\"Dense\",\n",
        "            \"config\":{  \n",
        "               \"name\":\"dense_2\",\n",
        "               \"trainable\":true,\n",
        "               \"dtype\":\"float32\",\n",
        "               \"units\":8,\n",
        "               \"activation\":\"relu\",\n",
        "               \"use_bias\":true,\n",
        "               \"kernel_initializer\":{  \n",
        "                  \"class_name\":\"VarianceScaling\",\n",
        "                  \"config\":{  \n",
        "                     \"scale\":1.0,\n",
        "                     \"mode\":\"fan_avg\",\n",
        "                     \"distribution\":\"uniform\",\n",
        "                     \"seed\":null\n",
        "                  }\n",
        "               },\n",
        "               \"bias_initializer\":{  \n",
        "                  \"class_name\":\"Zeros\",\n",
        "                  \"config\":{  \n",
        "\n",
        "                  }\n",
        "               },\n",
        "               \"kernel_regularizer\":null,\n",
        "               \"bias_regularizer\":null,\n",
        "               \"activity_regularizer\":null,\n",
        "               \"kernel_constraint\":null,\n",
        "               \"bias_constraint\":null\n",
        "            }\n",
        "         },\n",
        "         {  \n",
        "            \"class_name\":\"Dense\",\n",
        "            \"config\":{  \n",
        "               \"name\":\"dense_3\",\n",
        "               \"trainable\":true,\n",
        "               \"dtype\":\"float32\",\n",
        "               \"units\":1,\n",
        "               \"activation\":\"sigmoid\",\n",
        "               \"use_bias\":true,\n",
        "               \"kernel_initializer\":{  \n",
        "                  \"class_name\":\"VarianceScaling\",\n",
        "                  \"config\":{  \n",
        "                     \"scale\":1.0,\n",
        "                     \"mode\":\"fan_avg\",\n",
        "                     \"distribution\":\"uniform\",\n",
        "                     \"seed\":null\n",
        "                  }\n",
        "               },\n",
        "               \"bias_initializer\":{  \n",
        "                  \"class_name\":\"Zeros\",\n",
        "                  \"config\":{  \n",
        "\n",
        "                  }\n",
        "               },\n",
        "               \"kernel_regularizer\":null,\n",
        "               \"bias_regularizer\":null,\n",
        "               \"activity_regularizer\":null,\n",
        "               \"kernel_constraint\":null,\n",
        "               \"bias_constraint\":null\n",
        "            }\n",
        "         }\n",
        "      ]\n",
        "   },\n",
        "   \"keras_version\":\"2.2.5\",\n",
        "   \"backend\":\"tensorflow\"\n",
        "}\n",
        "```"
      ],
      "metadata": {
        "id": "Ht4lK9Yboenn"
      }
    },
    {
      "cell_type": "markdown",
      "source": [
        "# How to Save a Keras Model"
      ],
      "metadata": {
        "id": "6475A70g5LTx"
      }
    },
    {
      "cell_type": "markdown",
      "source": [
        "You can save your model by calling the save() function on the model and specifying the filename.\n",
        "\n",
        "The example below demonstrates this by first fitting a model, evaluating it and saving it to the file model.h5."
      ],
      "metadata": {
        "id": "WOSaLDnv5Orp"
      }
    },
    {
      "cell_type": "code",
      "source": [
        "# MLP for Pima Indians Dataset saved to single file\n",
        "from numpy import loadtxt\n",
        "from keras.models import Sequential\n",
        "from keras.layers import Dense\n",
        "# load pima indians dataset\n",
        "dataset = loadtxt(\"https://raw.githubusercontent.com/jgamel/learn_n_dev/input_data/pima-indians-diabetes.csv\", delimiter=\",\")\n",
        "# split into input (X) and output (Y) variables\n",
        "X = dataset[:,0:8]\n",
        "Y = dataset[:,8]\n",
        "# define model\n",
        "model = Sequential()\n",
        "model.add(Dense(12, input_dim=8, activation='relu'))\n",
        "model.add(Dense(8, activation='relu'))\n",
        "model.add(Dense(1, activation='sigmoid'))\n",
        "# compile model\n",
        "model.compile(loss='binary_crossentropy', optimizer='adam', metrics=['accuracy'])\n",
        "# Fit the model\n",
        "model.fit(X, Y, epochs=150, batch_size=10, verbose=0)\n",
        "# evaluate the model\n",
        "scores = model.evaluate(X, Y, verbose=0)\n",
        "print(\"%s: %.2f%%\" % (model.metrics_names[1], scores[1]*100))\n",
        "# save model and architecture to single file\n",
        "model.save(\"/tmp/model.h5\")\n",
        "print(\"Saved model to disk\")"
      ],
      "metadata": {
        "colab": {
          "base_uri": "https://localhost:8080/"
        },
        "id": "l3Bfeppbo7gm",
        "outputId": "6d50d444-65ae-41d6-ed44-bebf81a9a905"
      },
      "execution_count": 4,
      "outputs": [
        {
          "output_type": "stream",
          "name": "stdout",
          "text": [
            "accuracy: 76.17%\n",
            "Saved model to disk\n"
          ]
        }
      ]
    },
    {
      "cell_type": "code",
      "source": [
        "import os\n",
        "\n",
        "arr = os.listdir('/tmp')\n",
        "print(arr)"
      ],
      "metadata": {
        "id": "EmomliT4I7jX",
        "outputId": "e4f7a0e5-3a3d-4fbe-9bb6-951a1a4876cb",
        "colab": {
          "base_uri": "https://localhost:8080/"
        }
      },
      "execution_count": 5,
      "outputs": [
        {
          "output_type": "stream",
          "name": "stdout",
          "text": [
            "['model.json', 'model.h5', '__autograph_generated_filed8r0xmho.py', 'initgoogle_syslog_dir.0', 'debugger_1inmw7pt5', 'pyright-95-tArPEXVFji8m', 'pyright-95-tQOpsEVajvJR', 'dap_multiplexer.INFO', '__autograph_generated_file15keeopn.py', '__pycache__', 'dap_multiplexer.a9cb863de123.root.log.INFO.20220505-164926.45', 'python-languageserver-cancellation']\n"
          ]
        }
      ]
    },
    {
      "cell_type": "markdown",
      "source": [
        "Running the example fits the model, summarizes the models performance on the training dataset and saves the model to file."
      ],
      "metadata": {
        "id": "1vQdIQBU5V7_"
      }
    },
    {
      "cell_type": "markdown",
      "source": [
        "### How to Load a Keras Model"
      ],
      "metadata": {
        "id": "LZEDY4jqo0Z2"
      }
    },
    {
      "cell_type": "markdown",
      "source": [
        "Your saved model can then be loaded later by calling the load_model() function and passing the filename. The function returns the model with the same architecture and weights.\n",
        "\n",
        "In this case, we load the model, summarize the architecture and evaluate it on the same dataset to confirm the weights and architecture are the same."
      ],
      "metadata": {
        "id": "kMOkdipKo10O"
      }
    },
    {
      "cell_type": "code",
      "source": [
        "# load and evaluate a saved model\n",
        "from numpy import loadtxt\n",
        "from keras.models import load_model\n",
        "\n",
        "# load model\n",
        "model = load_model('/tmp/model.h5')\n",
        "# summarize model.\n",
        "model.summary()\n",
        "# load dataset\n",
        "dataset = loadtxt(\"https://raw.githubusercontent.com/jgamel/learn_n_dev/input_data/pima-indians-diabetes.csv\", delimiter=\",\")\n",
        "# split into input (X) and output (Y) variables\n",
        "X = dataset[:,0:8]\n",
        "Y = dataset[:,8]\n",
        "# evaluate the model\n",
        "score = model.evaluate(X, Y, verbose=0)\n",
        "print(\"%s: %.2f%%\" % (model.metrics_names[1], score[1]*100))"
      ],
      "metadata": {
        "colab": {
          "base_uri": "https://localhost:8080/"
        },
        "id": "3cpASMFtxJou",
        "outputId": "5a61ba7b-5154-4b50-ebe2-09e9db38c071"
      },
      "execution_count": 6,
      "outputs": [
        {
          "output_type": "stream",
          "name": "stdout",
          "text": [
            "Model: \"sequential_2\"\n",
            "_________________________________________________________________\n",
            " Layer (type)                Output Shape              Param #   \n",
            "=================================================================\n",
            " dense_6 (Dense)             (None, 12)                108       \n",
            "                                                                 \n",
            " dense_7 (Dense)             (None, 8)                 104       \n",
            "                                                                 \n",
            " dense_8 (Dense)             (None, 1)                 9         \n",
            "                                                                 \n",
            "=================================================================\n",
            "Total params: 221\n",
            "Trainable params: 221\n",
            "Non-trainable params: 0\n",
            "_________________________________________________________________\n",
            "accuracy: 76.17%\n"
          ]
        }
      ]
    },
    {
      "cell_type": "markdown",
      "source": [
        "Running the example first loads the model, prints a summary of the model architecture then evaluates the loaded model on the same dataset."
      ],
      "metadata": {
        "id": "xcXNrtWl5t8E"
      }
    }
  ]
}