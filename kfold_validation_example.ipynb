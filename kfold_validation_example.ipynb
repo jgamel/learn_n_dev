{
  "nbformat": 4,
  "nbformat_minor": 0,
  "metadata": {
    "colab": {
      "name": "kfold_validation_example.ipynb",
      "provenance": [],
      "collapsed_sections": [],
      "authorship_tag": "ABX9TyPmd7x9VAh+cSRt0YAaNYbQ",
      "include_colab_link": true
    },
    "kernelspec": {
      "name": "python3",
      "display_name": "Python 3"
    },
    "language_info": {
      "name": "python"
    }
  },
  "cells": [
    {
      "cell_type": "markdown",
      "metadata": {
        "id": "view-in-github",
        "colab_type": "text"
      },
      "source": [
        "<a href=\"https://colab.research.google.com/github/jgamel/learn_n_dev/blob/python_modeling_forecasting/kfold_validation_example.ipynb\" target=\"_parent\"><img src=\"https://colab.research.google.com/assets/colab-badge.svg\" alt=\"Open In Colab\"/></a>"
      ]
    },
    {
      "cell_type": "markdown",
      "source": [
        "# K Fold Cross Validation"
      ],
      "metadata": {
        "id": "hRJkzySVgz4R"
      }
    },
    {
      "cell_type": "markdown",
      "source": [
        "### Introduction \n",
        "\n",
        "As of now we have divided the input data into train and test datasets and use it for model training and testing respectively. This method is not very reliable as train and test data not always have same kind of variation like original data, which will affect the accuracy of the model. Cross validation solves this problem by dividing the input data into multiple groups instead of just two groups. There are multiple ways to split the data, in this article we are going to cover K Fold and Stratified K Fold cross validation techniques."
      ],
      "metadata": {
        "id": "hRO1KrWbhcqx"
      }
    },
    {
      "cell_type": "markdown",
      "source": [
        "### Inner Working of Cross Validation\n",
        "\n",
        "* Shuffle the dataset in order to remove any kind of order\n",
        "* Split the data into K number of folds. K= 5 or 10 will work for most of the cases.\n",
        "* Now keep one fold for testing and remaining all the folds for training.\n",
        "* Train(fit) the model on train set and test(evaluate) it on test set and note down the results for that split\n",
        "* Now repeat this process for all the folds, every time choosing separate fold as test data\n",
        "* So for every iteration our model gets trained and tested on different sets of data\n",
        "* At the end sum up the scores from each split and get the mean score"
      ],
      "metadata": {
        "id": "oxNWmHwnjcpq"
      }
    },
    {
      "cell_type": "markdown",
      "source": [
        "### K Fold Cross Validation \n",
        "\n",
        "In case of K Fold cross validation input data is divided into 'K' number of folds, hence the name K Fold. Suppose we have divided data into 5 folds i.e. K=5. Now we have 5 sets of data to train and test our model. So the model will get trained and tested 5 times, but for every iteration we will use one fold as test data and rest all as training data. Note that for every iteration, data in training and test fold changes which adds to the effectiveness of this method.\n",
        "\n",
        "This significantly reduces underfitting as we are using most of the data for training(fitting), and also significantly reduces overfitting as most of the data is also being used in validation set. K Fold cross validation helps to generalize the machine learning model, which results in better predictions on unknown data. To know more about underfitting & overfitting please refer this article.\n",
        "\n",
        "For most of the cases 5 or 10 folds are sufficient but depending on problem you can split the data into any number of folds."
      ],
      "metadata": {
        "id": "z-o5zmVfj9EB"
      }
    },
    {
      "cell_type": "markdown",
      "source": [
        "### Stratified K Fold Cross Validation \n",
        "\n",
        "Stratified K Fold used when just random shuffling and splitting the data is not sufficient, and we want to have correct distribution of data in each fold. In case of regression problem folds are selected so that the mean response value is approximately equal in all the folds. In case of classification problem folds are selected to have same proportion of class labels. Stratified K Fold is more useful in case of classification problems, where it is very important to have same percentage of labels in every fold."
      ],
      "metadata": {
        "id": "kZ1ZDAy9kUPz"
      }
    },
    {
      "cell_type": "markdown",
      "source": [
        "### Hyperparameter Tuning and Model Selection "
      ],
      "metadata": {
        "id": "4jh0jU9Fl8-v"
      }
    },
    {
      "cell_type": "markdown",
      "source": [
        "Now you are familiar with inner working of cross validation, lets see how we can use it to tune the parameters and select best model.\n",
        "\n",
        "For hyperparameter tuning or to find the best model we have to run the model against multiple combination of parameters and features and record score for analysis. To do this we can use sklearns 'cross_val_score' function. This function evaluates a score by cross-validation, and depending on the scores we can finalize the hyperparameter which provides the best results. Similarly, we can try multiple model and choose the model which provides the best score."
      ],
      "metadata": {
        "id": "BoUO4j3y-uCg"
      }
    },
    {
      "cell_type": "markdown",
      "source": [
        "### Advantages\n",
        "\n",
        "* We end up using all the data for training and testing and this is very useful in case of small datasets\n",
        "* It covers the variation of input data by validating the performance of the model on multiple folds\n",
        "* Multiple folds also helps in case of unbalanced data\n",
        "* Model performance analysis for every fold gives us more insights to fine tune the model\n",
        "* Used for hyperparameter tuning"
      ],
      "metadata": {
        "id": "hGzi9CoM-zjB"
      }
    },
    {
      "cell_type": "markdown",
      "source": [
        "### Disadvantages \n",
        "\n",
        "* K Fold cross validation not really helpful in case time series data."
      ],
      "metadata": {
        "id": "imXMc4az_KdN"
      }
    },
    {
      "cell_type": "markdown",
      "source": [
        "### Import Libraries \n",
        "\n",
        "1. pandas: Used for data manipulation and analysis\n",
        "2. numpy : Numpy is the core library for scientific computing in  3. Python. It is used for working with arrays and matrices.\n",
        "4. KFold: Sklearn K-Folds cross-validator\n",
        "5. StratifiedKFold: Stratified K-Folds cross-validator\n",
        "6. cross_val_score: Sklearn library to evaluate a score by cross-validation\n",
        "6. linear_model: Sklearn library, we are using LinearRegression and LogisticRegression algorithm\n",
        "7. tree: Sklearn library, we are using DecisionTreeRegressor and DecisionTreeClassifier\n",
        "8. ensemble: SKlearn library, we are using RandomForestRegressor and RandomForestClassifier"
      ],
      "metadata": {
        "id": "d4-RsJJWELLP"
      }
    },
    {
      "cell_type": "code",
      "source": [
        "import pandas as pd\n",
        "import numpy as np\n",
        "from sklearn.model_selection import KFold, StratifiedKFold, cross_val_score\n",
        "from sklearn import linear_model, tree, ensemble"
      ],
      "metadata": {
        "id": "3zx3NUQdEdb_"
      },
      "execution_count": 2,
      "outputs": []
    },
    {
      "cell_type": "markdown",
      "source": [
        "Get Data: \n",
        "\n",
        "1. Mount Drive for location\n",
        "2. We will load the dataset into pandas dataframe and convert it into a toy dataset by removing categorical columns and rows and columns with null values."
      ],
      "metadata": {
        "id": "kRfHDQfIQT8E"
      }
    },
    {
      "cell_type": "code",
      "source": [
        "train_data = pd.read_csv('https://raw.githubusercontent.com/jgamel/learn_n_dev/input_data/train_housing_kfold_example.csv')\n",
        "\n",
        "list(train_data.columns)\n"
      ],
      "metadata": {
        "colab": {
          "base_uri": "https://localhost:8080/"
        },
        "id": "7bHFuQw1QF7p",
        "outputId": "3f2fe879-e4ef-4877-a67b-cd6f68e2d23e"
      },
      "execution_count": 3,
      "outputs": [
        {
          "output_type": "execute_result",
          "data": {
            "text/plain": [
              "['Id',\n",
              " 'MSSubClass',\n",
              " 'MSZoning',\n",
              " 'LotFrontage',\n",
              " 'LotArea',\n",
              " 'Street',\n",
              " 'Alley',\n",
              " 'LotShape',\n",
              " 'LandContour',\n",
              " 'Utilities',\n",
              " 'LotConfig',\n",
              " 'LandSlope',\n",
              " 'Neighborhood',\n",
              " 'Condition1',\n",
              " 'Condition2',\n",
              " 'BldgType',\n",
              " 'HouseStyle',\n",
              " 'OverallQual',\n",
              " 'OverallCond',\n",
              " 'YearBuilt',\n",
              " 'YearRemodAdd',\n",
              " 'RoofStyle',\n",
              " 'RoofMatl',\n",
              " 'Exterior1st',\n",
              " 'Exterior2nd',\n",
              " 'MasVnrType',\n",
              " 'MasVnrArea',\n",
              " 'ExterQual',\n",
              " 'ExterCond',\n",
              " 'Foundation',\n",
              " 'BsmtQual',\n",
              " 'BsmtCond',\n",
              " 'BsmtExposure',\n",
              " 'BsmtFinType1',\n",
              " 'BsmtFinSF1',\n",
              " 'BsmtFinType2',\n",
              " 'BsmtFinSF2',\n",
              " 'BsmtUnfSF',\n",
              " 'TotalBsmtSF',\n",
              " 'Heating',\n",
              " 'HeatingQC',\n",
              " 'CentralAir',\n",
              " 'Electrical',\n",
              " '1stFlrSF',\n",
              " '2ndFlrSF',\n",
              " 'LowQualFinSF',\n",
              " 'GrLivArea',\n",
              " 'BsmtFullBath',\n",
              " 'BsmtHalfBath',\n",
              " 'FullBath',\n",
              " 'HalfBath',\n",
              " 'BedroomAbvGr',\n",
              " 'KitchenAbvGr',\n",
              " 'KitchenQual',\n",
              " 'TotRmsAbvGrd',\n",
              " 'Functional',\n",
              " 'Fireplaces',\n",
              " 'FireplaceQu',\n",
              " 'GarageType',\n",
              " 'GarageYrBlt',\n",
              " 'GarageFinish',\n",
              " 'GarageCars',\n",
              " 'GarageArea',\n",
              " 'GarageQual',\n",
              " 'GarageCond',\n",
              " 'PavedDrive',\n",
              " 'WoodDeckSF',\n",
              " 'OpenPorchSF',\n",
              " 'EnclosedPorch',\n",
              " '3SsnPorch',\n",
              " 'ScreenPorch',\n",
              " 'PoolArea',\n",
              " 'PoolQC',\n",
              " 'Fence',\n",
              " 'MiscFeature',\n",
              " 'MiscVal',\n",
              " 'MoSold',\n",
              " 'YrSold',\n",
              " 'SaleType',\n",
              " 'SaleCondition',\n",
              " 'SalePrice']"
            ]
          },
          "metadata": {},
          "execution_count": 3
        }
      ]
    },
    {
      "cell_type": "code",
      "source": [
        "# Remove rows with missing target values\n",
        "train_data.dropna(axis=0, subset=['SalePrice'], inplace=True)\n",
        "y = train_data.SalePrice # Target variable             \n",
        "train_data.drop(['SalePrice'], axis=1, inplace=True) # Removing target variable from training data\n",
        "\n",
        "train_data.drop(['LotFrontage', 'GarageYrBlt', 'MasVnrArea'], axis=1, inplace=True) # Remove columns with null values\n",
        "\n",
        "# Select numeric columns only\n",
        "numeric_cols = [cname for cname in train_data.columns if train_data[cname].dtype in ['int64', 'float64']]\n",
        "X = train_data[numeric_cols].copy()\n",
        "\n",
        "print(\"Shape of input data: {} and shape of target variable: {}\".format(X.shape, y.shape))\n",
        "\n",
        "X.head() # Show first 5 training examples"
      ],
      "metadata": {
        "colab": {
          "base_uri": "https://localhost:8080/",
          "height": 317
        },
        "id": "v7H9qNX8QsUD",
        "outputId": "c48c78db-5363-444d-b858-d35817a1b4bd"
      },
      "execution_count": 4,
      "outputs": [
        {
          "output_type": "stream",
          "name": "stdout",
          "text": [
            "Shape of input data: (1460, 34) and shape of target variable: (1460,)\n"
          ]
        },
        {
          "output_type": "execute_result",
          "data": {
            "text/plain": [
              "   Id  MSSubClass  LotArea  OverallQual  OverallCond  YearBuilt  YearRemodAdd  \\\n",
              "0   1          60     8450            7            5       2003          2003   \n",
              "1   2          20     9600            6            8       1976          1976   \n",
              "2   3          60    11250            7            5       2001          2002   \n",
              "3   4          70     9550            7            5       1915          1970   \n",
              "4   5          60    14260            8            5       2000          2000   \n",
              "\n",
              "   BsmtFinSF1  BsmtFinSF2  BsmtUnfSF  ...  GarageArea  WoodDeckSF  \\\n",
              "0         706           0        150  ...         548           0   \n",
              "1         978           0        284  ...         460         298   \n",
              "2         486           0        434  ...         608           0   \n",
              "3         216           0        540  ...         642           0   \n",
              "4         655           0        490  ...         836         192   \n",
              "\n",
              "   OpenPorchSF  EnclosedPorch  3SsnPorch  ScreenPorch  PoolArea  MiscVal  \\\n",
              "0           61              0          0            0         0        0   \n",
              "1            0              0          0            0         0        0   \n",
              "2           42              0          0            0         0        0   \n",
              "3           35            272          0            0         0        0   \n",
              "4           84              0          0            0         0        0   \n",
              "\n",
              "   MoSold  YrSold  \n",
              "0       2    2008  \n",
              "1       5    2007  \n",
              "2       9    2008  \n",
              "3       2    2006  \n",
              "4      12    2008  \n",
              "\n",
              "[5 rows x 34 columns]"
            ],
            "text/html": [
              "\n",
              "  <div id=\"df-8d84e2fd-7dcc-4487-af19-7487358a49a5\">\n",
              "    <div class=\"colab-df-container\">\n",
              "      <div>\n",
              "<style scoped>\n",
              "    .dataframe tbody tr th:only-of-type {\n",
              "        vertical-align: middle;\n",
              "    }\n",
              "\n",
              "    .dataframe tbody tr th {\n",
              "        vertical-align: top;\n",
              "    }\n",
              "\n",
              "    .dataframe thead th {\n",
              "        text-align: right;\n",
              "    }\n",
              "</style>\n",
              "<table border=\"1\" class=\"dataframe\">\n",
              "  <thead>\n",
              "    <tr style=\"text-align: right;\">\n",
              "      <th></th>\n",
              "      <th>Id</th>\n",
              "      <th>MSSubClass</th>\n",
              "      <th>LotArea</th>\n",
              "      <th>OverallQual</th>\n",
              "      <th>OverallCond</th>\n",
              "      <th>YearBuilt</th>\n",
              "      <th>YearRemodAdd</th>\n",
              "      <th>BsmtFinSF1</th>\n",
              "      <th>BsmtFinSF2</th>\n",
              "      <th>BsmtUnfSF</th>\n",
              "      <th>...</th>\n",
              "      <th>GarageArea</th>\n",
              "      <th>WoodDeckSF</th>\n",
              "      <th>OpenPorchSF</th>\n",
              "      <th>EnclosedPorch</th>\n",
              "      <th>3SsnPorch</th>\n",
              "      <th>ScreenPorch</th>\n",
              "      <th>PoolArea</th>\n",
              "      <th>MiscVal</th>\n",
              "      <th>MoSold</th>\n",
              "      <th>YrSold</th>\n",
              "    </tr>\n",
              "  </thead>\n",
              "  <tbody>\n",
              "    <tr>\n",
              "      <th>0</th>\n",
              "      <td>1</td>\n",
              "      <td>60</td>\n",
              "      <td>8450</td>\n",
              "      <td>7</td>\n",
              "      <td>5</td>\n",
              "      <td>2003</td>\n",
              "      <td>2003</td>\n",
              "      <td>706</td>\n",
              "      <td>0</td>\n",
              "      <td>150</td>\n",
              "      <td>...</td>\n",
              "      <td>548</td>\n",
              "      <td>0</td>\n",
              "      <td>61</td>\n",
              "      <td>0</td>\n",
              "      <td>0</td>\n",
              "      <td>0</td>\n",
              "      <td>0</td>\n",
              "      <td>0</td>\n",
              "      <td>2</td>\n",
              "      <td>2008</td>\n",
              "    </tr>\n",
              "    <tr>\n",
              "      <th>1</th>\n",
              "      <td>2</td>\n",
              "      <td>20</td>\n",
              "      <td>9600</td>\n",
              "      <td>6</td>\n",
              "      <td>8</td>\n",
              "      <td>1976</td>\n",
              "      <td>1976</td>\n",
              "      <td>978</td>\n",
              "      <td>0</td>\n",
              "      <td>284</td>\n",
              "      <td>...</td>\n",
              "      <td>460</td>\n",
              "      <td>298</td>\n",
              "      <td>0</td>\n",
              "      <td>0</td>\n",
              "      <td>0</td>\n",
              "      <td>0</td>\n",
              "      <td>0</td>\n",
              "      <td>0</td>\n",
              "      <td>5</td>\n",
              "      <td>2007</td>\n",
              "    </tr>\n",
              "    <tr>\n",
              "      <th>2</th>\n",
              "      <td>3</td>\n",
              "      <td>60</td>\n",
              "      <td>11250</td>\n",
              "      <td>7</td>\n",
              "      <td>5</td>\n",
              "      <td>2001</td>\n",
              "      <td>2002</td>\n",
              "      <td>486</td>\n",
              "      <td>0</td>\n",
              "      <td>434</td>\n",
              "      <td>...</td>\n",
              "      <td>608</td>\n",
              "      <td>0</td>\n",
              "      <td>42</td>\n",
              "      <td>0</td>\n",
              "      <td>0</td>\n",
              "      <td>0</td>\n",
              "      <td>0</td>\n",
              "      <td>0</td>\n",
              "      <td>9</td>\n",
              "      <td>2008</td>\n",
              "    </tr>\n",
              "    <tr>\n",
              "      <th>3</th>\n",
              "      <td>4</td>\n",
              "      <td>70</td>\n",
              "      <td>9550</td>\n",
              "      <td>7</td>\n",
              "      <td>5</td>\n",
              "      <td>1915</td>\n",
              "      <td>1970</td>\n",
              "      <td>216</td>\n",
              "      <td>0</td>\n",
              "      <td>540</td>\n",
              "      <td>...</td>\n",
              "      <td>642</td>\n",
              "      <td>0</td>\n",
              "      <td>35</td>\n",
              "      <td>272</td>\n",
              "      <td>0</td>\n",
              "      <td>0</td>\n",
              "      <td>0</td>\n",
              "      <td>0</td>\n",
              "      <td>2</td>\n",
              "      <td>2006</td>\n",
              "    </tr>\n",
              "    <tr>\n",
              "      <th>4</th>\n",
              "      <td>5</td>\n",
              "      <td>60</td>\n",
              "      <td>14260</td>\n",
              "      <td>8</td>\n",
              "      <td>5</td>\n",
              "      <td>2000</td>\n",
              "      <td>2000</td>\n",
              "      <td>655</td>\n",
              "      <td>0</td>\n",
              "      <td>490</td>\n",
              "      <td>...</td>\n",
              "      <td>836</td>\n",
              "      <td>192</td>\n",
              "      <td>84</td>\n",
              "      <td>0</td>\n",
              "      <td>0</td>\n",
              "      <td>0</td>\n",
              "      <td>0</td>\n",
              "      <td>0</td>\n",
              "      <td>12</td>\n",
              "      <td>2008</td>\n",
              "    </tr>\n",
              "  </tbody>\n",
              "</table>\n",
              "<p>5 rows × 34 columns</p>\n",
              "</div>\n",
              "      <button class=\"colab-df-convert\" onclick=\"convertToInteractive('df-8d84e2fd-7dcc-4487-af19-7487358a49a5')\"\n",
              "              title=\"Convert this dataframe to an interactive table.\"\n",
              "              style=\"display:none;\">\n",
              "        \n",
              "  <svg xmlns=\"http://www.w3.org/2000/svg\" height=\"24px\"viewBox=\"0 0 24 24\"\n",
              "       width=\"24px\">\n",
              "    <path d=\"M0 0h24v24H0V0z\" fill=\"none\"/>\n",
              "    <path d=\"M18.56 5.44l.94 2.06.94-2.06 2.06-.94-2.06-.94-.94-2.06-.94 2.06-2.06.94zm-11 1L8.5 8.5l.94-2.06 2.06-.94-2.06-.94L8.5 2.5l-.94 2.06-2.06.94zm10 10l.94 2.06.94-2.06 2.06-.94-2.06-.94-.94-2.06-.94 2.06-2.06.94z\"/><path d=\"M17.41 7.96l-1.37-1.37c-.4-.4-.92-.59-1.43-.59-.52 0-1.04.2-1.43.59L10.3 9.45l-7.72 7.72c-.78.78-.78 2.05 0 2.83L4 21.41c.39.39.9.59 1.41.59.51 0 1.02-.2 1.41-.59l7.78-7.78 2.81-2.81c.8-.78.8-2.07 0-2.86zM5.41 20L4 18.59l7.72-7.72 1.47 1.35L5.41 20z\"/>\n",
              "  </svg>\n",
              "      </button>\n",
              "      \n",
              "  <style>\n",
              "    .colab-df-container {\n",
              "      display:flex;\n",
              "      flex-wrap:wrap;\n",
              "      gap: 12px;\n",
              "    }\n",
              "\n",
              "    .colab-df-convert {\n",
              "      background-color: #E8F0FE;\n",
              "      border: none;\n",
              "      border-radius: 50%;\n",
              "      cursor: pointer;\n",
              "      display: none;\n",
              "      fill: #1967D2;\n",
              "      height: 32px;\n",
              "      padding: 0 0 0 0;\n",
              "      width: 32px;\n",
              "    }\n",
              "\n",
              "    .colab-df-convert:hover {\n",
              "      background-color: #E2EBFA;\n",
              "      box-shadow: 0px 1px 2px rgba(60, 64, 67, 0.3), 0px 1px 3px 1px rgba(60, 64, 67, 0.15);\n",
              "      fill: #174EA6;\n",
              "    }\n",
              "\n",
              "    [theme=dark] .colab-df-convert {\n",
              "      background-color: #3B4455;\n",
              "      fill: #D2E3FC;\n",
              "    }\n",
              "\n",
              "    [theme=dark] .colab-df-convert:hover {\n",
              "      background-color: #434B5C;\n",
              "      box-shadow: 0px 1px 3px 1px rgba(0, 0, 0, 0.15);\n",
              "      filter: drop-shadow(0px 1px 2px rgba(0, 0, 0, 0.3));\n",
              "      fill: #FFFFFF;\n",
              "    }\n",
              "  </style>\n",
              "\n",
              "      <script>\n",
              "        const buttonEl =\n",
              "          document.querySelector('#df-8d84e2fd-7dcc-4487-af19-7487358a49a5 button.colab-df-convert');\n",
              "        buttonEl.style.display =\n",
              "          google.colab.kernel.accessAllowed ? 'block' : 'none';\n",
              "\n",
              "        async function convertToInteractive(key) {\n",
              "          const element = document.querySelector('#df-8d84e2fd-7dcc-4487-af19-7487358a49a5');\n",
              "          const dataTable =\n",
              "            await google.colab.kernel.invokeFunction('convertToInteractive',\n",
              "                                                     [key], {});\n",
              "          if (!dataTable) return;\n",
              "\n",
              "          const docLinkHtml = 'Like what you see? Visit the ' +\n",
              "            '<a target=\"_blank\" href=https://colab.research.google.com/notebooks/data_table.ipynb>data table notebook</a>'\n",
              "            + ' to learn more about interactive tables.';\n",
              "          element.innerHTML = '';\n",
              "          dataTable['output_type'] = 'display_data';\n",
              "          await google.colab.output.renderOutput(dataTable, element);\n",
              "          const docLink = document.createElement('div');\n",
              "          docLink.innerHTML = docLinkHtml;\n",
              "          element.appendChild(docLink);\n",
              "        }\n",
              "      </script>\n",
              "    </div>\n",
              "  </div>\n",
              "  "
            ]
          },
          "metadata": {},
          "execution_count": 4
        }
      ]
    },
    {
      "cell_type": "markdown",
      "source": [
        "### Understanding the Data \n",
        "\n",
        "Final dataset contains 34 features and 1460 training examples. We have to predict the house sales price based on available training data."
      ],
      "metadata": {
        "id": "Zrin1KQJXgV6"
      }
    },
    {
      "cell_type": "markdown",
      "source": [
        "### Model Score Using KFold \n",
        "\n",
        "Let's use cross_val_score() to evaluate a score by cross-validation. We are going to use three different models for analysis. We will find the score for every split and then take average to get the overall score. We will analyze the model performance based on Root Mean Square Error (RMSE). Since RMSE is not directly available from scoring parameter, first we find the Mean Square Error and then take the square root of it."
      ],
      "metadata": {
        "id": "51FOkQoHXk_M"
      }
    },
    {
      "cell_type": "code",
      "source": [
        "# Lets split the data into 5 folds.  \n",
        "# We will use this 'kf'(KFold splitting stratergy) object as input to cross_val_score() method\n",
        "kf =KFold(n_splits=5, shuffle=True, random_state=42)\n",
        "\n",
        "cnt = 1\n",
        "# split()  method generate indices to split data into training and test set.\n",
        "for train_index, test_index in kf.split(X, y):\n",
        "    print(f'Fold:{cnt}, Train set: {len(train_index)}, Test set:{len(test_index)}')\n",
        "    cnt += 1"
      ],
      "metadata": {
        "colab": {
          "base_uri": "https://localhost:8080/"
        },
        "id": "GP8FyWUlX0PB",
        "outputId": "b5dff334-a32d-4e3b-8d14-566199fa38cb"
      },
      "execution_count": 5,
      "outputs": [
        {
          "output_type": "stream",
          "name": "stdout",
          "text": [
            "Fold:1, Train set: 1168, Test set:292\n",
            "Fold:2, Train set: 1168, Test set:292\n",
            "Fold:3, Train set: 1168, Test set:292\n",
            "Fold:4, Train set: 1168, Test set:292\n",
            "Fold:5, Train set: 1168, Test set:292\n"
          ]
        }
      ]
    },
    {
      "cell_type": "code",
      "source": [
        "\"\"\"\n",
        "Why we are using '-' sign to calculate RMSE?\n",
        "ANS: Classification accuracy is reward function, means something you want to maximize. Mean Square Error is loss function, \n",
        "means something you want to minimize. Now if we use 'cross_val_score' function then best score(high value) will give worst \n",
        "model in case of loss function! There are other sklearn functions which also depends on 'cross_val_score' to select best model by\n",
        "looking for highest scores, so a design decision was made for 'cross_val_score' to negate the output of all loss function. \n",
        "So that when other sklearn function calls 'cross_val_score' those function can always assume that highest score indicate better model.\n",
        "In short ignore the negative sign and rate the error based on its absolute value.\n",
        "\"\"\"\n",
        "def rmse(score):\n",
        "    rmse = np.sqrt(-score)\n",
        "    print(f'rmse= {\"{:.2f}\".format(rmse)}')"
      ],
      "metadata": {
        "id": "UPKMiwJQYSAJ"
      },
      "execution_count": 7,
      "outputs": []
    },
    {
      "cell_type": "markdown",
      "source": [
        "Using Linear Regression "
      ],
      "metadata": {
        "id": "Afx8r9WTY_M0"
      }
    },
    {
      "cell_type": "code",
      "source": [
        "score = cross_val_score(linear_model.LinearRegression(), X, y, cv= kf, scoring=\"neg_mean_squared_error\")\n",
        "print(f'Scores for each fold: {score}')\n",
        "rmse(score.mean())"
      ],
      "metadata": {
        "colab": {
          "base_uri": "https://localhost:8080/"
        },
        "id": "Bo6Fre1rY__7",
        "outputId": "5b20d852-c255-4410-97c6-35d6964e2088"
      },
      "execution_count": 8,
      "outputs": [
        {
          "output_type": "stream",
          "name": "stdout",
          "text": [
            "Scores for each fold: [-1.39334669e+09 -1.32533433e+09 -3.39493937e+09 -9.31045536e+08\n",
            " -7.16620849e+08]\n",
            "rmse= 39398.70\n"
          ]
        }
      ]
    },
    {
      "cell_type": "markdown",
      "source": [
        "Using Decision Tree Regressor "
      ],
      "metadata": {
        "id": "xMDOsBBPZS0-"
      }
    },
    {
      "cell_type": "code",
      "source": [
        "score = cross_val_score(tree.DecisionTreeRegressor(random_state= 42), X, y, cv=kf, scoring=\"neg_mean_squared_error\")\n",
        "print(f'Scores for each fold: {score}')\n",
        "rmse(score.mean())"
      ],
      "metadata": {
        "colab": {
          "base_uri": "https://localhost:8080/"
        },
        "id": "Ghe-y-ibZTwg",
        "outputId": "7927fe5f-fea0-4f24-af40-59199d691f69"
      },
      "execution_count": 9,
      "outputs": [
        {
          "output_type": "stream",
          "name": "stdout",
          "text": [
            "Scores for each fold: [-2.28396934e+09 -1.70193863e+09 -2.50505513e+09 -1.48547479e+09\n",
            " -1.66691378e+09]\n",
            "rmse= 43916.63\n"
          ]
        }
      ]
    },
    {
      "cell_type": "markdown",
      "source": [
        "Using Random Forest Regressor "
      ],
      "metadata": {
        "id": "9esgUsbDZkxJ"
      }
    },
    {
      "cell_type": "code",
      "source": [
        "score = cross_val_score(ensemble.RandomForestRegressor(random_state= 42), X, y, cv= kf, scoring=\"neg_mean_squared_error\")\n",
        "print(f'Scores for each fold are: {score}')\n",
        "rmse(score.mean())\n"
      ],
      "metadata": {
        "colab": {
          "base_uri": "https://localhost:8080/"
        },
        "id": "xmLQh_rNZnn0",
        "outputId": "1567e1c6-0757-4a12-b14e-1a15ea8c8aaa"
      },
      "execution_count": 10,
      "outputs": [
        {
          "output_type": "stream",
          "name": "stdout",
          "text": [
            "Scores for each fold are: [-8.58316418e+08 -6.13821216e+08 -2.06121160e+09 -7.97273029e+08\n",
            " -5.68429309e+08]\n",
            "rmse= 31301.92\n"
          ]
        }
      ]
    },
    {
      "cell_type": "markdown",
      "source": [
        "### Model Tuning using KFold \n",
        "\n",
        "We can also use cross_val_score() along with KFold to evaluate the model for different hyperparameters. Here we are going to try different hyperparameter values and choose the ones for which we get the highest model score."
      ],
      "metadata": {
        "id": "_wG0BroxZto-"
      }
    },
    {
      "cell_type": "markdown",
      "source": [
        "### Decision Tree Regressor Tuning \n",
        "\n",
        "There are multiple hyperparameters like max_depth, min_samples_split, min_samples_leaf etc which affect the model performance. Here we are going to do tuning based on 'max_depth'. We will try with max depth starting from 1 to 10 and depending on the final 'rmse' score choose the value of max_depth."
      ],
      "metadata": {
        "id": "UG_3YwXoaCt-"
      }
    },
    {
      "cell_type": "code",
      "source": [
        "max_depth = [1,2,3,4,5,6,7,8,9,10]\n",
        "\n",
        "for val in max_depth:\n",
        "    score = cross_val_score(tree.DecisionTreeRegressor(max_depth= val, random_state= 42), X, y, cv= kf, scoring=\"neg_mean_squared_error\")\n",
        "    print(f'For max depth: {val}')\n",
        "    rmse(score.mean())"
      ],
      "metadata": {
        "colab": {
          "base_uri": "https://localhost:8080/"
        },
        "id": "VQFEKPT-aM2_",
        "outputId": "00005595-c074-42dd-f5ac-f854952f1a0d"
      },
      "execution_count": 11,
      "outputs": [
        {
          "output_type": "stream",
          "name": "stdout",
          "text": [
            "For max depth: 1\n",
            "rmse= 58803.64\n",
            "For max depth: 2\n",
            "rmse= 50060.31\n",
            "For max depth: 3\n",
            "rmse= 42152.85\n",
            "For max depth: 4\n",
            "rmse= 39218.54\n",
            "For max depth: 5\n",
            "rmse= 40185.90\n",
            "For max depth: 6\n",
            "rmse= 40522.15\n",
            "For max depth: 7\n",
            "rmse= 41089.08\n",
            "For max depth: 8\n",
            "rmse= 41161.27\n",
            "For max depth: 9\n",
            "rmse= 41441.94\n",
            "For max depth: 10\n",
            "rmse= 41758.39\n"
          ]
        }
      ]
    },
    {
      "cell_type": "markdown",
      "source": [
        "### Random Forest Regressor Tuning \n",
        "\n",
        "There are multiple hyperparameters like n_estimators, max_depth, min_samples_split etc which affect the model performance. Here we are going to do tuning based on 'n_estimators'. We will try with estimators starting from 50 to 350 and depending on the final 'rmse' score choose the value of estimator."
      ],
      "metadata": {
        "id": "kLSHYduqbn_p"
      }
    },
    {
      "cell_type": "code",
      "source": [
        "estimators = [50, 100, 150, 200, 250, 300, 350]\n",
        "\n",
        "for count in estimators:\n",
        "    score = cross_val_score(ensemble.RandomForestRegressor(n_estimators= count, random_state= 42), X, y, cv= kf, scoring=\"neg_mean_squared_error\")\n",
        "    print(f'For estimators: {count}')\n",
        "    rmse(score.mean())"
      ],
      "metadata": {
        "colab": {
          "base_uri": "https://localhost:8080/"
        },
        "id": "FwmTy03UbyS0",
        "outputId": "5776164b-9e7c-496a-ec82-1e6ba5f76c48"
      },
      "execution_count": 12,
      "outputs": [
        {
          "output_type": "stream",
          "name": "stdout",
          "text": [
            "For estimators: 50\n",
            "rmse= 31450.86\n",
            "For estimators: 100\n",
            "rmse= 31301.92\n",
            "For estimators: 150\n",
            "rmse= 31187.45\n",
            "For estimators: 200\n",
            "rmse= 31176.16\n",
            "For estimators: 250\n",
            "rmse= 31246.61\n",
            "For estimators: 300\n",
            "rmse= 31242.74\n",
            "For estimators: 350\n",
            "rmse= 31313.74\n"
          ]
        }
      ]
    },
    {
      "cell_type": "markdown",
      "source": [
        "## K Fold: Classification Example"
      ],
      "metadata": {
        "id": "m8qjRzlkAFMh"
      }
    },
    {
      "cell_type": "markdown",
      "source": [
        "### Get Data"
      ],
      "metadata": {
        "id": "YEkHmNnSBVI-"
      }
    },
    {
      "cell_type": "code",
      "source": [
        "train_data = pd.read_csv('https://raw.githubusercontent.com/jgamel/learn_n_dev/input_data/train_titanic.csv')\n",
        "\n",
        "list(train_data.columns)"
      ],
      "metadata": {
        "colab": {
          "base_uri": "https://localhost:8080/"
        },
        "id": "D7XZI6LMBX6K",
        "outputId": "ae185a33-4c62-411c-dfae-28957f6e50f9"
      },
      "execution_count": 13,
      "outputs": [
        {
          "output_type": "execute_result",
          "data": {
            "text/plain": [
              "['PassengerId',\n",
              " 'Survived',\n",
              " 'Pclass',\n",
              " 'Name',\n",
              " 'Sex',\n",
              " 'Age',\n",
              " 'SibSp',\n",
              " 'Parch',\n",
              " 'Ticket',\n",
              " 'Fare',\n",
              " 'Cabin',\n",
              " 'Embarked']"
            ]
          },
          "metadata": {},
          "execution_count": 13
        }
      ]
    },
    {
      "cell_type": "markdown",
      "source": [
        "### Prepare Data"
      ],
      "metadata": {
        "id": "-irfWM4VB2nE"
      }
    },
    {
      "cell_type": "code",
      "source": [
        "# Remove rows with missing target values\n",
        "train_data.dropna(axis=0, subset=['Survived'], inplace=True)\n",
        "y = train_data.Survived # Target variable             \n",
        "train_data.drop(['Survived'], axis=1, inplace=True) # Removing target variable from training data\n",
        "\n",
        "train_data.drop(['Age'], axis=1, inplace=True) # Remove columns with null values\n",
        "\n",
        "# Select numeric columns only\n",
        "numeric_cols = [cname for cname in train_data.columns if train_data[cname].dtype in ['int64', 'float64']]\n",
        "X = train_data[numeric_cols].copy()\n",
        "\n",
        "print(\"Shape of input data: {} and shape of target variable: {}\".format(X.shape, y.shape))\n",
        "pd.concat([X, y], axis=1).head() # Show first 5 training examples"
      ],
      "metadata": {
        "colab": {
          "base_uri": "https://localhost:8080/",
          "height": 224
        },
        "id": "9SxC2XZmB4fa",
        "outputId": "0e89ea60-6c30-4f8e-876c-b81f72f157bc"
      },
      "execution_count": 14,
      "outputs": [
        {
          "output_type": "stream",
          "name": "stdout",
          "text": [
            "Shape of input data: (891, 5) and shape of target variable: (891,)\n"
          ]
        },
        {
          "output_type": "execute_result",
          "data": {
            "text/plain": [
              "   PassengerId  Pclass  SibSp  Parch     Fare  Survived\n",
              "0            1       3      1      0   7.2500         0\n",
              "1            2       1      1      0  71.2833         1\n",
              "2            3       3      0      0   7.9250         1\n",
              "3            4       1      1      0  53.1000         1\n",
              "4            5       3      0      0   8.0500         0"
            ],
            "text/html": [
              "\n",
              "  <div id=\"df-d4574a8e-c5b9-4a43-b592-4e8029f12556\">\n",
              "    <div class=\"colab-df-container\">\n",
              "      <div>\n",
              "<style scoped>\n",
              "    .dataframe tbody tr th:only-of-type {\n",
              "        vertical-align: middle;\n",
              "    }\n",
              "\n",
              "    .dataframe tbody tr th {\n",
              "        vertical-align: top;\n",
              "    }\n",
              "\n",
              "    .dataframe thead th {\n",
              "        text-align: right;\n",
              "    }\n",
              "</style>\n",
              "<table border=\"1\" class=\"dataframe\">\n",
              "  <thead>\n",
              "    <tr style=\"text-align: right;\">\n",
              "      <th></th>\n",
              "      <th>PassengerId</th>\n",
              "      <th>Pclass</th>\n",
              "      <th>SibSp</th>\n",
              "      <th>Parch</th>\n",
              "      <th>Fare</th>\n",
              "      <th>Survived</th>\n",
              "    </tr>\n",
              "  </thead>\n",
              "  <tbody>\n",
              "    <tr>\n",
              "      <th>0</th>\n",
              "      <td>1</td>\n",
              "      <td>3</td>\n",
              "      <td>1</td>\n",
              "      <td>0</td>\n",
              "      <td>7.2500</td>\n",
              "      <td>0</td>\n",
              "    </tr>\n",
              "    <tr>\n",
              "      <th>1</th>\n",
              "      <td>2</td>\n",
              "      <td>1</td>\n",
              "      <td>1</td>\n",
              "      <td>0</td>\n",
              "      <td>71.2833</td>\n",
              "      <td>1</td>\n",
              "    </tr>\n",
              "    <tr>\n",
              "      <th>2</th>\n",
              "      <td>3</td>\n",
              "      <td>3</td>\n",
              "      <td>0</td>\n",
              "      <td>0</td>\n",
              "      <td>7.9250</td>\n",
              "      <td>1</td>\n",
              "    </tr>\n",
              "    <tr>\n",
              "      <th>3</th>\n",
              "      <td>4</td>\n",
              "      <td>1</td>\n",
              "      <td>1</td>\n",
              "      <td>0</td>\n",
              "      <td>53.1000</td>\n",
              "      <td>1</td>\n",
              "    </tr>\n",
              "    <tr>\n",
              "      <th>4</th>\n",
              "      <td>5</td>\n",
              "      <td>3</td>\n",
              "      <td>0</td>\n",
              "      <td>0</td>\n",
              "      <td>8.0500</td>\n",
              "      <td>0</td>\n",
              "    </tr>\n",
              "  </tbody>\n",
              "</table>\n",
              "</div>\n",
              "      <button class=\"colab-df-convert\" onclick=\"convertToInteractive('df-d4574a8e-c5b9-4a43-b592-4e8029f12556')\"\n",
              "              title=\"Convert this dataframe to an interactive table.\"\n",
              "              style=\"display:none;\">\n",
              "        \n",
              "  <svg xmlns=\"http://www.w3.org/2000/svg\" height=\"24px\"viewBox=\"0 0 24 24\"\n",
              "       width=\"24px\">\n",
              "    <path d=\"M0 0h24v24H0V0z\" fill=\"none\"/>\n",
              "    <path d=\"M18.56 5.44l.94 2.06.94-2.06 2.06-.94-2.06-.94-.94-2.06-.94 2.06-2.06.94zm-11 1L8.5 8.5l.94-2.06 2.06-.94-2.06-.94L8.5 2.5l-.94 2.06-2.06.94zm10 10l.94 2.06.94-2.06 2.06-.94-2.06-.94-.94-2.06-.94 2.06-2.06.94z\"/><path d=\"M17.41 7.96l-1.37-1.37c-.4-.4-.92-.59-1.43-.59-.52 0-1.04.2-1.43.59L10.3 9.45l-7.72 7.72c-.78.78-.78 2.05 0 2.83L4 21.41c.39.39.9.59 1.41.59.51 0 1.02-.2 1.41-.59l7.78-7.78 2.81-2.81c.8-.78.8-2.07 0-2.86zM5.41 20L4 18.59l7.72-7.72 1.47 1.35L5.41 20z\"/>\n",
              "  </svg>\n",
              "      </button>\n",
              "      \n",
              "  <style>\n",
              "    .colab-df-container {\n",
              "      display:flex;\n",
              "      flex-wrap:wrap;\n",
              "      gap: 12px;\n",
              "    }\n",
              "\n",
              "    .colab-df-convert {\n",
              "      background-color: #E8F0FE;\n",
              "      border: none;\n",
              "      border-radius: 50%;\n",
              "      cursor: pointer;\n",
              "      display: none;\n",
              "      fill: #1967D2;\n",
              "      height: 32px;\n",
              "      padding: 0 0 0 0;\n",
              "      width: 32px;\n",
              "    }\n",
              "\n",
              "    .colab-df-convert:hover {\n",
              "      background-color: #E2EBFA;\n",
              "      box-shadow: 0px 1px 2px rgba(60, 64, 67, 0.3), 0px 1px 3px 1px rgba(60, 64, 67, 0.15);\n",
              "      fill: #174EA6;\n",
              "    }\n",
              "\n",
              "    [theme=dark] .colab-df-convert {\n",
              "      background-color: #3B4455;\n",
              "      fill: #D2E3FC;\n",
              "    }\n",
              "\n",
              "    [theme=dark] .colab-df-convert:hover {\n",
              "      background-color: #434B5C;\n",
              "      box-shadow: 0px 1px 3px 1px rgba(0, 0, 0, 0.15);\n",
              "      filter: drop-shadow(0px 1px 2px rgba(0, 0, 0, 0.3));\n",
              "      fill: #FFFFFF;\n",
              "    }\n",
              "  </style>\n",
              "\n",
              "      <script>\n",
              "        const buttonEl =\n",
              "          document.querySelector('#df-d4574a8e-c5b9-4a43-b592-4e8029f12556 button.colab-df-convert');\n",
              "        buttonEl.style.display =\n",
              "          google.colab.kernel.accessAllowed ? 'block' : 'none';\n",
              "\n",
              "        async function convertToInteractive(key) {\n",
              "          const element = document.querySelector('#df-d4574a8e-c5b9-4a43-b592-4e8029f12556');\n",
              "          const dataTable =\n",
              "            await google.colab.kernel.invokeFunction('convertToInteractive',\n",
              "                                                     [key], {});\n",
              "          if (!dataTable) return;\n",
              "\n",
              "          const docLinkHtml = 'Like what you see? Visit the ' +\n",
              "            '<a target=\"_blank\" href=https://colab.research.google.com/notebooks/data_table.ipynb>data table notebook</a>'\n",
              "            + ' to learn more about interactive tables.';\n",
              "          element.innerHTML = '';\n",
              "          dataTable['output_type'] = 'display_data';\n",
              "          await google.colab.output.renderOutput(dataTable, element);\n",
              "          const docLink = document.createElement('div');\n",
              "          docLink.innerHTML = docLinkHtml;\n",
              "          element.appendChild(docLink);\n",
              "        }\n",
              "      </script>\n",
              "    </div>\n",
              "  </div>\n",
              "  "
            ]
          },
          "metadata": {},
          "execution_count": 14
        }
      ]
    },
    {
      "cell_type": "markdown",
      "source": [
        "### Understanding the Data \n",
        "\n",
        "Final dataset contains 5 features and 891 training examples. We have to predict which passengers survived the Titanic shipwreck based on available training data. Features that we are going to use in this example are passenger id, ticket class, sibling/spouse aboard, parent/children aboard and ticket fare"
      ],
      "metadata": {
        "id": "OIut1qVaB--U"
      }
    },
    {
      "cell_type": "markdown",
      "source": [
        "### Model Score Using KFold \n",
        "\n",
        "Let's use cross_val_score() to evaluate a score by cross-validation. We are going to use three different models for analysis. We are going to find the score for every fold and then take average to get the overall score. We will analyze the model performance based on accuracy score, here score value indicate how many predictions are matching with actual values."
      ],
      "metadata": {
        "id": "7n5oWON5CDg_"
      }
    },
    {
      "cell_type": "code",
      "source": [
        "# Lets split the data into 5 folds. \n",
        "# We will use this 'kf'(StratiFiedKFold splitting stratergy) object as input to cross_val_score() method\n",
        "# The folds are made by preserving the percentage of samples for each class.\n",
        "kf = StratifiedKFold(n_splits=5, shuffle=True, random_state=42)\n",
        "\n",
        "cnt = 1\n",
        "# split()  method generate indices to split data into training and test set.\n",
        "for train_index, test_index in kf.split(X, y):\n",
        "    print(f'Fold:{cnt}, Train set: {len(train_index)}, Test set:{len(test_index)}')\n",
        "    cnt+=1\n",
        "    \n",
        "# Note that: \n",
        "# cross_val_score() parameter 'cv' will by default use StratifiedKFold spliting startergy if we just specify value of number of folds. \n",
        "# So you can bypass above step and just specify cv= 5 in cross_val_score() function"
      ],
      "metadata": {
        "colab": {
          "base_uri": "https://localhost:8080/"
        },
        "id": "XCNHNj5hCLSz",
        "outputId": "26a37cae-1078-47ad-bda9-764d9562d2ea"
      },
      "execution_count": 15,
      "outputs": [
        {
          "output_type": "stream",
          "name": "stdout",
          "text": [
            "Fold:1, Train set: 712, Test set:179\n",
            "Fold:2, Train set: 713, Test set:178\n",
            "Fold:3, Train set: 713, Test set:178\n",
            "Fold:4, Train set: 713, Test set:178\n",
            "Fold:5, Train set: 713, Test set:178\n"
          ]
        }
      ]
    },
    {
      "cell_type": "markdown",
      "source": [
        "### Using Logistic Regression"
      ],
      "metadata": {
        "id": "WEjy9ue2CQxB"
      }
    },
    {
      "cell_type": "code",
      "source": [
        "score = cross_val_score(linear_model.LogisticRegression(random_state= 42), X, y, cv= kf, scoring=\"accuracy\")\n",
        "print(f'Scores for each fold are: {score}')\n",
        "print(f'Average score: {\"{:.2f}\".format(score.mean())}')"
      ],
      "metadata": {
        "colab": {
          "base_uri": "https://localhost:8080/"
        },
        "id": "BHAFw6XZCR_c",
        "outputId": "4a2b8898-f5a2-4ecc-e3e4-f48ed61245d3"
      },
      "execution_count": 16,
      "outputs": [
        {
          "output_type": "stream",
          "name": "stdout",
          "text": [
            "Scores for each fold are: [0.66480447 0.69662921 0.70224719 0.69101124 0.66292135]\n",
            "Average score: 0.68\n"
          ]
        }
      ]
    },
    {
      "cell_type": "markdown",
      "source": [
        "### Using Decision Classifier"
      ],
      "metadata": {
        "id": "gqH6D8O2Cvdg"
      }
    },
    {
      "cell_type": "code",
      "source": [
        "score = cross_val_score(tree.DecisionTreeClassifier(random_state= 42), X, y, cv= kf, scoring=\"accuracy\")\n",
        "print(f'Scores for each fold are: {score}')\n",
        "print(f'Average score: {\"{:.2f}\".format(score.mean())}')\n"
      ],
      "metadata": {
        "colab": {
          "base_uri": "https://localhost:8080/"
        },
        "id": "c3mskDOCCy-G",
        "outputId": "fbe83b62-0cfc-47d2-ec94-7c762b835d0e"
      },
      "execution_count": 17,
      "outputs": [
        {
          "output_type": "stream",
          "name": "stdout",
          "text": [
            "Scores for each fold are: [0.67039106 0.61235955 0.5505618  0.64044944 0.69101124]\n",
            "Average score: 0.63\n"
          ]
        }
      ]
    },
    {
      "cell_type": "markdown",
      "source": [
        "### Using Random Forest Classifier "
      ],
      "metadata": {
        "id": "ANek8ErcC4oI"
      }
    },
    {
      "cell_type": "code",
      "source": [
        "score = cross_val_score(ensemble.RandomForestClassifier(random_state= 42), X, y, cv= kf, scoring=\"accuracy\")\n",
        "print(f'Scores for each fold are: {score}')\n",
        "print(f'Average score: {\"{:.2f}\".format(score.mean())}')"
      ],
      "metadata": {
        "colab": {
          "base_uri": "https://localhost:8080/"
        },
        "id": "rwLiCwF2C7DT",
        "outputId": "5b5b212b-4d7d-4030-c96c-9985f404d140"
      },
      "execution_count": 18,
      "outputs": [
        {
          "output_type": "stream",
          "name": "stdout",
          "text": [
            "Scores for each fold are: [0.74301676 0.66292135 0.65730337 0.70786517 0.73033708]\n",
            "Average score: 0.70\n"
          ]
        }
      ]
    },
    {
      "cell_type": "markdown",
      "source": [
        "### Model Tuning using KFold \n",
        "We can also use cross_val_score() along with StratifiedKFold to evaluate the model for different hyperparameters. Here we are going to try different hyperparameter values and choose the ones for which we get the highest model score."
      ],
      "metadata": {
        "id": "8YqDbse5DDgM"
      }
    },
    {
      "cell_type": "markdown",
      "source": [
        "### Logistic Classifier Tuning \n",
        "We will try different optimization algorithm to finalize the one with the highest accuracy."
      ],
      "metadata": {
        "id": "ZEujCZcBDJNk"
      }
    },
    {
      "cell_type": "code",
      "source": [
        "algorithms = ['newton-cg', 'lbfgs', 'liblinear', 'sag', 'saga']\n",
        "\n",
        "for algo in algorithms:\n",
        "    score = cross_val_score(linear_model.LogisticRegression(max_iter= 4000, solver= algo, random_state= 42), X, y, cv= kf, scoring=\"accuracy\")\n",
        "    print(f'Average score({algo}): {\"{:.3f}\".format(score.mean())}')\n",
        "    \n",
        "# Note, here we are using max_iter = 4000, so that all the solver gets chance to converge. "
      ],
      "metadata": {
        "colab": {
          "base_uri": "https://localhost:8080/"
        },
        "id": "wVUYN0U7DOdV",
        "outputId": "4070f026-e80f-472b-d25e-1c8ffa49adad"
      },
      "execution_count": 19,
      "outputs": [
        {
          "output_type": "stream",
          "name": "stdout",
          "text": [
            "Average score(newton-cg): 0.684\n",
            "Average score(lbfgs): 0.684\n",
            "Average score(liblinear): 0.684\n",
            "Average score(sag): 0.678\n",
            "Average score(saga): 0.681\n"
          ]
        }
      ]
    },
    {
      "cell_type": "markdown",
      "source": [
        "### Decision Tree Classifier Tuning \n",
        "Here we are going to do tuning based on 'max_depth'. We will try with max depth starting from 1 to 10 and depending on the final 'accuracy' score choose the value of max_depth.\n",
        "\n"
      ],
      "metadata": {
        "id": "7zfDPqovDXfP"
      }
    },
    {
      "cell_type": "code",
      "source": [
        "max_depth = [1,2,3,4,5,6,7,8,9,10]\n",
        "\n",
        "for val in max_depth:\n",
        "    score = cross_val_score(tree.DecisionTreeClassifier(max_depth= val, random_state= 42), X, y, cv= kf, scoring=\"accuracy\")\n",
        "    print(f'Average score({val}): {\"{:.3f}\".format(score.mean())}')"
      ],
      "metadata": {
        "colab": {
          "base_uri": "https://localhost:8080/"
        },
        "id": "1r80vdXJDcK4",
        "outputId": "f8f2811a-d596-4acf-a143-97306ba295aa"
      },
      "execution_count": 20,
      "outputs": [
        {
          "output_type": "stream",
          "name": "stdout",
          "text": [
            "Average score(1): 0.668\n",
            "Average score(2): 0.706\n",
            "Average score(3): 0.713\n",
            "Average score(4): 0.687\n",
            "Average score(5): 0.688\n",
            "Average score(6): 0.682\n",
            "Average score(7): 0.669\n",
            "Average score(8): 0.669\n",
            "Average score(9): 0.663\n",
            "Average score(10): 0.664\n"
          ]
        }
      ]
    },
    {
      "cell_type": "markdown",
      "source": [
        "### Random Forest Classifier Tuning \n",
        "Here we are going to do tuning based on 'n_estimators'. We will try with estimators starting from 50 to 350 and depending on the final 'rmse' score, choose the value of estimator."
      ],
      "metadata": {
        "id": "2jezfh5oDgb7"
      }
    },
    {
      "cell_type": "code",
      "source": [
        "n_estimators = [50, 100, 150, 200, 250, 300, 350]\n",
        "\n",
        "for val in n_estimators:\n",
        "    score = cross_val_score(ensemble.RandomForestClassifier(n_estimators= val, random_state= 42), X, y, cv= kf, scoring=\"accuracy\")\n",
        "    print(f'Average score({val}): {\"{:.3f}\".format(score.mean())}')"
      ],
      "metadata": {
        "colab": {
          "base_uri": "https://localhost:8080/"
        },
        "id": "3dbCE7uNDk8k",
        "outputId": "89bfe730-52ea-4269-ceeb-5df49cd86ef1"
      },
      "execution_count": 21,
      "outputs": [
        {
          "output_type": "stream",
          "name": "stdout",
          "text": [
            "Average score(50): 0.703\n",
            "Average score(100): 0.700\n",
            "Average score(150): 0.691\n",
            "Average score(200): 0.697\n",
            "Average score(250): 0.692\n",
            "Average score(300): 0.695\n",
            "Average score(350): 0.700\n"
          ]
        }
      ]
    }
  ]
}