{
  "nbformat": 4,
  "nbformat_minor": 0,
  "metadata": {
    "colab": {
      "name": "NewsCatcher_example.ipynb",
      "provenance": [],
      "collapsed_sections": [],
      "authorship_tag": "ABX9TyNAVdZ/LJrT1NwUUAGhFtDx",
      "include_colab_link": true
    },
    "kernelspec": {
      "name": "python3",
      "display_name": "Python 3"
    },
    "language_info": {
      "name": "python"
    }
  },
  "cells": [
    {
      "cell_type": "markdown",
      "metadata": {
        "id": "view-in-github",
        "colab_type": "text"
      },
      "source": [
        "<a href=\"https://colab.research.google.com/github/jgamel/learn_n_dev/blob/python_web_scrapping/NewsCatcher_example.ipynb\" target=\"_parent\"><img src=\"https://colab.research.google.com/assets/colab-badge.svg\" alt=\"Open In Colab\"/></a>"
      ]
    },
    {
      "cell_type": "markdown",
      "source": [
        "# NewsCatcher"
      ],
      "metadata": {
        "id": "rNpQHvlrLAsz"
      }
    },
    {
      "cell_type": "markdown",
      "source": [
        "This one is another open-source library created that can be used in DIY projects. It’s a simple Python web scraping library that can be used for scraping news articles from almost any news website. It also enables you to gather details related to a news website. Let’s elaborate on this with the help of some examples and code.\n",
        "\n",
        "In case you want to grab the headlines from a news website, you can just create a Newscatcher object passing the website URL (remember to remove the HTTP and the www and just provide the website name and extension), and use the get_headlines() function to obtain the top headlines from the website. If you run the code below:"
      ],
      "metadata": {
        "id": "ibqc21CYLF1-"
      }
    },
    {
      "cell_type": "code",
      "source": [
        "# Install newscatcher\n",
        "!pip install newscatcher"
      ],
      "metadata": {
        "id": "qrh-06uzucpv",
        "outputId": "73293bb7-52f7-4b1f-b46f-860676132450",
        "colab": {
          "base_uri": "https://localhost:8080/"
        }
      },
      "execution_count": 2,
      "outputs": [
        {
          "output_type": "stream",
          "name": "stdout",
          "text": [
            "Collecting newscatcher\n",
            "  Downloading newscatcher-0.2.0-py3-none-any.whl (138 kB)\n",
            "\u001b[?25l\r\u001b[K     |██▍                             | 10 kB 21.6 MB/s eta 0:00:01\r\u001b[K     |████▊                           | 20 kB 16.2 MB/s eta 0:00:01\r\u001b[K     |███████                         | 30 kB 11.1 MB/s eta 0:00:01\r\u001b[K     |█████████▌                      | 40 kB 9.3 MB/s eta 0:00:01\r\u001b[K     |███████████▉                    | 51 kB 4.6 MB/s eta 0:00:01\r\u001b[K     |██████████████▏                 | 61 kB 5.4 MB/s eta 0:00:01\r\u001b[K     |████████████████▌               | 71 kB 5.5 MB/s eta 0:00:01\r\u001b[K     |███████████████████             | 81 kB 4.3 MB/s eta 0:00:01\r\u001b[K     |█████████████████████▎          | 92 kB 4.7 MB/s eta 0:00:01\r\u001b[K     |███████████████████████▋        | 102 kB 5.2 MB/s eta 0:00:01\r\u001b[K     |██████████████████████████      | 112 kB 5.2 MB/s eta 0:00:01\r\u001b[K     |████████████████████████████▍   | 122 kB 5.2 MB/s eta 0:00:01\r\u001b[K     |██████████████████████████████▊ | 133 kB 5.2 MB/s eta 0:00:01\r\u001b[K     |████████████████████████████████| 138 kB 5.2 MB/s \n",
            "\u001b[?25hRequirement already satisfied: requests<3.0.0,>=2.23.0 in /usr/local/lib/python3.7/dist-packages (from newscatcher) (2.23.0)\n",
            "Collecting feedparser<6.0.0,>=5.2.1\n",
            "  Downloading feedparser-5.2.1.zip (1.2 MB)\n",
            "\u001b[K     |████████████████████████████████| 1.2 MB 51.9 MB/s \n",
            "\u001b[?25hCollecting tldextract<3.0.0,>=2.2.2\n",
            "  Downloading tldextract-2.2.3-py2.py3-none-any.whl (48 kB)\n",
            "\u001b[K     |████████████████████████████████| 48 kB 5.4 MB/s \n",
            "\u001b[?25hRequirement already satisfied: certifi>=2017.4.17 in /usr/local/lib/python3.7/dist-packages (from requests<3.0.0,>=2.23.0->newscatcher) (2021.10.8)\n",
            "Requirement already satisfied: idna<3,>=2.5 in /usr/local/lib/python3.7/dist-packages (from requests<3.0.0,>=2.23.0->newscatcher) (2.10)\n",
            "Requirement already satisfied: chardet<4,>=3.0.2 in /usr/local/lib/python3.7/dist-packages (from requests<3.0.0,>=2.23.0->newscatcher) (3.0.4)\n",
            "Requirement already satisfied: urllib3!=1.25.0,!=1.25.1,<1.26,>=1.21.1 in /usr/local/lib/python3.7/dist-packages (from requests<3.0.0,>=2.23.0->newscatcher) (1.24.3)\n",
            "Collecting requests-file>=1.4\n",
            "  Downloading requests_file-1.5.1-py2.py3-none-any.whl (3.7 kB)\n",
            "Requirement already satisfied: six in /usr/local/lib/python3.7/dist-packages (from requests-file>=1.4->tldextract<3.0.0,>=2.2.2->newscatcher) (1.15.0)\n",
            "Building wheels for collected packages: feedparser\n",
            "  Building wheel for feedparser (setup.py) ... \u001b[?25l\u001b[?25hdone\n",
            "  Created wheel for feedparser: filename=feedparser-5.2.1-py3-none-any.whl size=44952 sha256=444f547bd4a39c69ce438badc91d518ae08eb34251f185b49865472077faa475\n",
            "  Stored in directory: /root/.cache/pip/wheels/29/bf/46/b4a597d435d3aee6c2fa583824897336d65abf13ebe3405b70\n",
            "Successfully built feedparser\n",
            "Installing collected packages: requests-file, tldextract, feedparser, newscatcher\n",
            "Successfully installed feedparser-5.2.1 newscatcher-0.2.0 requests-file-1.5.1 tldextract-2.2.3\n"
          ]
        }
      ]
    },
    {
      "cell_type": "markdown",
      "source": [
        "### Example 1:"
      ],
      "metadata": {
        "id": "qWKQvKFbI-gF"
      }
    },
    {
      "cell_type": "markdown",
      "source": [
        "Get Headlines"
      ],
      "metadata": {
        "id": "LR98Of5lJNQR"
      }
    },
    {
      "cell_type": "code",
      "source": [
        "from newscatcher import Newscatcher, describe_url\n",
        "\n",
        "mm = Newscatcher(website = 'cnn.com')\n",
        "\n",
        "for index, headline in enumerate(mm.get_headlines()):\n",
        "   print(index, headline)"
      ],
      "metadata": {
        "colab": {
          "base_uri": "https://localhost:8080/"
        },
        "id": "5KBjbUVxLh76",
        "outputId": "39e32fcc-1f05-45f1-f1ed-c5c9eddb4cfa"
      },
      "execution_count": 3,
      "outputs": [
        {
          "output_type": "stream",
          "name": "stdout",
          "text": [
            "0 Ukrainian presidential advisor says Russian troops who entered the plant were pushed back. Deputy commander says 'fierce bloody combat is ongoing.'\n",
            "1 'You have to fight for your life': Ukrainian newlywed who lost legs in blast hopes to walk down the aisle with prosthetics soon\n",
            "2 Key battle: Soldiers explain how they fought off Russian forces\n",
            "3 Farm thefts: Russians steal vast amounts of Ukrainian grain and equipment, threatening this year's harvest\n",
            "4 Moscow: Russia expels Danish embassy employees\n",
            "5 Retired US major general: What it will take for Ukrainians to win\n",
            "6 'Putin's altar boy': Pope warns pro-war Russian patriarch\n",
            "7 Opinion: World's luck may run out as talk of nuclear war escalates\n",
            "8 New audio: McCarthy said 25th Amendment 'takes too long' and wanted to reach out to Biden\n",
            "9 Full Covid death toll is nearly three times higher than reported, WHO data reveals\n",
            "10 How to take advantage of rising interest rates\n",
            "11 Mortgage rates hit highest level since 2009\n",
            "12 Biden administration launches plan to refill emergency oil reserve\n",
            "13 He worked with fugitive officer for almost 2 decades. Hear his message to her\n",
            "14 Search for corrections officer and inmate enters 7th day as officials piece together why they disappeared\n",
            "15 A 13-year-old girl told police she had been gang-raped. Then a police officer allegedly raped her\n",
            "16 New evidence found in Madeleine McCann case as German prosecutor is 'sure' suspect killed British girl\n",
            "17 Oil baron unleashes wealth to fight Putin\n",
            "18 Brazil president lashes out at DiCaprio after actor tweets about Amazon rainforest\n",
            "19 Analysis: Biden nears point of no return with voters on the economy\n",
            "20 SE Cupp: The real reason the GOP is so focused on the Supreme Court leak\n",
            "21 Why relief over the Fed could be short-lived\n",
            "22 China's economy is going backwards\n",
            "23 Dave Chappelle releases first statement about 'unsettling' attack\n",
            "24 Howie Mandel afraid after Dave Chappelle attack\n",
            "25 Kaley Cuoco and this 'Ozark' actor are dating\n",
            "26 Whoopi Goldberg goes off on anti-abortion advocates\n",
            "27 Major disaster declared in New Mexico, unlocking federal aid as wildfires threaten thousands of homes\n",
            "28 Cawthorn addresses video released by opposition group showing him naked in bed 'being crass'\n",
            "29 Surveillance video catches man allegedly trying to abduct teen from bus stop\n",
            "30 Massachusetts child protective system failed missing 7-year-old, state office says\n",
            "31 'Oh my God!': Stanley Tucci tries a garlic-lovers dream dip\n",
            "32 How Italy created a delicious new type of chocolate\n",
            "33 Roberts claimed the work of the court 'will not be affected' by the leak. It already has been\n",
            "34 What overturning Roe v. Wade could mean for interracial marriage and contraception rights\n",
            "35 Opinion: Conservatives held our noses and voted for Trump. Reversing Roe would be our reward\n",
            "36 White House adviser: Overturning Roe v. Wade is an economic issue\n",
            "37 Behind the scenes at the secretive Supreme Court\n",
            "38 States expect a surge of out-of-state patients if Roe v. Wade is overturned\n",
            "39 Podcast: Former US Ambassador to Russia talks about Putin's paranoia over the expansion of democracy\n",
            "40 The internet's famous dancing baby from 1996 is getting a new look\n",
            "41 Judge dismisses defamation lawsuit brought by family of fallen Marine against Alec Baldwin\n",
            "42 Amber Heard's first day on the stand brings details of alleged abuse\n",
            "43 Lili Reinhart calls out celebs for 'starving' themselves\n",
            "44 Tom Cruise helicopters in for 'Top Gun: Maverick' premiere\n",
            "45 Watch: Tornado's extraordinary force caught on camera\n",
            "46 Harassment is a problem in VR, and it's likely to get worse\n",
            "47 Forget Disney and Florida, companies won't be able to stay silent on abortion\n",
            "48 Shell posts record quarterly profit of $9 billion\n",
            "49 Elon Musk says fees for some users may be coming to Twitter\n",
            "50 Thoughtful gifts for Mom are seeing mega sales right now\n",
            "51 20 Amazon products our readers were obsessed with in April\n",
            "52 Swedish dishcloths are a game changer and they're on sale today\n",
            "53 Glossier's newest Balm Dotcom color is perfect for spring\n",
            "54 The 12 best products we tested last month\n",
            "55 We slept on a dozen pillows to find three great choices to get you a good night's rest\n",
            "56 Hair stylists explain how to find the best brush for your hair type, and recommend 17 favorites\n",
            "57 From the Caribbean to Cape Cod, here are 11 of the best ways to redeem 140,000 IHG points\n",
            "58 33 incredible Mother's Day gifts on Amazon under $25\n",
            "59 42 last-minute Mother's Day gifts that get delivered ASAP\n",
            "60 Your mom isn't like other moms; she's a cool mom. Here's what to get her\n",
            "61 36 Mother's Day gifts under $50 she'll be completely obsessed with\n",
            "62 Democrats, pick Texas to replace Iowa caucus\n",
            "63 There is perhaps no greater farce than Alito's appeal to democracy\n",
            "64 Most Americans don't know about these secret presidential powers\n",
            "65 Conservatives won't stop with abortion\n",
            "66 Ohio primary proves power of Trump's endorsement\n",
            "67 \"How do you take your six-month-old back to Mariupol if it's rubble?\" Nick Paton Walsh reports from Ukraine\n",
            "68 You probably have an accent, but it might be disappearing. Here's why\n"
          ]
        }
      ]
    },
    {
      "cell_type": "markdown",
      "source": [
        "### Example 2:"
      ],
      "metadata": {
        "id": "wDPYVwG5Jqrp"
      }
    },
    {
      "cell_type": "markdown",
      "source": [
        "Get News Title, Date, & URL"
      ],
      "metadata": {
        "id": "theHg5xbJuDX"
      }
    },
    {
      "cell_type": "code",
      "source": [
        "from newscatcher import Newscatcher, describe_url\n",
        "import json\n",
        "import time\n",
        "\n",
        "nyt = Newscatcher(website = 'cnbc.com')\n",
        "results = nyt.get_news()\n",
        "\n",
        "count = 0\n",
        "articles = results['articles']\n",
        "for article in articles[:10]:   \n",
        "   count+=1\n",
        "   print(\n",
        "     str(count) + \". \" + article[\"title\"] \\\n",
        "     + \"\\n\\t\\t\" + article[\"published\"] \\\n",
        "     + \"\\n\\t\\t\" + article[\"link\"]\\\n",
        "     + \"\\n\\n\"\n",
        "     )\n",
        "   time.sleep(0.33)"
      ],
      "metadata": {
        "colab": {
          "base_uri": "https://localhost:8080/"
        },
        "id": "rwa3Y3dvL5cL",
        "outputId": "56ee594e-aa91-45c4-d2ae-a8224eb7fabb"
      },
      "execution_count": 4,
      "outputs": [
        {
          "output_type": "stream",
          "name": "stdout",
          "text": [
            "1. Stocks extend losses, with Dow dropping 800 points, as post-Fed rally evaporates\n",
            "\t\tWed, 04 May 2022 22:06 GMT\n",
            "\t\thttps://www.cnbc.com/2022/05/04/stock-market-futures-open-to-close-news.html\n",
            "\n",
            "\n",
            "2. Elon Musk expected to serve as temporary Twitter CEO after deal closes\n",
            "\t\tThu, 05 May 2022 13:13 GMT\n",
            "\t\thttps://www.cnbc.com/2022/05/05/elon-musk-expected-to-serve-as-temporary-twitter-ceo-after-deal-closes.html\n",
            "\n",
            "\n",
            "3. Worker output fell 7.5% in the first quarter, the biggest decline since 1947\n",
            "\t\tThu, 05 May 2022 12:33 GMT\n",
            "\t\thttps://www.cnbc.com/2022/05/05/labor-productivity-fell-7point5percent-in-the-first-quarter-the-fastest-rate-since-1947.html\n",
            "\n",
            "\n",
            "4. Feds propose first major revamp to fair housing rules since 1995\n",
            "\t\tThu, 05 May 2022 13:53 GMT\n",
            "\t\thttps://www.cnbc.com/2022/05/05/feds-propose-first-major-revamp-to-fair-housing-rules-since-1995.html\n",
            "\n",
            "\n",
            "5. Here's what's next for stocks after the Fed's latest guidance on future rate hikes\n",
            "\t\tThu, 05 May 2022 13:04 GMT\n",
            "\t\thttps://www.cnbc.com/2022/05/05/heres-whats-next-for-stocks-after-the-feds-latest-guidance-on-future-rate-hikes.html\n",
            "\n",
            "\n",
            "6. Shopify stock down 17% after earnings miss, $2.1 billion acquisition of logistics start-up\n",
            "\t\tThu, 05 May 2022 12:49 GMT\n",
            "\t\thttps://www.cnbc.com/2022/05/05/shopify-sinks-after-earnings-miss-2point1-billion-purchase-of-deliverr.html\n",
            "\n",
            "\n",
            "7. Elon Musk and Cathie Wood knock passive index investing, saying it’s gone too far\n",
            "\t\tThu, 05 May 2022 12:40 GMT\n",
            "\t\thttps://www.cnbc.com/2022/05/05/elon-musk-and-cathie-wood-knock-passive-index-investing-saying-its-gone-too-far.html\n",
            "\n",
            "\n",
            "8. Nikola stock jumps as EV truck maker reports start to production and surprise Q1 revenue\n",
            "\t\tThu, 05 May 2022 13:04 GMT\n",
            "\t\thttps://www.cnbc.com/2022/05/05/nikola-nkla-earnings-q1-2022.html\n",
            "\n",
            "\n",
            "9. Wayfair loses customers and money in a messy quarter, announces its CFO will retire\n",
            "\t\tThu, 05 May 2022 11:53 GMT\n",
            "\t\thttps://www.cnbc.com/2022/05/05/wayfair-w-reports-q1-2022-losses.html\n",
            "\n",
            "\n",
            "10. Binance is backing Musk's Twitter bid, boosting crypto believers' vision of a 'decentralized' web\n",
            "\t\tThu, 05 May 2022 13:46 GMT\n",
            "\t\thttps://www.cnbc.com/2022/05/05/binance-backing-for-elon-musks-twitter-bid-boosts-web3-vision.html\n",
            "\n",
            "\n"
          ]
        }
      ]
    },
    {
      "cell_type": "markdown",
      "source": [
        "In the code above, we used the get_news() function to get the top news from nytimes.com. While extracting just a few of the data points, you can get all of them for further processing:\n",
        "\n",
        "* Title\n",
        "* Link\n",
        "* Authors\n",
        "* Tags\n",
        "* Date\n",
        "* Summary\n",
        "* Content\n",
        "* Link for Comments\n",
        "* Post_id\n",
        "\n",
        "While these were the tools to obtain news information, you can also use the “describe_url” function to get details related to websites. For example, we took 3 news URLs, and obtained this information related to them:"
      ],
      "metadata": {
        "id": "6MfhUigVNo9H"
      }
    },
    {
      "cell_type": "code",
      "source": [
        "from newscatcher import describe_url\n",
        "\n",
        "websites = ['nytimes.com', 'cnbc.com', 'cnn.com']\n",
        "\n",
        "for website in websites:\n",
        "   print(describe_url(website))"
      ],
      "metadata": {
        "colab": {
          "base_uri": "https://localhost:8080/"
        },
        "id": "ht7_ygsWO653",
        "outputId": "42dcd6c8-ad45-42e0-935b-b9e621144af8"
      },
      "execution_count": 5,
      "outputs": [
        {
          "output_type": "stream",
          "name": "stdout",
          "text": [
            "{'url': 'nytimes.com', 'language': 'en', 'country': 'None', 'main_topic': 'news', 'topics': ['world', 'travel', 'tech', 'science', 'politics', 'news', 'food', 'finance', 'business']}\n",
            "{'url': 'cnbc.com', 'language': 'en', 'country': 'US', 'main_topic': 'news', 'topics': ['tech', 'sport', 'news', 'finance', 'business']}\n",
            "{'url': 'cnn.com', 'language': 'en', 'country': 'US', 'main_topic': 'news', 'topics': ['world', 'travel', 'tech', 'politics', 'news', 'entertainment', 'business']}\n"
          ]
        }
      ]
    },
    {
      "cell_type": "markdown",
      "source": [
        "You can see how it identified the 2nd and 3rd websites to be of Italian origin and the topics for all 3. Some data points like the country may not be available for all the websites since they are providing services worldwide."
      ],
      "metadata": {
        "id": "0G6rnniBPF9s"
      }
    },
    {
      "cell_type": "code",
      "source": [
        "from newscatcher import Newscatcher\n",
        "\n",
        "nc = Newscatcher(website = 'cnn.com')\n",
        "results = nc.get_news()\n",
        "\n",
        "# results.keys()\n",
        "# 'url', 'topic', 'language', 'country', 'articles'\n",
        "\n",
        "# Get the articles\n",
        "articles = results['articles']\n",
        "\n",
        "first_article_summary = articles[0]['summary']\n",
        "first_article_title = articles[0]['title']\n",
        "\n",
        "nc = Newscatcher(website = 'cnn.com', topic = 'politics')\n",
        "\n",
        "results = nc.get_news()\n",
        "articles = results['articles']\n",
        "\n",
        "\n",
        "from newscatcher import describe_url\n",
        "\n",
        "describe = describe_url('cnn.com')\n",
        "\n",
        "print(describe['topics'])\n"
      ],
      "metadata": {
        "colab": {
          "base_uri": "https://localhost:8080/"
        },
        "id": "pXQvz-faQT1q",
        "outputId": "54be55ea-3b22-4f48-846b-ca2885d985e4"
      },
      "execution_count": 6,
      "outputs": [
        {
          "output_type": "stream",
          "name": "stdout",
          "text": [
            "['world', 'travel', 'tech', 'politics', 'news', 'entertainment', 'business']\n"
          ]
        }
      ]
    }
  ]
}