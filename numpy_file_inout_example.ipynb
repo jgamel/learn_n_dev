{
  "nbformat": 4,
  "nbformat_minor": 0,
  "metadata": {
    "colab": {
      "name": "numpy_file_inout_example.ipynb",
      "provenance": [],
      "collapsed_sections": [],
      "authorship_tag": "ABX9TyPxJYpXslvUtAOihBggy9gs",
      "include_colab_link": true
    },
    "kernelspec": {
      "name": "python3",
      "display_name": "Python 3"
    },
    "language_info": {
      "name": "python"
    }
  },
  "cells": [
    {
      "cell_type": "markdown",
      "metadata": {
        "id": "view-in-github",
        "colab_type": "text"
      },
      "source": [
        "<a href=\"https://colab.research.google.com/github/jgamel/learn_n_dev/blob/python_data_prep_cleaning/numpy_file_inout_example.ipynb\" target=\"_parent\"><img src=\"https://colab.research.google.com/assets/colab-badge.svg\" alt=\"Open In Colab\"/></a>"
      ]
    },
    {
      "cell_type": "markdown",
      "source": [
        "# How to Save a NumPy Array to File for Machine Learning"
      ],
      "metadata": {
        "id": "FwrUsVTBzjQM"
      }
    },
    {
      "cell_type": "markdown",
      "source": [
        "Developing machine learning models in Python often requires the use of NumPy arrays.\n",
        "\n",
        "NumPy arrays are efficient data structures for working with data in Python, and machine learning models like those in the scikit-learn library, and deep learning models like those in the Keras library, expect input data in the format of NumPy arrays and make predictions in the format of NumPy arrays.\n",
        "\n",
        "As such, it is common to need to save NumPy arrays to file.\n",
        "\n",
        "For example, you may prepare your data with transforms like scaling and need to save it to file for later use. You may also use a model to make predictions and need to save the predictions to file for later use.\n",
        "\n",
        "In this tutorial, you will discover how to save your NumPy arrays to file."
      ],
      "metadata": {
        "id": "5yD7BpjBzzRR"
      }
    },
    {
      "cell_type": "markdown",
      "source": [
        "### Example of Saving a NumPy Array to CSV File"
      ],
      "metadata": {
        "id": "fizk4sW90NtK"
      }
    },
    {
      "cell_type": "code",
      "execution_count": 1,
      "metadata": {
        "id": "ODFn0YbJzeN5"
      },
      "outputs": [],
      "source": [
        "# save numpy array as csv file\n",
        "from numpy import asarray\n",
        "from numpy import savetxt\n",
        "# define data\n",
        "data = asarray([[0, 1, 2, 3, 4, 5, 6, 7, 8, 9]])\n",
        "# save to csv file\n",
        "savetxt('/tmp/numpytocsv_example.csv', data, delimiter=',')"
      ]
    },
    {
      "cell_type": "markdown",
      "source": [
        "### Example of Loading a NumPy Array from CSV File"
      ],
      "metadata": {
        "id": "4g0_XkFX14EV"
      }
    },
    {
      "cell_type": "code",
      "source": [
        "# load numpy array from csv file\n",
        "from numpy import loadtxt\n",
        "# load array\n",
        "data = loadtxt('/tmp/numpytocsv_example.csv', delimiter=',')\n",
        "# print the array\n",
        "print(data)"
      ],
      "metadata": {
        "colab": {
          "base_uri": "https://localhost:8080/"
        },
        "id": "i0sMeReQ2Ck7",
        "outputId": "8a428806-adc5-4760-ea1f-a5ae85f9d3ec"
      },
      "execution_count": 2,
      "outputs": [
        {
          "output_type": "stream",
          "name": "stdout",
          "text": [
            "[0. 1. 2. 3. 4. 5. 6. 7. 8. 9.]\n"
          ]
        }
      ]
    }
  ]
}