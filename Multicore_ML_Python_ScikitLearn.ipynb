{
  "nbformat": 4,
  "nbformat_minor": 0,
  "metadata": {
    "colab": {
      "name": "Multicore_ML_Python_ScikitLearn.ipynb",
      "provenance": [],
      "collapsed_sections": [],
      "authorship_tag": "ABX9TyMeI/E0+J1to3zdAmjYTYSg",
      "include_colab_link": true
    },
    "kernelspec": {
      "name": "python3",
      "display_name": "Python 3"
    },
    "language_info": {
      "name": "python"
    }
  },
  "cells": [
    {
      "cell_type": "markdown",
      "metadata": {
        "id": "view-in-github",
        "colab_type": "text"
      },
      "source": [
        "<a href=\"https://colab.research.google.com/github/jgamel/learn_n_dev/blob/python_machine_learning/Multicore_ML_Python_ScikitLearn.ipynb\" target=\"_parent\"><img src=\"https://colab.research.google.com/assets/colab-badge.svg\" alt=\"Open In Colab\"/></a>"
      ]
    },
    {
      "cell_type": "markdown",
      "source": [
        "#Multi-Core Machine Learning in Python With Scikit-Learn"
      ],
      "metadata": {
        "id": "Wu80EHhElhTq"
      }
    },
    {
      "cell_type": "markdown",
      "source": [
        "Many computationally expensive tasks for machine learning can be made parallel by splitting the work across multiple CPU cores, referred to as multi-core processing.\n",
        "\n",
        "Common machine learning tasks that can be made parallel include training models like ensembles of decision trees, evaluating models using resampling procedures like k-fold cross-validation, and tuning model hyperparameters, such as grid and random search.\n",
        "\n",
        "Using multiple cores for common machine learning tasks can dramatically decrease the execution time as a factor of the number of cores available on your system. A common laptop and desktop computer may have 2, 4, or 8 cores. Larger server systems may have 32, 64, or more cores available, allowing machine learning tasks that take hours to be completed in minutes.\n",
        "\n",
        "In this tutorial, you will discover how to configure scikit-learn for multi-core machine learning."
      ],
      "metadata": {
        "id": "PW_lB6uNlkoJ"
      }
    },
    {
      "cell_type": "markdown",
      "source": [
        "This tutorial is divided into five parts; they are:\n",
        "\n",
        "1. [Multi-Core Scikit-Learn](#a1)\n",
        "2. [Multi-Core Model Training](#a2)\n",
        "3. [Multi-Core Model Evaluation](#a3)\n",
        "4. [Multi-Core Hyperparameter Tuning](#a4)\n",
        "5. [Recommendations](#a5)"
      ],
      "metadata": {
        "id": "rxU0UcnJl8ek"
      }
    },
    {
      "cell_type": "markdown",
      "source": [
        "<a name=\"a1\"></a>\n",
        "##Multi-Core Scikit-Learn"
      ],
      "metadata": {
        "id": "hUB1vC3BoZ2Q"
      }
    },
    {
      "cell_type": "markdown",
      "source": [
        "Machine learning can be computationally expensive.\n",
        "\n",
        "There are three main centers of this computational cost; they are:\n",
        "\n",
        "* Training machine learning models.\n",
        "* Evaluating machine learning models.\n",
        "* Hyperparameter tuning machine learning models.\n",
        "\n",
        "Worse, these concerns compound.\n",
        "\n",
        "For example, evaluating machine learning models using a resampling technique like k-fold cross-validation requires that the training process is repeated multiple times.\n",
        "\n",
        "* Evaluation Requires Repeated Training\n",
        "\n",
        "Tuning model hyperparameters compounds this further as it requires the evaluation procedure repeated for each combination of hyperparameters tested.\n",
        "\n",
        "* Tuning Requires Repeated Evaluation\n",
        "\n",
        "Most, if not all, modern computers have multi-core CPUs. This includes your workstation, your laptop, as well as larger servers.\n",
        "\n",
        "You can configure your machine learning models to harness multiple cores of your computer, dramatically speeding up computationally expensive operations.\n",
        "\n",
        "The scikit-learn Python machine learning library provides this capability via the n_jobs argument on key machine learning tasks, such as model training, model evaluation, and hyperparameter tuning.\n",
        "\n",
        "This configuration argument allows you to specify the number of cores to use for the task. The default is None, which will use a single core. You can also specify a number of cores as an integer, such as 1 or 2. Finally, you can specify -1, in which case the task will use all of the cores available on your system.\n",
        "\n",
        "* **n_jobs:** Specify the number of cores to use for key machine learning tasks.\n",
        "\n",
        "Common values are:\n",
        "\n",
        "* **n_jobs=None:** Use a single core or the default configured by your backend library.\n",
        "* **n_jobs=4:** Use the specified number of cores, in this case 4.\n",
        "* **n_jobs=-1:** Use all available cores."
      ],
      "metadata": {
        "id": "nZcJbGFgojUR"
      }
    },
    {
      "cell_type": "markdown",
      "source": [
        "**What is a core?**\n",
        "\n",
        "A CPU may have multiple physical CPU cores, which is essentially like having multiple CPUs. Each core may also have hyper-threading, a technology that under many circumstances allows you to double the number of cores.\n",
        "\n",
        "For example, my workstation has four physical cores, which are doubled to eight cores due to hyper-threading. Therefore, I can experiment with 1-8 cores or specify -1 to use all cores on my workstation.\n",
        "\n",
        "Now that we are familiar with the scikit-learn library’s capability to support multi-core parallel processing for machine learning, let’s work through some examples.\n",
        "\n",
        "You will get different timings for all of the examples in this tutorial; share your results in the comments. You may also need to change the number of cores to match the number of cores on your system.\n",
        "\n",
        "Note: Yes, I am aware of the timeit API, but chose against it for this tutorial. We are not profiling the code examples per se; instead, I want you to focus on how and when to use the multi-core capabilities of scikit-learn and that they offer real benefits. I wanted the code examples to be clean and simple to read, even for beginners. I set it as an extension to update all examples to use the timeit API and get more accurate timings. Share your results in the comments."
      ],
      "metadata": {
        "id": "vV6B7UM5pyfP"
      }
    },
    {
      "cell_type": "markdown",
      "source": [
        "<a name=\"a2\"></a>\n",
        "## Multi-Core Model Training"
      ],
      "metadata": {
        "id": "GFhZGjs1qSLX"
      }
    },
    {
      "cell_type": "markdown",
      "source": [
        "Many machine learning algorithms support multi-core training via an n_jobs argument when the model is defined.\n",
        "\n",
        "This affects not just the training of the model, but also the use of the model when making predictions.\n",
        "\n",
        "A popular example is the ensemble of decision trees, such as bagged decision trees, random forest, and gradient boosting.\n",
        "\n",
        "In this section we will explore accelerating the training of a RandomForestClassifier model using multiple cores. We will use a synthetic classification task for our experiments.\n",
        "\n",
        "In this case, we will define a random forest model with 500 trees and use a single core to train the model.\n",
        "\n",
        "```\n",
        "# define the model\n",
        "model = RandomForestClassifier(n_estimators=500, n_jobs=1)\n",
        "```\n",
        "\n",
        "We can record the time before and after the call to the train() function using the time() function. We can then subtract the start time from the end time and report the execution time in the number of seconds.\n",
        "\n",
        "The complete example of evaluating the execution time of training a random forest model with a single core is listed below."
      ],
      "metadata": {
        "id": "LOLxBLR4qdJK"
      }
    },
    {
      "cell_type": "code",
      "execution_count": 2,
      "metadata": {
        "colab": {
          "base_uri": "https://localhost:8080/"
        },
        "id": "klYKm1oalSVX",
        "outputId": "000c245e-bc88-41ad-e5e9-6f473e38d7c0"
      },
      "outputs": [
        {
          "output_type": "stream",
          "name": "stdout",
          "text": [
            "19.691 seconds\n"
          ]
        }
      ],
      "source": [
        "# example of timing the training of a random forest model on one core\n",
        "from time import time\n",
        "from sklearn.datasets import make_classification\n",
        "from sklearn.ensemble import RandomForestClassifier\n",
        "# define dataset\n",
        "X, y = make_classification(n_samples=10000, n_features=20, n_informative=15, n_redundant=5, random_state=3)\n",
        "# define the model\n",
        "model = RandomForestClassifier(n_estimators=500, n_jobs=1)\n",
        "# record current time\n",
        "start = time()\n",
        "# fit the model\n",
        "model.fit(X, y)\n",
        "# record current time\n",
        "end = time()\n",
        "# report execution time\n",
        "result = end - start\n",
        "print('%.3f seconds' % result)"
      ]
    },
    {
      "cell_type": "markdown",
      "source": [
        "We can now change the example to use all of the physical cores on the system, in this case, four."
      ],
      "metadata": {
        "id": "2cib0lUErIS5"
      }
    },
    {
      "cell_type": "code",
      "source": [
        "# example of timing the training of a random forest model on 4 cores\n",
        "from time import time\n",
        "from sklearn.datasets import make_classification\n",
        "from sklearn.ensemble import RandomForestClassifier\n",
        "# define dataset\n",
        "X, y = make_classification(n_samples=10000, n_features=20, n_informative=15, n_redundant=5, random_state=3)\n",
        "# define the model\n",
        "model = RandomForestClassifier(n_estimators=500, n_jobs=4)\n",
        "# record current time\n",
        "start = time()\n",
        "# fit the model\n",
        "model.fit(X, y)\n",
        "# record current time\n",
        "end = time()\n",
        "# report execution time\n",
        "result = end - start\n",
        "print('%.3f seconds' % result)"
      ],
      "metadata": {
        "colab": {
          "base_uri": "https://localhost:8080/"
        },
        "id": "NfWI3MFYrJK8",
        "outputId": "53509921-3b99-49de-aab5-d13bd9e56083"
      },
      "execution_count": 3,
      "outputs": [
        {
          "output_type": "stream",
          "name": "stdout",
          "text": [
            "13.713 seconds\n"
          ]
        }
      ]
    },
    {
      "cell_type": "markdown",
      "source": [
        "We can now change the number of cores to eight to account for the hyper-threading supported by the four physical cores."
      ],
      "metadata": {
        "id": "TSQXAeUfrWsG"
      }
    },
    {
      "cell_type": "code",
      "source": [
        "# example of timing the training of a random forest model on 8 cores\n",
        "from time import time\n",
        "from sklearn.datasets import make_classification\n",
        "from sklearn.ensemble import RandomForestClassifier\n",
        "# define dataset\n",
        "X, y = make_classification(n_samples=10000, n_features=20, n_informative=15, n_redundant=5, random_state=3)\n",
        "# define the model\n",
        "model = RandomForestClassifier(n_estimators=500, n_jobs=8)\n",
        "# record current time\n",
        "start = time()\n",
        "# fit the model\n",
        "model.fit(X, y)\n",
        "# record current time\n",
        "end = time()\n",
        "# report execution time\n",
        "result = end - start\n",
        "print('%.3f seconds' % result)"
      ],
      "metadata": {
        "colab": {
          "base_uri": "https://localhost:8080/"
        },
        "id": "dDu02isQrXin",
        "outputId": "8a1e653d-7d6a-4567-d2ba-5d6bd3ac397a"
      },
      "execution_count": 4,
      "outputs": [
        {
          "output_type": "stream",
          "name": "stdout",
          "text": [
            "13.871 seconds\n"
          ]
        }
      ]
    },
    {
      "cell_type": "markdown",
      "source": [
        "The complete example is listed below."
      ],
      "metadata": {
        "id": "WPi29mWqrliB"
      }
    },
    {
      "cell_type": "code",
      "source": [
        "# example of comparing number of cores used during training to execution speed\n",
        "from time import time\n",
        "from sklearn.datasets import make_classification\n",
        "from sklearn.ensemble import RandomForestClassifier\n",
        "from matplotlib import pyplot\n",
        "# define dataset\n",
        "X, y = make_classification(n_samples=10000, n_features=20, n_informative=15, n_redundant=5, random_state=3)\n",
        "results = list()\n",
        "# compare timing for number of cores\n",
        "n_cores = [1, 2, 3, 4, 5, 6, 7, 8]\n",
        "for n in n_cores:\n",
        "\t# capture current time\n",
        "\tstart = time()\n",
        "\t# define the model\n",
        "\tmodel = RandomForestClassifier(n_estimators=500, n_jobs=n)\n",
        "\t# fit the model\n",
        "\tmodel.fit(X, y)\n",
        "\t# capture current time\n",
        "\tend = time()\n",
        "\t# store execution time\n",
        "\tresult = end - start\n",
        "\tprint('>cores=%d: %.3f seconds' % (n, result))\n",
        "\tresults.append(result)\n",
        "pyplot.plot(n_cores, results)\n",
        "pyplot.show()"
      ],
      "metadata": {
        "colab": {
          "base_uri": "https://localhost:8080/",
          "height": 408
        },
        "id": "h0wzaKcNrmQk",
        "outputId": "8647745f-32c9-4502-fb9e-4d8cff6fb532"
      },
      "execution_count": 5,
      "outputs": [
        {
          "output_type": "stream",
          "name": "stdout",
          "text": [
            ">cores=1: 21.956 seconds\n",
            ">cores=2: 13.418 seconds\n",
            ">cores=3: 13.525 seconds\n",
            ">cores=4: 13.550 seconds\n",
            ">cores=5: 14.092 seconds\n",
            ">cores=6: 14.220 seconds\n",
            ">cores=7: 13.621 seconds\n",
            ">cores=8: 13.691 seconds\n"
          ]
        },
        {
          "output_type": "display_data",
          "data": {
            "text/plain": [
              "<Figure size 432x288 with 1 Axes>"
            ],
            "image/png": "[encoded data removed]"
          },
          "metadata": {
            "needs_background": "light"
          }
        }
      ]
    },
    {
      "cell_type": "markdown",
      "source": [
        "<a name=\"a3\"></a>\n",
        "##Multi-Core Model Evaluation"
      ],
      "metadata": {
        "id": "uGre2MWIsJ56"
      }
    },
    {
      "cell_type": "markdown",
      "source": [
        "The gold standard for model evaluation is k-fold cross-validation.\n",
        "\n",
        "This is a resampling procedure that requires that the model is trained and evaluated k times on different partitioned subsets of the dataset. The result is an estimate of the performance of a model when making predictions on data not used during training that can be used to compare and select a good or best model for a dataset.\n",
        "\n",
        "In addition, it is also a good practice to repeat this evaluation process multiple times, referred to as repeated k-fold cross-validation.\n",
        "\n",
        "The evaluation procedure can be configured to use multiple cores, where each model training and evaluation happens on a separate core. This can be done by setting the n_jobs argument on the call to cross_val_score() function; for example:\n",
        "\n",
        "We can explore the effect of multiple cores on model evaluation.\n",
        "\n",
        "First, let’s evaluate the model using a single core.\n",
        "\n",
        "```\n",
        "# evaluate the model\n",
        "n_scores = cross_val_score(model, X, y, scoring='accuracy', cv=cv, n_jobs=1)\n",
        "```\n",
        "\n",
        "We will evaluate the random forest model and use a single core in the training of the model (for now).\n",
        "\n",
        "```\n",
        "# define the model\n",
        "model = RandomForestClassifier(n_estimators=100, n_jobs=1)\n",
        "```\n"
      ],
      "metadata": {
        "id": "1if-Jqr0xXkq"
      }
    },
    {
      "cell_type": "code",
      "source": [
        "# example of evaluating a model using a single core\n",
        "from time import time\n",
        "from sklearn.datasets import make_classification\n",
        "from sklearn.model_selection import cross_val_score\n",
        "from sklearn.model_selection import RepeatedStratifiedKFold\n",
        "from sklearn.ensemble import RandomForestClassifier\n",
        "# define dataset\n",
        "X, y = make_classification(n_samples=1000, n_features=20, n_informative=15, n_redundant=5, random_state=3)\n",
        "# define the model\n",
        "model = RandomForestClassifier(n_estimators=100, n_jobs=1)\n",
        "# define the evaluation procedure\n",
        "cv = RepeatedStratifiedKFold(n_splits=10, n_repeats=3, random_state=1)\n",
        "# record current time\n",
        "start = time()\n",
        "# evaluate the model\n",
        "n_scores = cross_val_score(model, X, y, scoring='accuracy', cv=cv, n_jobs=1)\n",
        "# record current time\n",
        "end = time()\n",
        "# report execution time\n",
        "result = end - start\n",
        "print('%.3f seconds' % result)"
      ],
      "metadata": {
        "colab": {
          "base_uri": "https://localhost:8080/"
        },
        "id": "7jh9ndMQxuxn",
        "outputId": "291aff39-a5b6-486a-a67d-07fd29af0e53"
      },
      "execution_count": 6,
      "outputs": [
        {
          "output_type": "stream",
          "name": "stdout",
          "text": [
            "10.660 seconds\n"
          ]
        }
      ]
    },
    {
      "cell_type": "markdown",
      "source": [
        "**Multi Core**"
      ],
      "metadata": {
        "id": "vPz6TRk8x-zU"
      }
    },
    {
      "cell_type": "code",
      "source": [
        "# example of evaluating a model using 8 cores\n",
        "from time import time\n",
        "from sklearn.datasets import make_classification\n",
        "from sklearn.model_selection import cross_val_score\n",
        "from sklearn.model_selection import RepeatedStratifiedKFold\n",
        "from sklearn.ensemble import RandomForestClassifier\n",
        "# define dataset\n",
        "X, y = make_classification(n_samples=1000, n_features=20, n_informative=15, n_redundant=5, random_state=3)\n",
        "# define the model\n",
        "model = RandomForestClassifier(n_estimators=100, n_jobs=1)\n",
        "# define the evaluation procedure\n",
        "cv = RepeatedStratifiedKFold(n_splits=10, n_repeats=3, random_state=1)\n",
        "# record current time\n",
        "start = time()\n",
        "# evaluate the model\n",
        "n_scores = cross_val_score(model, X, y, scoring='accuracy', cv=cv, n_jobs=2)\n",
        "# record current time\n",
        "end = time()\n",
        "# report execution time\n",
        "result = end - start\n",
        "print('%.3f seconds' % result)"
      ],
      "metadata": {
        "colab": {
          "base_uri": "https://localhost:8080/"
        },
        "id": "tBKuF6SsyE2y",
        "outputId": "8943e247-51b3-4427-a56c-e68c3098acda"
      },
      "execution_count": 8,
      "outputs": [
        {
          "output_type": "stream",
          "name": "stdout",
          "text": [
            "8.024 seconds\n"
          ]
        }
      ]
    },
    {
      "cell_type": "markdown",
      "source": [
        "Test and record different number of Cores"
      ],
      "metadata": {
        "id": "TKwhF7Hiyf4h"
      }
    },
    {
      "cell_type": "code",
      "source": [
        "# compare execution speed for model evaluation vs number of cpu cores\n",
        "from time import time\n",
        "from sklearn.datasets import make_classification\n",
        "from sklearn.model_selection import cross_val_score\n",
        "from sklearn.model_selection import RepeatedStratifiedKFold\n",
        "from sklearn.ensemble import RandomForestClassifier\n",
        "from matplotlib import pyplot\n",
        "# define dataset\n",
        "X, y = make_classification(n_samples=1000, n_features=20, n_informative=15, n_redundant=5, random_state=3)\n",
        "results = list()\n",
        "# compare timing for number of cores\n",
        "n_cores = [1, 2, 3, 4, 5, 6, 7, 8]\n",
        "for n in n_cores:\n",
        "\t# define the model\n",
        "\tmodel = RandomForestClassifier(n_estimators=100, n_jobs=1)\n",
        "\t# define the evaluation procedure\n",
        "\tcv = RepeatedStratifiedKFold(n_splits=10, n_repeats=3, random_state=1)\n",
        "\t# record the current time\n",
        "\tstart = time()\n",
        "\t# evaluate the model\n",
        "\tn_scores = cross_val_score(model, X, y, scoring='accuracy', cv=cv, n_jobs=n)\n",
        "\t# record the current time\n",
        "\tend = time()\n",
        "\t# store execution time\n",
        "\tresult = end - start\n",
        "\tprint('>cores=%d: %.3f seconds' % (n, result))\n",
        "\tresults.append(result)\n",
        "pyplot.plot(n_cores, results)\n",
        "pyplot.show()"
      ],
      "metadata": {
        "colab": {
          "base_uri": "https://localhost:8080/",
          "height": 408
        },
        "id": "NZlRINSdycZB",
        "outputId": "e52a4435-2f7a-44c2-a796-e782fcc95375"
      },
      "execution_count": 9,
      "outputs": [
        {
          "output_type": "stream",
          "name": "stdout",
          "text": [
            ">cores=1: 11.655 seconds\n",
            ">cores=2: 7.803 seconds\n",
            ">cores=3: 8.451 seconds\n",
            ">cores=4: 8.761 seconds\n",
            ">cores=5: 8.874 seconds\n",
            ">cores=6: 8.915 seconds\n",
            ">cores=7: 9.182 seconds\n",
            ">cores=8: 9.136 seconds\n"
          ]
        },
        {
          "output_type": "display_data",
          "data": {
            "text/plain": [
              "<Figure size 432x288 with 1 Axes>"
            ],
            "image/png": "[encoded data removed]"
          },
          "metadata": {
            "needs_background": "light"
          }
        }
      ]
    },
    {
      "cell_type": "markdown",
      "source": [
        "We can also make the model training process parallel during the model evaluation procedure.\n",
        "\n",
        "Although this is possible, should we?\n",
        "\n",
        "To explore this question, let’s first consider the case where model training uses all cores and model evaluation uses a single core.\n",
        "\n",
        "```\n",
        "...\n",
        "# define the model\n",
        "model = RandomForestClassifier(n_estimators=100, n_jobs=8)\n",
        "...\n",
        "# evaluate the model\n",
        "n_scores = cross_val_score(model, X, y, scoring='accuracy', cv=cv, n_jobs=1)\n",
        "```\n",
        "\n"
      ],
      "metadata": {
        "id": "Ssihh3xWy6mw"
      }
    },
    {
      "cell_type": "code",
      "source": [
        "# example of using multiple cores for model training but not model evaluation\n",
        "from time import time\n",
        "from sklearn.datasets import make_classification\n",
        "from sklearn.model_selection import cross_val_score\n",
        "from sklearn.model_selection import RepeatedStratifiedKFold\n",
        "from sklearn.ensemble import RandomForestClassifier\n",
        "# define dataset\n",
        "X, y = make_classification(n_samples=1000, n_features=20, n_informative=15, n_redundant=5, random_state=3)\n",
        "# define the model\n",
        "model = RandomForestClassifier(n_estimators=100, n_jobs=8)\n",
        "# define the evaluation procedure\n",
        "cv = RepeatedStratifiedKFold(n_splits=10, n_repeats=3, random_state=1)\n",
        "# record current time\n",
        "start = time()\n",
        "# evaluate the model\n",
        "n_scores = cross_val_score(model, X, y, scoring='accuracy', cv=cv, n_jobs=1)\n",
        "# record current time\n",
        "end = time()\n",
        "# report execution time\n",
        "result = end - start\n",
        "print('%.3f seconds' % result)"
      ],
      "metadata": {
        "colab": {
          "base_uri": "https://localhost:8080/"
        },
        "id": "F7zBnFd6zDWn",
        "outputId": "60e84411-9296-4b43-ddb4-f89b6e477ca2"
      },
      "execution_count": 10,
      "outputs": [
        {
          "output_type": "stream",
          "name": "stdout",
          "text": [
            "17.532 seconds\n"
          ]
        }
      ]
    },
    {
      "cell_type": "markdown",
      "source": [
        "What if we split the number of cores between the training and evaluation procedures?"
      ],
      "metadata": {
        "id": "Xfza5asqzNs3"
      }
    },
    {
      "cell_type": "code",
      "source": [
        "# example of using multiple cores for model training and evaluation\n",
        "from time import time\n",
        "from sklearn.datasets import make_classification\n",
        "from sklearn.model_selection import cross_val_score\n",
        "from sklearn.model_selection import RepeatedStratifiedKFold\n",
        "from sklearn.ensemble import RandomForestClassifier\n",
        "# define dataset\n",
        "X, y = make_classification(n_samples=1000, n_features=20, n_informative=15, n_redundant=5, random_state=3)\n",
        "# define the model\n",
        "model = RandomForestClassifier(n_estimators=100, n_jobs=8)\n",
        "# define the evaluation procedure\n",
        "cv = RepeatedStratifiedKFold(n_splits=10, n_repeats=3, random_state=4)\n",
        "# record current time\n",
        "start = time()\n",
        "# evaluate the model\n",
        "n_scores = cross_val_score(model, X, y, scoring='accuracy', cv=cv, n_jobs=4)\n",
        "# record current time\n",
        "end = time()\n",
        "# report execution time\n",
        "result = end - start\n",
        "print('%.3f seconds' % result)"
      ],
      "metadata": {
        "colab": {
          "base_uri": "https://localhost:8080/"
        },
        "id": "LlZWJ-_CzOcy",
        "outputId": "d5b54e09-3d9c-4e2d-a8d9-df8116dfc6a9"
      },
      "execution_count": 11,
      "outputs": [
        {
          "output_type": "stream",
          "name": "stdout",
          "text": [
            "9.364 seconds\n"
          ]
        }
      ]
    },
    {
      "cell_type": "markdown",
      "source": [
        "We can see an improvement over training with all cores and evaluating with one core, but at least for this model on this dataset, it is more efficient to use all cores for model evaluation and a single core for model training."
      ],
      "metadata": {
        "id": "j1Jvi2_Ezc79"
      }
    },
    {
      "cell_type": "markdown",
      "source": [
        "<a name=\"a4\"></a>\n",
        "## Multi-Core Hyperparameter Tuning"
      ],
      "metadata": {
        "id": "wX0j0E32zeS9"
      }
    },
    {
      "cell_type": "markdown",
      "source": [
        "It is common to tune the hyperparameters of a machine learning model using a grid search or a random search.\n",
        "\n",
        "The scikit-learn library provides these capabilities via the GridSearchCV and RandomizedSearchCV classes respectively.\n",
        "\n",
        "Both of these search procedures can be made parallel by setting the n_jobs argument, assigning each hyperparameter configuration to a core for evaluation.\n",
        "\n",
        "The model evaluation itself could also be multi-core, as we saw in the previous section, and the model training for a given evaluation can also be training as we saw in the second before that. Therefore, the stack of potentially multi-core processes is starting to get challenging to configure.\n",
        "\n",
        "In this specific implementation, we can make the model training parallel, but we don’t have control over how each model hyperparameter and how each model evaluation is made multi-core. The documentation is not clear at the time of writing, but I would guess that each model evaluation using a single core hyperparameter configuration is split into jobs.\n",
        "\n",
        "Let’s explore the benefits of performing model hyperparameter tuning using multiple cores.\n",
        "\n",
        "First, let’s evaluate a grid of different configurations of the random forest algorithm using a single core."
      ],
      "metadata": {
        "id": "upvu7hhXzm78"
      }
    },
    {
      "cell_type": "code",
      "source": [
        "# example of tuning model hyperparameters with a single core\n",
        "from time import time\n",
        "from sklearn.datasets import make_classification\n",
        "from sklearn.model_selection import RepeatedStratifiedKFold\n",
        "from sklearn.ensemble import RandomForestClassifier\n",
        "from sklearn.model_selection import GridSearchCV\n",
        "# define dataset\n",
        "X, y = make_classification(n_samples=1000, n_features=20, n_informative=15, n_redundant=5, random_state=3)\n",
        "# define the model\n",
        "model = RandomForestClassifier(n_estimators=100, n_jobs=1)\n",
        "# define the evaluation procedure\n",
        "cv = RepeatedStratifiedKFold(n_splits=10, n_repeats=3, random_state=1)\n",
        "# define grid\n",
        "grid = dict()\n",
        "grid['max_features'] = [1, 2, 3, 4, 5]\n",
        "# define grid search\n",
        "search = GridSearchCV(model, grid, n_jobs=1, cv=cv)\n",
        "# record current time\n",
        "start = time()\n",
        "# perform search\n",
        "search.fit(X, y)\n",
        "# record current time\n",
        "end = time()\n",
        "# report execution time\n",
        "result = end - start\n",
        "print('%.3f seconds' % result)"
      ],
      "metadata": {
        "colab": {
          "base_uri": "https://localhost:8080/"
        },
        "id": "eLio1bowzw_A",
        "outputId": "75611a3e-3768-419e-b284-5e53361aabb9"
      },
      "execution_count": 12,
      "outputs": [
        {
          "output_type": "stream",
          "name": "stdout",
          "text": [
            "47.615 seconds\n"
          ]
        }
      ]
    },
    {
      "cell_type": "markdown",
      "source": [
        "Running the example tests different values of the max_features configuration for random forest, where each configuration is evaluated using repeated k-fold cross-validation.\n",
        "\n",
        "We can now configure the grid search to use all available cores on the system."
      ],
      "metadata": {
        "id": "n4GT2Nff0IF8"
      }
    },
    {
      "cell_type": "code",
      "source": [
        "# example of tuning model hyperparameters with 8 cores\n",
        "from time import time\n",
        "from sklearn.datasets import make_classification\n",
        "from sklearn.model_selection import RepeatedStratifiedKFold\n",
        "from sklearn.ensemble import RandomForestClassifier\n",
        "from sklearn.model_selection import GridSearchCV\n",
        "# define dataset\n",
        "X, y = make_classification(n_samples=1000, n_features=20, n_informative=15, n_redundant=5, random_state=3)\n",
        "# define the model\n",
        "model = RandomForestClassifier(n_estimators=100, n_jobs=1)\n",
        "# define the evaluation procedure\n",
        "cv = RepeatedStratifiedKFold(n_splits=10, n_repeats=3, random_state=1)\n",
        "# define grid\n",
        "grid = dict()\n",
        "grid['max_features'] = [1, 2, 3, 4, 5]\n",
        "# define grid search\n",
        "search = GridSearchCV(model, grid, n_jobs=2, cv=cv)\n",
        "# record current time\n",
        "start = time()\n",
        "# perform search\n",
        "search.fit(X, y)\n",
        "# record current time\n",
        "end = time()\n",
        "# report execution time\n",
        "result = end - start\n",
        "print('%.3f seconds' % result)"
      ],
      "metadata": {
        "colab": {
          "base_uri": "https://localhost:8080/"
        },
        "id": "cm3yG_mV0N34",
        "outputId": "ac3ee222-46ed-4a11-f6e5-2ebb86ee69e9"
      },
      "execution_count": 13,
      "outputs": [
        {
          "output_type": "stream",
          "name": "stdout",
          "text": [
            "35.430 seconds\n"
          ]
        }
      ]
    },
    {
      "cell_type": "markdown",
      "source": [
        "Intuitively, we would expect that making the grid search multi-core should be the focus and not model training.\n",
        "\n",
        "Nevertheless, we can divide the number of cores between model training and the grid search to see if it offers a benefit for this model on this dataset."
      ],
      "metadata": {
        "id": "7DXfjajo0gax"
      }
    },
    {
      "cell_type": "code",
      "source": [
        "# example of multi-core model training and hyperparameter tuning\n",
        "from time import time\n",
        "from sklearn.datasets import make_classification\n",
        "from sklearn.model_selection import RepeatedStratifiedKFold\n",
        "from sklearn.ensemble import RandomForestClassifier\n",
        "from sklearn.model_selection import GridSearchCV\n",
        "# define dataset\n",
        "X, y = make_classification(n_samples=1000, n_features=20, n_informative=15, n_redundant=5, random_state=3)\n",
        "# define the model\n",
        "model = RandomForestClassifier(n_estimators=100, n_jobs=1)\n",
        "# define the evaluation procedure\n",
        "cv = RepeatedStratifiedKFold(n_splits=10, n_repeats=3, random_state=1)\n",
        "# define grid\n",
        "grid = dict()\n",
        "grid['max_features'] = [1, 2, 3, 4, 5]\n",
        "# define grid search\n",
        "search = GridSearchCV(model, grid, n_jobs=1, cv=cv)\n",
        "# record current time\n",
        "start = time()\n",
        "# perform search\n",
        "search.fit(X, y)\n",
        "# record current time\n",
        "end = time()\n",
        "# report execution time\n",
        "result = end - start\n",
        "print('%.3f seconds' % result)"
      ],
      "metadata": {
        "colab": {
          "base_uri": "https://localhost:8080/"
        },
        "id": "8P8tcGx80hBq",
        "outputId": "7f6d2726-ae8a-4f26-e6d7-fcbaa1fc533e"
      },
      "execution_count": 15,
      "outputs": [
        {
          "output_type": "stream",
          "name": "stdout",
          "text": [
            "49.559 seconds\n"
          ]
        }
      ]
    }
  ]
}