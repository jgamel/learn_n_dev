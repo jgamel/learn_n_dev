{
  "nbformat": 4,
  "nbformat_minor": 0,
  "metadata": {
    "colab": {
      "name": "simpy_simulation_coffee_shop_example.ipynb",
      "provenance": [],
      "authorship_tag": "ABX9TyMi+IVOaONxubNXhXjThQdf",
      "include_colab_link": true
    },
    "kernelspec": {
      "name": "python3",
      "display_name": "Python 3"
    },
    "language_info": {
      "name": "python"
    }
  },
  "cells": [
    {
      "cell_type": "markdown",
      "metadata": {
        "id": "view-in-github",
        "colab_type": "text"
      },
      "source": [
        "<a href=\"https://colab.research.google.com/github/jgamel/learn_n_dev/blob/simulation_examples/simpy_simulation_coffee_shop_example.ipynb\" target=\"_parent\"><img src=\"https://colab.research.google.com/assets/colab-badge.svg\" alt=\"Open In Colab\"/></a>"
      ]
    },
    {
      "cell_type": "markdown",
      "source": [
        "# Simulation using SimPy"
      ],
      "metadata": {
        "id": "vXTDZnpIYCi9"
      }
    },
    {
      "cell_type": "markdown",
      "source": [
        "### Coffee shop scenario\n",
        "\n",
        "Coffee shops are generally a popular place to hangout. Starbucks, Colectivo, Anodyne, Stone Creek, etc. are some of the sought-after coffee shops in Milwaukee. It is not just the rejuvenating coffee that attracts customers, but the ambience draws people who want to read, work on their laptops, write, do some deep thinking, carry on conversation, or just relax. However, sometimes getting a cup of coffee can take a long wait. Coffee shops try to minimize the wait times so that customers leave satisfied.\n",
        "\n",
        "In this tutorial we will simulate a simple coffee shop. The purpose of this simulation is to see how the number of cashiers and baristas affect the wait times of customers. We will use Python with some relevant libraries to model this simulation.\n",
        "\n",
        "When a customer arrives they go to the cashier to place the order and make the payment. The cashier accepts payments through cash or cards. It generally takes 15 to 30 seconds to service a payment by cash and 10 to 20 seconds to service a payment by card. Once the payment is made the item is prepared by the barista. The items on order are: Regular Coffee (10-15), Latte (30-45), Mocha (30-45), Cold Brew (10-20), Frappe (50-70), and Espresso (20-35). The numbers in brackets indicate how many seconds it takes to prepare the item. When the item is ready the customer picks up the order."
      ],
      "metadata": {
        "id": "xWdXJADJYH02"
      }
    },
    {
      "cell_type": "markdown",
      "source": [
        "### How long will the wait be?\n",
        "\n",
        "There are two wait periods in the above process. The first is the queue at the cashier and the second is the queue at the barista. The wait times at both the queues depend on the number of cashiers and baristas at work. More the number of cashiers and baristas, shorter will be the wait time. However, economic factors would stipulate that the shop could employ only a certain number of staff. This balance between number of staff and customer wait times is important for customer satisfaction as well as business viability."
      ],
      "metadata": {
        "id": "-3Rwy_bFYXyD"
      }
    },
    {
      "cell_type": "markdown",
      "source": [
        "### Modules\n",
        "\n",
        "In this simulation tutorial we will use random for generating random numbers that correspond to customer traffic, etc., and SimPy to model the simulation. Finally, we will use MatPlotLib to plot the results of the simulation."
      ],
      "metadata": {
        "id": "gEA-5D5Drmy6"
      }
    },
    {
      "cell_type": "code",
      "execution_count": 7,
      "metadata": {
        "id": "yG_8N3dkyGGB"
      },
      "outputs": [],
      "source": [
        "import random\n"
      ]
    },
    {
      "cell_type": "markdown",
      "source": [
        "SimPy is a simulation library for Python. It is object-oriented and allows for process based discrete-event simulation. "
      ],
      "metadata": {
        "id": "JyN7qd2QsNhw"
      }
    },
    {
      "cell_type": "code",
      "source": [
        "!pip install simpy"
      ],
      "metadata": {
        "colab": {
          "base_uri": "https://localhost:8080/"
        },
        "id": "C9HDxmgR9izB",
        "outputId": "90ac880f-8e4c-44af-8af1-c556ef04b694"
      },
      "execution_count": 4,
      "outputs": [
        {
          "output_type": "stream",
          "name": "stdout",
          "text": [
            "Collecting simpy\n",
            "  Downloading simpy-4.0.1-py2.py3-none-any.whl (29 kB)\n",
            "Installing collected packages: simpy\n",
            "Successfully installed simpy-4.0.1\n"
          ]
        }
      ]
    },
    {
      "cell_type": "code",
      "source": [
        "import simpy"
      ],
      "metadata": {
        "id": "bK3RwgWB9nAX"
      },
      "execution_count": 5,
      "outputs": []
    },
    {
      "cell_type": "markdown",
      "source": [
        "SimPy models execute in an environment. Models comprise of processes which correspond to active components like customers in a shop, aircrafts in an airport, vehicles in a parking lot, etc. Processes interact with each other and the environment through events using the yield mechanism. Processes get suspended when they yield an event and resume when the event occurs. One of the important event types is the timeout. Timeouts are triggered after a user-defined amount of time has passed. This allows the process to sleep or hold its state for the given time. Events make use of resources which correspond to check-out counters in a shop, runways in an airport, parking spots in a lot, etc. Resources may be finite or infinite.\n",
        "\n",
        "Processes request resources during an event and release them when they are done. If resources are not available when requested, the process joins a queue and waits for the next available resource. There are two other kinds of resources called level, and store. These are used when we want to keep track of quantities that are being consumed by processes during events. An example for level would be the total amount of gasoline in the gas station. Whenever vehicles fill gas, the level of gasoline decreases. This can be factored in a simulation. A store tracks the production and consumption of items of multiple types."
      ],
      "metadata": {
        "id": "sNEK0NuasaeI"
      }
    },
    {
      "cell_type": "markdown",
      "source": [
        "Data generated during the simulation can be collected using a monitor. You can read more about [SimPy](https://simpy.readthedocs.io/en/latest/index.html)."
      ],
      "metadata": {
        "id": "nvmjLlgLsgHq"
      }
    },
    {
      "cell_type": "markdown",
      "source": [
        "Here are some of the commands that we will be using:\n",
        "\n",
        "* Import the library: import simpy\n",
        "* Create the environment: env = simpy.Environment()\n",
        "* Define a resource called cashier (with 2 cashiers): cashier = simpy.Resource(env, 2)\n",
        "* Generate a random number to indicate payment by cash or card (1=cash; 2=card): payment_type = random.randint(1,2)\n",
        "* Yield a timeout event (to prepare the coffee): yield env.timeout(time_to_prepare)\n",
        "* Start the process to generate customers: env.process(generate_customer(env, cashier, barista))"
      ],
      "metadata": {
        "id": "tgbJnsPqspZj"
      }
    },
    {
      "cell_type": "markdown",
      "source": [
        "### The simulation\n",
        "We begin by importing the required libraries and initializing variables and constants:"
      ],
      "metadata": {
        "id": "XlkgC707s0BP"
      }
    },
    {
      "cell_type": "code",
      "source": [
        "import simpy\n",
        "import random\n",
        "import numpy\n",
        "\n",
        "NO_OF_CUSTOMERS = 20                          \n",
        "NO_OF_CASHIERS = 2\n",
        "NO_OF_BARISTAS = 3\n",
        "\n",
        "menu = {1:[\"Regular Coffee\",10,15], 2:[\"Latte\",30,45], \n",
        "        3:[\"Mocha\",30,45], 4:[\"Cold Brew\",10,20], 5:[\"Frappe\",50,70], \n",
        "        6:[\"Espresso\",20,35]}\n",
        "payment_options = {1:[\"Cash\",15,30], 2:[\"Card\",10,20]}\n",
        "\n",
        "payment_wait_time = []  #list to hold the time until a cashier is available\n",
        "payment_time = []       #list to hold the time taken to make payments\n",
        "order_wait_time = []    #list to hold te time until a barista is available\n",
        "order_time = []         #list to hold the time taken to prepare the order"
      ],
      "metadata": {
        "id": "IrZQ2yTws8RK"
      },
      "execution_count": 8,
      "outputs": []
    },
    {
      "cell_type": "markdown",
      "source": [
        "We are simulating for 20 customers and a coffee shop with 2 cashiers and 3 baristas. menu is a dictionary that contains the items that may be ordered and their preparation time ranges. payment_options is a dictionary that contains the options for making the payment and the time range it takes to process the payment.\n",
        "\n",
        "We create four lists (payment_wait_time,payment_time, order_wait_time, and order_time) to keep track of the time a customer has to wait until a cashier is available, time it takes for a customer to order, the time until a barista is available, and the time to get the order prepared.\n",
        "\n",
        "This simulation involves two processes. The first is a process to generate customers at a given frequency. The second process is the customer itself with two events: making a payment, and collecting the order. Making the payment involves the cashier resource and collecting the order involves the barista resource."
      ],
      "metadata": {
        "id": "xPgj9RrGtMju"
      }
    },
    {
      "cell_type": "code",
      "source": [
        "def generate_customer(env, cashier, barista):\n",
        "    for i in range(NO_OF_CUSTOMERS):\n",
        "        yield env.timeout(random.randint(1,20))\n",
        "        env.process(customer(env, i, cashier, barista))"
      ],
      "metadata": {
        "id": "Z5LfR16YtNUW"
      },
      "execution_count": 9,
      "outputs": []
    },
    {
      "cell_type": "markdown",
      "source": [
        "generate-customer waits between 1 to 20 seconds before generating a customer. The timeout event uses the random.randint(1,20) function call which returns a number between 1 and 20 using the uniform distribution. Once a customer is generated, the customer process is called. We will use other distributions to better replicate the arrival times of customers in the next tutorial."
      ],
      "metadata": {
        "id": "6tn-AVyLtZyn"
      }
    },
    {
      "cell_type": "code",
      "source": [
        "def customer(env, name, cashier, barista):\n",
        "    print(\"Customer %s arrived at time %.1f\" % (name, env.now))\n",
        "    with cashier.request() as req:\n",
        "        start_cq = env.now\n",
        "        yield req\n",
        "        payment_wait_time.append(env.now-start_cq)\n",
        "        menu_item = random.randint(1,6)\n",
        "        payment_type = random.randint(1,2)\n",
        "        time_to_order = random.randint(payment_options[payment_type][1],            payment_options[payment_type][2])\n",
        "        payment_name = payment_options[payment_type][0]\n",
        "        yield env.timeout(time_to_order)\n",
        "        print(\"> > > Customer %s finished paying by %s in %.1f seconds\" % (name, payment_name, env.now-start_cq))\n",
        "        payment_time.append(env.now-start_cq)\n",
        "        \n",
        "    with barista.request() as req:\n",
        "        start_bq = env.now\n",
        "        yield req\n",
        "        order_wait_time.append(env.now-start_bq)        \n",
        "        time_to_prepare = random.randint(menu[menu_item][1], menu[menu_item][2])\n",
        "        item_name = menu[menu_item][0]\n",
        "        yield env.timeout(time_to_prepare)\n",
        "        print(\">> >> >> Customer %s served %s in %.1f seconds\" % (name, item_name, env.now-start_cq))\n",
        "        order_time.append(env.now-start_cq)"
      ],
      "metadata": {
        "id": "zuDqB8eCtbc_"
      },
      "execution_count": 10,
      "outputs": []
    },
    {
      "cell_type": "markdown",
      "source": [
        "The customer process first prints the customer number and arrival time. env.now returns the current time in seconds since start of the simulation. The start_cq variable holds the time the customer arrived at the coffee shop. When the customer arrives, they make a request for the cashier resource using yield req (note that req is defined with the with statement). When the req is made available (that is, the customer reaches the cashier counter), we randomly choose an item from the menu to order and a payment type. Both these random numbers are drawn using uniform distribution.\n",
        "\n",
        "Based on the payment type, we randomly determine the time it takes for the customer to make the payment using the time range we set for each payment type. We timeout for that duration and then print how much time since arrival it took to complete making the payment.\n",
        "\n",
        "Next a request is made for a barista and start_bq holds the time the customer has to wait until a barista begins preparing their order. When the barista is available, a timeout is marked while the order is prepared. This random time duration is from the uniform distribution depending on the time range of the particular item ordered. Once the item is prepared, the time taken is printed and the customer gets the item ordered.\n",
        "\n",
        "Next we define the environment and resources and start the process of generating customers. The environment is run for 300 seconds."
      ],
      "metadata": {
        "id": "KHaRPxlrt0cs"
      }
    },
    {
      "cell_type": "code",
      "source": [
        "env = simpy.Environment()\n",
        "cashier = simpy.Resource(env, NO_OF_CASHIERS)\n",
        "barista = simpy.Resource(env, NO_OF_BARISTAS)\n",
        "\n",
        "env.process(generate_customer(env, cashier, barista))\n",
        "env.run(until=400)"
      ],
      "metadata": {
        "colab": {
          "base_uri": "https://localhost:8080/"
        },
        "id": "S9Jh7C0QtzsL",
        "outputId": "4a9396bc-b5f8-4572-fa29-86b30842d7cc"
      },
      "execution_count": 11,
      "outputs": [
        {
          "output_type": "stream",
          "name": "stdout",
          "text": [
            "Customer 0 arrived at time 20.0\n",
            "> > > Customer 0 finished paying by Card in 13.0 seconds\n",
            "Customer 1 arrived at time 35.0\n",
            "Customer 2 arrived at time 49.0\n",
            "Customer 3 arrived at time 52.0\n",
            "Customer 4 arrived at time 54.0\n",
            "> > > Customer 1 finished paying by Cash in 21.0 seconds\n",
            ">> >> >> Customer 0 served Mocha in 44.0 seconds\n",
            "> > > Customer 2 finished paying by Cash in 16.0 seconds\n",
            "Customer 5 arrived at time 66.0\n",
            "> > > Customer 3 finished paying by Card in 15.0 seconds\n",
            "Customer 6 arrived at time 69.0\n",
            ">> >> >> Customer 1 served Cold Brew in 38.0 seconds\n",
            ">> >> >> Customer 2 served Cold Brew in 28.0 seconds\n",
            "Customer 7 arrived at time 77.0\n",
            "> > > Customer 5 finished paying by Card in 12.0 seconds\n",
            ">> >> >> Customer 3 served Regular Coffee in 28.0 seconds\n",
            "> > > Customer 4 finished paying by Card in 29.0 seconds\n",
            "Customer 8 arrived at time 93.0\n",
            ">> >> >> Customer 5 served Regular Coffee in 27.0 seconds\n",
            "> > > Customer 6 finished paying by Cash in 27.0 seconds\n",
            "Customer 9 arrived at time 97.0\n",
            "> > > Customer 7 finished paying by Cash in 33.0 seconds\n",
            ">> >> >> Customer 6 served Cold Brew in 44.0 seconds\n",
            "> > > Customer 8 finished paying by Cash in 24.0 seconds\n",
            "Customer 10 arrived at time 117.0\n",
            "> > > Customer 9 finished paying by Card in 24.0 seconds\n",
            "Customer 11 arrived at time 133.0\n",
            "Customer 12 arrived at time 140.0\n",
            "> > > Customer 10 finished paying by Cash in 25.0 seconds\n",
            ">> >> >> Customer 4 served Frappe in 93.0 seconds\n",
            "Customer 13 arrived at time 150.0\n",
            "> > > Customer 11 finished paying by Cash in 20.0 seconds\n",
            "> > > Customer 12 finished paying by Card in 13.0 seconds\n",
            ">> >> >> Customer 8 served Latte in 69.0 seconds\n",
            "Customer 14 arrived at time 163.0\n",
            "> > > Customer 14 finished paying by Card in 13.0 seconds\n",
            ">> >> >> Customer 7 served Frappe in 100.0 seconds\n",
            "> > > Customer 13 finished paying by Cash in 29.0 seconds\n",
            "Customer 15 arrived at time 180.0\n",
            ">> >> >> Customer 9 served Latte in 84.0 seconds\n",
            "Customer 16 arrived at time 188.0\n",
            "> > > Customer 15 finished paying by Cash in 17.0 seconds\n",
            ">> >> >> Customer 10 served Mocha in 82.0 seconds\n",
            "> > > Customer 16 finished paying by Card in 13.0 seconds\n",
            "Customer 17 arrived at time 202.0\n",
            ">> >> >> Customer 11 served Mocha in 83.0 seconds\n",
            "Customer 18 arrived at time 217.0\n",
            "> > > Customer 17 finished paying by Cash in 22.0 seconds\n",
            ">> >> >> Customer 14 served Espresso in 68.0 seconds\n",
            ">> >> >> Customer 12 served Frappe in 92.0 seconds\n",
            "Customer 19 arrived at time 232.0\n",
            ">> >> >> Customer 15 served Regular Coffee in 61.0 seconds\n",
            ">> >> >> Customer 13 served Espresso in 92.0 seconds\n",
            "> > > Customer 19 finished paying by Card in 10.0 seconds\n",
            "> > > Customer 18 finished paying by Cash in 29.0 seconds\n",
            ">> >> >> Customer 19 served Cold Brew in 28.0 seconds\n",
            ">> >> >> Customer 16 served Mocha in 77.0 seconds\n",
            ">> >> >> Customer 17 served Mocha in 70.0 seconds\n",
            ">> >> >> Customer 18 served Espresso in 65.0 seconds\n"
          ]
        }
      ]
    },
    {
      "cell_type": "markdown",
      "source": [
        "Finally, we print the average time it takes for customers to pay and get the order serviced."
      ],
      "metadata": {
        "id": "rCzy9btyuMrz"
      }
    },
    {
      "cell_type": "code",
      "source": [
        "print(\"\\n\\nWITH %s CASHIERS and %s BARISTAS and %s SERIALLY ARRIVING CUSTOMERS...\" % (NO_OF_CASHIERS, NO_OF_BARISTAS, NO_OF_CUSTOMERS))\n",
        "print(\"Average wait time in payment queue: %.1f seconds.\" % (numpy.mean(payment_wait_time)))\n",
        "print(\"Average time until making the payment: %.1f seconds.\" % (numpy.mean(payment_time)))\n",
        "print(\"Average wait time in order queue: %.1f seconds.\" % (numpy.mean(order_wait_time)))\n",
        "print(\"Average time until order is serviced: %.1f seconds.\" % (numpy.mean(order_time)))"
      ],
      "metadata": {
        "colab": {
          "base_uri": "https://localhost:8080/"
        },
        "id": "RhK10q2DuNxv",
        "outputId": "9d175d06-c12e-4a91-8301-e8bc11abbc43"
      },
      "execution_count": 12,
      "outputs": [
        {
          "output_type": "stream",
          "name": "stdout",
          "text": [
            "\n",
            "\n",
            "WITH 2 CASHIERS and 3 BARISTAS and 20 SERIALLY ARRIVING CUSTOMERS...\n",
            "Average wait time in payment queue: 2.6 seconds.\n",
            "Average time until making the payment: 20.2 seconds.\n",
            "Average wait time in order queue: 12.7 seconds.\n",
            "Average time until order is serviced: 63.6 seconds.\n"
          ]
        }
      ]
    },
    {
      "cell_type": "markdown",
      "source": [
        "To obtain meaningful results any simulation has to be run multiple times. On running the above program ten times, the following results were obtained. (all times in seconds)\n",
        "\n",
        "payment_wait_time\tpayment_time\torder_wait_time\torder_time\n",
        "\n",
        "0\t5.90\t25.85\t15.45\t79.85\n",
        "\n",
        "1\t16.25\t35.80\t16.45\t89.50\n",
        "\n",
        "2\t5.40\t23.30\t1.65\t52.80\n",
        "\n",
        "3\t0.85\t19.50\t5.70\t58.05\n",
        "\n",
        "4\t0.90\t18.25\t3.25\t49.00\n",
        "\n",
        "5\t1.65\t20.50\t4.50\t53.10\n",
        "\n",
        "6\t9.80\t29.90\t25.05\t97.15\n",
        "\n",
        "7\t18.30\t38.15\t17.20\t85.65\n",
        "\n",
        "8\t4.35\t24.60\t1.50\t57.25\n",
        "\n",
        "9\t4.05\t21.75\t8.55\t64.95\n",
        "\n",
        "The averages of the above 10 runs are as follows:\n",
        "\n",
        "payment_wait_time = 6.75 seconds\n",
        "payment_time = 25.76 seconds\n",
        "order_wait_time = 9.93 seconds\n",
        "order_time = 68.73 seconds\n",
        "Repeating the entire above process with one additional barista (NO_OF_BARISTAS = 4) resulted in the following average times. As expected, there is a shorter wait time for the order.\n",
        "\n",
        "payment_wait_time =4.43 seconds\n",
        "payment_time = 23.14 seconds\n",
        "order_wait_time = 1.26 seconds\n",
        "order_time = 58.89 seconds\n",
        "The above code can be re-run with different values for NO_OF_CASHIERS and NO_OF_BARISTAS to see its impact on wait times. If the number of customers is increased, a suitable increase should also be made in the simulation run time (env.run(until=xxx) where xxx is the time in seconds) .\n",
        "\n",
        "In the next tutorial we will explore other distributions from which we can sample random customer generation. We will also look at how we can plot the time taken for payments and order processing."
      ],
      "metadata": {
        "id": "vNs4sCAhusRL"
      }
    }
  ]
}