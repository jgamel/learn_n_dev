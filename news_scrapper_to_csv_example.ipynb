{
  "nbformat": 4,
  "nbformat_minor": 0,
  "metadata": {
    "colab": {
      "name": "news_scrapper_to_csv_example.ipynb",
      "provenance": [],
      "collapsed_sections": [],
      "authorship_tag": "ABX9TyP54Uz1kGD6RIt64VBJHAvT",
      "include_colab_link": true
    },
    "kernelspec": {
      "name": "python3",
      "display_name": "Python 3"
    },
    "language_info": {
      "name": "python"
    }
  },
  "cells": [
    {
      "cell_type": "markdown",
      "metadata": {
        "id": "view-in-github",
        "colab_type": "text"
      },
      "source": [
        "<a href=\"https://colab.research.google.com/github/jgamel/learn_n_dev/blob/python_web_scrapping/news_scrapper_to_csv_example.ipynb\" target=\"_parent\"><img src=\"https://colab.research.google.com/assets/colab-badge.svg\" alt=\"Open In Colab\"/></a>"
      ]
    },
    {
      "cell_type": "code",
      "source": [
        "import requests\n",
        "import pandas as pd\n",
        "from bs4 import BeautifulSoup\n",
        "from datetime import date\n",
        "today = date.today()\n",
        "d = today.strftime(\"%m-%d-%y\")\n",
        "print(\"date =\" ,d)\n"
      ],
      "metadata": {
        "colab": {
          "base_uri": "https://localhost:8080/"
        },
        "id": "zUfrssqBwTZO",
        "outputId": "948b37a9-b3a1-49bc-b395-3b34847bb009"
      },
      "execution_count": 1,
      "outputs": [
        {
          "output_type": "stream",
          "name": "stdout",
          "text": [
            "date = 05-05-22\n"
          ]
        }
      ]
    },
    {
      "cell_type": "code",
      "source": [
        "nbc_business = \"https://www.nbcnews.com/politics\"\n",
        "res = requests.get(nbc_business)\n",
        "soup = BeautifulSoup(res.content, 'html.parser')"
      ],
      "metadata": {
        "id": "kVuITdPfxt0h"
      },
      "execution_count": 2,
      "outputs": []
    },
    {
      "cell_type": "code",
      "source": [
        "headlines = soup.find_all('span',{'class':'tease-card__headline'})\n",
        "len(headlines)\n",
        "for i in range(len(headlines)):\n",
        "  print(headlines[i].text)"
      ],
      "metadata": {
        "colab": {
          "base_uri": "https://localhost:8080/"
        },
        "id": "WHq8L5KGxzAr",
        "outputId": "1d4232a8-f28c-457a-80e3-aa2d3171c272"
      },
      "execution_count": 3,
      "outputs": [
        {
          "output_type": "stream",
          "name": "stdout",
          "text": [
            "Former Supreme Court staffers say leak likely came from a clerk\n",
            "Ukraine is asking Biden admin for anti-ship missiles, drones and rocket launchers, says congressman\n",
            "Donald Trump Jr. testifies before House panel probing Jan. 6 riot\n"
          ]
        }
      ]
    },
    {
      "cell_type": "code",
      "source": [
        "data_nbc = pd.DataFrame(headlines)\n",
        "data_nbc.to_csv(\"/tmp/nbc_business.csv\", index= True)"
      ],
      "metadata": {
        "id": "klaC5iLRz7ao"
      },
      "execution_count": 4,
      "outputs": []
    },
    {
      "cell_type": "code",
      "source": [
        "# Python program to read CSV file line by line\n",
        "# import necessary packages\n",
        "import csv\n",
        "\n",
        "# Open file\n",
        "with open('/tmp/nbc_business.csv') as file_obj:\n",
        "\t\n",
        "\t# Create reader object by passing the file\n",
        "\t# object to reader method\n",
        "\treader_obj = csv.reader(file_obj)\n",
        "\t\n",
        "\t# Iterate over each row in the csv\n",
        "\t# file using reader object\n",
        "\tfor row in reader_obj:\n",
        "\t\tprint(row)\n"
      ],
      "metadata": {
        "id": "m7sRJhjqwv3C",
        "outputId": "888c30f3-7369-48af-fe9c-cc82123b878d",
        "colab": {
          "base_uri": "https://localhost:8080/"
        }
      },
      "execution_count": 5,
      "outputs": [
        {
          "output_type": "stream",
          "name": "stdout",
          "text": [
            "['', '0']\n",
            "['0', 'Former Supreme Court staffers say leak likely came from a clerk']\n",
            "['1', 'Ukraine is asking Biden admin for anti-ship missiles, drones and rocket launchers, says congressman']\n",
            "['2', 'Donald Trump Jr. testifies before House panel probing Jan. 6 riot']\n"
          ]
        }
      ]
    }
  ]
}