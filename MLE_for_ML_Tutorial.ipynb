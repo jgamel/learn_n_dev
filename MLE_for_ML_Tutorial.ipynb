{
  "nbformat": 4,
  "nbformat_minor": 0,
  "metadata": {
    "colab": {
      "name": "MLE_for_ML_Tutorial.ipynb",
      "provenance": [],
      "collapsed_sections": [],
      "authorship_tag": "ABX9TyN5MhCOedIH2yanCAEhebes",
      "include_colab_link": true
    },
    "kernelspec": {
      "name": "python3",
      "display_name": "Python 3"
    },
    "language_info": {
      "name": "python"
    }
  },
  "cells": [
    {
      "cell_type": "markdown",
      "metadata": {
        "id": "view-in-github",
        "colab_type": "text"
      },
      "source": [
        "<a href=\"https://colab.research.google.com/github/jgamel/learn_n_dev/blob/python_machine_learning/MLE_for_ML_Tutorial.ipynb\" target=\"_parent\"><img src=\"https://colab.research.google.com/assets/colab-badge.svg\" alt=\"Open In Colab\"/></a>"
      ]
    },
    {
      "cell_type": "markdown",
      "source": [
        "# Maximum Likelihood Estimation for Machine Learning"
      ],
      "metadata": {
        "id": "Oq9RYMSxL6xI"
      }
    },
    {
      "cell_type": "markdown",
      "source": [
        "Density estimation is the problem of estimating the probability distribution for a sample of observations from a problem domain.\n",
        "\n",
        "There are many techniques for solving density estimation, although a common framework used throughout the field of machine learning is maximum likelihood estimation. Maximum likelihood estimation involves defining a likelihood function for calculating the conditional probability of observing the data sample given a probability distribution and distribution parameters. This approach can be used to search a space of possible distributions and parameters.\n",
        "\n",
        "This flexible probabilistic framework also provides the foundation for many machine learning algorithms, including important methods such as linear regression and logistic regression for predicting numeric values and class labels respectively, but also more generally for deep learning artificial neural networks.\n",
        "\n"
      ],
      "metadata": {
        "id": "s4XBN0avMSbv"
      }
    },
    {
      "cell_type": "markdown",
      "source": [
        "In this script:\n",
        "\n",
        "* Maximum Likelihood Estimation is a probabilistic framework for solving the problem of density estimation.\n",
        "* It involves maximizing a likelihood function in order to find the probability distribution and parameters that best explain the observed data.\n",
        "* It provides a framework for predictive modeling in machine learning where finding model parameters can be framed as an optimization problem."
      ],
      "metadata": {
        "id": "VDAHC0E_MVU4"
      }
    },
    {
      "cell_type": "markdown",
      "source": [
        "### Problem of Probability Density Estimation"
      ],
      "metadata": {
        "id": "7Nkc4WNxMdk9"
      }
    },
    {
      "cell_type": "markdown",
      "source": [
        "A common modeling problem involves how to estimate a joint probability distribution for a dataset.\n",
        "\n",
        "For example, given a sample of observation (X) from a domain (x1, x2, x3, …, xn), where each observation is drawn independently from the domain with the same probability distribution (so-called independent and identically distributed, i.i.d., or close to it).\n",
        "\n",
        "Density estimation involves selecting a probability distribution function and the parameters of that distribution that best explain the joint probability distribution of the observed data (X).\n",
        "\n",
        "* How do you choose the probability distribution function?\n",
        "* How do you choose the parameters for the probability distribution function?\n",
        "\n",
        "This problem is made more challenging as sample (X) drawn from the population is small and has noise, meaning that any evaluation of an estimated probability density function and its parameters will have some error.\n",
        "\n",
        "There are many techniques for solving this problem, although two common approaches are:\n",
        "\n",
        "* Maximum a Posteriori (MAP), a Bayesian method.\n",
        "* Maximum Likelihood Estimation (MLE), frequentist method.\n",
        "\n",
        "The main difference is that MLE assumes that all solutions are equally likely beforehand, whereas MAP allows prior information about the form of the solution to be harnessed.\n",
        "\n",
        "In this post, we will take a closer look at the MLE method and its relationship to applied machine learning.\n",
        "\n"
      ],
      "metadata": {
        "id": "uIGxpQzkMihR"
      }
    },
    {
      "cell_type": "markdown",
      "source": [
        "### Maximum Likelihood Estimation"
      ],
      "metadata": {
        "id": "cZzASqVbRYEL"
      }
    },
    {
      "cell_type": "markdown",
      "source": [
        "One solution to probability density estimation is referred to as Maximum Likelihood Estimation, or MLE for short.\n",
        "\n",
        "Maximum Likelihood Estimation involves treating the problem as an optimization or search problem, where we seek a set of parameters that results in the best fit for the joint probability of the data sample (X).\n",
        "\n",
        "First, it involves defining a parameter called theta that defines both the choice of the probability density function and the parameters of that distribution. It may be a vector of numerical values whose values change smoothly and map to different probability distributions and their parameters.\n",
        "\n",
        "In Maximum Likelihood Estimation, we wish to maximize the probability of observing the data from the joint probability distribution given a specific probability distribution and its parameters, stated formally as:\n",
        "\n",
        "```P(X | theta)```\n",
        "\n",
        "This conditional probability is often stated using the semicolon (;) notation instead of the bar notation (|) because theta is not a random variable, but instead an unknown parameter. For example:\n",
        "\n",
        "```P(X ; theta)```\n",
        "\n",
        "or\n",
        "\n",
        "```P(x1, x2, x3, …, xn ; theta)```\n",
        "\n",
        "This resulting conditional probability is referred to as the likelihood of observing the data given the model parameters and written using the notation L() to denote the likelihood function. For example:\n",
        "\n",
        "```L(X ; theta)```\n",
        "\n",
        "The objective of Maximum Likelihood Estimation is to find the set of parameters (theta) that maximize the likelihood function, e.g. result in the largest likelihood value.\n",
        "\n",
        "```maximize L(X ; theta)```\n",
        "\n",
        "We can unpack the conditional probability calculated by the likelihood function.\n",
        "\n",
        "Given that the sample is comprised of n examples, we can frame this as the joint probability of the observed data samples x1, x2, x3, …, xn in X given the probability distribution parameters (theta).\n",
        "\n",
        "```L(x1, x2, x3, …, xn ; theta)```\n",
        "\n",
        "The joint probability distribution can be restated as the multiplication of the conditional probability for observing each example given the distribution parameters.\n",
        "\n",
        "```product i to n P(xi ; theta)```\n",
        "\n",
        "Multiplying many small probabilities together can be numerically unstable in practice, therefore, it is common to restate this problem as the sum of the log conditional probabilities of observing each example given the model parameters.\n",
        "\n",
        "```sum i to n log(P(xi ; theta))```\n",
        "\n",
        "Where log with base-e called the natural logarithm is commonly used.\n",
        "\n",
        "Given the frequent use of log in the likelihood function, it is commonly referred to as a log-likelihood function.\n",
        "\n",
        "It is common in optimization problems to prefer to minimize the cost function, rather than to maximize it. Therefore, the negative of the log-likelihood function is used, referred to generally as a Negative Log-Likelihood (NLL) function.\n",
        "\n",
        "```minimize -sum i to n log(P(xi ; theta))```\n"
      ],
      "metadata": {
        "id": "JjlchvjnRZQ1"
      }
    },
    {
      "cell_type": "markdown",
      "source": [
        "### Relationship to Machine Learning"
      ],
      "metadata": {
        "id": "IlTVLZPuUtlG"
      }
    },
    {
      "cell_type": "markdown",
      "source": [
        "This problem of density estimation is directly related to applied machine learning.\n",
        "\n",
        "We can frame the problem of fitting a machine learning model as the problem of probability density estimation. Specifically, the choice of model and model parameters is referred to as a modeling hypothesis h, and the problem involves finding h that best explains the data X.\n",
        "\n",
        "```P(X ; h)```\n",
        "\n",
        "We can, therefore, find the modeling hypothesis that maximizes the likelihood function.\n",
        "\n",
        "```maximize L(X ; h)```\n",
        "\n",
        "Or, more fully:\n",
        "\n",
        "```maximize sum i to n log(P(xi ; h))```\n",
        "\n",
        "This provides the basis for estimating the probability density of a dataset, typically used in unsupervised machine learning algorithms; for example:\n",
        "\n",
        "* Clustering algorithms.\n",
        "\n",
        "The Maximum Likelihood Estimation framework is also a useful tool for supervised machine learning.\n",
        "\n",
        "This applies to data where we have input and output variables, where the output variate may be a numerical value or a class label in the case of regression and classification predictive modeling retrospectively.\n",
        "\n",
        "We can state this as the conditional probability of the output (y) given the input (X) given the modeling hypothesis (h).\n",
        "\n",
        "```maximize L(y|X ; h)```\n",
        "\n",
        "Or, more fully:\n",
        "\n",
        "```maximize sum i to n log(P(yi|xi ; h))```\n",
        "\n",
        "This means that the same Maximum Likelihood Estimation framework that is generally used for density estimation can be used to find a supervised learning model and parameters.\n",
        "\n",
        "This provides the basis for foundational linear modeling techniques, such as:\n",
        "\n",
        "* Linear Regression, for predicting a numerical value.\n",
        "* Logistic Regression, for binary classification.\n",
        "\n",
        "In the case of linear regression, the model is constrained to a line and involves finding a set of coefficients for the line that best fits the observed data. Fortunately, this problem can be solved analytically (e.g. directly using linear algebra).\n",
        "\n",
        "In the case of logistic regression, the model defines a line and involves finding a set of coefficients for the line that best separates the classes. This cannot be solved analytically and is often solved by searching the space of possible coefficient values using an efficient optimization algorithm such as the BFGS algorithm or variants.\n",
        "\n",
        "Both methods can also be solved less efficiently using a more general optimization algorithm such as stochastic gradient descent.\n",
        "\n",
        "In fact, most machine learning models can be framed under the maximum likelihood estimation framework, providing a useful and consistent way to approach predictive modeling as an optimization problem.\n",
        "\n",
        "An important benefit of the maximize likelihood estimator in machine learning is that as the size of the dataset increases, the quality of the estimator continues to improve.\n",
        "\n"
      ],
      "metadata": {
        "id": "nU7NZDxhUuqt"
      }
    }
  ]
}