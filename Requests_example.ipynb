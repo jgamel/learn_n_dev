{
  "nbformat": 4,
  "nbformat_minor": 0,
  "metadata": {
    "colab": {
      "name": "Requests_exampleipynb",
      "provenance": [],
      "collapsed_sections": [],
      "authorship_tag": "ABX9TyOkCtooGYkx87+mFw7z4GFD",
      "include_colab_link": true
    },
    "kernelspec": {
      "name": "python3",
      "display_name": "Python 3"
    },
    "language_info": {
      "name": "python"
    }
  },
  "cells": [
    {
      "cell_type": "markdown",
      "metadata": {
        "id": "view-in-github",
        "colab_type": "text"
      },
      "source": [
        "<a href=\"https://colab.research.google.com/github/jgamel/learn_n_dev/blob/python_web_scrapping/Requests_example.ipynb\" target=\"_parent\"><img src=\"https://colab.research.google.com/assets/colab-badge.svg\" alt=\"Open In Colab\"/></a>"
      ]
    },
    {
      "cell_type": "code",
      "source": [
        "import requests\n",
        "import json\n",
        "\n",
        "\n",
        "def main(url):\n",
        "    with requests.Session() as req:\n",
        "        for item in range(1, 5, 100):\n",
        "            r = req.get(url.format(item)).json()\n",
        "            for a in r['result']:\n",
        "                print(\"Headline: {}, Url: {}\".format(\n",
        "                    a['headline'], a['url']))\n",
        "\n",
        "\n",
        "main(\"https://search.api.cnn.io/content?q=coronavirus&sort=newest&category=business,us,politics,world,opinion,health&size=5&from={}\")"
      ],
      "metadata": {
        "colab": {
          "base_uri": "https://localhost:8080/"
        },
        "id": "C9XD_YjKFP8x",
        "outputId": "a8059ff9-aec7-43d8-f6bd-abfccce9c213"
      },
      "execution_count": 1,
      "outputs": [
        {
          "output_type": "stream",
          "name": "stdout",
          "text": [
            "Headline: CNN Poll: Most Americans have a dismal view of the US economy, Url: https://www.cnn.com/2022/05/04/politics/cnn-poll-economy-biden-approval/index.html\n",
            "Headline: Dolly Parton Fast Facts, Url: https://www.cnn.com/2015/07/01/us/dolly-parton-fast-facts/index.html\n",
            "Headline: Ohio and Indiana 2022 primary elections, Url: https://www.cnn.com/politics/live-news/ohio-indiana-primary-elections-results-2022/index.html\n",
            "Headline: Biden praises Team USA in first White House visit since pandemic for 'your endurance and your state of mind', Url: https://www.cnn.com/2022/05/04/politics/team-usa-white-house-visit/index.html\n",
            "Headline: The US is closely watching this Covid surge for clues, Url: https://www.cnn.com/2022/05/04/world/coronavirus-newsletter-intl-05-04-22/index.html\n"
          ]
        }
      ]
    }
  ]
}