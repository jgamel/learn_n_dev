{
  "nbformat": 4,
  "nbformat_minor": 0,
  "metadata": {
    "colab": {
      "name": "Time_Series_Forecasting_Prophet_Python_Example.ipynb",
      "provenance": [],
      "collapsed_sections": [],
      "authorship_tag": "ABX9TyOEHq+znQ4W68AwVvlOql+J",
      "include_colab_link": true
    },
    "kernelspec": {
      "name": "python3",
      "display_name": "Python 3"
    },
    "language_info": {
      "name": "python"
    }
  },
  "cells": [
    {
      "cell_type": "markdown",
      "metadata": {
        "id": "view-in-github",
        "colab_type": "text"
      },
      "source": [
        "<a href=\"https://colab.research.google.com/github/jgamel/learn_n_dev/blob/python_modeling_forecasting/Time_Series_Forecasting_Prophet_Python_Example.ipynb\" target=\"_parent\"><img src=\"https://colab.research.google.com/assets/colab-badge.svg\" alt=\"Open In Colab\"/></a>"
      ]
    },
    {
      "cell_type": "markdown",
      "source": [
        "#Time Series Forecasting With Prophet in Python"
      ],
      "metadata": {
        "id": "Hzg-9QFWUsde"
      }
    },
    {
      "cell_type": "markdown",
      "source": [
        "Time series forecasting can be challenging as there are many different methods you could use and many different hyperparameters for each method.\n",
        "\n",
        "The Prophet library is an open-source library designed for making forecasts for univariate time series datasets. It is easy to use and designed to automatically find a good set of hyperparameters for the model in an effort to make skillful forecasts for data with trends and seasonal structure by default.\n",
        "\n",
        "In this tutorial, you will discover how to use the Facebook Prophet library for time series forecasting.\n",
        "\n",
        "After completing this tutorial, you will know:\n",
        "\n",
        "* Prophet is an open-source library developed by Facebook and designed for automatic forecasting of univariate time series data.\n",
        "* How to fit Prophet models and use them to make in-sample and out-of-sample forecasts.\n",
        "* How to evaluate a Prophet model on a hold-out dataset.\n"
      ],
      "metadata": {
        "id": "m4x7lm8lVJ9s"
      }
    },
    {
      "cell_type": "markdown",
      "source": [
        "Tutorial Overview\n",
        "This tutorial is divided into three parts; they are:\n",
        "\n",
        "1.  Prophet Forecasting Library\n",
        "2.  Car Sales Dataset\n",
        "  1.  Load and Summarize Dataset\n",
        "  2. Load and Plot Dataset\n",
        "3.  Forecast Car Sales With Prophet\n",
        "  1. Fit Prophet Model\n",
        "  2. Make an In-Sample Forecast\n",
        "  3. Make an Out-of-Sample Forecast\n",
        "  4. Manually Evaluate Forecast Model"
      ],
      "metadata": {
        "id": "HXjadmU7VVLO"
      }
    },
    {
      "cell_type": "markdown",
      "source": [
        "## Prophet Forecasting Library"
      ],
      "metadata": {
        "id": "oaLMiwNEVpcF"
      }
    },
    {
      "cell_type": "markdown",
      "source": [
        "Prophet, or “Facebook Prophet,” is an open-source library for univariate (one variable) time series forecasting developed by Facebook.\n",
        "\n",
        "Prophet implements what they refer to as an additive time series forecasting model, and the implementation supports trends, seasonality, and holidays.\n",
        "\n",
        "It is designed to be easy and completely automatic, e.g. point it at a time series and get a forecast. As such, it is intended for internal company use, such as forecasting sales, capacity, etc.\n",
        "\n",
        "For a great overview of Prophet and its capabilities, see the post:\n",
        "\n",
        "[Prophet: forecasting at scale, 2017.](https://research.facebook.com/blog/2017/02/prophet-forecasting-at-scale/)\n",
        "\n",
        "The library provides two interfaces, including R and Python. We will focus on the Python interface in this tutorial.\n",
        "\n",
        "The first step is to install the Prophet library using Pip, as follows:"
      ],
      "metadata": {
        "id": "qVkPPtyRVwlp"
      }
    },
    {
      "cell_type": "code",
      "execution_count": 1,
      "metadata": {
        "colab": {
          "base_uri": "https://localhost:8080/"
        },
        "id": "A7dwAXC_ROUm",
        "outputId": "0c3efa2d-9bb4-4bec-83ea-71597a959d61"
      },
      "outputs": [
        {
          "output_type": "stream",
          "name": "stdout",
          "text": [
            "Requirement already satisfied: fbprophet in /usr/local/lib/python3.7/dist-packages (0.7.1)\n",
            "Requirement already satisfied: Cython>=0.22 in /usr/local/lib/python3.7/dist-packages (from fbprophet) (0.29.28)\n",
            "Requirement already satisfied: cmdstanpy==0.9.5 in /usr/local/lib/python3.7/dist-packages (from fbprophet) (0.9.5)\n",
            "Requirement already satisfied: pystan>=2.14 in /usr/local/lib/python3.7/dist-packages (from fbprophet) (2.19.1.1)\n",
            "Requirement already satisfied: numpy>=1.15.4 in /usr/local/lib/python3.7/dist-packages (from fbprophet) (1.21.6)\n",
            "Requirement already satisfied: pandas>=1.0.4 in /usr/local/lib/python3.7/dist-packages (from fbprophet) (1.3.5)\n",
            "Requirement already satisfied: matplotlib>=2.0.0 in /usr/local/lib/python3.7/dist-packages (from fbprophet) (3.2.2)\n",
            "Requirement already satisfied: LunarCalendar>=0.0.9 in /usr/local/lib/python3.7/dist-packages (from fbprophet) (0.0.9)\n",
            "Requirement already satisfied: convertdate>=2.1.2 in /usr/local/lib/python3.7/dist-packages (from fbprophet) (2.4.0)\n",
            "Requirement already satisfied: holidays>=0.10.2 in /usr/local/lib/python3.7/dist-packages (from fbprophet) (0.10.5.2)\n",
            "Requirement already satisfied: setuptools-git>=1.2 in /usr/local/lib/python3.7/dist-packages (from fbprophet) (1.2)\n",
            "Requirement already satisfied: python-dateutil>=2.8.0 in /usr/local/lib/python3.7/dist-packages (from fbprophet) (2.8.2)\n",
            "Requirement already satisfied: tqdm>=4.36.1 in /usr/local/lib/python3.7/dist-packages (from fbprophet) (4.64.0)\n",
            "Requirement already satisfied: pymeeus<=1,>=0.3.13 in /usr/local/lib/python3.7/dist-packages (from convertdate>=2.1.2->fbprophet) (0.5.11)\n",
            "Requirement already satisfied: korean-lunar-calendar in /usr/local/lib/python3.7/dist-packages (from holidays>=0.10.2->fbprophet) (0.2.1)\n",
            "Requirement already satisfied: hijri-converter in /usr/local/lib/python3.7/dist-packages (from holidays>=0.10.2->fbprophet) (2.2.3)\n",
            "Requirement already satisfied: six in /usr/local/lib/python3.7/dist-packages (from holidays>=0.10.2->fbprophet) (1.15.0)\n",
            "Requirement already satisfied: ephem>=3.7.5.3 in /usr/local/lib/python3.7/dist-packages (from LunarCalendar>=0.0.9->fbprophet) (4.1.3)\n",
            "Requirement already satisfied: pytz in /usr/local/lib/python3.7/dist-packages (from LunarCalendar>=0.0.9->fbprophet) (2022.1)\n",
            "Requirement already satisfied: pyparsing!=2.0.4,!=2.1.2,!=2.1.6,>=2.0.1 in /usr/local/lib/python3.7/dist-packages (from matplotlib>=2.0.0->fbprophet) (3.0.8)\n",
            "Requirement already satisfied: kiwisolver>=1.0.1 in /usr/local/lib/python3.7/dist-packages (from matplotlib>=2.0.0->fbprophet) (1.4.2)\n",
            "Requirement already satisfied: cycler>=0.10 in /usr/local/lib/python3.7/dist-packages (from matplotlib>=2.0.0->fbprophet) (0.11.0)\n",
            "Requirement already satisfied: typing-extensions in /usr/local/lib/python3.7/dist-packages (from kiwisolver>=1.0.1->matplotlib>=2.0.0->fbprophet) (4.2.0)\n"
          ]
        }
      ],
      "source": [
        "!pip install fbprophet"
      ]
    },
    {
      "cell_type": "markdown",
      "source": [
        "Next, we can confirm that the library was installed correctly.\n",
        "\n",
        "To do this, we can import the library and print the version number in Python. The complete example is listed below."
      ],
      "metadata": {
        "id": "L1OGVZ4qX5sm"
      }
    },
    {
      "cell_type": "code",
      "source": [
        "# check prophet version\n",
        "import fbprophet\n",
        "# print version number\n",
        "print('Prophet %s' % fbprophet.__version__)"
      ],
      "metadata": {
        "colab": {
          "base_uri": "https://localhost:8080/"
        },
        "id": "9Vm8_ez2X99c",
        "outputId": "f2d3f285-0f8d-4663-cf13-a9281c00bdab"
      },
      "execution_count": 2,
      "outputs": [
        {
          "output_type": "stream",
          "name": "stdout",
          "text": [
            "Prophet 0.7.1\n"
          ]
        }
      ]
    },
    {
      "cell_type": "markdown",
      "source": [
        "Running the example prints the installed version of Prophet.\n",
        "\n",
        "Now that we have Prophet installed, let’s select a dataset we can use to explore using the library."
      ],
      "metadata": {
        "id": "2opRBrLpYDEn"
      }
    },
    {
      "cell_type": "markdown",
      "source": [
        "## Car Sales Dataset"
      ],
      "metadata": {
        "id": "FbYPUpEDYLOh"
      }
    },
    {
      "cell_type": "markdown",
      "source": [
        "We will use the monthly car sales dataset.\n",
        "\n",
        "It is a standard univariate time series dataset that contains both a trend and seasonality. The dataset has 108 months of data and a naive persistence forecast can achieve a mean absolute error of about 3,235 sales, providing a lower error limit.\n",
        "\n",
        "No need to download the dataset as we will download it automatically as part of each example."
      ],
      "metadata": {
        "id": "Lf-KqSE4YPEY"
      }
    }
  ]
}