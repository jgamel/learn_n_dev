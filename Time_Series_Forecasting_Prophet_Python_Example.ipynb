{
  "nbformat": 4,
  "nbformat_minor": 0,
  "metadata": {
    "colab": {
      "name": "Time_Series_Forecasting_Prophet_Python_Example.ipynb",
      "provenance": [],
      "collapsed_sections": [],
      "include_colab_link": true
    },
    "kernelspec": {
      "name": "python3",
      "display_name": "Python 3"
    },
    "language_info": {
      "name": "python"
    }
  },
  "cells": [
    {
      "cell_type": "markdown",
      "metadata": {
        "id": "view-in-github",
        "colab_type": "text"
      },
      "source": [
        "<a href=\"https://colab.research.google.com/github/jgamel/learn_n_dev/blob/python_modeling_forecasting/Time_Series_Forecasting_Prophet_Python_Example.ipynb\" target=\"_parent\"><img src=\"https://colab.research.google.com/assets/colab-badge.svg\" alt=\"Open In Colab\"/></a>"
      ]
    },
    {
      "cell_type": "markdown",
      "source": [
        "#Time Series Forecasting With Prophet in Python"
      ],
      "metadata": {
        "id": "Hzg-9QFWUsde"
      }
    },
    {
      "cell_type": "markdown",
      "source": [
        "Time series forecasting can be challenging as there are many different methods you could use and many different hyperparameters for each method.\n",
        "\n",
        "The Prophet library is an open-source library designed for making forecasts for univariate time series datasets. It is easy to use and designed to automatically find a good set of hyperparameters for the model in an effort to make skillful forecasts for data with trends and seasonal structure by default.\n",
        "\n",
        "In this tutorial, you will discover how to use the Facebook Prophet library for time series forecasting.\n",
        "\n",
        "After completing this tutorial, you will know:\n",
        "\n",
        "* Prophet is an open-source library developed by Facebook and designed for automatic forecasting of univariate time series data.\n",
        "* How to fit Prophet models and use them to make in-sample and out-of-sample forecasts.\n",
        "* How to evaluate a Prophet model on a hold-out dataset.\n"
      ],
      "metadata": {
        "id": "m4x7lm8lVJ9s"
      }
    },
    {
      "cell_type": "markdown",
      "source": [
        "Tutorial Overview\n",
        "This tutorial is divided into three parts; they are:\n",
        "\n",
        "1.  Prophet Forecasting Library\n",
        "2.  Car Sales Dataset\n",
        "  1.  Load and Summarize Dataset\n",
        "  2. Load and Plot Dataset\n",
        "3.  Forecast Car Sales With Prophet\n",
        "  1. Fit Prophet Model\n",
        "  2. Make an In-Sample Forecast\n",
        "  3. Make an Out-of-Sample Forecast\n",
        "  4. Manually Evaluate Forecast Model"
      ],
      "metadata": {
        "id": "HXjadmU7VVLO"
      }
    },
    {
      "cell_type": "markdown",
      "source": [
        "## Prophet Forecasting Library"
      ],
      "metadata": {
        "id": "oaLMiwNEVpcF"
      }
    },
    {
      "cell_type": "markdown",
      "source": [
        "Prophet, or “Facebook Prophet,” is an open-source library for univariate (one variable) time series forecasting developed by Facebook.\n",
        "\n",
        "Prophet implements what they refer to as an additive time series forecasting model, and the implementation supports trends, seasonality, and holidays.\n",
        "\n",
        "It is designed to be easy and completely automatic, e.g. point it at a time series and get a forecast. As such, it is intended for internal company use, such as forecasting sales, capacity, etc.\n",
        "\n",
        "For a great overview of Prophet and its capabilities, see the post:\n",
        "\n",
        "[Prophet: forecasting at scale, 2017.](https://research.facebook.com/blog/2017/02/prophet-forecasting-at-scale/)\n",
        "\n",
        "The library provides two interfaces, including R and Python. We will focus on the Python interface in this tutorial.\n",
        "\n",
        "The first step is to install the Prophet library using Pip, as follows:"
      ],
      "metadata": {
        "id": "qVkPPtyRVwlp"
      }
    },
    {
      "cell_type": "code",
      "execution_count": 2,
      "metadata": {
        "id": "A7dwAXC_ROUm"
      },
      "outputs": [],
      "source": [
        "# !pip install fbprophet"
      ]
    },
    {
      "cell_type": "markdown",
      "source": [
        "Next, we can confirm that the library was installed correctly.\n",
        "\n",
        "To do this, we can import the library and print the version number in Python. The complete example is listed below."
      ],
      "metadata": {
        "id": "L1OGVZ4qX5sm"
      }
    },
    {
      "cell_type": "code",
      "source": [
        "# check prophet version\n",
        "import fbprophet\n",
        "# print version number\n",
        "print('Prophet %s' % fbprophet.__version__)"
      ],
      "metadata": {
        "colab": {
          "base_uri": "https://localhost:8080/"
        },
        "id": "9Vm8_ez2X99c",
        "outputId": "2b53c6fe-e4c4-4505-831a-b59703f5c5ec"
      },
      "execution_count": 1,
      "outputs": [
        {
          "output_type": "stream",
          "name": "stdout",
          "text": [
            "Prophet 0.7.1\n"
          ]
        }
      ]
    },
    {
      "cell_type": "markdown",
      "source": [
        "Running the example prints the installed version of Prophet.\n",
        "\n",
        "Now that we have Prophet installed, let’s select a dataset we can use to explore using the library."
      ],
      "metadata": {
        "id": "2opRBrLpYDEn"
      }
    },
    {
      "cell_type": "markdown",
      "source": [
        "## Car Sales Dataset"
      ],
      "metadata": {
        "id": "FbYPUpEDYLOh"
      }
    },
    {
      "cell_type": "markdown",
      "source": [
        "We will use the monthly car sales dataset.\n",
        "\n",
        "It is a standard univariate time series dataset that contains both a trend and seasonality. The dataset has 108 months of data and a naive persistence forecast can achieve a mean absolute error of about 3,235 sales, providing a lower error limit.\n",
        "\n",
        "No need to download the dataset as we will download it automatically as part of each example."
      ],
      "metadata": {
        "id": "Lf-KqSE4YPEY"
      }
    },
    {
      "cell_type": "markdown",
      "source": [
        "###Load and Summarize Dataset"
      ],
      "metadata": {
        "id": "C75qV-yRbp9z"
      }
    },
    {
      "cell_type": "markdown",
      "source": [
        "First, let’s load and summarize the dataset.\n",
        "\n",
        "Prophet requires data to be in Pandas DataFrames. Therefore, we will load and summarize the data using Pandas.\n",
        "\n",
        "We can load the data directly from the URL by calling the read_csv() Pandas function, then summarize the shape (number of rows and columns) of the data and view the first few rows of data.\n",
        "\n",
        "The complete example is listed below."
      ],
      "metadata": {
        "id": "MBEjpA9nbwjU"
      }
    },
    {
      "cell_type": "code",
      "source": [
        "# load the car sales dataset\n",
        "from pandas import read_csv\n",
        "# load data\n",
        "path = 'https://raw.githubusercontent.com/jgamel/learn_n_dev/input_data/monthly-car-sales.csv'\n",
        "df = read_csv(path, header=0)\n",
        "# summarize shape\n",
        "print(df.shape)\n",
        "# show first few rows\n",
        "print(df.head())"
      ],
      "metadata": {
        "colab": {
          "base_uri": "https://localhost:8080/"
        },
        "id": "aQ_pRf6Ac9uu",
        "outputId": "87131611-210b-45f7-d84c-c663b1651ec0"
      },
      "execution_count": 3,
      "outputs": [
        {
          "output_type": "stream",
          "name": "stdout",
          "text": [
            "(108, 2)\n",
            "     Month  Sales\n",
            "0  1960-01   6550\n",
            "1  1960-02   8728\n",
            "2  1960-03  12026\n",
            "3  1960-04  14395\n",
            "4  1960-05  14587\n"
          ]
        }
      ]
    },
    {
      "cell_type": "markdown",
      "source": [
        "Running the example first reports the number of rows and columns, then lists the first five rows of data.\n",
        "\n",
        "We can see that as we expected, there are 108 months worth of data and two columns. The first column is the date and the second is the number of sales.\n",
        "\n",
        "Note that the first column in the output is a row index and is not a part of the dataset, just a helpful tool that Pandas uses to order rows."
      ],
      "metadata": {
        "id": "DFurwivQd385"
      }
    },
    {
      "cell_type": "markdown",
      "source": [
        "### Load and Plot Dataset\n",
        "\n",
        "A time-series dataset does not make sense to us until we plot it.\n",
        "\n",
        "Plotting a time series helps us actually see if there is a trend, a seasonal cycle, outliers, and more. It gives us a feel for the data.\n",
        "\n",
        "We can plot the data easily in Pandas by calling the plot() function on the DataFrame.\n",
        "\n",
        "The complete example is listed below."
      ],
      "metadata": {
        "id": "8HulqAIZd7Yj"
      }
    },
    {
      "cell_type": "code",
      "source": [
        "# load and plot the car sales dataset\n",
        "from pandas import read_csv\n",
        "from matplotlib import pyplot\n",
        "# load data\n",
        "path = 'https://raw.githubusercontent.com/jgamel/learn_n_dev/input_data/monthly-car-sales.csv'\n",
        "df = read_csv(path, header=0)\n",
        "# plot the time series\n",
        "df.plot()\n",
        "pyplot.show()"
      ],
      "metadata": {
        "colab": {
          "base_uri": "https://localhost:8080/",
          "height": 265
        },
        "id": "gERXNIbceCZh",
        "outputId": "55409295-2739-4907-fe70-3618154abb3f"
      },
      "execution_count": 4,
      "outputs": [
        {
          "output_type": "display_data",
          "data": {
            "text/plain": [
              "<Figure size 432x288 with 1 Axes>"
            ],
            "image/png": "[encoded data removed]"
          },
          "metadata": {
            "needs_background": "light"
          }
        }
      ]
    },
    {
      "cell_type": "markdown",
      "source": [
        "Running the example creates a plot of the time series.\n",
        "\n",
        "We can clearly see the trend in sales over time and a monthly seasonal pattern to the sales. These are patterns we expect the forecast model to take into account.\n",
        "\n",
        "Now that we are familiar with the dataset, let’s explore how we can use the Prophet library to make forecasts."
      ],
      "metadata": {
        "id": "nNGAQHUveQwX"
      }
    },
    {
      "cell_type": "markdown",
      "source": [
        "## Forecast Car Sales With Prophet\n",
        "\n",
        "In this section, we will explore using the Prophet to forecast the car sales dataset.\n",
        "\n",
        "Let’s start by fitting a model on the dataset"
      ],
      "metadata": {
        "id": "5SXWHW2CeUIp"
      }
    },
    {
      "cell_type": "markdown",
      "source": [
        "### Fit Prophet Model\n",
        "\n",
        "To use Prophet for forecasting, first, a Prophet() object is defined and configured, then it is fit on the dataset by calling the fit() function and passing the data.\n",
        "\n",
        "The Prophet() object takes arguments to configure the type of model you want, such as the type of growth, the type of seasonality, and more. By default, the model will work hard to figure out almost everything automatically.\n",
        "\n",
        "The fit() function takes a DataFrame of time series data. The DataFrame must have a specific format. The first column must have the name ‘ds‘ and contain the date-times. The second column must have the name ‘y‘ and contain the observations.\n",
        "\n",
        "This means we change the column names in the dataset. It also requires that the first column be converted to date-time objects, if they are not already (e.g. this can be down as part of loading the dataset with the right arguments to read_csv).\n",
        "\n",
        "For example, we can modify our loaded car sales dataset to have this expected structure, as follows:"
      ],
      "metadata": {
        "id": "48UqfjyteaPw"
      }
    },
    {
      "cell_type": "code",
      "source": [
        "# fit prophet model on the car sales dataset\n",
        "from pandas import read_csv\n",
        "from pandas import to_datetime\n",
        "from fbprophet import Prophet\n",
        "# load data\n",
        "path = 'https://raw.githubusercontent.com/jgamel/learn_n_dev/input_data/monthly-car-sales.csv'\n",
        "df = read_csv(path, header=0)\n",
        "# prepare expected column names\n",
        "df.columns = ['ds', 'y']\n",
        "df['ds']= to_datetime(df['ds'])\n",
        "# define the model\n",
        "model = Prophet()\n",
        "# fit the model\n",
        "model.fit(df)"
      ],
      "metadata": {
        "colab": {
          "base_uri": "https://localhost:8080/"
        },
        "id": "g9GPsKyPeiiq",
        "outputId": "1229d462-4245-4106-f14d-2d2421495f50"
      },
      "execution_count": 5,
      "outputs": [
        {
          "output_type": "stream",
          "name": "stderr",
          "text": [
            "INFO:fbprophet:Disabling weekly seasonality. Run prophet with weekly_seasonality=True to override this.\n",
            "INFO:fbprophet:Disabling daily seasonality. Run prophet with daily_seasonality=True to override this.\n"
          ]
        },
        {
          "output_type": "execute_result",
          "data": {
            "text/plain": [
              "<fbprophet.forecaster.Prophet at 0x7feaf1bcac90>"
            ]
          },
          "metadata": {},
          "execution_count": 5
        }
      ]
    },
    {
      "cell_type": "markdown",
      "source": [
        "Running the example loads the dataset, prepares the DataFrame in the expected format, and fits a Prophet model.\n"
      ],
      "metadata": {
        "id": "_VmxcPP7e74e"
      }
    },
    {
      "cell_type": "markdown",
      "source": [
        "###Make an In-Sample Forecast"
      ],
      "metadata": {
        "id": "3PGb6iFIg3xt"
      }
    },
    {
      "cell_type": "markdown",
      "source": [
        "It can be useful to make a forecast on historical data.\n",
        "\n",
        "That is, we can make a forecast on data used as input to train the model. Ideally, the model has seen the data before and would make a perfect prediction.\n",
        "\n",
        "Nevertheless, this is not the case as the model tries to generalize across all cases in the data.\n",
        "\n",
        "This is called making an in-sample (in training set sample) forecast and reviewing the results can give insight into how good the model is. That is, how well it learned the training data.\n",
        "\n",
        "A forecast is made by calling the predict() function and passing a DataFrame that contains one column named ‘ds‘ and rows with date-times for all the intervals to be predicted.\n",
        "\n",
        "There are many ways to create this “forecast” DataFrame. In this case, we will loop over one year of dates, e.g. the last 12 months in the dataset, and create a string for each month. We will then convert the list of dates into a DataFrame and convert the string values into date-time objects.\n",
        "\n",
        "```\n",
        "# define the period for which we want a prediction\n",
        "future = list()\n",
        "for i in range(1, 13):\n",
        "\tdate = '1968-%02d' % i\n",
        "\tfuture.append([date])\n",
        "future = DataFrame(future)\n",
        "future.columns = ['ds']\n",
        "future['ds']= to_datetime(future['ds'])\n",
        "```\n",
        "\n",
        "This DataFrame can then be provided to the predict() function to calculate a forecast.\n",
        "\n",
        "The result of the predict() function is a DataFrame that contains many columns. Perhaps the most important columns are the forecast date time (‘ds‘), the forecasted value (‘yhat‘), and the lower and upper bounds on the predicted value (‘yhat_lower‘ and ‘yhat_upper‘) that provide uncertainty of the forecast.\n",
        "\n",
        "For example, we can print the first few predictions as follows:\n",
        "\n",
        "```\n",
        "...\n",
        "# summarize the forecast\n",
        "print(forecast[['ds', 'yhat', 'yhat_lower', 'yhat_upper']].head())\n",
        "```\n",
        "\n",
        "Prophet also provides a built-in tool for visualizing the prediction in the context of the training dataset.\n",
        "\n",
        "This can be achieved by calling the plot() function on the model and passing it a result DataFrame. It will create a plot of the training dataset and overlay the prediction with the upper and lower bounds for the forecast dates.\n",
        "\n",
        "```\n",
        "...\n",
        "print(forecast[['ds', 'yhat', 'yhat_lower', 'yhat_upper']].head())\n",
        "# plot forecast\n",
        "model.plot(forecast)\n",
        "pyplot.show()\n",
        "```\n",
        "\n",
        "Tying this all together, a complete example of making an in-sample forecast is listed below.\n"
      ],
      "metadata": {
        "id": "8XHWZtNXg47-"
      }
    },
    {
      "cell_type": "code",
      "source": [
        "# make an in-sample forecast\n",
        "from pandas import read_csv\n",
        "from pandas import to_datetime\n",
        "from pandas import DataFrame\n",
        "from fbprophet import Prophet\n",
        "from matplotlib import pyplot\n",
        "# load data\n",
        "path = 'https://raw.githubusercontent.com/jgamel/learn_n_dev/input_data/monthly-car-sales.csv'\n",
        "df = read_csv(path, header=0)\n",
        "# prepare expected column names\n",
        "df.columns = ['ds', 'y']\n",
        "df['ds']= to_datetime(df['ds'])\n",
        "# define the model\n",
        "model = Prophet()\n",
        "# fit the model\n",
        "model.fit(df)\n",
        "# define the period for which we want a prediction\n",
        "future = list()\n",
        "for i in range(1, 13):\n",
        "\tdate = '1968-%02d' % i\n",
        "\tfuture.append([date])\n",
        "future = DataFrame(future)\n",
        "future.columns = ['ds']\n",
        "future['ds']= to_datetime(future['ds'])\n",
        "# use the model to make a forecast\n",
        "forecast = model.predict(future)\n",
        "# summarize the forecast\n",
        "print(forecast[['ds', 'yhat', 'yhat_lower', 'yhat_upper']].head(12))\n",
        "# plot forecast\n",
        "model.plot(forecast)\n",
        "pyplot.show()"
      ],
      "metadata": {
        "colab": {
          "base_uri": "https://localhost:8080/",
          "height": 709
        },
        "id": "zkOPQdxxhn92",
        "outputId": "35630292-5ccf-4a07-c2ca-b55726d80eca"
      },
      "execution_count": 6,
      "outputs": [
        {
          "output_type": "stream",
          "name": "stderr",
          "text": [
            "INFO:fbprophet:Disabling weekly seasonality. Run prophet with weekly_seasonality=True to override this.\n",
            "INFO:fbprophet:Disabling daily seasonality. Run prophet with daily_seasonality=True to override this.\n"
          ]
        },
        {
          "output_type": "stream",
          "name": "stdout",
          "text": [
            "           ds          yhat    yhat_lower    yhat_upper\n",
            "0  1968-01-01  14334.737769  12794.512612  15887.318845\n",
            "1  1968-02-01  14905.955964  13454.120120  16459.157750\n",
            "2  1968-03-01  20842.150502  19229.341014  22433.938918\n",
            "3  1968-04-01  22870.095215  21334.745942  24482.708095\n",
            "4  1968-05-01  24176.211162  22632.173845  25816.696301\n",
            "5  1968-06-01  21057.679190  19428.413472  22550.153402\n",
            "6  1968-07-01  17585.489428  15871.449973  19209.714611\n",
            "7  1968-08-01  15289.261887  13731.472296  16863.188066\n",
            "8  1968-09-01  13721.438281  12156.500246  15308.692921\n",
            "9  1968-10-01  18133.910877  16604.546285  19559.799991\n",
            "10 1968-11-01  17431.759820  15863.207111  18970.140212\n",
            "11 1968-12-01  15655.287282  14230.998533  17309.816925\n"
          ]
        },
        {
          "output_type": "display_data",
          "data": {
            "text/plain": [
              "<Figure size 720x432 with 1 Axes>"
            ],
            "image/png": "[encoded data removed]"
          },
          "metadata": {}
        }
      ]
    },
    {
      "cell_type": "markdown",
      "source": [
        "Running the example forecasts the last 12 months of the dataset.\n",
        "\n",
        "The first five months of the prediction are reported and we can see that values are not too different from the actual sales values in the dataset."
      ],
      "metadata": {
        "id": "lXyDRSZTiIIk"
      }
    },
    {
      "cell_type": "markdown",
      "source": [
        "###Make an Out-of-Sample Forecast\n",
        "\n",
        "In practice, we really want a forecast model to make a prediction beyond the training data.\n",
        "\n",
        "This is called an out-of-sample forecast.\n",
        "\n",
        "We can achieve this in the same way as an in-sample forecast and simply specify a different forecast period.\n",
        "\n",
        "In this case, a period beyond the end of the training dataset, starting 1969-01.\n",
        "\n",
        "```\n",
        "...\n",
        "# define the period for which we want a prediction\n",
        "future = list()\n",
        "for i in range(1, 13):\n",
        "\tdate = '1969-%02d' % i\n",
        "\tfuture.append([date])\n",
        "future = DataFrame(future)\n",
        "future.columns = ['ds']\n",
        "future['ds']= to_datetime(future['ds'])\n",
        "```\n",
        "\n",
        "Tying this together, the complete example is listed below."
      ],
      "metadata": {
        "id": "-5q-BlMej5XB"
      }
    },
    {
      "cell_type": "code",
      "source": [
        "# make an out-of-sample forecast\n",
        "from pandas import read_csv\n",
        "from pandas import to_datetime\n",
        "from pandas import DataFrame\n",
        "from fbprophet import Prophet\n",
        "from matplotlib import pyplot\n",
        "# load data\n",
        "path = 'https://raw.githubusercontent.com/jgamel/learn_n_dev/input_data/monthly-car-sales.csv'\n",
        "df = read_csv(path, header=0)\n",
        "# prepare expected column names\n",
        "df.columns = ['ds', 'y']\n",
        "df['ds']= to_datetime(df['ds'])\n",
        "# define the model\n",
        "model = Prophet()\n",
        "# fit the model\n",
        "model.fit(df)\n",
        "# define the period for which we want a prediction\n",
        "future = list()\n",
        "for i in range(1, 13):\n",
        "\tdate = '1969-%02d' % i\n",
        "\tfuture.append([date])\n",
        "future = DataFrame(future)\n",
        "future.columns = ['ds']\n",
        "future['ds']= to_datetime(future['ds'])\n",
        "# use the model to make a forecast\n",
        "forecast = model.predict(future)\n",
        "# summarize the forecast\n",
        "print(forecast[['ds', 'yhat', 'yhat_lower', 'yhat_upper']].head())\n",
        "# plot forecast\n",
        "model.plot(forecast)\n",
        "pyplot.show()"
      ],
      "metadata": {
        "colab": {
          "base_uri": "https://localhost:8080/",
          "height": 584
        },
        "id": "bIfFVj-NkEsj",
        "outputId": "ff1ce0cf-04ea-4167-8bcc-6315fe1b581f"
      },
      "execution_count": 7,
      "outputs": [
        {
          "output_type": "stream",
          "name": "stderr",
          "text": [
            "INFO:fbprophet:Disabling weekly seasonality. Run prophet with weekly_seasonality=True to override this.\n",
            "INFO:fbprophet:Disabling daily seasonality. Run prophet with daily_seasonality=True to override this.\n"
          ]
        },
        {
          "output_type": "stream",
          "name": "stdout",
          "text": [
            "          ds          yhat    yhat_lower    yhat_upper\n",
            "0 1969-01-01  15375.960093  13781.072076  16970.564348\n",
            "1 1969-02-01  16142.271673  14577.738414  17623.530511\n",
            "2 1969-03-01  21351.832640  19852.371020  22902.227265\n",
            "3 1969-04-01  23477.889811  21908.091922  25051.053604\n",
            "4 1969-05-01  24988.440907  23401.409898  26473.494404\n"
          ]
        },
        {
          "output_type": "display_data",
          "data": {
            "text/plain": [
              "<Figure size 720x432 with 1 Axes>"
            ],
            "image/png": "[encoded data removed]"
          },
          "metadata": {}
        }
      ]
    },
    {
      "cell_type": "markdown",
      "source": [
        "Running the example makes an out-of-sample forecast for the car sales data.\n",
        "\n",
        "The first five rows of the forecast are printed, although it is hard to get an idea of whether they are sensible or not.\n",
        "\n"
      ],
      "metadata": {
        "id": "mPgVhbK3kemY"
      }
    },
    {
      "cell_type": "markdown",
      "source": [
        "### Manually Evaluate Forecast Model\n",
        "\n",
        "It is critical to develop an objective estimate of a forecast model’s performance.\n",
        "\n",
        "This can be achieved by holding some data back from the model, such as the last 12 months. Then, fitting the model on the first portion of the data, using it to make predictions on the held-pack portion, and calculating an error measure, such as the mean absolute error across the forecasts. E.g. a simulated out-of-sample forecast.\n",
        "\n",
        "The score gives an estimate of how well we might expect the model to perform on average when making an out-of-sample forecast.\n",
        "\n",
        "We can do this with the samples data by creating a new DataFrame for training with the last 12 months removed.\n",
        "\n",
        "```\n",
        "# create test dataset, remove last 12 months\n",
        "train = df.drop(df.index[-12:])\n",
        "print(train.tail())\n",
        "```\n",
        "A forecast can then be made on the last 12 months of date-times.\n",
        "\n",
        "We can then retrieve the forecast values and the expected values from the original dataset and calculate a mean absolute error metric using the scikit-learn library.\n",
        "\n",
        "```\n",
        "# calculate MAE between expected and predicted values for december\n",
        "y_true = df['y'][-12:].values\n",
        "y_pred = forecast['yhat'].values\n",
        "mae = mean_absolute_error(y_true, y_pred)\n",
        "print('MAE: %.3f' % mae)\n",
        "```\n",
        "\n",
        "It can also be helpful to plot the expected vs. predicted values to see how well the out-of-sample prediction matches the known values.\n",
        "\n",
        "```\n",
        "# plot expected vs actual\n",
        "pyplot.plot(y_true, label='Actual')\n",
        "pyplot.plot(y_pred, label='Predicted')\n",
        "pyplot.legend()\n",
        "pyplot.show()\n",
        "```\n",
        "\n",
        "Tying this together, the example below demonstrates how to evaluate a Prophet model on a hold-out dataset."
      ],
      "metadata": {
        "id": "z5jL0GSykfUR"
      }
    },
    {
      "cell_type": "code",
      "source": [
        "# evaluate prophet time series forecasting model on hold out dataset\n",
        "from pandas import read_csv\n",
        "from pandas import to_datetime\n",
        "from pandas import DataFrame\n",
        "from fbprophet import Prophet\n",
        "from sklearn.metrics import mean_absolute_error\n",
        "from matplotlib import pyplot\n",
        "# load data\n",
        "path = 'https://raw.githubusercontent.com/jgamel/learn_n_dev/input_data/monthly-car-sales.csv'\n",
        "df = read_csv(path, header=0)\n",
        "# prepare expected column names\n",
        "df.columns = ['ds', 'y']\n",
        "df['ds']= to_datetime(df['ds'])\n",
        "# create test dataset, remove last 12 months\n",
        "train = df.drop(df.index[-12:])\n",
        "print(train.tail())\n",
        "# define the model\n",
        "model = Prophet()\n",
        "# fit the model\n",
        "model.fit(train)\n",
        "# define the period for which we want a prediction\n",
        "future = list()\n",
        "for i in range(1, 13):\n",
        "\tdate = '1968-%02d' % i\n",
        "\tfuture.append([date])\n",
        "future = DataFrame(future)\n",
        "future.columns = ['ds']\n",
        "future['ds'] = to_datetime(future['ds'])\n",
        "# use the model to make a forecast\n",
        "forecast = model.predict(future)\n",
        "# calculate MAE between expected and predicted values for december\n",
        "y_true = df['y'][-12:].values\n",
        "y_pred = forecast['yhat'].values\n",
        "mae = mean_absolute_error(y_true, y_pred)\n",
        "print('MAE: %.3f' % mae)\n",
        "# plot expected vs actual\n",
        "pyplot.plot(y_true, label='Actual')\n",
        "pyplot.plot(y_pred, label='Predicted')\n",
        "pyplot.legend()\n",
        "pyplot.show()"
      ],
      "metadata": {
        "colab": {
          "base_uri": "https://localhost:8080/",
          "height": 425
        },
        "id": "jbQHGKR8lTBk",
        "outputId": "513713bf-3f15-460f-ba32-10ddd4710651"
      },
      "execution_count": 8,
      "outputs": [
        {
          "output_type": "stream",
          "name": "stderr",
          "text": [
            "INFO:fbprophet:Disabling weekly seasonality. Run prophet with weekly_seasonality=True to override this.\n",
            "INFO:fbprophet:Disabling daily seasonality. Run prophet with daily_seasonality=True to override this.\n"
          ]
        },
        {
          "output_type": "stream",
          "name": "stdout",
          "text": [
            "           ds      y\n",
            "91 1967-08-01  13434\n",
            "92 1967-09-01  13598\n",
            "93 1967-10-01  17187\n",
            "94 1967-11-01  16119\n",
            "95 1967-12-01  13713\n",
            "MAE: 1336.814\n"
          ]
        },
        {
          "output_type": "display_data",
          "data": {
            "text/plain": [
              "<Figure size 432x288 with 1 Axes>"
            ],
            "image/png": "[encoded data removed]"
          },
          "metadata": {
            "needs_background": "light"
          }
        }
      ]
    },
    {
      "cell_type": "markdown",
      "source": [
        "Running the example first reports the last few rows of the training dataset.\n",
        "\n",
        "It confirms the training ends in the last month of 1967 and 1968 will be used as the hold-out dataset.\n",
        "\n",
        "\n",
        "Next, a mean absolute error is calculated for the forecast period.\n",
        "\n",
        "In this case we can see that the error is approximately 1,336 sales, which is much lower (better) than a naive persistence model that achieves an error of 3,235 sales over the same period.\n",
        "\n",
        "Finally, a plot is created comparing the actual vs. predicted values. In this case, we can see that the forecast is a good fit. The model has skill and forecast that looks sensible.\n",
        "\n",
        "The Prophet library also provides tools to automatically evaluate models and plot results, although those tools don’t appear to work well with data above one day in resolution.\n",
        "\n"
      ],
      "metadata": {
        "id": "FaHUBFqBlpNH"
      }
    }
  ]
}