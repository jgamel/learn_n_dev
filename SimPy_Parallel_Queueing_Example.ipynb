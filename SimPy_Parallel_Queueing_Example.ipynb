{
  "nbformat": 4,
  "nbformat_minor": 0,
  "metadata": {
    "colab": {
      "name": "SimPy_Parallel_Queueing_Example.ipynb",
      "provenance": [],
      "collapsed_sections": [],
      "authorship_tag": "ABX9TyNHsDBVInLyflKTwb8lSB1w",
      "include_colab_link": true
    },
    "kernelspec": {
      "name": "python3",
      "display_name": "Python 3"
    },
    "language_info": {
      "name": "python"
    }
  },
  "cells": [
    {
      "cell_type": "markdown",
      "metadata": {
        "id": "view-in-github",
        "colab_type": "text"
      },
      "source": [
        "<a href=\"https://colab.research.google.com/github/jgamel/learn_n_dev/blob/simulation_examples/SimPy_Parallel_Queueing_Example.ipynb\" target=\"_parent\"><img src=\"https://colab.research.google.com/assets/colab-badge.svg\" alt=\"Open In Colab\"/></a>"
      ]
    },
    {
      "cell_type": "markdown",
      "source": [
        "#Simulating a Parallel Queueing System With SimPy"
      ],
      "metadata": {
        "id": "90uu-2oVDiy9"
      }
    },
    {
      "cell_type": "markdown",
      "source": [
        "### SimPy Preliminaries\n",
        "\n",
        "SimPy is a Discrete Event Simulation (DES) package for Python. DES refers to a simulation system which will periodically introduce a specified event as it runs, discrete insofar as each event can be thought of as “happened” or “not happened (yet, or ever)”.\n",
        "\n",
        "In SimPy, the DES system is contained within its Environment class. The user specifies a system which will run for the Environment upon executing Environment.run().\n",
        "Within the Environment , the user can define Process and Resource objects which will dynamically interact as the DES is run. In particular, Process objects are the generators of the discrete events we will be working with while a Resource defines an object to be interacted with in this DES “universe”.\n",
        "\n",
        "In Python, generator objects can be thought of as distinct from functions. Whereas functions have the form of (for some manipulation, foo(a), like a+2 ):"
      ],
      "metadata": {
        "id": "gCHYkRaEDlGa"
      }
    },
    {
      "cell_type": "code",
      "execution_count": 1,
      "metadata": {
        "id": "_RSi5rN3DiTL"
      },
      "outputs": [],
      "source": [
        "def function(a):\n",
        "    return foo(a)"
      ]
    },
    {
      "cell_type": "markdown",
      "source": [
        "generators have the form of:"
      ],
      "metadata": {
        "id": "MR7D-QEKEIsF"
      }
    },
    {
      "cell_type": "code",
      "source": [
        "def generator(a):\n",
        "    yield foo(a)"
      ],
      "metadata": {
        "id": "snoYDCiYEIVE"
      },
      "execution_count": 2,
      "outputs": []
    },
    {
      "cell_type": "markdown",
      "source": [
        "where yield instead denotes a single output which will not cause the generator itself to stop being considered. To make this clear, it is possible to have:"
      ],
      "metadata": {
        "id": "AhNeKDrsERI4"
      }
    },
    {
      "cell_type": "code",
      "source": [
        "def generator(a):\n",
        "    yield foo(a)\n",
        "    print('Wait, I forgot this!')\n",
        "    yield bar(a)"
      ],
      "metadata": {
        "id": "v3O_6EY7ESWA"
      },
      "execution_count": 3,
      "outputs": []
    },
    {
      "cell_type": "markdown",
      "source": [
        "which is useful for an object which will be existing in our universe for a period of time. return would instead immediately end the function and output foo(a) ."
      ],
      "metadata": {
        "id": "7Bih8lryEfWp"
      }
    },
    {
      "cell_type": "markdown",
      "source": [
        "### Parallel Queueing System Example"
      ],
      "metadata": {
        "id": "32YVwqePEiWV"
      }
    },
    {
      "cell_type": "markdown",
      "source": [
        "![1_w4ESg_1p9U5rl8YLHuaL6Q.png](data:image/png;base64,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)"
      ],
      "metadata": {
        "id": "38RD67cKEyt4"
      }
    },
    {
      "cell_type": "markdown",
      "source": [
        "This example is a translation of this example from SimPy Classic. In this scenario, we are implementing what is known as the Join the Shortest Queue (JSQ) algorithm, wherein a job will choose the queue with the smallest wait time. In our DES universe, the jobs will be “Customers” and the servers will be “Counters” at a bank. There are two counters currently servicing patrons and the patrons are smart enough to not to join the bigger of the two lines."
      ],
      "metadata": {
        "id": "K75lWiA8E8qq"
      }
    },
    {
      "cell_type": "markdown",
      "source": [
        "To start, let us run our system until either 30 customers are generated and complete their time in the environment or if some period of time (400 arbitrary units of time) have passed. Let us also choose an average time for each customer to spend in the bank and the mean of our arrival process. For simplicity, we will assume both the service and arrival processes to be exponential."
      ],
      "metadata": {
        "id": "u_7vs9v6FJ3d"
      }
    },
    {
      "cell_type": "code",
      "source": [
        "!pip install simpy"
      ],
      "metadata": {
        "colab": {
          "base_uri": "https://localhost:8080/"
        },
        "id": "SNxVXlxXFKzo",
        "outputId": "a1535dae-fc47-4bf0-dd58-01985485aae3"
      },
      "execution_count": 4,
      "outputs": [
        {
          "output_type": "stream",
          "name": "stdout",
          "text": [
            "Collecting simpy\n",
            "  Downloading simpy-4.0.1-py2.py3-none-any.whl (29 kB)\n",
            "Installing collected packages: simpy\n",
            "Successfully installed simpy-4.0.1\n"
          ]
        }
      ]
    },
    {
      "cell_type": "code",
      "source": [
        "from simpy import *\n",
        "import random\n",
        "\n",
        "maxNumber = 30      # Max number of customers\n",
        "maxTime = 400.0     # Rumtime limit\n",
        "timeInBank = 20.0   # Mean time in bank\n",
        "arrivalMean = 10.0  # Mean of arrival process\n",
        "seed = 12345        # Seed for simulation"
      ],
      "metadata": {
        "id": "ovqW0rRMFMqv"
      },
      "execution_count": 5,
      "outputs": []
    },
    {
      "cell_type": "markdown",
      "source": [
        "Now comes our definition of a Customer, a Process which will be generated by an arrival process. The logic for how the Customer will behave in our simulation is:"
      ],
      "metadata": {
        "id": "2Uh_QwmJFWAv"
      }
    },
    {
      "cell_type": "code",
      "source": [
        "def Customer(env, name, counters):\n",
        "    arrive = env.now\n",
        "    Qlength = [NoInSystem(counters[i]) for i in range(len(counters))]\n",
        "    print(\"%7.4f %s: Here I am. %s\" % (env.now, name, Qlength))\n",
        "    for i in range(len(Qlength)):\n",
        "        if Qlength[i] == 0 or Qlength[i] == min(Qlength):\n",
        "            choice = i  # the chosen queue number\n",
        "            break\n",
        "    with counters[choice].request() as req:\n",
        "        # Wait for the counter\n",
        "        yield req\n",
        "        wait = env.now - arrive\n",
        "        # We got to the counter\n",
        "        print('%7.4f %s: Waited %6.3f' % (env.now, name, wait))\n",
        "        tib = random.expovariate(1.0 / timeInBank)\n",
        "        yield env.timeout(tib)\n",
        "        print('%7.4f %s: Finished' % (env.now, name))\n",
        "\n",
        "\n",
        "def NoInSystem(R: Resource):\n",
        "    \"\"\"Total number of customers in the resource R\"\"\"\n",
        "    return max([0, len(R.put_queue) + len(R.users)])\n"
      ],
      "metadata": {
        "id": "e4cs4A0_FWpx"
      },
      "execution_count": 6,
      "outputs": []
    },
    {
      "cell_type": "markdown",
      "source": [
        "We begin by logging the arrival time (env=Environment()), followed by using Qlength to store the current queue sizes. The arriving customer then decides to think out loud, printing their arrival time, name, and the length of each queue into our console (his name will be defined later, we are yet to define our arrival process!)\n",
        "\n",
        "They then choose the smallest of the queues and wait in line ( yield req ). When it gets to their turn, they then rudely exclaim the current time and how long they had waited to the teller. A random service time is then chosen ( tib ) and is modeled by yielding a “timeout” for this time. Following this, our patron states that they are finished and the time, leaving the bank for the great unknown.\n",
        "\n",
        "As for their arrival process, it is defined as:"
      ],
      "metadata": {
        "id": "Ig-Q8-ENFd_Y"
      }
    },
    {
      "cell_type": "code",
      "source": [
        "def Source(env, number, interval, counters):\n",
        "    for i in range(number):\n",
        "        c = Customer(env, 'Customer%02d' % i, counters)\n",
        "        env.process(c)\n",
        "        t = random.expovariate(1.0 / interval)\n",
        "        yield env.timeout(t)"
      ],
      "metadata": {
        "id": "ogCcQ_FDFrYn"
      },
      "execution_count": 7,
      "outputs": []
    },
    {
      "cell_type": "markdown",
      "source": [
        "where number will be filled by our maximum of 30.\n",
        "\n",
        "Lastly, after initializing our simulation, the program will look like:"
      ],
      "metadata": {
        "id": "V0SPpwq_FwPV"
      }
    },
    {
      "cell_type": "code",
      "source": [
        "\"\"\"\n",
        "Bank with multiple queues example\n",
        "Covers:\n",
        "- Resources: Resource\n",
        "- Iterating processes\n",
        "Scenario:\n",
        "  A multi-counter bank with a random service time and customers arrival process. Based on the\n",
        "  program bank10.py from TheBank tutorial of SimPy 2. (KGM)\n",
        "\n",
        "\"\"\"\n",
        "from simpy import *\n",
        "import random\n",
        "\n",
        "maxNumber = 30      # Max number of customers\n",
        "maxTime = 400.0     # Rumtime limit\n",
        "timeInBank = 20.0   # Mean time in bank\n",
        "arrivalMean = 10.0  # Mean of arrival process\n",
        "seed = 12345        # Seed for simulation\n",
        "\n",
        "\n",
        "def Customer(env, name, counters):\n",
        "    arrive = env.now\n",
        "    Qlength = [NoInSystem(counters[i]) for i in range(len(counters))]\n",
        "    print(\"%7.4f %s: Here I am. %s\" % (env.now, name, Qlength))\n",
        "    for i in range(len(Qlength)):\n",
        "        if Qlength[i] == 0 or Qlength[i] == min(Qlength):\n",
        "            choice = i  # the chosen queue number\n",
        "            break\n",
        "    with counters[choice].request() as req:\n",
        "        # Wait for the counter\n",
        "        yield req\n",
        "        wait = env.now - arrive\n",
        "        # We got to the counter\n",
        "        print('%7.4f %s: Waited %6.3f' % (env.now, name, wait))\n",
        "        tib = random.expovariate(1.0 / timeInBank)\n",
        "        yield env.timeout(tib)\n",
        "        print('%7.4f %s: Finished' % (env.now, name))\n",
        "\n",
        "\n",
        "def NoInSystem(R):\n",
        "    \"\"\"Total number of customers in the resource R\"\"\"\n",
        "    return max([0, len(R.put_queue) + len(R.users)])\n",
        "\n",
        "\n",
        "def Source(env, number, interval, counters):\n",
        "    for i in range(number):\n",
        "        c = Customer(env, 'Customer%02d' % i, counters)\n",
        "        env.process(c)\n",
        "        t = random.expovariate(1.0 / interval)\n",
        "        yield env.timeout(t)\n",
        "\n",
        "\n",
        "# Setup and start the simulation\n",
        "print('Bank with multiple queues')\n",
        "random.seed(seed)\n",
        "env = Environment()\n",
        "\n",
        "counters = [Resource(env), Resource(env)]\n",
        "env.process(Source(env, maxNumber, arrivalMean, counters))\n",
        "env.run(until=maxTime)\n"
      ],
      "metadata": {
        "colab": {
          "base_uri": "https://localhost:8080/"
        },
        "id": "XpFLsmxQFxoG",
        "outputId": "4c40998a-d911-4d38-9ee0-5496bf45a26a"
      },
      "execution_count": 8,
      "outputs": [
        {
          "output_type": "stream",
          "name": "stdout",
          "text": [
            "Bank with multiple queues\n",
            " 0.0000 Customer00: Here I am. [0, 0]\n",
            " 0.0000 Customer00: Waited  0.000\n",
            " 0.2044 Customer00: Finished\n",
            " 5.3892 Customer01: Here I am. [0, 0]\n",
            " 5.3892 Customer01: Waited  0.000\n",
            "12.4838 Customer01: Finished\n",
            "22.8307 Customer02: Here I am. [0, 0]\n",
            "22.8307 Customer02: Waited  0.000\n",
            "27.1357 Customer02: Finished\n",
            "27.4258 Customer03: Here I am. [0, 0]\n",
            "27.4258 Customer03: Waited  0.000\n",
            "30.9531 Customer03: Finished\n",
            "35.7731 Customer04: Here I am. [0, 0]\n",
            "35.7731 Customer04: Waited  0.000\n",
            "37.1001 Customer05: Here I am. [1, 0]\n",
            "37.1001 Customer05: Waited  0.000\n",
            "40.9316 Customer05: Finished\n",
            "45.3572 Customer06: Here I am. [1, 0]\n",
            "45.3572 Customer06: Waited  0.000\n",
            "47.1188 Customer04: Finished\n",
            "53.4141 Customer07: Here I am. [0, 1]\n",
            "53.4141 Customer07: Waited  0.000\n",
            "54.1243 Customer06: Finished\n",
            "55.3288 Customer07: Finished\n",
            "85.1304 Customer08: Here I am. [0, 0]\n",
            "85.1304 Customer08: Waited  0.000\n",
            "95.7551 Customer08: Finished\n",
            "123.5928 Customer09: Here I am. [0, 0]\n",
            "123.5928 Customer09: Waited  0.000\n",
            "126.7996 Customer09: Finished\n",
            "130.6033 Customer10: Here I am. [0, 0]\n",
            "130.6033 Customer10: Waited  0.000\n",
            "134.8170 Customer10: Finished\n",
            "143.2961 Customer11: Here I am. [0, 0]\n",
            "143.2961 Customer11: Waited  0.000\n",
            "143.7722 Customer11: Finished\n",
            "147.4749 Customer12: Here I am. [0, 0]\n",
            "147.4749 Customer12: Waited  0.000\n",
            "151.6228 Customer13: Here I am. [1, 0]\n",
            "151.6228 Customer13: Waited  0.000\n",
            "178.9158 Customer13: Finished\n",
            "190.1596 Customer14: Here I am. [1, 0]\n",
            "190.1596 Customer14: Waited  0.000\n",
            "190.1942 Customer15: Here I am. [1, 1]\n",
            "210.6556 Customer16: Here I am. [2, 1]\n",
            "215.9945 Customer12: Finished\n",
            "215.9945 Customer15: Waited 25.800\n",
            "219.9360 Customer15: Finished\n",
            "225.3887 Customer17: Here I am. [0, 2]\n",
            "225.3887 Customer17: Waited  0.000\n",
            "226.4367 Customer18: Here I am. [1, 2]\n",
            "236.0956 Customer17: Finished\n",
            "236.0956 Customer18: Waited  9.659\n",
            "246.5075 Customer14: Finished\n",
            "246.5075 Customer16: Waited 35.852\n",
            "248.1117 Customer19: Here I am. [1, 1]\n",
            "250.7595 Customer20: Here I am. [2, 1]\n",
            "253.3547 Customer18: Finished\n",
            "253.3547 Customer19: Waited  5.243\n",
            "258.1744 Customer21: Here I am. [1, 2]\n",
            "273.1878 Customer16: Finished\n",
            "273.1878 Customer20: Waited 22.428\n",
            "275.5946 Customer22: Here I am. [2, 1]\n",
            "278.0699 Customer19: Finished\n",
            "278.0699 Customer21: Waited 19.895\n",
            "278.2383 Customer23: Here I am. [1, 2]\n",
            "280.6766 Customer24: Here I am. [2, 2]\n",
            "296.8664 Customer25: Here I am. [3, 2]\n",
            "304.9651 Customer26: Here I am. [3, 3]\n",
            "306.1020 Customer20: Finished\n",
            "306.1020 Customer22: Waited 30.507\n",
            "307.0210 Customer27: Here I am. [4, 2]\n",
            "314.3240 Customer28: Here I am. [4, 3]\n",
            "319.3712 Customer21: Finished\n",
            "319.3712 Customer23: Waited 41.133\n",
            "320.2197 Customer23: Finished\n",
            "320.2197 Customer24: Waited 39.543\n",
            "323.8056 Customer24: Finished\n",
            "323.8056 Customer26: Waited 18.840\n",
            "323.8662 Customer22: Finished\n",
            "323.8662 Customer25: Waited 27.000\n",
            "346.1839 Customer29: Here I am. [1, 3]\n",
            "359.5664 Customer25: Finished\n",
            "359.5664 Customer27: Waited 52.545\n",
            "364.7707 Customer27: Finished\n",
            "364.7707 Customer28: Waited 50.447\n",
            "380.2638 Customer28: Finished\n"
          ]
        }
      ]
    },
    {
      "cell_type": "markdown",
      "source": [
        "We see, in this case, that it takes up until t=88 for our queues to begin forming. \n",
        "\n",
        "Moreover, the maxTime was not passed as all 30 customers (0 to 29) were first serviced."
      ],
      "metadata": {
        "id": "ygrdDQ-dGAeP"
      }
    },
    {
      "cell_type": "markdown",
      "source": [
        "## Extension to JSQ(d)"
      ],
      "metadata": {
        "id": "wSu71n-WJPn3"
      }
    },
    {
      "cell_type": "markdown",
      "source": [
        "![1_GhfKAA06Y4HmjpfaMefJAQ.png](data:image/png;base64,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)"
      ],
      "metadata": {
        "id": "kboDTNfDJQ1X"
      }
    },
    {
      "cell_type": "markdown",
      "source": [
        "An important advance in network engineering has been the adoption of routing algorithms which do not parse all queues when finding the smallest queue to join. Rather, Join the Shortest Queue-(d) (JSQ(d)) will parse d of the queues and join the shortest of these. In a world where cloud computing networks might have a farm of processors numbering in the hundreds or even thousands, the time needed to parse each can be costly. Such has reigned in the study of “load-balancing” algorithms like JSQ(d).\n",
        "\n",
        "As an example, let us assume the red dots in the following to represent a job under JSQ(2)"
      ],
      "metadata": {
        "id": "lxAwuASOJeHW"
      }
    },
    {
      "cell_type": "markdown",
      "source": [
        "![1_6vwLyV5EfASUDxC831T0Yg.png](data:image/png;base64,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)"
      ],
      "metadata": {
        "id": "hiOO7-HhLAzN"
      }
    },
    {
      "cell_type": "markdown",
      "source": [
        "The job which just arrived is placed in the square box and shall now choose its queue by counting the jobs of 2 randomly selected queues. In the following, if the blue circles represent the sampled queues, then clearly the optimal choice is the second queue to the right."
      ],
      "metadata": {
        "id": "jl6_q51eLDyU"
      }
    },
    {
      "cell_type": "markdown",
      "source": [
        "![1_1WfBt7NGIL1U4dRBauKZ-Q.png](data:image/png;base64,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)"
      ],
      "metadata": {
        "id": "89E0xTuKM_4X"
      }
    },
    {
      "cell_type": "markdown",
      "source": [
        "## JSQ(d) in SimPy"
      ],
      "metadata": {
        "id": "ypxqOrO8NCuI"
      }
    },
    {
      "cell_type": "markdown",
      "source": [
        "JSQ(d) is the easiest load balancing method to extend our bank example. In this case, we only technically need to modify the prior code to include the logic for choosing from a subset of queues.\n",
        "\n",
        "Noting first the inclusion of doPrint , a parameter which can be set to reduce the amount of output in the console, we arrive at the following modification of the job process:"
      ],
      "metadata": {
        "id": "GS9cehbPNI7G"
      }
    },
    {
      "cell_type": "code",
      "source": [
        "def job(env, name, counters):\n",
        "    arrive = env.now\n",
        "    Qlength = {i: NoInSystem(counters[i]) for i in QueueSelector(d, counters)}\n",
        "    if doPrint:\n",
        "        print(\"%7.4f %s: Arrival \" % (arrive, name))\n",
        "    Queues.append({i: len(counters[i].put_queue) for i in range(len(counters))})\n",
        "    choice = [k for k, v in sorted(Qlength.items(), key=lambda a: a[1])][0]\n",
        "    with counters[choice].request() as req:\n",
        "        # Wait in queue\n",
        "        yield req\n",
        "        wait = env.now - arrive\n",
        "        # We got to the server\n",
        "        if doPrint:\n",
        "            print('%7.4f %s: Waited %6.3f' % (env.now, name, wait))\n",
        "        tib = random.expovariate(1.0 / timeInBank)\n",
        "        yield env.timeout(tib)\n",
        "        Queues.append({i: len(counters[i].put_queue) for i in range(len(counters))})\n",
        "        if doPrint:\n",
        "            print('%7.4f %s: Finished' % (env.now, name))"
      ],
      "metadata": {
        "id": "TncixtyiNHcK"
      },
      "execution_count": 9,
      "outputs": []
    },
    {
      "cell_type": "markdown",
      "source": [
        "In this case,\n",
        "\n",
        "```\n",
        "choice = [k for k, v in sorted(Qlength.items(), key=lambda a: a[1])][0]\n",
        "```\n",
        "\n",
        "refers to the action of first sorting the items of the dictionary (which are of form ```{queue: queue_size for queue in queues}``` ) from smallest to largest and then selecting the smallest queue now the first item in the list. Do note that in Python, the 0th element refers to the first item in an interable object.\n",
        "\n",
        "At last, along with the addition of an ```noJobCap``` parameter to allow for easy switching between having or not having a maximum allowed number of jobs in the system, we have:"
      ],
      "metadata": {
        "id": "AuQjiHUXNTYF"
      }
    },
    {
      "cell_type": "code",
      "source": [
        "## jsqd.py\n",
        "\"\"\"\n",
        "A queueing system wherein a job chooses the smallest queue of d sampled queues to join.\n",
        "This is a so-called load balancing routing algorithm and is meant for larger parallel\n",
        "systems where parsing all queue sizes would be cost-inefficient\n",
        "MIT License\n",
        "ⓒ 2020 Aaron Janeiro Stone\n",
        "\"\"\"\n",
        "import random\n",
        "from simpy import *\n",
        "import pandas as pd\n",
        "import matplotlib.pyplot as plt\n",
        "\n",
        "number = 300  # Max number of jobs if infinite is false\n",
        "noJobCap = True  # For infinite\n",
        "maxTime = 100000.0  # Runtime limit\n",
        "timeInBank = 20.0  # Mean time in bank\n",
        "arrivalMean = 2.0  # Mean of arrival process\n",
        "seed = 204204  # Seed for RNG\n",
        "parallelism = 10  # Number of queues\n",
        "d = 2  # Number of queues to parse\n",
        "doPrint = False  # True => print every arrival and wait time\n",
        "\n",
        "if noJobCap == True:\n",
        "    number = 0\n",
        "\n",
        "Queues = []\n",
        "\n",
        "\n",
        "def job(env, name, counters):\n",
        "    arrive = env.now\n",
        "    Qlength = {i: NoInSystem(counters[i]) for i in QueueSelector(d, counters)}\n",
        "    if doPrint:\n",
        "        print(\"%7.4f %s: Arrival \" % (arrive, name))\n",
        "    Queues.append({i: len(counters[i].put_queue) for i in range(len(counters))})\n",
        "    choice = [k for k, v in sorted(Qlength.items(), key=lambda a: a[1])][0]\n",
        "    with counters[choice].request() as req:\n",
        "        # Wait in queue\n",
        "        yield req\n",
        "        wait = env.now - arrive\n",
        "        # We got to the server\n",
        "        if doPrint:\n",
        "            print('%7.4f %s: Waited %6.3f' % (env.now, name, wait))\n",
        "        tib = random.expovariate(1.0 / timeInBank)\n",
        "        yield env.timeout(tib)\n",
        "        Queues.append({i: len(counters[i].put_queue) for i in range(len(counters))})\n",
        "        if doPrint:\n",
        "            print('%7.4f %s: Finished' % (env.now, name))\n",
        "\n",
        "\n",
        "def NoInSystem(R):\n",
        "    \"\"\"Total number of jobs in the resource R\"\"\"\n",
        "    return len(R.put_queue) + len(R.users)\n",
        "\n",
        "\n",
        "def QueueSelector(d, counters):\n",
        "    return random.sample(range(len(counters)), d)\n",
        "\n",
        "\n",
        "def Source(env, number, interval, counters):\n",
        "    if noJobCap == False:\n",
        "        for i in range(number):\n",
        "            c = job(env, 'job%02d' % i, counters)\n",
        "            env.process(c)\n",
        "            t = random.expovariate(1.0 / interval)\n",
        "            yield env.timeout(t)\n",
        "    else:\n",
        "        while True:  # Needed for infinite case as True refers to \"until\".\n",
        "            i = number\n",
        "            number += 1\n",
        "            c = job(env, 'job%02d' % i, counters)\n",
        "            env.process(c)\n",
        "            t = random.expovariate(1.0 / interval)\n",
        "            yield env.timeout(t)\n",
        "\n",
        "\n",
        "# Setup and start the simulation\n",
        "random.seed(seed)\n",
        "env = Environment()\n",
        "\n",
        "counters = {i: Resource(env) for i in range(parallelism)}\n",
        "env.process(Source(env, number, arrivalMean, counters))\n",
        "print(f'\\n Running simulation with seed {seed}... \\n')\n",
        "env.run(until=maxTime)\n",
        "print('\\n Done \\n')\n",
        "\n",
        "df = pd.DataFrame(Queues).plot()\n",
        "plt.title(\"Individual Queue Loads\")\n",
        "plt.show()\n"
      ],
      "metadata": {
        "colab": {
          "base_uri": "https://localhost:8080/",
          "height": 388
        },
        "id": "CzGcNVxeNZ51",
        "outputId": "ed8a78ca-7680-47bf-e07e-b79aefc870b1"
      },
      "execution_count": 11,
      "outputs": [
        {
          "output_type": "stream",
          "name": "stdout",
          "text": [
            "\n",
            " Running simulation with seed 204204... \n",
            "\n",
            "\n",
            " Done \n",
            "\n"
          ]
        },
        {
          "output_type": "display_data",
          "data": {
            "text/plain": [
              "<Figure size 432x288 with 1 Axes>"
            ],
            "image/png": "[encoded data removed]"
          },
          "metadata": {
            "needs_background": "light"
          }
        }
      ]
    },
    {
      "cell_type": "markdown",
      "source": [
        "Clearly, we can see why this would be considered a “load balancing” algorithm; over time, the workload is distributed evenly across all queues."
      ],
      "metadata": {
        "id": "mp8N8ciSOBZI"
      }
    }
  ]
}