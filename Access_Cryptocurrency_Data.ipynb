{
  "nbformat": 4,
  "nbformat_minor": 0,
  "metadata": {
    "colab": {
      "name": "Access_Cryptocurrency_Data.ipynb",
      "provenance": [],
      "authorship_tag": "ABX9TyPsZRAN2NHjRrzXxclBvk0l",
      "include_colab_link": true
    },
    "kernelspec": {
      "name": "python3",
      "display_name": "Python 3"
    },
    "language_info": {
      "name": "python"
    }
  },
  "cells": [
    {
      "cell_type": "markdown",
      "metadata": {
        "id": "view-in-github",
        "colab_type": "text"
      },
      "source": [
        "<a href=\"https://colab.research.google.com/github/jgamel/learn_n_dev/blob/blockchain/Access_Cryptocurrency_Data.ipynb\" target=\"_parent\"><img src=\"https://colab.research.google.com/assets/colab-badge.svg\" alt=\"Open In Colab\"/></a>"
      ]
    },
    {
      "cell_type": "markdown",
      "source": [
        "#Access Cryptocurrency Data in 2 Lines of Python\n",
        "\n",
        "Use fastquant to easily pull crypto data for your own analysis"
      ],
      "metadata": {
        "id": "qFNDPqCzzwYB"
      }
    },
    {
      "cell_type": "markdown",
      "source": [
        "Install fastquant with pip"
      ],
      "metadata": {
        "id": "hG5jxgb90MLg"
      }
    },
    {
      "cell_type": "code",
      "execution_count": 1,
      "metadata": {
        "colab": {
          "base_uri": "https://localhost:8080/"
        },
        "id": "JOzA7jmZwtBA",
        "outputId": "212d280d-cc4b-42d4-e607-607d349d3c1e"
      },
      "outputs": [
        {
          "output_type": "stream",
          "name": "stdout",
          "text": [
            "Looking in indexes: https://pypi.org/simple, https://us-python.pkg.dev/colab-wheels/public/simple/\n",
            "Requirement already satisfied: fastquant in /usr/local/lib/python3.7/dist-packages (0.1.8.0)\n",
            "Requirement already satisfied: tqdm>=4.28.1 in /usr/local/lib/python3.7/dist-packages (from fastquant) (4.64.0)\n",
            "Requirement already satisfied: black>=19.10b0 in /usr/local/lib/python3.7/dist-packages (from fastquant) (22.3.0)\n",
            "Requirement already satisfied: croniter>=0.3.35 in /usr/local/lib/python3.7/dist-packages (from fastquant) (1.3.5)\n",
            "Requirement already satisfied: scipy in /usr/local/lib/python3.7/dist-packages (from fastquant) (1.4.1)\n",
            "Requirement already satisfied: soupsieve>=1.9.5 in /usr/local/lib/python3.7/dist-packages (from fastquant) (2.3.2.post1)\n",
            "Requirement already satisfied: bs4>=0.0.1 in /usr/local/lib/python3.7/dist-packages (from fastquant) (0.0.1)\n",
            "Requirement already satisfied: tweepy>=3.8.0 in /usr/local/lib/python3.7/dist-packages (from fastquant) (3.10.0)\n",
            "Requirement already satisfied: nltk>=3.5 in /usr/local/lib/python3.7/dist-packages (from fastquant) (3.7)\n",
            "Requirement already satisfied: idna>=2.8 in /usr/local/lib/python3.7/dist-packages (from fastquant) (2.10)\n",
            "Requirement already satisfied: certifi>=2019.11.28 in /usr/local/lib/python3.7/dist-packages (from fastquant) (2022.5.18.1)\n",
            "Requirement already satisfied: numpy>=1.18.0 in /usr/local/lib/python3.7/dist-packages (from fastquant) (1.21.6)\n",
            "Requirement already satisfied: requests>=2.22.0 in /usr/local/lib/python3.7/dist-packages (from fastquant) (2.23.0)\n",
            "Requirement already satisfied: chardet>=3.0.4 in /usr/local/lib/python3.7/dist-packages (from fastquant) (3.0.4)\n",
            "Requirement already satisfied: requests-oauthlib>=1.3.0 in /usr/local/lib/python3.7/dist-packages (from fastquant) (1.3.1)\n",
            "Requirement already satisfied: python-dateutil>=2.8.1 in /usr/local/lib/python3.7/dist-packages (from fastquant) (2.8.2)\n",
            "Requirement already satisfied: ccxt>=1.31.1 in /usr/local/lib/python3.7/dist-packages (from fastquant) (1.83.71)\n",
            "Requirement already satisfied: pytz>=2019.3 in /usr/local/lib/python3.7/dist-packages (from fastquant) (2022.1)\n",
            "Requirement already satisfied: pre-commit in /usr/local/lib/python3.7/dist-packages (from fastquant) (2.19.0)\n",
            "Requirement already satisfied: lxml>=4.6.2 in /usr/local/lib/python3.7/dist-packages (from fastquant) (4.8.0)\n",
            "Requirement already satisfied: backtrader>=1.9.75.123 in /usr/local/lib/python3.7/dist-packages (from fastquant) (1.9.76.123)\n",
            "Requirement already satisfied: yfinance>=0.1.54 in /usr/local/lib/python3.7/dist-packages (from fastquant) (0.1.67)\n",
            "Requirement already satisfied: beautifulsoup4>=4.8.2 in /usr/local/lib/python3.7/dist-packages (from fastquant) (4.11.1)\n",
            "Requirement already satisfied: urllib3>=1.25.7 in /usr/local/lib/python3.7/dist-packages (from fastquant) (1.25.11)\n",
            "Requirement already satisfied: oauthlib>=3.1.0 in /usr/local/lib/python3.7/dist-packages (from fastquant) (3.2.0)\n",
            "Requirement already satisfied: PySocks>=1.7.1 in /usr/local/lib/python3.7/dist-packages (from fastquant) (1.7.1)\n",
            "Requirement already satisfied: six>=1.13.0 in /usr/local/lib/python3.7/dist-packages (from fastquant) (1.15.0)\n",
            "Requirement already satisfied: matplotlib>=3.2.2 in /usr/local/lib/python3.7/dist-packages (from fastquant) (3.2.2)\n",
            "Requirement already satisfied: networkx>=2.4 in /usr/local/lib/python3.7/dist-packages (from fastquant) (2.6.3)\n",
            "Requirement already satisfied: pandas==1.1.5 in /usr/local/lib/python3.7/dist-packages (from fastquant) (1.1.5)\n",
            "Requirement already satisfied: typing-extensions>=3.10.0.0 in /usr/local/lib/python3.7/dist-packages (from black>=19.10b0->fastquant) (4.2.0)\n",
            "Requirement already satisfied: pathspec>=0.9.0 in /usr/local/lib/python3.7/dist-packages (from black>=19.10b0->fastquant) (0.9.0)\n",
            "Requirement already satisfied: platformdirs>=2 in /usr/local/lib/python3.7/dist-packages (from black>=19.10b0->fastquant) (2.5.2)\n",
            "Requirement already satisfied: click>=8.0.0 in /usr/local/lib/python3.7/dist-packages (from black>=19.10b0->fastquant) (8.1.3)\n",
            "Requirement already satisfied: mypy-extensions>=0.4.3 in /usr/local/lib/python3.7/dist-packages (from black>=19.10b0->fastquant) (0.4.3)\n",
            "Requirement already satisfied: typed-ast>=1.4.2 in /usr/local/lib/python3.7/dist-packages (from black>=19.10b0->fastquant) (1.5.4)\n",
            "Requirement already satisfied: tomli>=1.1.0 in /usr/local/lib/python3.7/dist-packages (from black>=19.10b0->fastquant) (2.0.1)\n",
            "Requirement already satisfied: setuptools>=60.9.0 in /usr/local/lib/python3.7/dist-packages (from ccxt>=1.31.1->fastquant) (62.3.2)\n",
            "Requirement already satisfied: cryptography>=2.6.1 in /usr/local/lib/python3.7/dist-packages (from ccxt>=1.31.1->fastquant) (37.0.2)\n",
            "Requirement already satisfied: yarl==1.7.2 in /usr/local/lib/python3.7/dist-packages (from ccxt>=1.31.1->fastquant) (1.7.2)\n",
            "Requirement already satisfied: aiodns>=1.1.1 in /usr/local/lib/python3.7/dist-packages (from ccxt>=1.31.1->fastquant) (3.0.0)\n",
            "Requirement already satisfied: aiohttp>=3.8 in /usr/local/lib/python3.7/dist-packages (from ccxt>=1.31.1->fastquant) (3.8.1)\n",
            "Requirement already satisfied: multidict>=4.0 in /usr/local/lib/python3.7/dist-packages (from yarl==1.7.2->ccxt>=1.31.1->fastquant) (6.0.2)\n",
            "Requirement already satisfied: pycares>=4.0.0 in /usr/local/lib/python3.7/dist-packages (from aiodns>=1.1.1->ccxt>=1.31.1->fastquant) (4.1.2)\n",
            "Requirement already satisfied: frozenlist>=1.1.1 in /usr/local/lib/python3.7/dist-packages (from aiohttp>=3.8->ccxt>=1.31.1->fastquant) (1.3.0)\n",
            "Requirement already satisfied: asynctest==0.13.0 in /usr/local/lib/python3.7/dist-packages (from aiohttp>=3.8->ccxt>=1.31.1->fastquant) (0.13.0)\n",
            "Requirement already satisfied: charset-normalizer<3.0,>=2.0 in /usr/local/lib/python3.7/dist-packages (from aiohttp>=3.8->ccxt>=1.31.1->fastquant) (2.0.12)\n",
            "Requirement already satisfied: attrs>=17.3.0 in /usr/local/lib/python3.7/dist-packages (from aiohttp>=3.8->ccxt>=1.31.1->fastquant) (21.4.0)\n",
            "Requirement already satisfied: aiosignal>=1.1.2 in /usr/local/lib/python3.7/dist-packages (from aiohttp>=3.8->ccxt>=1.31.1->fastquant) (1.2.0)\n",
            "Requirement already satisfied: async-timeout<5.0,>=4.0.0a3 in /usr/local/lib/python3.7/dist-packages (from aiohttp>=3.8->ccxt>=1.31.1->fastquant) (4.0.2)\n",
            "Requirement already satisfied: importlib-metadata in /usr/local/lib/python3.7/dist-packages (from click>=8.0.0->black>=19.10b0->fastquant) (4.11.3)\n",
            "Requirement already satisfied: cffi>=1.12 in /usr/local/lib/python3.7/dist-packages (from cryptography>=2.6.1->ccxt>=1.31.1->fastquant) (1.15.0)\n",
            "Requirement already satisfied: pycparser in /usr/local/lib/python3.7/dist-packages (from cffi>=1.12->cryptography>=2.6.1->ccxt>=1.31.1->fastquant) (2.21)\n",
            "Requirement already satisfied: cycler>=0.10 in /usr/local/lib/python3.7/dist-packages (from matplotlib>=3.2.2->fastquant) (0.11.0)\n",
            "Requirement already satisfied: kiwisolver>=1.0.1 in /usr/local/lib/python3.7/dist-packages (from matplotlib>=3.2.2->fastquant) (1.4.2)\n",
            "Requirement already satisfied: pyparsing!=2.0.4,!=2.1.2,!=2.1.6,>=2.0.1 in /usr/local/lib/python3.7/dist-packages (from matplotlib>=3.2.2->fastquant) (3.0.9)\n",
            "Requirement already satisfied: joblib in /usr/local/lib/python3.7/dist-packages (from nltk>=3.5->fastquant) (1.1.0)\n",
            "Requirement already satisfied: regex>=2021.8.3 in /usr/local/lib/python3.7/dist-packages (from nltk>=3.5->fastquant) (2022.4.24)\n",
            "Requirement already satisfied: multitasking>=0.0.7 in /usr/local/lib/python3.7/dist-packages (from yfinance>=0.1.54->fastquant) (0.0.10)\n",
            "Requirement already satisfied: zipp>=0.5 in /usr/local/lib/python3.7/dist-packages (from importlib-metadata->click>=8.0.0->black>=19.10b0->fastquant) (3.8.0)\n",
            "Requirement already satisfied: toml in /usr/local/lib/python3.7/dist-packages (from pre-commit->fastquant) (0.10.2)\n",
            "Requirement already satisfied: virtualenv>=20.0.8 in /usr/local/lib/python3.7/dist-packages (from pre-commit->fastquant) (20.14.1)\n",
            "Requirement already satisfied: pyyaml>=5.1 in /usr/local/lib/python3.7/dist-packages (from pre-commit->fastquant) (6.0)\n",
            "Requirement already satisfied: cfgv>=2.0.0 in /usr/local/lib/python3.7/dist-packages (from pre-commit->fastquant) (3.3.1)\n",
            "Requirement already satisfied: identify>=1.0.0 in /usr/local/lib/python3.7/dist-packages (from pre-commit->fastquant) (2.5.1)\n",
            "Requirement already satisfied: nodeenv>=0.11.1 in /usr/local/lib/python3.7/dist-packages (from pre-commit->fastquant) (1.6.0)\n",
            "Requirement already satisfied: filelock<4,>=3.2 in /usr/local/lib/python3.7/dist-packages (from virtualenv>=20.0.8->pre-commit->fastquant) (3.7.0)\n",
            "Requirement already satisfied: distlib<1,>=0.3.1 in /usr/local/lib/python3.7/dist-packages (from virtualenv>=20.0.8->pre-commit->fastquant) (0.3.4)\n"
          ]
        }
      ],
      "source": [
        "!pip install fastquant"
      ]
    },
    {
      "cell_type": "markdown",
      "source": [
        "Pull Bitcoin prices in USD (BTC / USDT)"
      ],
      "metadata": {
        "id": "KX0LwnUC0QVy"
      }
    },
    {
      "cell_type": "code",
      "source": [
        "from fastquant import get_crypto_data\n",
        "crypto = get_crypto_data(\"BTC/USDT\", \"2019-05-01\", \"2022-05-23\")\n",
        "crypto.head()"
      ],
      "metadata": {
        "colab": {
          "base_uri": "https://localhost:8080/",
          "height": 238
        },
        "id": "yiGHc-YSw5NW",
        "outputId": "a4ac75a9-49ac-40f1-8b21-d15172e4fbfa"
      },
      "execution_count": 3,
      "outputs": [
        {
          "output_type": "execute_result",
          "data": {
            "text/plain": [
              "               open    high      low    close        volume\n",
              "dt                                                         \n",
              "2019-05-01  5321.94  5402.0  5316.20  5383.20  17217.473216\n",
              "2019-05-02  5383.20  5538.0  5370.00  5492.87  22795.787835\n",
              "2019-05-03  5494.81  5844.0  5477.57  5772.69  46297.172849\n",
              "2019-05-04  5770.62  5900.0  5587.45  5829.45  39682.408991\n",
              "2019-05-05  5829.83  5839.9  5696.00  5775.62  23822.543775"
            ],
            "text/html": [
              "\n",
              "  <div id=\"df-d3f895ea-be84-407e-adad-293c278eb61f\">\n",
              "    <div class=\"colab-df-container\">\n",
              "      <div>\n",
              "<style scoped>\n",
              "    .dataframe tbody tr th:only-of-type {\n",
              "        vertical-align: middle;\n",
              "    }\n",
              "\n",
              "    .dataframe tbody tr th {\n",
              "        vertical-align: top;\n",
              "    }\n",
              "\n",
              "    .dataframe thead th {\n",
              "        text-align: right;\n",
              "    }\n",
              "</style>\n",
              "<table border=\"1\" class=\"dataframe\">\n",
              "  <thead>\n",
              "    <tr style=\"text-align: right;\">\n",
              "      <th></th>\n",
              "      <th>open</th>\n",
              "      <th>high</th>\n",
              "      <th>low</th>\n",
              "      <th>close</th>\n",
              "      <th>volume</th>\n",
              "    </tr>\n",
              "    <tr>\n",
              "      <th>dt</th>\n",
              "      <th></th>\n",
              "      <th></th>\n",
              "      <th></th>\n",
              "      <th></th>\n",
              "      <th></th>\n",
              "    </tr>\n",
              "  </thead>\n",
              "  <tbody>\n",
              "    <tr>\n",
              "      <th>2019-05-01</th>\n",
              "      <td>5321.94</td>\n",
              "      <td>5402.0</td>\n",
              "      <td>5316.20</td>\n",
              "      <td>5383.20</td>\n",
              "      <td>17217.473216</td>\n",
              "    </tr>\n",
              "    <tr>\n",
              "      <th>2019-05-02</th>\n",
              "      <td>5383.20</td>\n",
              "      <td>5538.0</td>\n",
              "      <td>5370.00</td>\n",
              "      <td>5492.87</td>\n",
              "      <td>22795.787835</td>\n",
              "    </tr>\n",
              "    <tr>\n",
              "      <th>2019-05-03</th>\n",
              "      <td>5494.81</td>\n",
              "      <td>5844.0</td>\n",
              "      <td>5477.57</td>\n",
              "      <td>5772.69</td>\n",
              "      <td>46297.172849</td>\n",
              "    </tr>\n",
              "    <tr>\n",
              "      <th>2019-05-04</th>\n",
              "      <td>5770.62</td>\n",
              "      <td>5900.0</td>\n",
              "      <td>5587.45</td>\n",
              "      <td>5829.45</td>\n",
              "      <td>39682.408991</td>\n",
              "    </tr>\n",
              "    <tr>\n",
              "      <th>2019-05-05</th>\n",
              "      <td>5829.83</td>\n",
              "      <td>5839.9</td>\n",
              "      <td>5696.00</td>\n",
              "      <td>5775.62</td>\n",
              "      <td>23822.543775</td>\n",
              "    </tr>\n",
              "  </tbody>\n",
              "</table>\n",
              "</div>\n",
              "      <button class=\"colab-df-convert\" onclick=\"convertToInteractive('df-d3f895ea-be84-407e-adad-293c278eb61f')\"\n",
              "              title=\"Convert this dataframe to an interactive table.\"\n",
              "              style=\"display:none;\">\n",
              "        \n",
              "  <svg xmlns=\"http://www.w3.org/2000/svg\" height=\"24px\"viewBox=\"0 0 24 24\"\n",
              "       width=\"24px\">\n",
              "    <path d=\"M0 0h24v24H0V0z\" fill=\"none\"/>\n",
              "    <path d=\"M18.56 5.44l.94 2.06.94-2.06 2.06-.94-2.06-.94-.94-2.06-.94 2.06-2.06.94zm-11 1L8.5 8.5l.94-2.06 2.06-.94-2.06-.94L8.5 2.5l-.94 2.06-2.06.94zm10 10l.94 2.06.94-2.06 2.06-.94-2.06-.94-.94-2.06-.94 2.06-2.06.94z\"/><path d=\"M17.41 7.96l-1.37-1.37c-.4-.4-.92-.59-1.43-.59-.52 0-1.04.2-1.43.59L10.3 9.45l-7.72 7.72c-.78.78-.78 2.05 0 2.83L4 21.41c.39.39.9.59 1.41.59.51 0 1.02-.2 1.41-.59l7.78-7.78 2.81-2.81c.8-.78.8-2.07 0-2.86zM5.41 20L4 18.59l7.72-7.72 1.47 1.35L5.41 20z\"/>\n",
              "  </svg>\n",
              "      </button>\n",
              "      \n",
              "  <style>\n",
              "    .colab-df-container {\n",
              "      display:flex;\n",
              "      flex-wrap:wrap;\n",
              "      gap: 12px;\n",
              "    }\n",
              "\n",
              "    .colab-df-convert {\n",
              "      background-color: #E8F0FE;\n",
              "      border: none;\n",
              "      border-radius: 50%;\n",
              "      cursor: pointer;\n",
              "      display: none;\n",
              "      fill: #1967D2;\n",
              "      height: 32px;\n",
              "      padding: 0 0 0 0;\n",
              "      width: 32px;\n",
              "    }\n",
              "\n",
              "    .colab-df-convert:hover {\n",
              "      background-color: #E2EBFA;\n",
              "      box-shadow: 0px 1px 2px rgba(60, 64, 67, 0.3), 0px 1px 3px 1px rgba(60, 64, 67, 0.15);\n",
              "      fill: #174EA6;\n",
              "    }\n",
              "\n",
              "    [theme=dark] .colab-df-convert {\n",
              "      background-color: #3B4455;\n",
              "      fill: #D2E3FC;\n",
              "    }\n",
              "\n",
              "    [theme=dark] .colab-df-convert:hover {\n",
              "      background-color: #434B5C;\n",
              "      box-shadow: 0px 1px 3px 1px rgba(0, 0, 0, 0.15);\n",
              "      filter: drop-shadow(0px 1px 2px rgba(0, 0, 0, 0.3));\n",
              "      fill: #FFFFFF;\n",
              "    }\n",
              "  </style>\n",
              "\n",
              "      <script>\n",
              "        const buttonEl =\n",
              "          document.querySelector('#df-d3f895ea-be84-407e-adad-293c278eb61f button.colab-df-convert');\n",
              "        buttonEl.style.display =\n",
              "          google.colab.kernel.accessAllowed ? 'block' : 'none';\n",
              "\n",
              "        async function convertToInteractive(key) {\n",
              "          const element = document.querySelector('#df-d3f895ea-be84-407e-adad-293c278eb61f');\n",
              "          const dataTable =\n",
              "            await google.colab.kernel.invokeFunction('convertToInteractive',\n",
              "                                                     [key], {});\n",
              "          if (!dataTable) return;\n",
              "\n",
              "          const docLinkHtml = 'Like what you see? Visit the ' +\n",
              "            '<a target=\"_blank\" href=https://colab.research.google.com/notebooks/data_table.ipynb>data table notebook</a>'\n",
              "            + ' to learn more about interactive tables.';\n",
              "          element.innerHTML = '';\n",
              "          dataTable['output_type'] = 'display_data';\n",
              "          await google.colab.output.renderOutput(dataTable, element);\n",
              "          const docLink = document.createElement('div');\n",
              "          docLink.innerHTML = docLinkHtml;\n",
              "          element.appendChild(docLink);\n",
              "        }\n",
              "      </script>\n",
              "    </div>\n",
              "  </div>\n",
              "  "
            ]
          },
          "metadata": {},
          "execution_count": 3
        }
      ]
    },
    {
      "cell_type": "markdown",
      "source": [
        "Analyze Bitcoin closing price trends"
      ],
      "metadata": {
        "id": "hK-FXZ0q0Uyl"
      }
    },
    {
      "cell_type": "code",
      "source": [
        "from matplotlib import pyplot as plt\n",
        "crypto.close.plot(figsize=(12, 7))\n",
        "plt.title(\"Daily Closing Price of BTC/USDT\", fontsize=20)"
      ],
      "metadata": {
        "colab": {
          "base_uri": "https://localhost:8080/",
          "height": 493
        },
        "id": "0pxcd4_UxXGN",
        "outputId": "8f9a42e8-4b9c-40ab-d4ff-99531a92aeef"
      },
      "execution_count": 5,
      "outputs": [
        {
          "output_type": "execute_result",
          "data": {
            "text/plain": [
              "Text(0.5, 1.0, 'Daily Closing Price of BTC/USDT')"
            ]
          },
          "metadata": {},
          "execution_count": 5
        },
        {
          "output_type": "display_data",
          "data": {
            "text/plain": [
              "<Figure size 864x504 with 1 Axes>"
            ],
            "image/png": "[encoded data removed]"
          },
          "metadata": {
            "needs_background": "light"
          }
        }
      ]
    }
  ]
}