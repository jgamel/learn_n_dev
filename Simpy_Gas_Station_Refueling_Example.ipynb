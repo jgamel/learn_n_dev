{
  "nbformat": 4,
  "nbformat_minor": 0,
  "metadata": {
    "colab": {
      "name": "Simpy_Gas_Station_Refueling_Example.ipynb",
      "provenance": [],
      "collapsed_sections": [],
      "authorship_tag": "ABX9TyNQmtm8vuOCA2HX4KxTy347",
      "include_colab_link": true
    },
    "kernelspec": {
      "name": "python3",
      "display_name": "Python 3"
    },
    "language_info": {
      "name": "python"
    }
  },
  "cells": [
    {
      "cell_type": "markdown",
      "metadata": {
        "id": "view-in-github",
        "colab_type": "text"
      },
      "source": [
        "<a href=\"https://colab.research.google.com/github/jgamel/learn_n_dev/blob/simulation_examples/Simpy_Gas_Station_Refueling_Example.ipynb\" target=\"_parent\"><img src=\"https://colab.research.google.com/assets/colab-badge.svg\" alt=\"Open In Colab\"/></a>"
      ]
    },
    {
      "cell_type": "markdown",
      "source": [
        "# Gas Station Refueling"
      ],
      "metadata": {
        "id": "Mwz0iqQbEujk"
      }
    },
    {
      "cell_type": "markdown",
      "source": [
        "Covers:\n",
        "\n",
        "* Resources: Resource\n",
        "* Resources: Container\n",
        "* Waiting for other processes"
      ],
      "metadata": {
        "id": "BNbHypjHFIA9"
      }
    },
    {
      "cell_type": "markdown",
      "source": [
        "This examples models a gas station and cars that arrive at the station for refueling.\n",
        "\n",
        "The gas station has a limited number of fuel pumps and a fuel tank that is shared between the fuel pumps. The gas station is thus modeled as Resource. The shared fuel tank is modeled with a Container.\n",
        "\n",
        "Vehicles arriving at the gas station first request a fuel pump from the station. Once they acquire one, they try to take the desired amount of fuel from the fuel pump. They leave when they are done.\n",
        "\n",
        "The gas stations fuel level is regularly monitored by gas station control. When the level drops below a certain threshold, a tank truck is called to refuel the gas station itself."
      ],
      "metadata": {
        "id": "hAVLQYd9FKYx"
      }
    },
    {
      "cell_type": "code",
      "source": [
        "!pip install simpy"
      ],
      "metadata": {
        "colab": {
          "base_uri": "https://localhost:8080/"
        },
        "id": "W6U_qZewFdwF",
        "outputId": "f67c6302-0e1f-4779-a8ba-0148cce2b579"
      },
      "execution_count": 1,
      "outputs": [
        {
          "output_type": "stream",
          "name": "stdout",
          "text": [
            "Collecting simpy\n",
            "  Downloading simpy-4.0.1-py2.py3-none-any.whl (29 kB)\n",
            "Installing collected packages: simpy\n",
            "Successfully installed simpy-4.0.1\n"
          ]
        }
      ]
    },
    {
      "cell_type": "code",
      "source": [
        "\"\"\"\n",
        "Gas Station Refueling example\n",
        "\n",
        "Covers:\n",
        "\n",
        "- Resources: Resource\n",
        "- Resources: Container\n",
        "- Waiting for other processes\n",
        "\n",
        "Scenario:\n",
        "  A gas station has a limited number of gas pumps that share a common\n",
        "  fuel reservoir. Cars randomly arrive at the gas station, request one\n",
        "  of the fuel pumps and start refueling from that reservoir.\n",
        "\n",
        "  A gas station control process observes the gas station's fuel level\n",
        "  and calls a tank truck for refueling if the station's level drops\n",
        "  below a threshold.\n",
        "\n",
        "\"\"\"\n",
        "import itertools\n",
        "import random\n",
        "\n",
        "import simpy\n",
        "\n",
        "\n",
        "RANDOM_SEED = 42\n",
        "GAS_STATION_SIZE = 200     # liters\n",
        "THRESHOLD = 10             # Threshold for calling the tank truck (in %)\n",
        "FUEL_TANK_SIZE = 50        # liters\n",
        "FUEL_TANK_LEVEL = [5, 25]  # Min/max levels of fuel tanks (in liters)\n",
        "REFUELING_SPEED = 2        # liters / second\n",
        "TANK_TRUCK_TIME = 300      # Seconds it takes the tank truck to arrive\n",
        "T_INTER = [30, 300]        # Create a car every [min, max] seconds\n",
        "SIM_TIME = 1000            # Simulation time in seconds\n",
        "\n",
        "\n",
        "def car(name, env, gas_station, fuel_pump):\n",
        "    \"\"\"A car arrives at the gas station for refueling.\n",
        "\n",
        "    It requests one of the gas station's fuel pumps and tries to get the\n",
        "    desired amount of gas from it. If the stations reservoir is\n",
        "    depleted, the car has to wait for the tank truck to arrive.\n",
        "\n",
        "    \"\"\"\n",
        "    fuel_tank_level = random.randint(*FUEL_TANK_LEVEL)\n",
        "    print('%s arriving at gas station at %.1f' % (name, env.now))\n",
        "    with gas_station.request() as req:\n",
        "        start = env.now\n",
        "        # Request one of the gas pumps\n",
        "        yield req\n",
        "\n",
        "        # Get the required amount of fuel\n",
        "        liters_required = FUEL_TANK_SIZE - fuel_tank_level\n",
        "        yield fuel_pump.get(liters_required)\n",
        "\n",
        "        # The \"actual\" refueling process takes some time\n",
        "        yield env.timeout(liters_required / REFUELING_SPEED)\n",
        "\n",
        "        print('%s finished refueling in %.1f seconds.' % (name,\n",
        "                                                          env.now - start))\n",
        "\n",
        "\n",
        "def gas_station_control(env, fuel_pump):\n",
        "    \"\"\"Periodically check the level of the *fuel_pump* and call the tank\n",
        "    truck if the level falls below a threshold.\"\"\"\n",
        "    while True:\n",
        "        if fuel_pump.level / fuel_pump.capacity * 100 < THRESHOLD:\n",
        "            # We need to call the tank truck now!\n",
        "            print('Calling tank truck at %d' % env.now)\n",
        "            # Wait for the tank truck to arrive and refuel the station\n",
        "            yield env.process(tank_truck(env, fuel_pump))\n",
        "\n",
        "        yield env.timeout(10)  # Check every 10 seconds\n",
        "\n",
        "\n",
        "def tank_truck(env, fuel_pump):\n",
        "    \"\"\"Arrives at the gas station after a certain delay and refuels it.\"\"\"\n",
        "    yield env.timeout(TANK_TRUCK_TIME)\n",
        "    print('Tank truck arriving at time %d' % env.now)\n",
        "    ammount = fuel_pump.capacity - fuel_pump.level\n",
        "    print('Tank truck refuelling %.1f liters.' % ammount)\n",
        "    yield fuel_pump.put(ammount)\n",
        "\n",
        "\n",
        "def car_generator(env, gas_station, fuel_pump):\n",
        "    \"\"\"Generate new cars that arrive at the gas station.\"\"\"\n",
        "    for i in itertools.count():\n",
        "        yield env.timeout(random.randint(*T_INTER))\n",
        "        env.process(car('Car %d' % i, env, gas_station, fuel_pump))\n",
        "\n",
        "\n",
        "# Setup and start the simulation\n",
        "print('Gas Station refuelling')\n",
        "random.seed(RANDOM_SEED)\n",
        "\n",
        "# Create environment and start processes\n",
        "env = simpy.Environment()\n",
        "gas_station = simpy.Resource(env, 2)\n",
        "fuel_pump = simpy.Container(env, GAS_STATION_SIZE, init=GAS_STATION_SIZE)\n",
        "env.process(gas_station_control(env, fuel_pump))\n",
        "env.process(car_generator(env, gas_station, fuel_pump))\n",
        "\n",
        "# Execute!\n",
        "env.run(until=SIM_TIME)\n"
      ],
      "metadata": {
        "colab": {
          "base_uri": "https://localhost:8080/"
        },
        "id": "76g_SnllFd6p",
        "outputId": "8789bf6f-12d3-41c7-e0b6-ce25b0ccee59"
      },
      "execution_count": 3,
      "outputs": [
        {
          "output_type": "stream",
          "name": "stdout",
          "text": [
            "Gas Station refuelling\n",
            "Car 0 arriving at gas station at 87.0\n",
            "Car 0 finished refueling in 18.5 seconds.\n",
            "Car 1 arriving at gas station at 129.0\n",
            "Car 1 finished refueling in 19.0 seconds.\n",
            "Car 2 arriving at gas station at 284.0\n",
            "Car 2 finished refueling in 21.0 seconds.\n",
            "Car 3 arriving at gas station at 385.0\n",
            "Car 3 finished refueling in 13.5 seconds.\n",
            "Car 4 arriving at gas station at 459.0\n",
            "Calling tank truck at 460\n",
            "Car 4 finished refueling in 22.0 seconds.\n",
            "Car 5 arriving at gas station at 705.0\n",
            "Car 6 arriving at gas station at 750.0\n",
            "Tank truck arriving at time 760\n",
            "Tank truck refuelling 188.0 liters.\n",
            "Car 6 finished refueling in 29.0 seconds.\n",
            "Car 5 finished refueling in 76.5 seconds.\n",
            "Car 7 arriving at gas station at 891.0\n",
            "Car 7 finished refueling in 13.0 seconds.\n"
          ]
        }
      ]
    },
    {
      "cell_type": "code",
      "execution_count": null,
      "metadata": {
        "id": "gF9G3m_rED-_"
      },
      "outputs": [],
      "source": [
        ""
      ]
    }
  ]
}