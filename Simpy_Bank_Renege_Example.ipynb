{
  "nbformat": 4,
  "nbformat_minor": 0,
  "metadata": {
    "colab": {
      "name": "Simpy_Bank_Renege_Example.ipynb",
      "provenance": [],
      "collapsed_sections": [],
      "authorship_tag": "ABX9TyMIBO4f5QPjSFfbfGBlgqWE",
      "include_colab_link": true
    },
    "kernelspec": {
      "name": "python3",
      "display_name": "Python 3"
    },
    "language_info": {
      "name": "python"
    }
  },
  "cells": [
    {
      "cell_type": "markdown",
      "metadata": {
        "id": "view-in-github",
        "colab_type": "text"
      },
      "source": [
        "<a href=\"https://colab.research.google.com/github/jgamel/learn_n_dev/blob/simulation_examples/Simpy_Bank_Renege_Example.ipynb\" target=\"_parent\"><img src=\"https://colab.research.google.com/assets/colab-badge.svg\" alt=\"Open In Colab\"/></a>"
      ]
    },
    {
      "cell_type": "markdown",
      "source": [
        "# Simpy Bank Renege Example"
      ],
      "metadata": {
        "id": "nWTwj93EfAcq"
      }
    },
    {
      "cell_type": "markdown",
      "source": [
        "Covers:\n",
        "\n",
        "* Resources: Resource\n",
        "* Condition events\n",
        "\n",
        "A counter with a random service time and customers who renege. \n",
        "\n",
        "This example models a bank counter and customers arriving at random times. Each customer has a certain patience. She waits to get to the counter until she’s at the end of her tether. If she gets to the counter, she uses it for a while before releasing it.\n",
        "\n",
        "New customers are created by the source process every few time steps."
      ],
      "metadata": {
        "id": "dM0KN1O0fJc0"
      }
    },
    {
      "cell_type": "code",
      "execution_count": 2,
      "metadata": {
        "colab": {
          "base_uri": "https://localhost:8080/"
        },
        "id": "hyd8wjHNe8-j",
        "outputId": "682137da-d171-416c-80f6-3fe56b1236d7"
      },
      "outputs": [
        {
          "output_type": "stream",
          "name": "stdout",
          "text": [
            "Collecting simpy\n",
            "  Downloading simpy-4.0.1-py2.py3-none-any.whl (29 kB)\n",
            "Installing collected packages: simpy\n",
            "Successfully installed simpy-4.0.1\n"
          ]
        }
      ],
      "source": [
        "!pip install simpy"
      ]
    },
    {
      "cell_type": "code",
      "source": [
        "\"\"\"\n",
        "Bank renege example\n",
        "\n",
        "Covers:\n",
        "\n",
        "- Resources: Resource\n",
        "- Condition events\n",
        "\n",
        "Scenario:\n",
        "  A counter with a random service time and customers who renege. Based on the\n",
        "  program bank08.py from TheBank tutorial of SimPy 2. (KGM)\n",
        "\n",
        "\"\"\"\n",
        "import random\n",
        "\n",
        "import simpy\n",
        "\n",
        "\n",
        "RANDOM_SEED = 42\n",
        "NEW_CUSTOMERS = 25  # Total number of customers\n",
        "INTERVAL_CUSTOMERS = 10.0  # Generate new customers roughly every x seconds\n",
        "MIN_PATIENCE = 5  # Min. customer patience\n",
        "MAX_PATIENCE = 10  # Max. customer patience\n",
        "\n",
        "\n",
        "def source(env, number, interval, counter):\n",
        "    \"\"\"Source generates customers randomly\"\"\"\n",
        "    for i in range(number):\n",
        "        c = customer(env, 'Customer%02d' % i, counter, time_in_bank=12.0)\n",
        "        env.process(c)\n",
        "        t = random.expovariate(1.0 / interval)\n",
        "        yield env.timeout(t)\n",
        "\n",
        "\n",
        "def customer(env, name, counter, time_in_bank):\n",
        "    \"\"\"Customer arrives, is served and leaves.\"\"\"\n",
        "    arrive = env.now\n",
        "    print('%7.4f %s: Here I am' % (arrive, name))\n",
        "\n",
        "    with counter.request() as req:\n",
        "        patience = random.uniform(MIN_PATIENCE, MAX_PATIENCE)\n",
        "        # Wait for the counter or abort at the end of our tether\n",
        "        results = yield req | env.timeout(patience)\n",
        "\n",
        "        wait = env.now - arrive\n",
        "\n",
        "        if req in results:\n",
        "            # We got to the counter\n",
        "            print('%7.4f %s: Waited %6.3f' % (env.now, name, wait))\n",
        "\n",
        "            tib = random.expovariate(1.0 / time_in_bank)\n",
        "            yield env.timeout(tib)\n",
        "            print('%7.4f %s: Finished' % (env.now, name))\n",
        "\n",
        "        else:\n",
        "            # We reneged\n",
        "            print('%7.4f %s: RENEGED after %6.3f' % (env.now, name, wait))\n",
        "\n",
        "\n",
        "# Setup and start the simulation\n",
        "print('Bank renege')\n",
        "random.seed(RANDOM_SEED)\n",
        "env = simpy.Environment()\n",
        "\n",
        "# Start processes and run\n",
        "counter = simpy.Resource(env, capacity=1)\n",
        "env.process(source(env, NEW_CUSTOMERS, INTERVAL_CUSTOMERS, counter))\n",
        "env.run()"
      ],
      "metadata": {
        "colab": {
          "base_uri": "https://localhost:8080/"
        },
        "id": "6aVm4O3xf642",
        "outputId": "7b5958fc-5a23-4ca6-fe40-69cf46dad5b5"
      },
      "execution_count": 5,
      "outputs": [
        {
          "output_type": "stream",
          "name": "stdout",
          "text": [
            "Bank renege\n",
            " 0.0000 Customer00: Here I am\n",
            " 0.0000 Customer00: Waited  0.000\n",
            " 3.8595 Customer00: Finished\n",
            "10.2006 Customer01: Here I am\n",
            "10.2006 Customer01: Waited  0.000\n",
            "12.7265 Customer02: Here I am\n",
            "18.1612 Customer02: RENEGED after  5.435\n",
            "23.7507 Customer01: Finished\n",
            "34.9993 Customer03: Here I am\n",
            "34.9993 Customer03: Waited  0.000\n",
            "37.9599 Customer03: Finished\n",
            "40.4798 Customer04: Here I am\n",
            "40.4798 Customer04: Waited  0.000\n",
            "43.1401 Customer04: Finished\n",
            "47.5190 Customer05: Here I am\n",
            "47.5190 Customer05: Waited  0.000\n",
            "50.5073 Customer05: Finished\n",
            "58.0139 Customer06: Here I am\n",
            "58.0139 Customer06: Waited  0.000\n",
            "58.0921 Customer06: Finished\n",
            "66.9120 Customer07: Here I am\n",
            "66.9120 Customer07: Waited  0.000\n",
            "71.9027 Customer07: Finished\n",
            "83.3016 Customer08: Here I am\n",
            "83.3016 Customer08: Waited  0.000\n",
            "84.9915 Customer09: Here I am\n",
            "85.9648 Customer10: Here I am\n",
            "88.2261 Customer08: Finished\n",
            "88.2261 Customer09: Waited  3.235\n",
            "93.9834 Customer10: RENEGED after  8.019\n",
            "104.7704 Customer11: Here I am\n",
            "107.9748 Customer09: Finished\n",
            "107.9748 Customer11: Waited  3.204\n",
            "117.8538 Customer12: Here I am\n",
            "122.6105 Customer13: Here I am\n",
            "125.6140 Customer12: RENEGED after  7.760\n",
            "130.7031 Customer13: RENEGED after  8.093\n",
            "140.2951 Customer14: Here I am\n",
            "148.1819 Customer14: RENEGED after  7.887\n",
            "151.3694 Customer11: Finished\n",
            "160.0789 Customer15: Here I am\n",
            "160.0789 Customer15: Waited  0.000\n",
            "163.1826 Customer15: Finished\n",
            "172.2722 Customer16: Here I am\n",
            "172.2722 Customer16: Waited  0.000\n",
            "175.4522 Customer16: Finished\n",
            "175.6885 Customer17: Here I am\n",
            "175.6885 Customer17: Waited  0.000\n",
            "176.7532 Customer18: Here I am\n",
            "181.2919 Customer19: Here I am\n",
            "183.6041 Customer18: RENEGED after  6.851\n",
            "183.6429 Customer20: Here I am\n",
            "187.6268 Customer19: RENEGED after  6.335\n",
            "187.8053 Customer17: Finished\n",
            "187.8053 Customer20: Waited  4.162\n",
            "199.0779 Customer20: Finished\n",
            "211.2344 Customer21: Here I am\n",
            "211.2344 Customer21: Waited  0.000\n",
            "213.1114 Customer22: Here I am\n",
            "213.3754 Customer21: Finished\n",
            "213.3754 Customer22: Waited  0.264\n",
            "217.8830 Customer23: Here I am\n",
            "225.6352 Customer22: Finished\n",
            "225.6352 Customer23: Waited  7.752\n",
            "226.0237 Customer24: Here I am\n",
            "232.1690 Customer24: RENEGED after  6.145\n",
            "247.8420 Customer23: Finished\n"
          ]
        }
      ]
    }
  ]
}