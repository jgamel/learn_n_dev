{
  "nbformat": 4,
  "nbformat_minor": 0,
  "metadata": {
    "colab": {
      "name": "python_multi_tutorial.ipynb",
      "provenance": [],
      "authorship_tag": "ABX9TyO3FO1FkGrp9WOZqSIfWzMh",
      "include_colab_link": true
    },
    "kernelspec": {
      "name": "python3",
      "display_name": "Python 3"
    },
    "language_info": {
      "name": "python"
    }
  },
  "cells": [
    {
      "cell_type": "markdown",
      "metadata": {
        "id": "view-in-github",
        "colab_type": "text"
      },
      "source": [
        "<a href=\"https://colab.research.google.com/github/jgamel/learn_n_dev/blob/python_programming/python_multi_tutorial.ipynb\" target=\"_parent\"><img src=\"https://colab.research.google.com/assets/colab-badge.svg\" alt=\"Open In Colab\"/></a>"
      ]
    },
    {
      "cell_type": "markdown",
      "source": [
        "# What Is the Python Global Interpreter Lock (GIL)?"
      ],
      "metadata": {
        "id": "Mc8SoscpzKmG"
      }
    },
    {
      "cell_type": "markdown",
      "source": [
        "Table of Contents:\n",
        "\n",
        "1. [What Problem Did the GIL Solve for Python?](#a1)\n",
        "2. [Why Was the GIL Chosen as the Solution?](#a2)\n",
        "3. [The Impact on Multi-Threaded Python Programs](#a3)\n",
        "4. [Why Hasn’t the GIL Been Removed Yet?](#a4)\n",
        "5. [Why Wasn’t It Removed in Python 3?](#a5)\n",
        "6. [How to Deal With Python’s GIL](#a6)\n",
        "\n",
        "\n",
        "The Python Global Interpreter Lock or GIL, in simple words, is a mutex (or a lock) that allows only one thread to hold the control of the Python interpreter.\n",
        "\n",
        "This means that only one thread can be in a state of execution at any point in time. The impact of the GIL isn’t visible to developers who execute single-threaded programs, but it can be a performance bottleneck in CPU-bound and multi-threaded code.\n",
        "\n",
        "Since the GIL allows only one thread to execute at a time even in a multi-threaded architecture with more than one CPU core, the GIL has gained a reputation as an “infamous” feature of Python.\n",
        "\n",
        "\n"
      ],
      "metadata": {
        "id": "-MWoMr15zNcI"
      }
    },
    {
      "cell_type": "markdown",
      "source": [
        "<a name=\"a1\"></a>\n",
        "## What Problem Did the GIL Solve for Python?"
      ],
      "metadata": {
        "id": "fZlJ6XFgBOKS"
      }
    },
    {
      "cell_type": "markdown",
      "source": [
        "Python uses reference counting for memory management. It means that objects created in Python have a reference count variable that keeps track of the number of references that point to the object. When this count reaches zero, the memory occupied by the object is released.\n",
        "\n",
        "Let’s take a look at a brief code example to demonstrate how reference counting works:"
      ],
      "metadata": {
        "id": "_ZrK6RdyB5zL"
      }
    },
    {
      "cell_type": "code",
      "source": [
        "import sys\n",
        "a = []\n",
        "b = a\n",
        "sys.getrefcount(a)"
      ],
      "metadata": {
        "colab": {
          "base_uri": "https://localhost:8080/"
        },
        "id": "XeHaQH9BD-Ff",
        "outputId": "17a5f032-c0a2-4e8e-e9db-366c23af16c6"
      },
      "execution_count": 1,
      "outputs": [
        {
          "output_type": "execute_result",
          "data": {
            "text/plain": [
              "3"
            ]
          },
          "metadata": {},
          "execution_count": 1
        }
      ]
    },
    {
      "cell_type": "markdown",
      "source": [
        "In the above example, the reference count for the empty list object [] was 3. The list object was referenced by a, b and the argument passed to sys.getrefcount().\n",
        "\n",
        "Back to the GIL:\n",
        "\n",
        "The problem was that this reference count variable needed protection from race conditions where two threads increase or decrease its value simultaneously. If this happens, it can cause either leaked memory that is never released or, even worse, incorrectly release the memory while a reference to that object still exists. This can cause crashes or other “weird” bugs in your Python programs.\n",
        "\n",
        "This reference count variable can be kept safe by adding locks to all data structures that are shared across threads so that they are not modified inconsistently.\n",
        "\n",
        "But adding a lock to each object or groups of objects means multiple locks will exist which can cause another problem—Deadlocks (deadlocks can only happen if there is more than one lock). Another side effect would be decreased performance caused by the repeated acquisition and release of locks.\n",
        "\n",
        "The GIL is a single lock on the interpreter itself which adds a rule that execution of any Python bytecode requires acquiring the interpreter lock. This prevents deadlocks (as there is only one lock) and doesn’t introduce much performance overhead. But it effectively makes any CPU-bound Python program single-threaded.\n",
        "\n",
        "The GIL, although used by interpreters for other languages like Ruby, is not the only solution to this problem. Some languages avoid the requirement of a GIL for thread-safe memory management by using approaches other than reference counting, such as garbage collection.\n",
        "\n",
        "On the other hand, this means that those languages often have to compensate for the loss of single threaded performance benefits of a GIL by adding other performance boosting features like JIT compilers."
      ],
      "metadata": {
        "id": "iAbBFjf7E1T-"
      }
    },
    {
      "cell_type": "markdown",
      "source": [
        "<a name=\"a2\"></a>\n",
        "## Why Was the GIL Chosen as the Solution?"
      ],
      "metadata": {
        "id": "RXiarWNzHIE0"
      }
    },
    {
      "cell_type": "markdown",
      "source": [
        "So, why was an approach that is seemingly so obstructing used in Python? Was it a bad decision by the developers of Python?\n",
        "\n",
        "Well, in the words of [Larry Hastings](https://www.youtube.com/watch?v=KVKufdTphKs&t=731s), the design decision of the GIL is one of the things that made Python as popular as it is today.\n",
        "\n",
        "Python has been around since the days when operating systems did not have a concept of threads. Python was designed to be easy-to-use in order to make development quicker and more and more developers started using it.\n",
        "\n",
        "A lot of extensions were being written for the existing C libraries whose features were needed in Python. To prevent inconsistent changes, these C extensions required a thread-safe memory management which the GIL provided.\n",
        "\n",
        "The GIL is simple to implement and was easily added to Python. It provides a performance increase to single-threaded programs as only one lock needs to be managed.\n",
        "\n",
        "C libraries that were not thread-safe became easier to integrate. And these C extensions became one of the reasons why Python was readily adopted by different communities.\n",
        "\n",
        "As you can see, the GIL was a pragmatic solution to a difficult problem that the CPython developers faced early on in Python’s life."
      ],
      "metadata": {
        "id": "t7Ue_esvHv9m"
      }
    },
    {
      "cell_type": "markdown",
      "source": [
        "<a name=\"a3\"></a>\n",
        "## The Impact on Multi-Threaded Python Programs"
      ],
      "metadata": {
        "id": "aE8LYzhNQsRx"
      }
    },
    {
      "cell_type": "markdown",
      "source": [
        "When you look at a typical Python program—or any computer program for that matter—there’s a difference between those that are CPU-bound in their performance and those that are I/O-bound.\n",
        "\n",
        "CPU-bound programs are those that are pushing the CPU to its limit. This includes programs that do mathematical computations like matrix multiplications, searching, image processing, etc.\n",
        "\n",
        "I/O-bound programs are the ones that spend time waiting for Input/Output which can come from a user, file, database, network, etc. I/O-bound programs sometimes have to wait for a significant amount of time till they get what they need from the source due to the fact that the source may need to do its own processing before the input/output is ready, for example, a user thinking about what to enter into an input prompt or a database query running in its own process.\n",
        "\n",
        "Let’s have a look at a simple CPU-bound program that performs a countdown:"
      ],
      "metadata": {
        "id": "mqhX3zIpQI_7"
      }
    },
    {
      "cell_type": "code",
      "execution_count": 19,
      "metadata": {
        "colab": {
          "base_uri": "https://localhost:8080/"
        },
        "id": "qGpV_K9UzIKn",
        "outputId": "a0b2f477-8ca9-485f-93f0-d9e8160f78bd"
      },
      "outputs": [
        {
          "output_type": "stream",
          "name": "stdout",
          "text": [
            "Time taken in seconds - 3.2781779766082764\n"
          ]
        }
      ],
      "source": [
        "# single_threaded.py\n",
        "import time\n",
        "from threading import Thread\n",
        "\n",
        "COUNT = 50000000\n",
        "\n",
        "def countdown(n):\n",
        "    while n>0:\n",
        "        n -= 1\n",
        "\n",
        "start = time.time()\n",
        "countdown(COUNT)\n",
        "end = time.time()\n",
        "\n",
        "print('Time taken in seconds -', end - start)"
      ]
    },
    {
      "cell_type": "markdown",
      "source": [
        "Now I modified the code a bit to do to the same countdown using two threads in parallel:"
      ],
      "metadata": {
        "id": "1TpVTQkPqGp2"
      }
    },
    {
      "cell_type": "code",
      "source": [
        "# multi_threaded.py\n",
        "import time\n",
        "from threading import Thread\n",
        "\n",
        "COUNT = 50000000\n",
        "\n",
        "def countdown(n):\n",
        "    while n>0:\n",
        "        n -= 1\n",
        "\n",
        "t1 = Thread(target=countdown, args=(COUNT//2,))\n",
        "t2 = Thread(target=countdown, args=(COUNT//2,))\n",
        "\n",
        "start = time.time()\n",
        "t1.start()\n",
        "t2.start()\n",
        "t1.join()\n",
        "t2.join()\n",
        "end = time.time()\n",
        "\n",
        "print('Time taken in seconds -', end - start)"
      ],
      "metadata": {
        "colab": {
          "base_uri": "https://localhost:8080/"
        },
        "id": "Q5aD3oq_qHb1",
        "outputId": "0f642b0a-3883-4e5a-c6f4-fd65a45a85e6"
      },
      "execution_count": 20,
      "outputs": [
        {
          "output_type": "stream",
          "name": "stdout",
          "text": [
            "Time taken in seconds - 3.386941909790039\n"
          ]
        }
      ]
    },
    {
      "cell_type": "markdown",
      "source": [
        "As you can see, both versions take almost same amount of time to finish. In the multi-threaded version the GIL prevented the CPU-bound threads from executing in parellel.\n",
        "\n",
        "The GIL does not have much impact on the performance of I/O-bound multi-threaded programs as the lock is shared between threads while they are waiting for I/O.\n",
        "\n",
        "But a program whose threads are entirely CPU-bound, e.g., a program that processes an image in parts using threads, would not only become single threaded due to the lock but will also see an increase in execution time, as seen in the above example, in comparison to a scenario where it was written to be entirely single-threaded.\n",
        "\n",
        "This increase is the result of acquire and release overheads added by the lock."
      ],
      "metadata": {
        "id": "sBtCCmbcqgGV"
      }
    },
    {
      "cell_type": "markdown",
      "source": [
        "<a name=\"a4\"></a>\n",
        "## Why Hasn’t the GIL Been Removed Yet?"
      ],
      "metadata": {
        "id": "soAkSHwTq5xM"
      }
    },
    {
      "cell_type": "markdown",
      "source": [
        "The developers of Python receive a lot of complaints regarding this but a language as popular as Python cannot bring a change as significant as the removal of GIL without causing backward incompatibility issues.\n",
        "\n",
        "The GIL can obviously be removed and this has been done multiple times in the past by the developers and researchers but all those attempts broke the existing C extensions which depend heavily on the solution that the GIL provides.\n",
        "\n",
        "Of course, there are other solutions to the problem that the GIL solves but some of them decrease the performance of single-threaded and multi-threaded I/O-bound programs and some of them are just too difficult. After all, you wouldn’t want your existing Python programs to run slower after a new version comes out, right?\n",
        "\n",
        "The creator and BDFL of Python, Guido van Rossum, gave an answer to the community in September 2007 in his article “[It isn’t Easy to remove the GIL](https://www.artima.com/weblogs/viewpost.jsp?thread=214235)”"
      ],
      "metadata": {
        "id": "J65DDLvPq_jm"
      }
    },
    {
      "cell_type": "markdown",
      "source": [
        "<a name=\"a5\"></a>\n",
        "## Why Wasn’t It Removed in Python 3?"
      ],
      "metadata": {
        "id": "WBwxzIvOrgfR"
      }
    },
    {
      "cell_type": "markdown",
      "source": [
        "Python 3 did have a chance to start a lot of features from scratch and in the process, broke some of the existing C extensions which then required changes to be updated and ported to work with Python 3. This was the reason why the early versions of Python 3 saw slower adoption by the community.\n",
        "\n",
        "But why wasn’t GIL removed alongside?\n",
        "\n",
        "Removing the GIL would have made Python 3 slower in comparison to Python 2 in single-threaded performance and you can imagine what that would have resulted in. You can’t argue with the single-threaded performance benefits of the GIL. So the result is that Python 3 still has the GIL.\n",
        "\n",
        "But Python 3 did bring a major improvement to the existing GIL—\n",
        "\n",
        "We discussed the impact of GIL on “only CPU-bound” and “only I/O-bound” multi-threaded programs but what about the programs where some threads are I/O-bound and some are CPU-bound?\n",
        "\n",
        "In such programs, Python’s GIL was known to starve the I/O-bound threads by not giving them a chance to acquire the GIL from CPU-bound threads.\n",
        "\n",
        "This was because of a mechanism built into Python that forced threads to release the GIL after a fixed interval of continuous use and if nobody else acquired the GIL, the same thread could continue its use."
      ],
      "metadata": {
        "id": "ylhT5geps5Zw"
      }
    },
    {
      "cell_type": "code",
      "source": [
        "import sys\n",
        "# The interval is set to 100 instructions:\n",
        "sys.getcheckinterval()"
      ],
      "metadata": {
        "colab": {
          "base_uri": "https://localhost:8080/"
        },
        "id": "AVKGaMLls8mV",
        "outputId": "ddcb7261-968e-42a2-e641-e408bfa43f26"
      },
      "execution_count": 17,
      "outputs": [
        {
          "output_type": "stream",
          "name": "stderr",
          "text": [
            "/usr/local/lib/python3.7/dist-packages/ipykernel_launcher.py:3: DeprecationWarning: sys.getcheckinterval() and sys.setcheckinterval() are deprecated.  Use sys.getswitchinterval() instead.\n",
            "  This is separate from the ipykernel package so we can avoid doing imports until\n"
          ]
        },
        {
          "output_type": "execute_result",
          "data": {
            "text/plain": [
              "100"
            ]
          },
          "metadata": {},
          "execution_count": 17
        }
      ]
    },
    {
      "cell_type": "markdown",
      "source": [
        "The problem in this mechanism was that most of the time the CPU-bound thread would reacquire the GIL itself before other threads could acquire it. This was researched by David Beazley and visualizations can be found [here](http://www.dabeaz.com/blog/2010/01/python-gil-visualized.html).\n",
        "\n",
        "This problem was fixed in Python 3.2 in 2009 by Antoine Pitrou who [added a mechanism](https://mail.python.org/pipermail/python-dev/2009-October/093321.htmlZ) of looking at the number of GIL acquisition requests by other threads that got dropped and not allowing the current thread to reacquire GIL before other threads got a chance to run."
      ],
      "metadata": {
        "id": "AqUkp-eItqL1"
      }
    },
    {
      "cell_type": "markdown",
      "source": [
        "<a name=\"a6\"></a>\n",
        "## How to Deal With Python’s GIL"
      ],
      "metadata": {
        "id": "w6oue1opuBuy"
      }
    },
    {
      "cell_type": "markdown",
      "source": [
        "If the GIL is causing you problems, here a few approaches you can try:"
      ],
      "metadata": {
        "id": "WaONThqOuJU1"
      }
    },
    {
      "cell_type": "markdown",
      "source": [
        "### Multi-processing vs multi-threading: \n",
        "\n",
        "The most popular way is to use a multi-processing approach where you use multiple processes instead of threads. Each Python process gets its own Python interpreter and memory space so the GIL won’t be a problem. Python has a (multiprocessing)[https://docs.python.org/2/library/multiprocessing.html] module which lets us create processes easily like this:"
      ],
      "metadata": {
        "id": "5H1EExJ1uOB2"
      }
    },
    {
      "cell_type": "code",
      "source": [
        "from multiprocessing import Pool\n",
        "import time\n",
        "\n",
        "COUNT = 50000000\n",
        "def countdown(n):\n",
        "    while n>0:\n",
        "        n -= 1\n",
        "\n",
        "if __name__ == '__main__':\n",
        "    pool = Pool(processes=2)\n",
        "    start = time.time()\n",
        "    r1 = pool.apply_async(countdown, [COUNT//2])\n",
        "    r2 = pool.apply_async(countdown, [COUNT//2])\n",
        "    pool.close()\n",
        "    pool.join()\n",
        "    end = time.time()\n",
        "    print('Time taken in seconds -', end - start)"
      ],
      "metadata": {
        "colab": {
          "base_uri": "https://localhost:8080/"
        },
        "id": "cD7ev_DgvXxx",
        "outputId": "19252ff6-6686-4ceb-e080-33aea01b8f3e"
      },
      "execution_count": 21,
      "outputs": [
        {
          "output_type": "stream",
          "name": "stdout",
          "text": [
            "Time taken in seconds - 3.910609245300293\n"
          ]
        }
      ]
    },
    {
      "cell_type": "markdown",
      "source": [
        "The time didn’t drop to half of what we saw above because process management has its own overheads. Multiple processes are heavier than multiple threads, so, keep in mind that this could become a scaling bottleneck."
      ],
      "metadata": {
        "id": "vXACOs8RxRIn"
      }
    },
    {
      "cell_type": "markdown",
      "source": [
        "### Alternative Python interpreters: \n",
        "\n",
        "Python has multiple interpreter implementations. CPython, Jython, IronPython and PyPy, written in C, Java, C# and Python respectively, are the most popular ones. GIL exists only in the original Python implementation that is CPython. If your program, with its libraries, is available for one of the other implementations then you can try them out as well."
      ],
      "metadata": {
        "id": "p8ZnXHtYxtwO"
      }
    },
    {
      "cell_type": "markdown",
      "source": [
        "### Just wait it out:\n",
        "\n",
        "While many Python users take advantage of the single-threaded performance benefits of GIL. The multi-threading programmers don’t have to fret as some of the brightest minds in the Python community are working to remove the GIL from CPython. One such attempt is known as the [Gilectomy](https://github.com/larryhastings/gilectomy).\n",
        "\n",
        "The Python GIL is often regarded as a mysterious and difficult topic. But keep in mind that as a Pythonista you’re usually only affected by it if you are writing C extensions or if you’re using CPU-bound multi-threading in your programs.\n",
        "\n",
        "In that case, this article should give you everything you need to understand what the GIL is and how to deal with it in your own projects. And if you want to understand the low-level inner workings of GIL, I’d recommend you watch the [Understanding the Python GIL](https://www.youtube.com/watch?v=Obt-vMVdM8s&feature=youtu.be) talk by David Beazley."
      ],
      "metadata": {
        "id": "N3BIv3BZx484"
      }
    }
  ]
}