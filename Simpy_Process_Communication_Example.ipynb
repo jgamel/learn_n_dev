{
  "nbformat": 4,
  "nbformat_minor": 0,
  "metadata": {
    "colab": {
      "name": "Simpy_Process_Communication_Example.ipynb",
      "provenance": [],
      "collapsed_sections": [],
      "authorship_tag": "ABX9TyMniYdneHLDsBi0FkAieSsv",
      "include_colab_link": true
    },
    "kernelspec": {
      "name": "python3",
      "display_name": "Python 3"
    },
    "language_info": {
      "name": "python"
    }
  },
  "cells": [
    {
      "cell_type": "markdown",
      "metadata": {
        "id": "view-in-github",
        "colab_type": "text"
      },
      "source": [
        "<a href=\"https://colab.research.google.com/github/jgamel/learn_n_dev/blob/simulation_examples/Simpy_Process_Communication_Example.ipynb\" target=\"_parent\"><img src=\"https://colab.research.google.com/assets/colab-badge.svg\" alt=\"Open In Colab\"/></a>"
      ]
    },
    {
      "cell_type": "markdown",
      "source": [
        "#Process Communication"
      ],
      "metadata": {
        "id": "MAEf8IL378CL"
      }
    },
    {
      "cell_type": "markdown",
      "source": [
        ""
      ],
      "metadata": {
        "id": "LIz1GBGR7-Ke"
      }
    },
    {
      "cell_type": "markdown",
      "source": [
        "Covers:\n",
        "\n",
        "* Resources: Store"
      ],
      "metadata": {
        "id": "JBDwZSeB8DOq"
      }
    },
    {
      "cell_type": "markdown",
      "source": [
        "This example shows how to interconnect simulation model elements together using “resources.Store” for one-to-one, and many-to-one asynchronous processes. For one-to-many a simple BroadCastPipe class is constructed from Store.\n",
        "\n",
        "When Useful:\n",
        "When a consumer process does not always wait on a generating process and these processes run asynchronously. This example shows how to create a buffer and also tell is the consumer process was late yielding to the event from a generating process.\n",
        "\n",
        "This is also useful when some information needs to be broadcast to many receiving processes\n",
        "\n",
        "Finally, using pipes can simplify how processes are interconnected to each other in a simulation model."
      ],
      "metadata": {
        "id": "VrMhD0-m8EhC"
      }
    },
    {
      "cell_type": "code",
      "execution_count": 1,
      "metadata": {
        "colab": {
          "base_uri": "https://localhost:8080/"
        },
        "id": "IuxwXlno50w0",
        "outputId": "9a0cbb12-1985-4c68-d7ca-7548423c1c5f"
      },
      "outputs": [
        {
          "output_type": "stream",
          "name": "stdout",
          "text": [
            "Collecting simpy\n",
            "  Downloading simpy-4.0.1-py2.py3-none-any.whl (29 kB)\n",
            "Installing collected packages: simpy\n",
            "Successfully installed simpy-4.0.1\n"
          ]
        }
      ],
      "source": [
        "!pip install simpy"
      ]
    },
    {
      "cell_type": "code",
      "source": [
        "\"\"\"\n",
        "Process communication example\n",
        "\n",
        "Covers:\n",
        "\n",
        "- Resources: Store\n",
        "\n",
        "Scenario:\n",
        "  This example shows how to interconnect simulation model elements\n",
        "  together using :class:`~simpy.resources.store.Store` for one-to-one,\n",
        "  and many-to-one asynchronous processes. For one-to-many a simple\n",
        "  BroadCastPipe class is constructed from Store.\n",
        "\n",
        "When Useful:\n",
        "  When a consumer process does not always wait on a generating process\n",
        "  and these processes run asynchronously. This example shows how to\n",
        "  create a buffer and also tell is the consumer process was late\n",
        "  yielding to the event from a generating process.\n",
        "\n",
        "  This is also useful when some information needs to be broadcast to\n",
        "  many receiving processes\n",
        "\n",
        "  Finally, using pipes can simplify how processes are interconnected to\n",
        "  each other in a simulation model.\n",
        "\n",
        "\n",
        "\"\"\"\n",
        "import random\n",
        "\n",
        "import simpy\n",
        "\n",
        "\n",
        "RANDOM_SEED = 42\n",
        "SIM_TIME = 100\n",
        "\n",
        "\n",
        "class BroadcastPipe(object):\n",
        "    \"\"\"A Broadcast pipe that allows one process to send messages to many.\n",
        "\n",
        "    This construct is useful when message consumers are running at\n",
        "    different rates than message generators and provides an event\n",
        "    buffering to the consuming processes.\n",
        "\n",
        "    The parameters are used to create a new\n",
        "    :class:`~simpy.resources.store.Store` instance each time\n",
        "    :meth:`get_output_conn()` is called.\n",
        "\n",
        "    \"\"\"\n",
        "    def __init__(self, env, capacity=simpy.core.Infinity):\n",
        "        self.env = env\n",
        "        self.capacity = capacity\n",
        "        self.pipes = []\n",
        "\n",
        "    def put(self, value):\n",
        "        \"\"\"Broadcast a *value* to all receivers.\"\"\"\n",
        "        if not self.pipes:\n",
        "            raise RuntimeError('There are no output pipes.')\n",
        "        events = [store.put(value) for store in self.pipes]\n",
        "        return self.env.all_of(events)  # Condition event for all \"events\"\n",
        "\n",
        "    def get_output_conn(self):\n",
        "        \"\"\"Get a new output connection for this broadcast pipe.\n",
        "\n",
        "        The return value is a :class:`~simpy.resources.store.Store`.\n",
        "\n",
        "        \"\"\"\n",
        "        pipe = simpy.Store(self.env, capacity=self.capacity)\n",
        "        self.pipes.append(pipe)\n",
        "        return pipe\n",
        "\n",
        "\n",
        "def message_generator(name, env, out_pipe):\n",
        "    \"\"\"A process which randomly generates messages.\"\"\"\n",
        "    while True:\n",
        "        # wait for next transmission\n",
        "        yield env.timeout(random.randint(6, 10))\n",
        "\n",
        "        # messages are time stamped to later check if the consumer was\n",
        "        # late getting them.  Note, using event.triggered to do this may\n",
        "        # result in failure due to FIFO nature of simulation yields.\n",
        "        # (i.e. if at the same env.now, message_generator puts a message\n",
        "        # in the pipe first and then message_consumer gets from pipe,\n",
        "        # the event.triggered will be True in the other order it will be\n",
        "        # False\n",
        "        msg = (env.now, '%s says hello at %d' % (name, env.now))\n",
        "        out_pipe.put(msg)\n",
        "\n",
        "\n",
        "def message_consumer(name, env, in_pipe):\n",
        "    \"\"\"A process which consumes messages.\"\"\"\n",
        "    while True:\n",
        "        # Get event for message pipe\n",
        "        msg = yield in_pipe.get()\n",
        "\n",
        "        if msg[0] < env.now:\n",
        "            # if message was already put into pipe, then\n",
        "            # message_consumer was late getting to it. Depending on what\n",
        "            # is being modeled this, may, or may not have some\n",
        "            # significance\n",
        "            print('LATE Getting Message: at time %d: %s received message: %s' %\n",
        "                  (env.now, name, msg[1]))\n",
        "\n",
        "        else:\n",
        "            # message_consumer is synchronized with message_generator\n",
        "            print('at time %d: %s received message: %s.' %\n",
        "                  (env.now, name, msg[1]))\n",
        "\n",
        "        # Process does some other work, which may result in missing messages\n",
        "        yield env.timeout(random.randint(4, 8))\n",
        "\n",
        "\n",
        "# Setup and start the simulation\n",
        "print('Process communication')\n",
        "random.seed(RANDOM_SEED)\n",
        "env = simpy.Environment()\n",
        "\n",
        "# For one-to-one or many-to-one type pipes, use Store\n",
        "pipe = simpy.Store(env)\n",
        "env.process(message_generator('Generator A', env, pipe))\n",
        "env.process(message_consumer('Consumer A', env, pipe))\n",
        "\n",
        "print('\\nOne-to-one pipe communication\\n')\n",
        "env.run(until=SIM_TIME)\n",
        "\n",
        "# For one-to many use BroadcastPipe\n",
        "# (Note: could also be used for one-to-one,many-to-one or many-to-many)\n",
        "env = simpy.Environment()\n",
        "bc_pipe = BroadcastPipe(env)\n",
        "\n",
        "env.process(message_generator('Generator A', env, bc_pipe))\n",
        "env.process(message_consumer('Consumer A', env, bc_pipe.get_output_conn()))\n",
        "env.process(message_consumer('Consumer B', env, bc_pipe.get_output_conn()))\n",
        "\n",
        "print('\\nOne-to-many pipe communication\\n')\n",
        "env.run(until=SIM_TIME)\n"
      ],
      "metadata": {
        "colab": {
          "base_uri": "https://localhost:8080/"
        },
        "id": "94NvX7fL8k1B",
        "outputId": "7e968c22-d449-4dd0-b6d1-799d03d7ad88"
      },
      "execution_count": 2,
      "outputs": [
        {
          "output_type": "stream",
          "name": "stdout",
          "text": [
            "Process communication\n",
            "\n",
            "One-to-one pipe communication\n",
            "\n",
            "at time 6: Consumer A received message: Generator A says hello at 6.\n",
            "at time 12: Consumer A received message: Generator A says hello at 12.\n",
            "at time 19: Consumer A received message: Generator A says hello at 19.\n",
            "at time 26: Consumer A received message: Generator A says hello at 26.\n",
            "at time 36: Consumer A received message: Generator A says hello at 36.\n",
            "at time 46: Consumer A received message: Generator A says hello at 46.\n",
            "at time 52: Consumer A received message: Generator A says hello at 52.\n",
            "at time 58: Consumer A received message: Generator A says hello at 58.\n",
            "LATE Getting Message: at time 66: Consumer A received message: Generator A says hello at 65\n",
            "at time 75: Consumer A received message: Generator A says hello at 75.\n",
            "at time 85: Consumer A received message: Generator A says hello at 85.\n",
            "at time 95: Consumer A received message: Generator A says hello at 95.\n",
            "\n",
            "One-to-many pipe communication\n",
            "\n",
            "at time 10: Consumer A received message: Generator A says hello at 10.\n",
            "at time 10: Consumer B received message: Generator A says hello at 10.\n",
            "at time 18: Consumer A received message: Generator A says hello at 18.\n",
            "at time 18: Consumer B received message: Generator A says hello at 18.\n",
            "at time 27: Consumer A received message: Generator A says hello at 27.\n",
            "at time 27: Consumer B received message: Generator A says hello at 27.\n",
            "at time 34: Consumer A received message: Generator A says hello at 34.\n",
            "at time 34: Consumer B received message: Generator A says hello at 34.\n",
            "at time 40: Consumer A received message: Generator A says hello at 40.\n",
            "LATE Getting Message: at time 41: Consumer B received message: Generator A says hello at 40\n",
            "at time 46: Consumer A received message: Generator A says hello at 46.\n",
            "LATE Getting Message: at time 47: Consumer B received message: Generator A says hello at 46\n",
            "at time 56: Consumer A received message: Generator A says hello at 56.\n",
            "at time 56: Consumer B received message: Generator A says hello at 56.\n",
            "at time 65: Consumer A received message: Generator A says hello at 65.\n",
            "at time 65: Consumer B received message: Generator A says hello at 65.\n",
            "at time 74: Consumer A received message: Generator A says hello at 74.\n",
            "at time 74: Consumer B received message: Generator A says hello at 74.\n",
            "at time 82: Consumer A received message: Generator A says hello at 82.\n",
            "at time 82: Consumer B received message: Generator A says hello at 82.\n",
            "at time 92: Consumer A received message: Generator A says hello at 92.\n",
            "at time 92: Consumer B received message: Generator A says hello at 92.\n",
            "at time 98: Consumer B received message: Generator A says hello at 98.\n",
            "at time 98: Consumer A received message: Generator A says hello at 98.\n"
          ]
        }
      ]
    }
  ]
}