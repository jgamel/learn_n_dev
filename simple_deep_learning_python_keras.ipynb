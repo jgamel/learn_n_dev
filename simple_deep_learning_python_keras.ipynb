{
  "nbformat": 4,
  "nbformat_minor": 0,
  "metadata": {
    "colab": {
      "name": "simple_deep_learning_python_keras.ipynb",
      "provenance": [],
      "authorship_tag": "ABX9TyM7OPCtMP4swqAV4+1SWT94",
      "include_colab_link": true
    },
    "kernelspec": {
      "name": "python3",
      "display_name": "Python 3"
    },
    "language_info": {
      "name": "python"
    }
  },
  "cells": [
    {
      "cell_type": "markdown",
      "metadata": {
        "id": "view-in-github",
        "colab_type": "text"
      },
      "source": [
        "<a href=\"https://colab.research.google.com/github/jgamel/learn_n_dev/blob/python_machine_learning/simple_deep_learning_python_keras.ipynb\" target=\"_parent\"><img src=\"https://colab.research.google.com/assets/colab-badge.svg\" alt=\"Open In Colab\"/></a>"
      ]
    },
    {
      "cell_type": "markdown",
      "source": [
        "# First Deep Learning Project in Python with Keras Step-By-Step"
      ],
      "metadata": {
        "id": "yMqFRQvMZWIb"
      }
    },
    {
      "cell_type": "markdown",
      "source": [
        "Keras is a powerful and easy-to-use free open source Python library for developing and evaluating deep learning models.\n",
        "\n",
        "It wraps the efficient numerical computation libraries Theano and TensorFlow and allows you to define and train neural network models in just a few lines of code.\n",
        "\n",
        "In this tutorial, you will discover how to create your first deep learning neural network model in Python using Keras."
      ],
      "metadata": {
        "id": "V7sp6IsqZjLY"
      }
    },
    {
      "cell_type": "markdown",
      "source": [
        "### Steps:\n",
        "\n",
        "1. Load Data.\n",
        "2. Define Keras Model.\n",
        "3. Compile Keras Model.\n",
        "4. Fit Keras Model.\n",
        "5. Evaluate Keras Model.\n",
        "6. Tie It All Together.\n",
        "7. Make Predictions"
      ],
      "metadata": {
        "id": "LU0kFX_JZxjF"
      }
    },
    {
      "cell_type": "markdown",
      "source": [
        "### Load Modules & Data"
      ],
      "metadata": {
        "id": "Ds0z3HVkZ_EA"
      }
    },
    {
      "cell_type": "code",
      "execution_count": 2,
      "metadata": {
        "id": "HLECTtYSYGvo"
      },
      "outputs": [],
      "source": [
        "# first neural network with keras tutorial\n",
        "from numpy import loadtxt\n",
        "from keras.models import Sequential\n",
        "from keras.layers import Dense"
      ]
    },
    {
      "cell_type": "markdown",
      "source": [
        "We can now load our dataset.\n",
        "\n",
        "In this Keras tutorial, we are going to use the Pima Indians onset of diabetes dataset. This is a standard machine learning dataset from the UCI Machine Learning repository. It describes patient medical record data for Pima Indians and whether they had an onset of diabetes within five years.\n",
        "\n",
        "As such, it is a binary classification problem (onset of diabetes as 1 or not as 0). All of the input variables that describe each patient are numerical. This makes it easy to use directly with neural networks that expect numerical input and output values, and ideal for our first neural network in Keras."
      ],
      "metadata": {
        "id": "n0OwVkn7aSIC"
      }
    },
    {
      "cell_type": "markdown",
      "source": [
        "We can now load the file as a matrix of numbers using the NumPy function loadtxt().\n",
        "\n",
        "There are eight input variables and one output variable (the last column). We will be learning a model to map rows of input variables (X) to an output variable (y), which we often summarize as y = f(X).\n",
        "\n",
        "The variables can be summarized as follows:\n",
        "\n",
        "Input Variables (X):\n",
        "\n",
        "1. Number of times pregnant\n",
        "2. Plasma glucose concentration a 2 hours in an oral glucose tolerance test\n",
        "3. Diastolic blood pressure (mm Hg)\n",
        "Triceps skin fold thickness (mm)\n",
        "2-Hour serum insulin (mu U/ml)\n",
        "4. Body mass index (weight in kg/(height in m)^2)\n",
        "5. Diabetes pedigree function\n",
        "6. Age (years)\n",
        "\n",
        "Output Variables (y):\n",
        "\n",
        "Class variable (0 or 1)\n",
        "Once the CSV file is loaded into memory, we can split the columns of data into input and output variables.\n",
        "\n",
        "The data will be stored in a 2D array where the first dimension is rows and the second dimension is columns, e.g. [rows, columns].\n",
        "\n",
        "We can split the array into two arrays by selecting subsets of columns using the standard NumPy slice operator or “:” We can select the first 8 columns from index 0 to index 7 via the slice 0:8. We can then select the output column (the 9th variable) via index 8."
      ],
      "metadata": {
        "id": "Eqctm0kgtv0w"
      }
    },
    {
      "cell_type": "code",
      "source": [
        "# load the dataset\n",
        "dataset = loadtxt('https://raw.githubusercontent.com/jgamel/learn_n_dev/input_data/pima-indians-diabetes.csv', delimiter=',')\n",
        "# split into input (X) and output (y) variables\n",
        "X = dataset[:,0:8]\n",
        "y = dataset[:,8]"
      ],
      "metadata": {
        "id": "llT_Hk8SumHH"
      },
      "execution_count": 3,
      "outputs": []
    },
    {
      "cell_type": "markdown",
      "source": [
        "We are now ready to define our neural network model.\n",
        "\n",
        "Note, the dataset has 9 columns and the range 0:8 will select columns from 0 to 7, stopping before index 8. "
      ],
      "metadata": {
        "id": "LM8QtqkvwMiA"
      }
    },
    {
      "cell_type": "markdown",
      "source": [
        "### Define Keras Model"
      ],
      "metadata": {
        "id": "fNJJbdJvwmc2"
      }
    },
    {
      "cell_type": "markdown",
      "source": [
        "Models in Keras are defined as a sequence of layers.\n",
        "\n",
        "We create a Sequential model and add layers one at a time until we are happy with our network architecture.\n",
        "\n",
        "The first thing to get right is to ensure the input layer has the right number of input features. This can be specified when creating the first layer with the input_dim argument and setting it to 8 for the 8 input variables.\n",
        "\n",
        "How do we know the number of layers and their types?\n",
        "\n",
        "This is a very hard question. There are heuristics that we can use and often the best network structure is found through a process of trial and error experimentation (I explain more about this here). Generally, you need a network large enough to capture the structure of the problem.\n",
        "\n",
        "In this example, we will use a fully-connected network structure with three layers.\n",
        "\n",
        "Fully connected layers are defined using the Dense class. We can specify the number of neurons or nodes in the layer as the first argument, and specify the activation function using the activation argument.\n",
        "\n",
        "We will use the rectified linear unit activation function referred to as ReLU on the first two layers and the Sigmoid function in the output layer.\n",
        "\n",
        "It used to be the case that Sigmoid and Tanh activation functions were preferred for all layers. These days, better performance is achieved using the ReLU activation function. We use a sigmoid on the output layer to ensure our network output is between 0 and 1 and easy to map to either a probability of class 1 or snap to a hard classification of either class with a default threshold of 0.5."
      ],
      "metadata": {
        "id": "3i3m3FzhwnjI"
      }
    },
    {
      "cell_type": "markdown",
      "source": [
        "We can piece it all together by adding each layer:\n",
        "\n",
        "* The model expects rows of data with 8 variables (the input_dim=8 argument)\n",
        "* The first hidden layer has 12 nodes and uses the relu activation function.\n",
        "* The second hidden layer has 8 nodes and uses the relu activation function.\n",
        "* The output layer has one node and uses the sigmoid activation function."
      ],
      "metadata": {
        "id": "lksQ4KcQyOS3"
      }
    },
    {
      "cell_type": "code",
      "source": [
        "# define the keras model\n",
        "model = Sequential()\n",
        "model.add(Dense(12, input_dim=8, activation='relu'))\n",
        "model.add(Dense(8, activation='relu'))\n",
        "model.add(Dense(1, activation='sigmoid'))\n"
      ],
      "metadata": {
        "id": "l1IRVRhpydki"
      },
      "execution_count": 4,
      "outputs": []
    },
    {
      "cell_type": "markdown",
      "source": [
        "Note, the most confusing thing here is that the shape of the input to the model is defined as an argument on the first hidden layer. This means that the line of code that adds the first Dense layer is doing 2 things, defining the input or visible layer and the first hidden layer."
      ],
      "metadata": {
        "id": "P6yaT5nhyisC"
      }
    },
    {
      "cell_type": "markdown",
      "source": [
        "### Compile Keras Model"
      ],
      "metadata": {
        "id": "4z7U0eyfyx3G"
      }
    },
    {
      "cell_type": "markdown",
      "source": [
        "Now that the model is defined, we can compile it.\n",
        "\n",
        "Compiling the model uses the efficient numerical libraries under the covers (the so-called backend) such as Theano or TensorFlow. The backend automatically chooses the best way to represent the network for training and making predictions to run on your hardware, such as CPU or GPU or even distributed.\n",
        "\n",
        "When compiling, we must specify some additional properties required when training the network. Remember training a network means finding the best set of weights to map inputs to outputs in our dataset.\n",
        "\n",
        "We must specify the loss function to use to evaluate a set of weights, the optimizer is used to search through different weights for the network and any optional metrics we would like to collect and report during training."
      ],
      "metadata": {
        "id": "3b4Jmrswyy-Z"
      }
    },
    {
      "cell_type": "markdown",
      "source": [
        "In this case, we will use cross entropy as the loss argument. This loss is for a binary classification problems and is defined in Keras as “binary_crossentropy“.\n",
        "\n",
        "We will define the optimizer as the efficient stochastic gradient descent algorithm “adam“. This is a popular version of gradient descent because it automatically tunes itself and gives good results in a wide range of problems. \n",
        "\n",
        "Finally, because it is a classification problem, we will collect and report the classification accuracy, defined via the metrics argument."
      ],
      "metadata": {
        "id": "I1gjcftvzZpv"
      }
    },
    {
      "cell_type": "code",
      "source": [
        "# compile the keras model\n",
        "model.compile(loss='binary_crossentropy', optimizer='adam', metrics=['accuracy'])"
      ],
      "metadata": {
        "id": "DU-VckgjzxzG"
      },
      "execution_count": 5,
      "outputs": []
    },
    {
      "cell_type": "markdown",
      "source": [
        "### Fit Keras Model"
      ],
      "metadata": {
        "id": "EyKyIMxsz-D_"
      }
    },
    {
      "cell_type": "markdown",
      "source": [
        "We have defined our model and compiled it ready for efficient computation.\n",
        "\n",
        "Now it is time to execute the model on some data.\n",
        "\n",
        "We can train or fit our model on our loaded data by calling the fit() function on the model.\n",
        "\n",
        "Training occurs over epochs and each epoch is split into batches.\n",
        "\n",
        "Epoch: One pass through all of the rows in the training dataset.\n",
        "Batch: One or more samples considered by the model within an epoch before weights are updated.\n",
        "One epoch is comprised of one or more batches, based on the chosen batch size and the model is fit for many epochs.\n",
        "\n"
      ],
      "metadata": {
        "id": "Cd2Xz4cAz_MB"
      }
    },
    {
      "cell_type": "markdown",
      "source": [
        "The training process will run for a fixed number of iterations through the dataset called epochs, that we must specify using the epochs argument. We must also set the number of dataset rows that are considered before the model weights are updated within each epoch, called the batch size and set using the batch_size argument.\n",
        "\n",
        "For this problem, we will run for a small number of epochs (150) and use a relatively small batch size of 10.\n",
        "\n",
        "These configurations can be chosen experimentally by trial and error. We want to train the model enough so that it learns a good (or good enough) mapping of rows of input data to the output classification. The model will always have some error, but the amount of error will level out after some point for a given model configuration. This is called model convergence."
      ],
      "metadata": {
        "id": "yYqBwN_l0Z_K"
      }
    },
    {
      "cell_type": "code",
      "source": [
        "# fit the keras model on the dataset\n",
        "model.fit(X, y, epochs=150, batch_size=10)"
      ],
      "metadata": {
        "colab": {
          "base_uri": "https://localhost:8080/"
        },
        "id": "uJMDhr4f0a5x",
        "outputId": "26f18fbc-5659-44e8-a21e-f39a9e6fe747"
      },
      "execution_count": 6,
      "outputs": [
        {
          "output_type": "stream",
          "name": "stdout",
          "text": [
            "Epoch 1/150\n",
            "77/77 [==============================] - 1s 1ms/step - loss: 0.9863 - accuracy: 0.5833\n",
            "Epoch 2/150\n",
            "77/77 [==============================] - 0s 2ms/step - loss: 0.7043 - accuracy: 0.6185\n",
            "Epoch 3/150\n",
            "77/77 [==============================] - 0s 2ms/step - loss: 0.6794 - accuracy: 0.6484\n",
            "Epoch 4/150\n",
            "77/77 [==============================] - 0s 2ms/step - loss: 0.6601 - accuracy: 0.6484\n",
            "Epoch 5/150\n",
            "77/77 [==============================] - 0s 2ms/step - loss: 0.6511 - accuracy: 0.6484\n",
            "Epoch 6/150\n",
            "77/77 [==============================] - 0s 2ms/step - loss: 0.6449 - accuracy: 0.6589\n",
            "Epoch 7/150\n",
            "77/77 [==============================] - 0s 2ms/step - loss: 0.6413 - accuracy: 0.6497\n",
            "Epoch 8/150\n",
            "77/77 [==============================] - 0s 2ms/step - loss: 0.6337 - accuracy: 0.6562\n",
            "Epoch 9/150\n",
            "77/77 [==============================] - 0s 2ms/step - loss: 0.6257 - accuracy: 0.6680\n",
            "Epoch 10/150\n",
            "77/77 [==============================] - 0s 2ms/step - loss: 0.6213 - accuracy: 0.6745\n",
            "Epoch 11/150\n",
            "77/77 [==============================] - 0s 2ms/step - loss: 0.6144 - accuracy: 0.6797\n",
            "Epoch 12/150\n",
            "77/77 [==============================] - 0s 2ms/step - loss: 0.6083 - accuracy: 0.6797\n",
            "Epoch 13/150\n",
            "77/77 [==============================] - 0s 2ms/step - loss: 0.6199 - accuracy: 0.6771\n",
            "Epoch 14/150\n",
            "77/77 [==============================] - 0s 2ms/step - loss: 0.6071 - accuracy: 0.6823\n",
            "Epoch 15/150\n",
            "77/77 [==============================] - 0s 2ms/step - loss: 0.6060 - accuracy: 0.6875\n",
            "Epoch 16/150\n",
            "77/77 [==============================] - 0s 2ms/step - loss: 0.6065 - accuracy: 0.6862\n",
            "Epoch 17/150\n",
            "77/77 [==============================] - 0s 2ms/step - loss: 0.6022 - accuracy: 0.6797\n",
            "Epoch 18/150\n",
            "77/77 [==============================] - 0s 2ms/step - loss: 0.5987 - accuracy: 0.6888\n",
            "Epoch 19/150\n",
            "77/77 [==============================] - 0s 2ms/step - loss: 0.5978 - accuracy: 0.6849\n",
            "Epoch 20/150\n",
            "77/77 [==============================] - 0s 2ms/step - loss: 0.5919 - accuracy: 0.6875\n",
            "Epoch 21/150\n",
            "77/77 [==============================] - 0s 2ms/step - loss: 0.5920 - accuracy: 0.6862\n",
            "Epoch 22/150\n",
            "77/77 [==============================] - 0s 2ms/step - loss: 0.5895 - accuracy: 0.7135\n",
            "Epoch 23/150\n",
            "77/77 [==============================] - 0s 1ms/step - loss: 0.5916 - accuracy: 0.6888\n",
            "Epoch 24/150\n",
            "77/77 [==============================] - 0s 1ms/step - loss: 0.5879 - accuracy: 0.6927\n",
            "Epoch 25/150\n",
            "77/77 [==============================] - 0s 2ms/step - loss: 0.5869 - accuracy: 0.7109\n",
            "Epoch 26/150\n",
            "77/77 [==============================] - 0s 2ms/step - loss: 0.5831 - accuracy: 0.7005\n",
            "Epoch 27/150\n",
            "77/77 [==============================] - 0s 2ms/step - loss: 0.5761 - accuracy: 0.6992\n",
            "Epoch 28/150\n",
            "77/77 [==============================] - 0s 2ms/step - loss: 0.5783 - accuracy: 0.7057\n",
            "Epoch 29/150\n",
            "77/77 [==============================] - 0s 2ms/step - loss: 0.5779 - accuracy: 0.7070\n",
            "Epoch 30/150\n",
            "77/77 [==============================] - 0s 2ms/step - loss: 0.5775 - accuracy: 0.6992\n",
            "Epoch 31/150\n",
            "77/77 [==============================] - 0s 2ms/step - loss: 0.5713 - accuracy: 0.7292\n",
            "Epoch 32/150\n",
            "77/77 [==============================] - 0s 2ms/step - loss: 0.5768 - accuracy: 0.7044\n",
            "Epoch 33/150\n",
            "77/77 [==============================] - 0s 2ms/step - loss: 0.5769 - accuracy: 0.7070\n",
            "Epoch 34/150\n",
            "77/77 [==============================] - 0s 2ms/step - loss: 0.5724 - accuracy: 0.7096\n",
            "Epoch 35/150\n",
            "77/77 [==============================] - 0s 2ms/step - loss: 0.5750 - accuracy: 0.7096\n",
            "Epoch 36/150\n",
            "77/77 [==============================] - 0s 2ms/step - loss: 0.5692 - accuracy: 0.7266\n",
            "Epoch 37/150\n",
            "77/77 [==============================] - 0s 2ms/step - loss: 0.5686 - accuracy: 0.7148\n",
            "Epoch 38/150\n",
            "77/77 [==============================] - 0s 2ms/step - loss: 0.5669 - accuracy: 0.7174\n",
            "Epoch 39/150\n",
            "77/77 [==============================] - 0s 1ms/step - loss: 0.5664 - accuracy: 0.7253\n",
            "Epoch 40/150\n",
            "77/77 [==============================] - 0s 2ms/step - loss: 0.5657 - accuracy: 0.7292\n",
            "Epoch 41/150\n",
            "77/77 [==============================] - 0s 2ms/step - loss: 0.5631 - accuracy: 0.7266\n",
            "Epoch 42/150\n",
            "77/77 [==============================] - 0s 1ms/step - loss: 0.5658 - accuracy: 0.7344\n",
            "Epoch 43/150\n",
            "77/77 [==============================] - 0s 2ms/step - loss: 0.5601 - accuracy: 0.7305\n",
            "Epoch 44/150\n",
            "77/77 [==============================] - 0s 2ms/step - loss: 0.5635 - accuracy: 0.7279\n",
            "Epoch 45/150\n",
            "77/77 [==============================] - 0s 2ms/step - loss: 0.5591 - accuracy: 0.7266\n",
            "Epoch 46/150\n",
            "77/77 [==============================] - 0s 2ms/step - loss: 0.5747 - accuracy: 0.7214\n",
            "Epoch 47/150\n",
            "77/77 [==============================] - 0s 2ms/step - loss: 0.5578 - accuracy: 0.7227\n",
            "Epoch 48/150\n",
            "77/77 [==============================] - 0s 2ms/step - loss: 0.5628 - accuracy: 0.7240\n",
            "Epoch 49/150\n",
            "77/77 [==============================] - 0s 2ms/step - loss: 0.5632 - accuracy: 0.7279\n",
            "Epoch 50/150\n",
            "77/77 [==============================] - 0s 2ms/step - loss: 0.5571 - accuracy: 0.7344\n",
            "Epoch 51/150\n",
            "77/77 [==============================] - 0s 2ms/step - loss: 0.5581 - accuracy: 0.7357\n",
            "Epoch 52/150\n",
            "77/77 [==============================] - 0s 2ms/step - loss: 0.5559 - accuracy: 0.7227\n",
            "Epoch 53/150\n",
            "77/77 [==============================] - 0s 2ms/step - loss: 0.5603 - accuracy: 0.7344\n",
            "Epoch 54/150\n",
            "77/77 [==============================] - 0s 2ms/step - loss: 0.5538 - accuracy: 0.7370\n",
            "Epoch 55/150\n",
            "77/77 [==============================] - 0s 2ms/step - loss: 0.5541 - accuracy: 0.7370\n",
            "Epoch 56/150\n",
            "77/77 [==============================] - 0s 2ms/step - loss: 0.5516 - accuracy: 0.7448\n",
            "Epoch 57/150\n",
            "77/77 [==============================] - 0s 2ms/step - loss: 0.5504 - accuracy: 0.7448\n",
            "Epoch 58/150\n",
            "77/77 [==============================] - 0s 2ms/step - loss: 0.5520 - accuracy: 0.7357\n",
            "Epoch 59/150\n",
            "77/77 [==============================] - 0s 2ms/step - loss: 0.5538 - accuracy: 0.7461\n",
            "Epoch 60/150\n",
            "77/77 [==============================] - 0s 2ms/step - loss: 0.5535 - accuracy: 0.7396\n",
            "Epoch 61/150\n",
            "77/77 [==============================] - 0s 2ms/step - loss: 0.5511 - accuracy: 0.7474\n",
            "Epoch 62/150\n",
            "77/77 [==============================] - 0s 2ms/step - loss: 0.5466 - accuracy: 0.7370\n",
            "Epoch 63/150\n",
            "77/77 [==============================] - 0s 1ms/step - loss: 0.5625 - accuracy: 0.7266\n",
            "Epoch 64/150\n",
            "77/77 [==============================] - 0s 2ms/step - loss: 0.5450 - accuracy: 0.7422\n",
            "Epoch 65/150\n",
            "77/77 [==============================] - 0s 2ms/step - loss: 0.5493 - accuracy: 0.7305\n",
            "Epoch 66/150\n",
            "77/77 [==============================] - 0s 2ms/step - loss: 0.5524 - accuracy: 0.7370\n",
            "Epoch 67/150\n",
            "77/77 [==============================] - 0s 2ms/step - loss: 0.5487 - accuracy: 0.7357\n",
            "Epoch 68/150\n",
            "77/77 [==============================] - 0s 2ms/step - loss: 0.5419 - accuracy: 0.7435\n",
            "Epoch 69/150\n",
            "77/77 [==============================] - 0s 2ms/step - loss: 0.5462 - accuracy: 0.7292\n",
            "Epoch 70/150\n",
            "77/77 [==============================] - 0s 2ms/step - loss: 0.5436 - accuracy: 0.7409\n",
            "Epoch 71/150\n",
            "77/77 [==============================] - 0s 2ms/step - loss: 0.5420 - accuracy: 0.7344\n",
            "Epoch 72/150\n",
            "77/77 [==============================] - 0s 2ms/step - loss: 0.5457 - accuracy: 0.7357\n",
            "Epoch 73/150\n",
            "77/77 [==============================] - 0s 2ms/step - loss: 0.5397 - accuracy: 0.7383\n",
            "Epoch 74/150\n",
            "77/77 [==============================] - 0s 2ms/step - loss: 0.5435 - accuracy: 0.7539\n",
            "Epoch 75/150\n",
            "77/77 [==============================] - 0s 2ms/step - loss: 0.5389 - accuracy: 0.7396\n",
            "Epoch 76/150\n",
            "77/77 [==============================] - 0s 2ms/step - loss: 0.5406 - accuracy: 0.7526\n",
            "Epoch 77/150\n",
            "77/77 [==============================] - 0s 2ms/step - loss: 0.5392 - accuracy: 0.7279\n",
            "Epoch 78/150\n",
            "77/77 [==============================] - 0s 2ms/step - loss: 0.5392 - accuracy: 0.7669\n",
            "Epoch 79/150\n",
            "77/77 [==============================] - 0s 2ms/step - loss: 0.5400 - accuracy: 0.7370\n",
            "Epoch 80/150\n",
            "77/77 [==============================] - 0s 5ms/step - loss: 0.5359 - accuracy: 0.7526\n",
            "Epoch 81/150\n",
            "77/77 [==============================] - 0s 3ms/step - loss: 0.5425 - accuracy: 0.7383\n",
            "Epoch 82/150\n",
            "77/77 [==============================] - 0s 3ms/step - loss: 0.5374 - accuracy: 0.7474\n",
            "Epoch 83/150\n",
            "77/77 [==============================] - 0s 4ms/step - loss: 0.5383 - accuracy: 0.7409\n",
            "Epoch 84/150\n",
            "77/77 [==============================] - 0s 3ms/step - loss: 0.5367 - accuracy: 0.7487\n",
            "Epoch 85/150\n",
            "77/77 [==============================] - 0s 4ms/step - loss: 0.5309 - accuracy: 0.7604\n",
            "Epoch 86/150\n",
            "77/77 [==============================] - 0s 2ms/step - loss: 0.5342 - accuracy: 0.7591\n",
            "Epoch 87/150\n",
            "77/77 [==============================] - 0s 2ms/step - loss: 0.5338 - accuracy: 0.7578\n",
            "Epoch 88/150\n",
            "77/77 [==============================] - 0s 2ms/step - loss: 0.5329 - accuracy: 0.7474\n",
            "Epoch 89/150\n",
            "77/77 [==============================] - 0s 2ms/step - loss: 0.5279 - accuracy: 0.7513\n",
            "Epoch 90/150\n",
            "77/77 [==============================] - 0s 2ms/step - loss: 0.5410 - accuracy: 0.7461\n",
            "Epoch 91/150\n",
            "77/77 [==============================] - 0s 2ms/step - loss: 0.5307 - accuracy: 0.7578\n",
            "Epoch 92/150\n",
            "77/77 [==============================] - 0s 1ms/step - loss: 0.5294 - accuracy: 0.7604\n",
            "Epoch 93/150\n",
            "77/77 [==============================] - 0s 2ms/step - loss: 0.5255 - accuracy: 0.7669\n",
            "Epoch 94/150\n",
            "77/77 [==============================] - 0s 2ms/step - loss: 0.5242 - accuracy: 0.7591\n",
            "Epoch 95/150\n",
            "77/77 [==============================] - 0s 2ms/step - loss: 0.5256 - accuracy: 0.7513\n",
            "Epoch 96/150\n",
            "77/77 [==============================] - 0s 2ms/step - loss: 0.5247 - accuracy: 0.7552\n",
            "Epoch 97/150\n",
            "77/77 [==============================] - 0s 2ms/step - loss: 0.5346 - accuracy: 0.7630\n",
            "Epoch 98/150\n",
            "77/77 [==============================] - 0s 2ms/step - loss: 0.5282 - accuracy: 0.7526\n",
            "Epoch 99/150\n",
            "77/77 [==============================] - 0s 2ms/step - loss: 0.5202 - accuracy: 0.7799\n",
            "Epoch 100/150\n",
            "77/77 [==============================] - 0s 2ms/step - loss: 0.5236 - accuracy: 0.7643\n",
            "Epoch 101/150\n",
            "77/77 [==============================] - 0s 2ms/step - loss: 0.5215 - accuracy: 0.7630\n",
            "Epoch 102/150\n",
            "77/77 [==============================] - 0s 2ms/step - loss: 0.5197 - accuracy: 0.7643\n",
            "Epoch 103/150\n",
            "77/77 [==============================] - 0s 2ms/step - loss: 0.5173 - accuracy: 0.7682\n",
            "Epoch 104/150\n",
            "77/77 [==============================] - 0s 2ms/step - loss: 0.5189 - accuracy: 0.7578\n",
            "Epoch 105/150\n",
            "77/77 [==============================] - 0s 2ms/step - loss: 0.5170 - accuracy: 0.7617\n",
            "Epoch 106/150\n",
            "77/77 [==============================] - 0s 2ms/step - loss: 0.5201 - accuracy: 0.7591\n",
            "Epoch 107/150\n",
            "77/77 [==============================] - 0s 2ms/step - loss: 0.5180 - accuracy: 0.7500\n",
            "Epoch 108/150\n",
            "77/77 [==============================] - 0s 2ms/step - loss: 0.5232 - accuracy: 0.7552\n",
            "Epoch 109/150\n",
            "77/77 [==============================] - 0s 2ms/step - loss: 0.5182 - accuracy: 0.7500\n",
            "Epoch 110/150\n",
            "77/77 [==============================] - 0s 2ms/step - loss: 0.5180 - accuracy: 0.7591\n",
            "Epoch 111/150\n",
            "77/77 [==============================] - 0s 1ms/step - loss: 0.5192 - accuracy: 0.7617\n",
            "Epoch 112/150\n",
            "77/77 [==============================] - 0s 2ms/step - loss: 0.5130 - accuracy: 0.7604\n",
            "Epoch 113/150\n",
            "77/77 [==============================] - 0s 2ms/step - loss: 0.5107 - accuracy: 0.7656\n",
            "Epoch 114/150\n",
            "77/77 [==============================] - 0s 2ms/step - loss: 0.5257 - accuracy: 0.7695\n",
            "Epoch 115/150\n",
            "77/77 [==============================] - 0s 2ms/step - loss: 0.5246 - accuracy: 0.7578\n",
            "Epoch 116/150\n",
            "77/77 [==============================] - 0s 2ms/step - loss: 0.5123 - accuracy: 0.7487\n",
            "Epoch 117/150\n",
            "77/77 [==============================] - 0s 2ms/step - loss: 0.5148 - accuracy: 0.7591\n",
            "Epoch 118/150\n",
            "77/77 [==============================] - 0s 2ms/step - loss: 0.5164 - accuracy: 0.7578\n",
            "Epoch 119/150\n",
            "77/77 [==============================] - 0s 2ms/step - loss: 0.5227 - accuracy: 0.7695\n",
            "Epoch 120/150\n",
            "77/77 [==============================] - 0s 2ms/step - loss: 0.5127 - accuracy: 0.7604\n",
            "Epoch 121/150\n",
            "77/77 [==============================] - 0s 2ms/step - loss: 0.5082 - accuracy: 0.7669\n",
            "Epoch 122/150\n",
            "77/77 [==============================] - 0s 2ms/step - loss: 0.5119 - accuracy: 0.7630\n",
            "Epoch 123/150\n",
            "77/77 [==============================] - 0s 2ms/step - loss: 0.5099 - accuracy: 0.7552\n",
            "Epoch 124/150\n",
            "77/77 [==============================] - 0s 2ms/step - loss: 0.5105 - accuracy: 0.7721\n",
            "Epoch 125/150\n",
            "77/77 [==============================] - 0s 2ms/step - loss: 0.5068 - accuracy: 0.7630\n",
            "Epoch 126/150\n",
            "77/77 [==============================] - 0s 2ms/step - loss: 0.5125 - accuracy: 0.7682\n",
            "Epoch 127/150\n",
            "77/77 [==============================] - 0s 2ms/step - loss: 0.5079 - accuracy: 0.7565\n",
            "Epoch 128/150\n",
            "77/77 [==============================] - 0s 2ms/step - loss: 0.5086 - accuracy: 0.7695\n",
            "Epoch 129/150\n",
            "77/77 [==============================] - 0s 2ms/step - loss: 0.5054 - accuracy: 0.7734\n",
            "Epoch 130/150\n",
            "77/77 [==============================] - 0s 2ms/step - loss: 0.5038 - accuracy: 0.7656\n",
            "Epoch 131/150\n",
            "77/77 [==============================] - 0s 2ms/step - loss: 0.5059 - accuracy: 0.7643\n",
            "Epoch 132/150\n",
            "77/77 [==============================] - 0s 2ms/step - loss: 0.5093 - accuracy: 0.7565\n",
            "Epoch 133/150\n",
            "77/77 [==============================] - 0s 2ms/step - loss: 0.5088 - accuracy: 0.7695\n",
            "Epoch 134/150\n",
            "77/77 [==============================] - 0s 2ms/step - loss: 0.5039 - accuracy: 0.7734\n",
            "Epoch 135/150\n",
            "77/77 [==============================] - 0s 2ms/step - loss: 0.5094 - accuracy: 0.7721\n",
            "Epoch 136/150\n",
            "77/77 [==============================] - 0s 2ms/step - loss: 0.5045 - accuracy: 0.7669\n",
            "Epoch 137/150\n",
            "77/77 [==============================] - 0s 2ms/step - loss: 0.5100 - accuracy: 0.7578\n",
            "Epoch 138/150\n",
            "77/77 [==============================] - 0s 2ms/step - loss: 0.5041 - accuracy: 0.7669\n",
            "Epoch 139/150\n",
            "77/77 [==============================] - 0s 2ms/step - loss: 0.5010 - accuracy: 0.7591\n",
            "Epoch 140/150\n",
            "77/77 [==============================] - 0s 2ms/step - loss: 0.5003 - accuracy: 0.7721\n",
            "Epoch 141/150\n",
            "77/77 [==============================] - 0s 1ms/step - loss: 0.5094 - accuracy: 0.7461\n",
            "Epoch 142/150\n",
            "77/77 [==============================] - 0s 2ms/step - loss: 0.5086 - accuracy: 0.7721\n",
            "Epoch 143/150\n",
            "77/77 [==============================] - 0s 2ms/step - loss: 0.4973 - accuracy: 0.7695\n",
            "Epoch 144/150\n",
            "77/77 [==============================] - 0s 2ms/step - loss: 0.5084 - accuracy: 0.7669\n",
            "Epoch 145/150\n",
            "77/77 [==============================] - 0s 2ms/step - loss: 0.5040 - accuracy: 0.7708\n",
            "Epoch 146/150\n",
            "77/77 [==============================] - 0s 2ms/step - loss: 0.5027 - accuracy: 0.7656\n",
            "Epoch 147/150\n",
            "77/77 [==============================] - 0s 2ms/step - loss: 0.5060 - accuracy: 0.7578\n",
            "Epoch 148/150\n",
            "77/77 [==============================] - 0s 2ms/step - loss: 0.5005 - accuracy: 0.7630\n",
            "Epoch 149/150\n",
            "77/77 [==============================] - 0s 2ms/step - loss: 0.4981 - accuracy: 0.7839\n",
            "Epoch 150/150\n",
            "77/77 [==============================] - 0s 2ms/step - loss: 0.5048 - accuracy: 0.7708\n"
          ]
        },
        {
          "output_type": "execute_result",
          "data": {
            "text/plain": [
              "<keras.callbacks.History at 0x7f7d31f64050>"
            ]
          },
          "metadata": {},
          "execution_count": 6
        }
      ]
    },
    {
      "cell_type": "markdown",
      "source": [
        "This is where the work happens on your CPU or GPU."
      ],
      "metadata": {
        "id": "v19t4Zl20v3H"
      }
    },
    {
      "cell_type": "markdown",
      "source": [
        "### Evaluate Keras Model"
      ],
      "metadata": {
        "id": "oSFhRYlW05Rv"
      }
    },
    {
      "cell_type": "markdown",
      "source": [
        "We have trained our neural network on the entire dataset and we can evaluate the performance of the network on the same dataset.\n",
        "\n",
        "This will only give us an idea of how well we have modeled the dataset (e.g. train accuracy), but no idea of how well the algorithm might perform on new data. We have done this for simplicity, but ideally, you could separate your data into train and test datasets for training and evaluation of your model.\n",
        "\n",
        "You can evaluate your model on your training dataset using the evaluate() function on your model and pass it the same input and output used to train the model.\n",
        "\n",
        "This will generate a prediction for each input and output pair and collect scores, including the average loss and any metrics you have configured, such as accuracy.\n",
        "\n",
        "The evaluate() function will return a list with two values. The first will be the loss of the model on the dataset and the second will be the accuracy of the model on the dataset. We are only interested in reporting the accuracy, so we will ignore the loss value."
      ],
      "metadata": {
        "id": "yKXdhJMd081e"
      }
    },
    {
      "cell_type": "code",
      "source": [
        "# evaluate the keras model\n",
        "_, accuracy = model.evaluate(X, y)\n",
        "print('Accuracy: %.2f' % (accuracy*100))"
      ],
      "metadata": {
        "colab": {
          "base_uri": "https://localhost:8080/"
        },
        "id": "nnOedhnn1uUz",
        "outputId": "79548815-43e6-470d-dc3e-dbff49c62f52"
      },
      "execution_count": 7,
      "outputs": [
        {
          "output_type": "stream",
          "name": "stdout",
          "text": [
            "24/24 [==============================] - 0s 1ms/step - loss: 0.4959 - accuracy: 0.7721\n",
            "Accuracy: 77.21\n"
          ]
        }
      ]
    },
    {
      "cell_type": "markdown",
      "source": [
        "### Tie It All Together"
      ],
      "metadata": {
        "id": "-X5dByJP1z32"
      }
    },
    {
      "cell_type": "markdown",
      "source": [
        "You have just seen how you can easily create your first neural network model in Keras.\n",
        "\n",
        "Let’s tie it all together into a complete code example."
      ],
      "metadata": {
        "id": "9fOlm5O512FG"
      }
    },
    {
      "cell_type": "code",
      "source": [
        "# first neural network with keras tutorial\n",
        "from numpy import loadtxt\n",
        "from keras.models import Sequential\n",
        "from keras.layers import Dense\n",
        "# load the dataset\n",
        "dataset = loadtxt('https://raw.githubusercontent.com/jgamel/learn_n_dev/input_data/pima-indians-diabetes.csv', delimiter=',')\n",
        "# split into input (X) and output (y) variables\n",
        "X = dataset[:,0:8]\n",
        "y = dataset[:,8]\n",
        "# define the keras model\n",
        "model = Sequential()\n",
        "model.add(Dense(12, input_dim=8, activation='relu'))\n",
        "model.add(Dense(8, activation='relu'))\n",
        "model.add(Dense(1, activation='sigmoid'))\n",
        "# compile the keras model\n",
        "model.compile(loss='binary_crossentropy', optimizer='adam', metrics=['accuracy'])\n",
        "# fit the keras model on the dataset\n",
        "model.fit(X, y, epochs=150, batch_size=10)\n",
        "# evaluate the keras model\n",
        "_, accuracy = model.evaluate(X, y)\n",
        "print('Accuracy: %.2f' % (accuracy*100))"
      ],
      "metadata": {
        "colab": {
          "base_uri": "https://localhost:8080/"
        },
        "id": "KsAlq76Z15cD",
        "outputId": "23288b11-1b4b-4026-81bb-d39ddf543be3"
      },
      "execution_count": 8,
      "outputs": [
        {
          "output_type": "stream",
          "name": "stdout",
          "text": [
            "Epoch 1/150\n",
            "77/77 [==============================] - 1s 2ms/step - loss: 21.2333 - accuracy: 0.4115\n",
            "Epoch 2/150\n",
            "77/77 [==============================] - 0s 2ms/step - loss: 4.1979 - accuracy: 0.6289\n",
            "Epoch 3/150\n",
            "77/77 [==============================] - 0s 2ms/step - loss: 2.2661 - accuracy: 0.6055\n",
            "Epoch 4/150\n",
            "77/77 [==============================] - 0s 2ms/step - loss: 1.7172 - accuracy: 0.5964\n",
            "Epoch 5/150\n",
            "77/77 [==============================] - 0s 2ms/step - loss: 1.2748 - accuracy: 0.6081\n",
            "Epoch 6/150\n",
            "77/77 [==============================] - 0s 2ms/step - loss: 1.0020 - accuracy: 0.6094\n",
            "Epoch 7/150\n",
            "77/77 [==============================] - 0s 2ms/step - loss: 0.8490 - accuracy: 0.6237\n",
            "Epoch 8/150\n",
            "77/77 [==============================] - 0s 2ms/step - loss: 0.7776 - accuracy: 0.6237\n",
            "Epoch 9/150\n",
            "77/77 [==============================] - 0s 2ms/step - loss: 0.7377 - accuracy: 0.6237\n",
            "Epoch 10/150\n",
            "77/77 [==============================] - 0s 2ms/step - loss: 0.7147 - accuracy: 0.6393\n",
            "Epoch 11/150\n",
            "77/77 [==============================] - 0s 2ms/step - loss: 0.6738 - accuracy: 0.6536\n",
            "Epoch 12/150\n",
            "77/77 [==============================] - 0s 2ms/step - loss: 0.6592 - accuracy: 0.6523\n",
            "Epoch 13/150\n",
            "77/77 [==============================] - 0s 1ms/step - loss: 0.6358 - accuracy: 0.6667\n",
            "Epoch 14/150\n",
            "77/77 [==============================] - 0s 2ms/step - loss: 0.6234 - accuracy: 0.6849\n",
            "Epoch 15/150\n",
            "77/77 [==============================] - 0s 2ms/step - loss: 0.6182 - accuracy: 0.6940\n",
            "Epoch 16/150\n",
            "77/77 [==============================] - 0s 2ms/step - loss: 0.6163 - accuracy: 0.6849\n",
            "Epoch 17/150\n",
            "77/77 [==============================] - 0s 2ms/step - loss: 0.6265 - accuracy: 0.6836\n",
            "Epoch 18/150\n",
            "77/77 [==============================] - 0s 2ms/step - loss: 0.6373 - accuracy: 0.6823\n",
            "Epoch 19/150\n",
            "77/77 [==============================] - 0s 2ms/step - loss: 0.6039 - accuracy: 0.6862\n",
            "Epoch 20/150\n",
            "77/77 [==============================] - 0s 2ms/step - loss: 0.5995 - accuracy: 0.6966\n",
            "Epoch 21/150\n",
            "77/77 [==============================] - 0s 2ms/step - loss: 0.6445 - accuracy: 0.6875\n",
            "Epoch 22/150\n",
            "77/77 [==============================] - 0s 2ms/step - loss: 0.5847 - accuracy: 0.7044\n",
            "Epoch 23/150\n",
            "77/77 [==============================] - 0s 2ms/step - loss: 0.5828 - accuracy: 0.6953\n",
            "Epoch 24/150\n",
            "77/77 [==============================] - 0s 2ms/step - loss: 0.5845 - accuracy: 0.6927\n",
            "Epoch 25/150\n",
            "77/77 [==============================] - 0s 2ms/step - loss: 0.6104 - accuracy: 0.6810\n",
            "Epoch 26/150\n",
            "77/77 [==============================] - 0s 2ms/step - loss: 0.5922 - accuracy: 0.6953\n",
            "Epoch 27/150\n",
            "77/77 [==============================] - 0s 2ms/step - loss: 0.5776 - accuracy: 0.7135\n",
            "Epoch 28/150\n",
            "77/77 [==============================] - 0s 2ms/step - loss: 0.5782 - accuracy: 0.7214\n",
            "Epoch 29/150\n",
            "77/77 [==============================] - 0s 2ms/step - loss: 0.5658 - accuracy: 0.7201\n",
            "Epoch 30/150\n",
            "77/77 [==============================] - 0s 2ms/step - loss: 0.5713 - accuracy: 0.6966\n",
            "Epoch 31/150\n",
            "77/77 [==============================] - 0s 2ms/step - loss: 0.5773 - accuracy: 0.7214\n",
            "Epoch 32/150\n",
            "77/77 [==============================] - 0s 2ms/step - loss: 0.5738 - accuracy: 0.7227\n",
            "Epoch 33/150\n",
            "77/77 [==============================] - 0s 2ms/step - loss: 0.5625 - accuracy: 0.7292\n",
            "Epoch 34/150\n",
            "77/77 [==============================] - 0s 2ms/step - loss: 0.5858 - accuracy: 0.7227\n",
            "Epoch 35/150\n",
            "77/77 [==============================] - 0s 2ms/step - loss: 0.5655 - accuracy: 0.7331\n",
            "Epoch 36/150\n",
            "77/77 [==============================] - 0s 2ms/step - loss: 0.5632 - accuracy: 0.7240\n",
            "Epoch 37/150\n",
            "77/77 [==============================] - 0s 2ms/step - loss: 0.5570 - accuracy: 0.7253\n",
            "Epoch 38/150\n",
            "77/77 [==============================] - 0s 2ms/step - loss: 0.5581 - accuracy: 0.7201\n",
            "Epoch 39/150\n",
            "77/77 [==============================] - 0s 2ms/step - loss: 0.5606 - accuracy: 0.7174\n",
            "Epoch 40/150\n",
            "77/77 [==============================] - 0s 2ms/step - loss: 0.5543 - accuracy: 0.7096\n",
            "Epoch 41/150\n",
            "77/77 [==============================] - 0s 2ms/step - loss: 0.5514 - accuracy: 0.7435\n",
            "Epoch 42/150\n",
            "77/77 [==============================] - 0s 2ms/step - loss: 0.5613 - accuracy: 0.7396\n",
            "Epoch 43/150\n",
            "77/77 [==============================] - 0s 2ms/step - loss: 0.5892 - accuracy: 0.6966\n",
            "Epoch 44/150\n",
            "77/77 [==============================] - 0s 2ms/step - loss: 0.5613 - accuracy: 0.7188\n",
            "Epoch 45/150\n",
            "77/77 [==============================] - 0s 2ms/step - loss: 0.5824 - accuracy: 0.7201\n",
            "Epoch 46/150\n",
            "77/77 [==============================] - 0s 2ms/step - loss: 0.5726 - accuracy: 0.7174\n",
            "Epoch 47/150\n",
            "77/77 [==============================] - 0s 2ms/step - loss: 0.5641 - accuracy: 0.7266\n",
            "Epoch 48/150\n",
            "77/77 [==============================] - 0s 2ms/step - loss: 0.5628 - accuracy: 0.7188\n",
            "Epoch 49/150\n",
            "77/77 [==============================] - 0s 2ms/step - loss: 0.5686 - accuracy: 0.7188\n",
            "Epoch 50/150\n",
            "77/77 [==============================] - 0s 2ms/step - loss: 0.5500 - accuracy: 0.7409\n",
            "Epoch 51/150\n",
            "77/77 [==============================] - 0s 2ms/step - loss: 0.5650 - accuracy: 0.7188\n",
            "Epoch 52/150\n",
            "77/77 [==============================] - 0s 2ms/step - loss: 0.5491 - accuracy: 0.7331\n",
            "Epoch 53/150\n",
            "77/77 [==============================] - 0s 1ms/step - loss: 0.5654 - accuracy: 0.7148\n",
            "Epoch 54/150\n",
            "77/77 [==============================] - 0s 2ms/step - loss: 0.5725 - accuracy: 0.7096\n",
            "Epoch 55/150\n",
            "77/77 [==============================] - 0s 2ms/step - loss: 0.5435 - accuracy: 0.7409\n",
            "Epoch 56/150\n",
            "77/77 [==============================] - 0s 2ms/step - loss: 0.5545 - accuracy: 0.7318\n",
            "Epoch 57/150\n",
            "77/77 [==============================] - 0s 2ms/step - loss: 0.5455 - accuracy: 0.7135\n",
            "Epoch 58/150\n",
            "77/77 [==============================] - 0s 2ms/step - loss: 0.5347 - accuracy: 0.7422\n",
            "Epoch 59/150\n",
            "77/77 [==============================] - 0s 2ms/step - loss: 0.5399 - accuracy: 0.7435\n",
            "Epoch 60/150\n",
            "77/77 [==============================] - 0s 2ms/step - loss: 0.5288 - accuracy: 0.7500\n",
            "Epoch 61/150\n",
            "77/77 [==============================] - 0s 2ms/step - loss: 0.5423 - accuracy: 0.7305\n",
            "Epoch 62/150\n",
            "77/77 [==============================] - 0s 2ms/step - loss: 0.5710 - accuracy: 0.7135\n",
            "Epoch 63/150\n",
            "77/77 [==============================] - 0s 2ms/step - loss: 0.5720 - accuracy: 0.7201\n",
            "Epoch 64/150\n",
            "77/77 [==============================] - 0s 2ms/step - loss: 0.5420 - accuracy: 0.7474\n",
            "Epoch 65/150\n",
            "77/77 [==============================] - 0s 2ms/step - loss: 0.5388 - accuracy: 0.7370\n",
            "Epoch 66/150\n",
            "77/77 [==============================] - 0s 2ms/step - loss: 0.5370 - accuracy: 0.7292\n",
            "Epoch 67/150\n",
            "77/77 [==============================] - 0s 2ms/step - loss: 0.5383 - accuracy: 0.7422\n",
            "Epoch 68/150\n",
            "77/77 [==============================] - 0s 2ms/step - loss: 0.5361 - accuracy: 0.7448\n",
            "Epoch 69/150\n",
            "77/77 [==============================] - 0s 2ms/step - loss: 0.5505 - accuracy: 0.7279\n",
            "Epoch 70/150\n",
            "77/77 [==============================] - 0s 2ms/step - loss: 0.5430 - accuracy: 0.7422\n",
            "Epoch 71/150\n",
            "77/77 [==============================] - 0s 2ms/step - loss: 0.5731 - accuracy: 0.7135\n",
            "Epoch 72/150\n",
            "77/77 [==============================] - 0s 2ms/step - loss: 0.5204 - accuracy: 0.7500\n",
            "Epoch 73/150\n",
            "77/77 [==============================] - 0s 2ms/step - loss: 0.5231 - accuracy: 0.7565\n",
            "Epoch 74/150\n",
            "77/77 [==============================] - 0s 2ms/step - loss: 0.5257 - accuracy: 0.7422\n",
            "Epoch 75/150\n",
            "77/77 [==============================] - 0s 2ms/step - loss: 0.5252 - accuracy: 0.7526\n",
            "Epoch 76/150\n",
            "77/77 [==============================] - 0s 2ms/step - loss: 0.5468 - accuracy: 0.7396\n",
            "Epoch 77/150\n",
            "77/77 [==============================] - 0s 2ms/step - loss: 0.5801 - accuracy: 0.7109\n",
            "Epoch 78/150\n",
            "77/77 [==============================] - 0s 2ms/step - loss: 0.5369 - accuracy: 0.7357\n",
            "Epoch 79/150\n",
            "77/77 [==============================] - 0s 2ms/step - loss: 0.5581 - accuracy: 0.7383\n",
            "Epoch 80/150\n",
            "77/77 [==============================] - 0s 2ms/step - loss: 0.5391 - accuracy: 0.7344\n",
            "Epoch 81/150\n",
            "77/77 [==============================] - 0s 2ms/step - loss: 0.5326 - accuracy: 0.7474\n",
            "Epoch 82/150\n",
            "77/77 [==============================] - 0s 2ms/step - loss: 0.5297 - accuracy: 0.7396\n",
            "Epoch 83/150\n",
            "77/77 [==============================] - 0s 2ms/step - loss: 0.5419 - accuracy: 0.7357\n",
            "Epoch 84/150\n",
            "77/77 [==============================] - 0s 2ms/step - loss: 0.5236 - accuracy: 0.7305\n",
            "Epoch 85/150\n",
            "77/77 [==============================] - 0s 2ms/step - loss: 0.5123 - accuracy: 0.7422\n",
            "Epoch 86/150\n",
            "77/77 [==============================] - 0s 2ms/step - loss: 0.5254 - accuracy: 0.7435\n",
            "Epoch 87/150\n",
            "77/77 [==============================] - 0s 2ms/step - loss: 0.5172 - accuracy: 0.7643\n",
            "Epoch 88/150\n",
            "77/77 [==============================] - 0s 2ms/step - loss: 0.5270 - accuracy: 0.7435\n",
            "Epoch 89/150\n",
            "77/77 [==============================] - 0s 2ms/step - loss: 0.5586 - accuracy: 0.7266\n",
            "Epoch 90/150\n",
            "77/77 [==============================] - 0s 2ms/step - loss: 0.5205 - accuracy: 0.7409\n",
            "Epoch 91/150\n",
            "77/77 [==============================] - 0s 2ms/step - loss: 0.5257 - accuracy: 0.7318\n",
            "Epoch 92/150\n",
            "77/77 [==============================] - 0s 2ms/step - loss: 0.5131 - accuracy: 0.7487\n",
            "Epoch 93/150\n",
            "77/77 [==============================] - 0s 2ms/step - loss: 0.5201 - accuracy: 0.7552\n",
            "Epoch 94/150\n",
            "77/77 [==============================] - 0s 2ms/step - loss: 0.5103 - accuracy: 0.7435\n",
            "Epoch 95/150\n",
            "77/77 [==============================] - 0s 2ms/step - loss: 0.5205 - accuracy: 0.7409\n",
            "Epoch 96/150\n",
            "77/77 [==============================] - 0s 2ms/step - loss: 0.5196 - accuracy: 0.7539\n",
            "Epoch 97/150\n",
            "77/77 [==============================] - 0s 2ms/step - loss: 0.5445 - accuracy: 0.7240\n",
            "Epoch 98/150\n",
            "77/77 [==============================] - 0s 2ms/step - loss: 0.5066 - accuracy: 0.7708\n",
            "Epoch 99/150\n",
            "77/77 [==============================] - 0s 2ms/step - loss: 0.5383 - accuracy: 0.7370\n",
            "Epoch 100/150\n",
            "77/77 [==============================] - 0s 2ms/step - loss: 0.5212 - accuracy: 0.7630\n",
            "Epoch 101/150\n",
            "77/77 [==============================] - 0s 2ms/step - loss: 0.5203 - accuracy: 0.7604\n",
            "Epoch 102/150\n",
            "77/77 [==============================] - 0s 2ms/step - loss: 0.5142 - accuracy: 0.7487\n",
            "Epoch 103/150\n",
            "77/77 [==============================] - 0s 2ms/step - loss: 0.5233 - accuracy: 0.7409\n",
            "Epoch 104/150\n",
            "77/77 [==============================] - 0s 2ms/step - loss: 0.5160 - accuracy: 0.7604\n",
            "Epoch 105/150\n",
            "77/77 [==============================] - 0s 2ms/step - loss: 0.5063 - accuracy: 0.7578\n",
            "Epoch 106/150\n",
            "77/77 [==============================] - 0s 2ms/step - loss: 0.5076 - accuracy: 0.7669\n",
            "Epoch 107/150\n",
            "77/77 [==============================] - 0s 2ms/step - loss: 0.4999 - accuracy: 0.7565\n",
            "Epoch 108/150\n",
            "77/77 [==============================] - 0s 2ms/step - loss: 0.5145 - accuracy: 0.7630\n",
            "Epoch 109/150\n",
            "77/77 [==============================] - 0s 2ms/step - loss: 0.5255 - accuracy: 0.7279\n",
            "Epoch 110/150\n",
            "77/77 [==============================] - 0s 2ms/step - loss: 0.5451 - accuracy: 0.7344\n",
            "Epoch 111/150\n",
            "77/77 [==============================] - 0s 2ms/step - loss: 0.5281 - accuracy: 0.7500\n",
            "Epoch 112/150\n",
            "77/77 [==============================] - 0s 2ms/step - loss: 0.5160 - accuracy: 0.7383\n",
            "Epoch 113/150\n",
            "77/77 [==============================] - 0s 2ms/step - loss: 0.5035 - accuracy: 0.7565\n",
            "Epoch 114/150\n",
            "77/77 [==============================] - 0s 2ms/step - loss: 0.4949 - accuracy: 0.7695\n",
            "Epoch 115/150\n",
            "77/77 [==============================] - 0s 2ms/step - loss: 0.5149 - accuracy: 0.7552\n",
            "Epoch 116/150\n",
            "77/77 [==============================] - 0s 2ms/step - loss: 0.5208 - accuracy: 0.7656\n",
            "Epoch 117/150\n",
            "77/77 [==============================] - 0s 2ms/step - loss: 0.5014 - accuracy: 0.7565\n",
            "Epoch 118/150\n",
            "77/77 [==============================] - 0s 2ms/step - loss: 0.5043 - accuracy: 0.7617\n",
            "Epoch 119/150\n",
            "77/77 [==============================] - 0s 2ms/step - loss: 0.5131 - accuracy: 0.7630\n",
            "Epoch 120/150\n",
            "77/77 [==============================] - 0s 2ms/step - loss: 0.5150 - accuracy: 0.7357\n",
            "Epoch 121/150\n",
            "77/77 [==============================] - 0s 2ms/step - loss: 0.4963 - accuracy: 0.7643\n",
            "Epoch 122/150\n",
            "77/77 [==============================] - 0s 3ms/step - loss: 0.4983 - accuracy: 0.7565\n",
            "Epoch 123/150\n",
            "77/77 [==============================] - 0s 2ms/step - loss: 0.5189 - accuracy: 0.7721\n",
            "Epoch 124/150\n",
            "77/77 [==============================] - 0s 2ms/step - loss: 0.4991 - accuracy: 0.7617\n",
            "Epoch 125/150\n",
            "77/77 [==============================] - 0s 2ms/step - loss: 0.5109 - accuracy: 0.7669\n",
            "Epoch 126/150\n",
            "77/77 [==============================] - 0s 4ms/step - loss: 0.4981 - accuracy: 0.7604\n",
            "Epoch 127/150\n",
            "77/77 [==============================] - 0s 2ms/step - loss: 0.5026 - accuracy: 0.7695\n",
            "Epoch 128/150\n",
            "77/77 [==============================] - 0s 2ms/step - loss: 0.5246 - accuracy: 0.7266\n",
            "Epoch 129/150\n",
            "77/77 [==============================] - 0s 2ms/step - loss: 0.5412 - accuracy: 0.7513\n",
            "Epoch 130/150\n",
            "77/77 [==============================] - 0s 2ms/step - loss: 0.5157 - accuracy: 0.7539\n",
            "Epoch 131/150\n",
            "77/77 [==============================] - 0s 2ms/step - loss: 0.5049 - accuracy: 0.7526\n",
            "Epoch 132/150\n",
            "77/77 [==============================] - 0s 4ms/step - loss: 0.4958 - accuracy: 0.7474\n",
            "Epoch 133/150\n",
            "77/77 [==============================] - 0s 2ms/step - loss: 0.4966 - accuracy: 0.7630\n",
            "Epoch 134/150\n",
            "77/77 [==============================] - 0s 2ms/step - loss: 0.4933 - accuracy: 0.7773\n",
            "Epoch 135/150\n",
            "77/77 [==============================] - 0s 2ms/step - loss: 0.4970 - accuracy: 0.7604\n",
            "Epoch 136/150\n",
            "77/77 [==============================] - 0s 2ms/step - loss: 0.4967 - accuracy: 0.7721\n",
            "Epoch 137/150\n",
            "77/77 [==============================] - 0s 2ms/step - loss: 0.5054 - accuracy: 0.7565\n",
            "Epoch 138/150\n",
            "77/77 [==============================] - 0s 2ms/step - loss: 0.5007 - accuracy: 0.7578\n",
            "Epoch 139/150\n",
            "77/77 [==============================] - 0s 2ms/step - loss: 0.4987 - accuracy: 0.7669\n",
            "Epoch 140/150\n",
            "77/77 [==============================] - 0s 2ms/step - loss: 0.4888 - accuracy: 0.7721\n",
            "Epoch 141/150\n",
            "77/77 [==============================] - 0s 2ms/step - loss: 0.4915 - accuracy: 0.7617\n",
            "Epoch 142/150\n",
            "77/77 [==============================] - 0s 2ms/step - loss: 0.4875 - accuracy: 0.7773\n",
            "Epoch 143/150\n",
            "77/77 [==============================] - 0s 2ms/step - loss: 0.5072 - accuracy: 0.7565\n",
            "Epoch 144/150\n",
            "77/77 [==============================] - 0s 2ms/step - loss: 0.5102 - accuracy: 0.7591\n",
            "Epoch 145/150\n",
            "77/77 [==============================] - 0s 2ms/step - loss: 0.4824 - accuracy: 0.7747\n",
            "Epoch 146/150\n",
            "77/77 [==============================] - 0s 2ms/step - loss: 0.4904 - accuracy: 0.7604\n",
            "Epoch 147/150\n",
            "77/77 [==============================] - 0s 2ms/step - loss: 0.4940 - accuracy: 0.7617\n",
            "Epoch 148/150\n",
            "77/77 [==============================] - 0s 2ms/step - loss: 0.5166 - accuracy: 0.7669\n",
            "Epoch 149/150\n",
            "77/77 [==============================] - 0s 2ms/step - loss: 0.5277 - accuracy: 0.7591\n",
            "Epoch 150/150\n",
            "77/77 [==============================] - 0s 2ms/step - loss: 0.5028 - accuracy: 0.7656\n",
            "24/24 [==============================] - 0s 1ms/step - loss: 0.4754 - accuracy: 0.7604\n",
            "Accuracy: 76.04\n"
          ]
        }
      ]
    },
    {
      "cell_type": "markdown",
      "source": [
        "Note: Your results may vary given the stochastic nature of the algorithm or evaluation procedure, or differences in numerical precision. Consider running the example a few times and compare the average outcome."
      ],
      "metadata": {
        "id": "ZFUyB6Hb2e-3"
      }
    },
    {
      "cell_type": "markdown",
      "source": [
        "Neural networks are a stochastic algorithm, meaning that the same algorithm on the same data can train a different model with different skill each time the code is run. \n",
        "\n",
        "The variance in the performance of the model means that to get a reasonable approximation of how well your model is performing, you may need to fit it many times and calculate the average of the accuracy scores. "
      ],
      "metadata": {
        "id": "iAhIySgE2f_W"
      }
    },
    {
      "cell_type": "markdown",
      "source": [
        "### Make Predictions"
      ],
      "metadata": {
        "id": "rd6D3jNZ2uvs"
      }
    },
    {
      "cell_type": "markdown",
      "source": [
        "We can adapt the above example and use it to generate predictions on the training dataset, pretending it is a new dataset we have not seen before.\n",
        "\n",
        "Making predictions is as easy as calling the predict() function on the model. We are using a sigmoid activation function on the output layer, so the predictions will be a probability in the range between 0 and 1. We can easily convert them into a crisp binary prediction for this classification task by rounding them.\n",
        "\n",
        "For example:"
      ],
      "metadata": {
        "id": "xYPeCnVq2v_C"
      }
    },
    {
      "cell_type": "code",
      "source": [
        "# make probability predictions with the model\n",
        "predictions = model.predict(X)\n",
        "# round predictions \n",
        "rounded = [round(x[0]) for x in predictions]"
      ],
      "metadata": {
        "id": "ZjXzZN1J36b-"
      },
      "execution_count": 9,
      "outputs": []
    },
    {
      "cell_type": "markdown",
      "source": [
        "Alternately, we can convert the probability into 0 or 1 to predict crisp classes directly, for example:"
      ],
      "metadata": {
        "id": "IUVBZq-Y4p2a"
      }
    },
    {
      "cell_type": "code",
      "source": [
        "# make class predictions with the model\n",
        "predictions = (model.predict(X) > 0.5).astype(int)"
      ],
      "metadata": {
        "id": "Nlz2eXai4urJ"
      },
      "execution_count": 10,
      "outputs": []
    },
    {
      "cell_type": "markdown",
      "source": [
        "The complete example below makes predictions for each example in the dataset, then prints the input data, predicted class and expected class for the first 5 examples in the dataset."
      ],
      "metadata": {
        "id": "1mLtJV2d46vs"
      }
    },
    {
      "cell_type": "code",
      "source": [
        "# first neural network with keras make predictions\n",
        "from numpy import loadtxt\n",
        "from keras.models import Sequential\n",
        "from keras.layers import Dense\n",
        "# load the dataset\n",
        "dataset = loadtxt('https://raw.githubusercontent.com/jgamel/learn_n_dev/input_data/pima-indians-diabetes.csv', delimiter=',')\n",
        "# split into input (X) and output (y) variables\n",
        "X = dataset[:,0:8]\n",
        "y = dataset[:,8]\n",
        "# define the keras model\n",
        "model = Sequential()\n",
        "model.add(Dense(12, input_dim=8, activation='relu'))\n",
        "model.add(Dense(8, activation='relu'))\n",
        "model.add(Dense(1, activation='sigmoid'))\n",
        "# compile the keras model\n",
        "model.compile(loss='binary_crossentropy', optimizer='adam', metrics=['accuracy'])\n",
        "# fit the keras model on the dataset\n",
        "model.fit(X, y, epochs=150, batch_size=10, verbose=0)\n",
        "# make class predictions with the model\n",
        "predictions = (model.predict(X) > 0.5).astype(int)\n",
        "# summarize the first 5 cases\n",
        "for i in range(5):\n",
        "\tprint('%s => %d (expected %d)' % (X[i].tolist(), predictions[i], y[i]))"
      ],
      "metadata": {
        "colab": {
          "base_uri": "https://localhost:8080/"
        },
        "id": "Yih61WP947Yb",
        "outputId": "383742e4-aa66-4983-a557-a01e5b31e7cb"
      },
      "execution_count": 11,
      "outputs": [
        {
          "output_type": "stream",
          "name": "stdout",
          "text": [
            "[6.0, 148.0, 72.0, 35.0, 0.0, 33.6, 0.627, 50.0] => 0 (expected 1)\n",
            "[1.0, 85.0, 66.0, 29.0, 0.0, 26.6, 0.351, 31.0] => 0 (expected 0)\n",
            "[8.0, 183.0, 64.0, 0.0, 0.0, 23.3, 0.672, 32.0] => 0 (expected 1)\n",
            "[1.0, 89.0, 66.0, 23.0, 94.0, 28.1, 0.167, 21.0] => 0 (expected 0)\n",
            "[0.0, 137.0, 40.0, 35.0, 168.0, 43.1, 2.288, 33.0] => 1 (expected 1)\n"
          ]
        }
      ]
    },
    {
      "cell_type": "markdown",
      "source": [
        "Running the example does not show the progress bar as before as we have set the verbose argument to 0.\n",
        "\n",
        "After the model is fit, predictions are made for all examples in the dataset, and the input rows and predicted class value for the first 5 examples is printed and compared to the expected class value.\n",
        "\n",
        "We can see that most rows are correctly predicted. In fact, we would expect about 76.9% of the rows to be correctly predicted based on our estimated performance of the model in the previous section."
      ],
      "metadata": {
        "id": "os4Ln_YW5hYe"
      }
    }
  ]
}