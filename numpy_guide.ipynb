{
  "nbformat": 4,
  "nbformat_minor": 0,
  "metadata": {
    "colab": {
      "name": "numpy_guide.ipynb",
      "provenance": [],
      "authorship_tag": "ABX9TyOPGjbmykvCQlVlPnhxvCX1",
      "include_colab_link": true
    },
    "kernelspec": {
      "name": "python3",
      "display_name": "Python 3"
    },
    "language_info": {
      "name": "python"
    }
  },
  "cells": [
    {
      "cell_type": "markdown",
      "metadata": {
        "id": "view-in-github",
        "colab_type": "text"
      },
      "source": [
        "<a href=\"https://colab.research.google.com/github/jgamel/learn_n_dev/blob/python_programming/numpy_guide.ipynb\" target=\"_parent\"><img src=\"https://colab.research.google.com/assets/colab-badge.svg\" alt=\"Open In Colab\"/></a>"
      ]
    },
    {
      "cell_type": "markdown",
      "source": [
        "# Numpy Tutorial"
      ],
      "metadata": {
        "id": "reytG_HXsAYi"
      }
    },
    {
      "cell_type": "markdown",
      "source": [
        "This Notebook is a comprehensive reveiw of the many different features within the Numpy Module."
      ],
      "metadata": {
        "id": "VG9aaxdGsF5S"
      }
    },
    {
      "cell_type": "code",
      "execution_count": 105,
      "metadata": {
        "id": "41JIewPMauc0"
      },
      "outputs": [],
      "source": [
        "import numpy as np"
      ]
    },
    {
      "cell_type": "markdown",
      "source": [
        "## Creating Arrays"
      ],
      "metadata": {
        "id": "f_MNXipOtbg2"
      }
    },
    {
      "cell_type": "code",
      "source": [
        "a = np.array([1,2,3])\n",
        "b = np.array([(1.5,2,3), (4,5,6)], dtype = float)\n",
        "c = np.array([[(1.5,2,3), (4,5,6)],[(3,2,1), (4,5,6)]], dtype = float)"
      ],
      "metadata": {
        "id": "PKFPHbxQqMJQ"
      },
      "execution_count": 106,
      "outputs": []
    },
    {
      "cell_type": "markdown",
      "source": [
        "### Initial Placeholders"
      ],
      "metadata": {
        "id": "e2tADXwvtmqH"
      }
    },
    {
      "cell_type": "code",
      "source": [
        "np.zeros((3,4)) #Create an array of zeros"
      ],
      "metadata": {
        "colab": {
          "base_uri": "https://localhost:8080/"
        },
        "id": "L20VsivqtrnO",
        "outputId": "da43639e-1b37-46c1-8522-9e263fd9c2c6"
      },
      "execution_count": 107,
      "outputs": [
        {
          "output_type": "execute_result",
          "data": {
            "text/plain": [
              "array([[0., 0., 0., 0.],\n",
              "       [0., 0., 0., 0.],\n",
              "       [0., 0., 0., 0.]])"
            ]
          },
          "metadata": {},
          "execution_count": 107
        }
      ]
    },
    {
      "cell_type": "code",
      "source": [
        "np.ones((2,3,4),dtype=np.int16) #Create an array of ones"
      ],
      "metadata": {
        "colab": {
          "base_uri": "https://localhost:8080/"
        },
        "id": "X8BG3NhGyk90",
        "outputId": "4edf4208-3f4b-4ef3-e280-fe6ae3f0df8f"
      },
      "execution_count": 108,
      "outputs": [
        {
          "output_type": "execute_result",
          "data": {
            "text/plain": [
              "array([[[1, 1, 1, 1],\n",
              "        [1, 1, 1, 1],\n",
              "        [1, 1, 1, 1]],\n",
              "\n",
              "       [[1, 1, 1, 1],\n",
              "        [1, 1, 1, 1],\n",
              "        [1, 1, 1, 1]]], dtype=int16)"
            ]
          },
          "metadata": {},
          "execution_count": 108
        }
      ]
    },
    {
      "cell_type": "code",
      "source": [
        "d = np.arange(10,25,5) #Create an array of evenly spaced values (step value)\n",
        "d"
      ],
      "metadata": {
        "colab": {
          "base_uri": "https://localhost:8080/"
        },
        "id": "pAsuqKt1yxYK",
        "outputId": "0303e1fa-5dc0-4671-feca-496794c6126c"
      },
      "execution_count": 109,
      "outputs": [
        {
          "output_type": "execute_result",
          "data": {
            "text/plain": [
              "array([10, 15, 20])"
            ]
          },
          "metadata": {},
          "execution_count": 109
        }
      ]
    },
    {
      "cell_type": "code",
      "source": [
        "np.linspace(0,2,9) #Create an array of evenly spaced values (number of samples)"
      ],
      "metadata": {
        "colab": {
          "base_uri": "https://localhost:8080/"
        },
        "id": "1uZAJJK-y1h_",
        "outputId": "dcceae06-9adc-4ac2-d5d9-4c904f3f912f"
      },
      "execution_count": 110,
      "outputs": [
        {
          "output_type": "execute_result",
          "data": {
            "text/plain": [
              "array([0.  , 0.25, 0.5 , 0.75, 1.  , 1.25, 1.5 , 1.75, 2.  ])"
            ]
          },
          "metadata": {},
          "execution_count": 110
        }
      ]
    },
    {
      "cell_type": "code",
      "source": [
        "e = np.full((2,2),7) #Create a constant array\n",
        "e"
      ],
      "metadata": {
        "colab": {
          "base_uri": "https://localhost:8080/"
        },
        "id": "p_s_uUAAy5of",
        "outputId": "7465ae5f-7337-4658-f34e-a23b23521a5d"
      },
      "execution_count": 111,
      "outputs": [
        {
          "output_type": "execute_result",
          "data": {
            "text/plain": [
              "array([[7, 7],\n",
              "       [7, 7]])"
            ]
          },
          "metadata": {},
          "execution_count": 111
        }
      ]
    },
    {
      "cell_type": "code",
      "source": [
        "f = np.eye(2) #Create a 2X2 identity matrix\n",
        "f"
      ],
      "metadata": {
        "colab": {
          "base_uri": "https://localhost:8080/"
        },
        "id": "pqt1QfY5y6rv",
        "outputId": "ab2c61f4-dde9-4450-a960-9af581290693"
      },
      "execution_count": 112,
      "outputs": [
        {
          "output_type": "execute_result",
          "data": {
            "text/plain": [
              "array([[1., 0.],\n",
              "       [0., 1.]])"
            ]
          },
          "metadata": {},
          "execution_count": 112
        }
      ]
    },
    {
      "cell_type": "code",
      "source": [
        "np.random.random((2,2)) #Create an array with random values"
      ],
      "metadata": {
        "colab": {
          "base_uri": "https://localhost:8080/"
        },
        "id": "YDnFmS6hzTc-",
        "outputId": "d512ae5e-3857-424a-fbb2-994f7c30a372"
      },
      "execution_count": 113,
      "outputs": [
        {
          "output_type": "execute_result",
          "data": {
            "text/plain": [
              "array([[0.5103108 , 0.95200002],\n",
              "       [0.50687995, 0.06015856]])"
            ]
          },
          "metadata": {},
          "execution_count": 113
        }
      ]
    },
    {
      "cell_type": "code",
      "source": [
        "np.empty((3,2)) #Create an empty array"
      ],
      "metadata": {
        "colab": {
          "base_uri": "https://localhost:8080/"
        },
        "id": "V-HWCaQ3zXxx",
        "outputId": "327a55d2-b22c-4448-98ea-8bea59551efe"
      },
      "execution_count": 114,
      "outputs": [
        {
          "output_type": "execute_result",
          "data": {
            "text/plain": [
              "array([[1.5, 2. ],\n",
              "       [3. , 4. ],\n",
              "       [5. , 6. ]])"
            ]
          },
          "metadata": {},
          "execution_count": 114
        }
      ]
    },
    {
      "cell_type": "markdown",
      "source": [
        "###array initialization"
      ],
      "metadata": {
        "id": "j6JhdyLd31ul"
      }
    },
    {
      "cell_type": "code",
      "source": [
        "np.array([2, 3, 4])             # direct initialization"
      ],
      "metadata": {
        "colab": {
          "base_uri": "https://localhost:8080/"
        },
        "id": "5BezpGcg34Eo",
        "outputId": "1ca21fa8-3222-45c8-8309-1d95914cb065"
      },
      "execution_count": 203,
      "outputs": [
        {
          "output_type": "execute_result",
          "data": {
            "text/plain": [
              "array([2, 3, 4])"
            ]
          },
          "metadata": {},
          "execution_count": 203
        }
      ]
    },
    {
      "cell_type": "code",
      "source": [
        "np.empty(20, dtype=np.float32)  # single precision array of size 20"
      ],
      "metadata": {
        "colab": {
          "base_uri": "https://localhost:8080/"
        },
        "id": "IishQi7M36qY",
        "outputId": "5fc17b54-6ce2-4c82-f804-e10572f2fa34"
      },
      "execution_count": 204,
      "outputs": [
        {
          "output_type": "execute_result",
          "data": {
            "text/plain": [
              "array([2.9601393e-36, 0.0000000e+00, 6.4459729e-44, 1.3872855e-43,\n",
              "       1.5554413e-43, 1.5134023e-43, 1.6395192e-43, 1.5274153e-43,\n",
              "       1.5414283e-43, 1.3312335e-43, 1.6114932e-43, 1.6255062e-43,\n",
              "       1.3592595e-43, 1.3872855e-43, 1.4993894e-43, 0.0000000e+00,\n",
              "       0.0000000e+00, 0.0000000e+00, 0.0000000e+00, 0.0000000e+00],\n",
              "      dtype=float32)"
            ]
          },
          "metadata": {},
          "execution_count": 204
        }
      ]
    },
    {
      "cell_type": "code",
      "source": [
        "np.zeros(200)                   # initialize 200 zeros"
      ],
      "metadata": {
        "colab": {
          "base_uri": "https://localhost:8080/"
        },
        "id": "cPIVyaGv39YL",
        "outputId": "40d900eb-bf65-4a0a-be82-f071b6c19f4c"
      },
      "execution_count": 205,
      "outputs": [
        {
          "output_type": "execute_result",
          "data": {
            "text/plain": [
              "array([0., 0., 0., 0., 0., 0., 0., 0., 0., 0., 0., 0., 0., 0., 0., 0., 0.,\n",
              "       0., 0., 0., 0., 0., 0., 0., 0., 0., 0., 0., 0., 0., 0., 0., 0., 0.,\n",
              "       0., 0., 0., 0., 0., 0., 0., 0., 0., 0., 0., 0., 0., 0., 0., 0., 0.,\n",
              "       0., 0., 0., 0., 0., 0., 0., 0., 0., 0., 0., 0., 0., 0., 0., 0., 0.,\n",
              "       0., 0., 0., 0., 0., 0., 0., 0., 0., 0., 0., 0., 0., 0., 0., 0., 0.,\n",
              "       0., 0., 0., 0., 0., 0., 0., 0., 0., 0., 0., 0., 0., 0., 0., 0., 0.,\n",
              "       0., 0., 0., 0., 0., 0., 0., 0., 0., 0., 0., 0., 0., 0., 0., 0., 0.,\n",
              "       0., 0., 0., 0., 0., 0., 0., 0., 0., 0., 0., 0., 0., 0., 0., 0., 0.,\n",
              "       0., 0., 0., 0., 0., 0., 0., 0., 0., 0., 0., 0., 0., 0., 0., 0., 0.,\n",
              "       0., 0., 0., 0., 0., 0., 0., 0., 0., 0., 0., 0., 0., 0., 0., 0., 0.,\n",
              "       0., 0., 0., 0., 0., 0., 0., 0., 0., 0., 0., 0., 0., 0., 0., 0., 0.,\n",
              "       0., 0., 0., 0., 0., 0., 0., 0., 0., 0., 0., 0., 0.])"
            ]
          },
          "metadata": {},
          "execution_count": 205
        }
      ]
    },
    {
      "cell_type": "code",
      "source": [
        "np.ones((3,3), dtype=np.int32)  # 3 x 3 integer matrix with ones"
      ],
      "metadata": {
        "colab": {
          "base_uri": "https://localhost:8080/"
        },
        "id": "kNXu3Ore4A2k",
        "outputId": "18ab44e8-f978-4de7-b998-c4a3afc3e3d6"
      },
      "execution_count": 206,
      "outputs": [
        {
          "output_type": "execute_result",
          "data": {
            "text/plain": [
              "array([[1, 1, 1],\n",
              "       [1, 1, 1],\n",
              "       [1, 1, 1]], dtype=int32)"
            ]
          },
          "metadata": {},
          "execution_count": 206
        }
      ]
    },
    {
      "cell_type": "code",
      "source": [
        "np.eye(200)                     # ones on the diagonal"
      ],
      "metadata": {
        "colab": {
          "base_uri": "https://localhost:8080/"
        },
        "id": "jt8I6inB4EUn",
        "outputId": "cbdc1ca5-522f-49b4-bd79-1ac284387309"
      },
      "execution_count": 207,
      "outputs": [
        {
          "output_type": "execute_result",
          "data": {
            "text/plain": [
              "array([[1., 0., 0., ..., 0., 0., 0.],\n",
              "       [0., 1., 0., ..., 0., 0., 0.],\n",
              "       [0., 0., 1., ..., 0., 0., 0.],\n",
              "       ...,\n",
              "       [0., 0., 0., ..., 1., 0., 0.],\n",
              "       [0., 0., 0., ..., 0., 1., 0.],\n",
              "       [0., 0., 0., ..., 0., 0., 1.]])"
            ]
          },
          "metadata": {},
          "execution_count": 207
        }
      ]
    },
    {
      "cell_type": "code",
      "source": [
        "np.zeros_like(a)                # array with zeros and the shape of a"
      ],
      "metadata": {
        "colab": {
          "base_uri": "https://localhost:8080/"
        },
        "id": "-R5dSfN44SaC",
        "outputId": "b30bb29f-ed09-4b43-a481-6f2fee454f76"
      },
      "execution_count": 208,
      "outputs": [
        {
          "output_type": "execute_result",
          "data": {
            "text/plain": [
              "array([0, 0, 0])"
            ]
          },
          "metadata": {},
          "execution_count": 208
        }
      ]
    },
    {
      "cell_type": "code",
      "source": [
        "np.linspace(0., 10., 100)       # 100 points from 0 to 10"
      ],
      "metadata": {
        "colab": {
          "base_uri": "https://localhost:8080/"
        },
        "id": "MrIfuqBH4VLP",
        "outputId": "931e06b9-df24-4c47-8be3-46388c69f29e"
      },
      "execution_count": 209,
      "outputs": [
        {
          "output_type": "execute_result",
          "data": {
            "text/plain": [
              "array([ 0.        ,  0.1010101 ,  0.2020202 ,  0.3030303 ,  0.4040404 ,\n",
              "        0.50505051,  0.60606061,  0.70707071,  0.80808081,  0.90909091,\n",
              "        1.01010101,  1.11111111,  1.21212121,  1.31313131,  1.41414141,\n",
              "        1.51515152,  1.61616162,  1.71717172,  1.81818182,  1.91919192,\n",
              "        2.02020202,  2.12121212,  2.22222222,  2.32323232,  2.42424242,\n",
              "        2.52525253,  2.62626263,  2.72727273,  2.82828283,  2.92929293,\n",
              "        3.03030303,  3.13131313,  3.23232323,  3.33333333,  3.43434343,\n",
              "        3.53535354,  3.63636364,  3.73737374,  3.83838384,  3.93939394,\n",
              "        4.04040404,  4.14141414,  4.24242424,  4.34343434,  4.44444444,\n",
              "        4.54545455,  4.64646465,  4.74747475,  4.84848485,  4.94949495,\n",
              "        5.05050505,  5.15151515,  5.25252525,  5.35353535,  5.45454545,\n",
              "        5.55555556,  5.65656566,  5.75757576,  5.85858586,  5.95959596,\n",
              "        6.06060606,  6.16161616,  6.26262626,  6.36363636,  6.46464646,\n",
              "        6.56565657,  6.66666667,  6.76767677,  6.86868687,  6.96969697,\n",
              "        7.07070707,  7.17171717,  7.27272727,  7.37373737,  7.47474747,\n",
              "        7.57575758,  7.67676768,  7.77777778,  7.87878788,  7.97979798,\n",
              "        8.08080808,  8.18181818,  8.28282828,  8.38383838,  8.48484848,\n",
              "        8.58585859,  8.68686869,  8.78787879,  8.88888889,  8.98989899,\n",
              "        9.09090909,  9.19191919,  9.29292929,  9.39393939,  9.49494949,\n",
              "        9.5959596 ,  9.6969697 ,  9.7979798 ,  9.8989899 , 10.        ])"
            ]
          },
          "metadata": {},
          "execution_count": 209
        }
      ]
    },
    {
      "cell_type": "code",
      "source": [
        "np.arange(0, 100, 2)            # points from 0 to <100 with step 2"
      ],
      "metadata": {
        "colab": {
          "base_uri": "https://localhost:8080/"
        },
        "id": "8P_cgMYU4Ymm",
        "outputId": "d780d27d-860f-4dd9-fbc4-26ecc22aa577"
      },
      "execution_count": 210,
      "outputs": [
        {
          "output_type": "execute_result",
          "data": {
            "text/plain": [
              "array([ 0,  2,  4,  6,  8, 10, 12, 14, 16, 18, 20, 22, 24, 26, 28, 30, 32,\n",
              "       34, 36, 38, 40, 42, 44, 46, 48, 50, 52, 54, 56, 58, 60, 62, 64, 66,\n",
              "       68, 70, 72, 74, 76, 78, 80, 82, 84, 86, 88, 90, 92, 94, 96, 98])"
            ]
          },
          "metadata": {},
          "execution_count": 210
        }
      ]
    },
    {
      "cell_type": "code",
      "source": [
        "np.logspace(-5, 2, 100)         # 100 log-spaced from 1e-5 -> 1e2"
      ],
      "metadata": {
        "colab": {
          "base_uri": "https://localhost:8080/"
        },
        "id": "Rn3je4M44b6j",
        "outputId": "af208fe4-9e66-46d7-f864-88c0cf34880d"
      },
      "execution_count": 211,
      "outputs": [
        {
          "output_type": "execute_result",
          "data": {
            "text/plain": [
              "array([1.00000000e-05, 1.17681195e-05, 1.38488637e-05, 1.62975083e-05,\n",
              "       1.91791026e-05, 2.25701972e-05, 2.65608778e-05, 3.12571585e-05,\n",
              "       3.67837977e-05, 4.32876128e-05, 5.09413801e-05, 5.99484250e-05,\n",
              "       7.05480231e-05, 8.30217568e-05, 9.77009957e-05, 1.14975700e-04,\n",
              "       1.35304777e-04, 1.59228279e-04, 1.87381742e-04, 2.20513074e-04,\n",
              "       2.59502421e-04, 3.05385551e-04, 3.59381366e-04, 4.22924287e-04,\n",
              "       4.97702356e-04, 5.85702082e-04, 6.89261210e-04, 8.11130831e-04,\n",
              "       9.54548457e-04, 1.12332403e-03, 1.32194115e-03, 1.55567614e-03,\n",
              "       1.83073828e-03, 2.15443469e-03, 2.53536449e-03, 2.98364724e-03,\n",
              "       3.51119173e-03, 4.13201240e-03, 4.86260158e-03, 5.72236766e-03,\n",
              "       6.73415066e-03, 7.92482898e-03, 9.32603347e-03, 1.09749877e-02,\n",
              "       1.29154967e-02, 1.51991108e-02, 1.78864953e-02, 2.10490414e-02,\n",
              "       2.47707636e-02, 2.91505306e-02, 3.43046929e-02, 4.03701726e-02,\n",
              "       4.75081016e-02, 5.59081018e-02, 6.57933225e-02, 7.74263683e-02,\n",
              "       9.11162756e-02, 1.07226722e-01, 1.26185688e-01, 1.48496826e-01,\n",
              "       1.74752840e-01, 2.05651231e-01, 2.42012826e-01, 2.84803587e-01,\n",
              "       3.35160265e-01, 3.94420606e-01, 4.64158883e-01, 5.46227722e-01,\n",
              "       6.42807312e-01, 7.56463328e-01, 8.90215085e-01, 1.04761575e+00,\n",
              "       1.23284674e+00, 1.45082878e+00, 1.70735265e+00, 2.00923300e+00,\n",
              "       2.36448941e+00, 2.78255940e+00, 3.27454916e+00, 3.85352859e+00,\n",
              "       4.53487851e+00, 5.33669923e+00, 6.28029144e+00, 7.39072203e+00,\n",
              "       8.69749003e+00, 1.02353102e+01, 1.20450354e+01, 1.41747416e+01,\n",
              "       1.66810054e+01, 1.96304065e+01, 2.31012970e+01, 2.71858824e+01,\n",
              "       3.19926714e+01, 3.76493581e+01, 4.43062146e+01, 5.21400829e+01,\n",
              "       6.13590727e+01, 7.22080902e+01, 8.49753436e+01, 1.00000000e+02])"
            ]
          },
          "metadata": {},
          "execution_count": 211
        }
      ]
    },
    {
      "cell_type": "code",
      "source": [
        "np.copy(a)                      # copy array to new memory"
      ],
      "metadata": {
        "colab": {
          "base_uri": "https://localhost:8080/"
        },
        "id": "Fg1rvXIq4ejl",
        "outputId": "bd141fb4-30ba-4590-cb9f-bcdb207e4ee2"
      },
      "execution_count": 212,
      "outputs": [
        {
          "output_type": "execute_result",
          "data": {
            "text/plain": [
              "array([1, 2, 3])"
            ]
          },
          "metadata": {},
          "execution_count": 212
        }
      ]
    },
    {
      "cell_type": "markdown",
      "source": [
        "## I/O"
      ],
      "metadata": {
        "id": "RnOsTrBRu--2"
      }
    },
    {
      "cell_type": "markdown",
      "source": [
        "###Saving & Loading On Disk"
      ],
      "metadata": {
        "id": "YeBQO8YZ0UQP"
      }
    },
    {
      "cell_type": "code",
      "source": [
        "np.save('my_array', a)"
      ],
      "metadata": {
        "id": "WjJNx6P-vNB2"
      },
      "execution_count": 115,
      "outputs": []
    },
    {
      "cell_type": "code",
      "source": [
        "np.savez('array.npz', a, b)"
      ],
      "metadata": {
        "id": "m3W4GxZ60bou"
      },
      "execution_count": 116,
      "outputs": []
    },
    {
      "cell_type": "code",
      "source": [
        "np.savetxt('array.txt', a,)"
      ],
      "metadata": {
        "id": "fhtOc2eS1g_u"
      },
      "execution_count": 117,
      "outputs": []
    },
    {
      "cell_type": "code",
      "source": [
        "np.load('my_array.npy')"
      ],
      "metadata": {
        "colab": {
          "base_uri": "https://localhost:8080/"
        },
        "id": "t2V4p-_v0f4X",
        "outputId": "8ea61673-eda0-4b38-9026-e888141d81a0"
      },
      "execution_count": 118,
      "outputs": [
        {
          "output_type": "execute_result",
          "data": {
            "text/plain": [
              "array([1, 2, 3])"
            ]
          },
          "metadata": {},
          "execution_count": 118
        }
      ]
    },
    {
      "cell_type": "code",
      "source": [
        "np.load('array.npz')"
      ],
      "metadata": {
        "colab": {
          "base_uri": "https://localhost:8080/"
        },
        "id": "kdnxo2jQ1Na3",
        "outputId": "e86d2e51-6766-41e8-8bcb-eac7bec8c310"
      },
      "execution_count": 119,
      "outputs": [
        {
          "output_type": "execute_result",
          "data": {
            "text/plain": [
              "<numpy.lib.npyio.NpzFile at 0x7fcb2bf8fb10>"
            ]
          },
          "metadata": {},
          "execution_count": 119
        }
      ]
    },
    {
      "cell_type": "code",
      "source": [
        "np.loadtxt('array.txt')"
      ],
      "metadata": {
        "colab": {
          "base_uri": "https://localhost:8080/"
        },
        "id": "V6pVCTuv1n0d",
        "outputId": "684aa827-8e81-4a87-ce88-e4567ff3e86b"
      },
      "execution_count": 120,
      "outputs": [
        {
          "output_type": "execute_result",
          "data": {
            "text/plain": [
              "array([1., 2., 3.])"
            ]
          },
          "metadata": {},
          "execution_count": 120
        }
      ]
    },
    {
      "cell_type": "markdown",
      "source": [
        "##Asking For Help"
      ],
      "metadata": {
        "id": "5YNjO6UMwJeL"
      }
    },
    {
      "cell_type": "code",
      "source": [
        "np.info(np.ndarray.dtype)"
      ],
      "metadata": {
        "colab": {
          "base_uri": "https://localhost:8080/"
        },
        "id": "_4UwRjdcwMZc",
        "outputId": "1a029919-18f9-47c2-db49-b4397b32f665"
      },
      "execution_count": 121,
      "outputs": [
        {
          "output_type": "stream",
          "name": "stdout",
          "text": [
            "Data-type of the array's elements.\n",
            "\n",
            "Parameters\n",
            "----------\n",
            "None\n",
            "\n",
            "Returns\n",
            "-------\n",
            "d : numpy dtype object\n",
            "\n",
            "See Also\n",
            "--------\n",
            "numpy.dtype\n",
            "\n",
            "Examples\n",
            "--------\n",
            ">>> x\n",
            "array([[0, 1],\n",
            "       [2, 3]])\n",
            ">>> x.dtype\n",
            "dtype('int32')\n",
            ">>> type(x.dtype)\n",
            "<type 'numpy.dtype'>\n"
          ]
        }
      ]
    },
    {
      "cell_type": "markdown",
      "source": [
        "##Inspecting Your Array"
      ],
      "metadata": {
        "id": "kutEqQcb2nhV"
      }
    },
    {
      "cell_type": "code",
      "source": [
        "a.shape #Array dimensions"
      ],
      "metadata": {
        "colab": {
          "base_uri": "https://localhost:8080/"
        },
        "id": "2Xb7zoWK2srO",
        "outputId": "ba96dcf5-bb43-4c53-bcdd-b8a08bd14d8b"
      },
      "execution_count": 122,
      "outputs": [
        {
          "output_type": "execute_result",
          "data": {
            "text/plain": [
              "(3,)"
            ]
          },
          "metadata": {},
          "execution_count": 122
        }
      ]
    },
    {
      "cell_type": "code",
      "source": [
        "len(a) #Length of array"
      ],
      "metadata": {
        "colab": {
          "base_uri": "https://localhost:8080/"
        },
        "id": "rrVEEyLk3Ber",
        "outputId": "7b1e4823-02d7-4daf-937d-bb744b8a3a1d"
      },
      "execution_count": 123,
      "outputs": [
        {
          "output_type": "execute_result",
          "data": {
            "text/plain": [
              "3"
            ]
          },
          "metadata": {},
          "execution_count": 123
        }
      ]
    },
    {
      "cell_type": "code",
      "source": [
        "b.ndim #Number of array dimensions"
      ],
      "metadata": {
        "colab": {
          "base_uri": "https://localhost:8080/"
        },
        "id": "NXkyVU603NpY",
        "outputId": "b44d14cf-c9cc-4126-bf19-4cbcda78c404"
      },
      "execution_count": 124,
      "outputs": [
        {
          "output_type": "execute_result",
          "data": {
            "text/plain": [
              "2"
            ]
          },
          "metadata": {},
          "execution_count": 124
        }
      ]
    },
    {
      "cell_type": "code",
      "source": [
        "e.size #Number of array elements"
      ],
      "metadata": {
        "colab": {
          "base_uri": "https://localhost:8080/"
        },
        "id": "-qlczhxI3YPC",
        "outputId": "a017b13f-3114-488b-e5fc-63c1b0f53bde"
      },
      "execution_count": 125,
      "outputs": [
        {
          "output_type": "execute_result",
          "data": {
            "text/plain": [
              "4"
            ]
          },
          "metadata": {},
          "execution_count": 125
        }
      ]
    },
    {
      "cell_type": "code",
      "source": [
        "b.dtype #Data type of array elements"
      ],
      "metadata": {
        "colab": {
          "base_uri": "https://localhost:8080/"
        },
        "id": "OOuCPK_Z3fkx",
        "outputId": "7526bc04-32ee-47f9-911a-8e234b663e7f"
      },
      "execution_count": 126,
      "outputs": [
        {
          "output_type": "execute_result",
          "data": {
            "text/plain": [
              "dtype('float64')"
            ]
          },
          "metadata": {},
          "execution_count": 126
        }
      ]
    },
    {
      "cell_type": "code",
      "source": [
        "b.dtype.name #Name of data type"
      ],
      "metadata": {
        "colab": {
          "base_uri": "https://localhost:8080/",
          "height": 35
        },
        "id": "J-yLtUyW3jZE",
        "outputId": "a2e55ce4-97b3-4b71-85fe-4f6f1ca07c08"
      },
      "execution_count": 127,
      "outputs": [
        {
          "output_type": "execute_result",
          "data": {
            "text/plain": [
              "'float64'"
            ],
            "application/vnd.google.colaboratory.intrinsic+json": {
              "type": "string"
            }
          },
          "metadata": {},
          "execution_count": 127
        }
      ]
    },
    {
      "cell_type": "code",
      "source": [
        "b.astype(int) #Convert an array to a different type\n"
      ],
      "metadata": {
        "colab": {
          "base_uri": "https://localhost:8080/"
        },
        "id": "sgLT8wry3nq_",
        "outputId": "51a0ffb3-7e7d-4021-a4c1-c1b5b16bfa46"
      },
      "execution_count": 128,
      "outputs": [
        {
          "output_type": "execute_result",
          "data": {
            "text/plain": [
              "array([[1, 2, 3],\n",
              "       [4, 5, 6]])"
            ]
          },
          "metadata": {},
          "execution_count": 128
        }
      ]
    },
    {
      "cell_type": "markdown",
      "source": [
        "##Data Types"
      ],
      "metadata": {
        "id": "2APgUFyW3rOa"
      }
    },
    {
      "cell_type": "code",
      "source": [
        "np.int64 #Signed 64-bit integer types"
      ],
      "metadata": {
        "colab": {
          "base_uri": "https://localhost:8080/"
        },
        "id": "61UrC0Gq3s6b",
        "outputId": "a4669f2a-fa71-4bb6-d5be-daf8fbc8544f"
      },
      "execution_count": 129,
      "outputs": [
        {
          "output_type": "execute_result",
          "data": {
            "text/plain": [
              "numpy.int64"
            ]
          },
          "metadata": {},
          "execution_count": 129
        }
      ]
    },
    {
      "cell_type": "code",
      "source": [
        "np.float32 #Standard double-precision floating point"
      ],
      "metadata": {
        "colab": {
          "base_uri": "https://localhost:8080/"
        },
        "id": "HB27lpz4DvjT",
        "outputId": "6c2fac80-8f73-4b4d-d789-e15d0d18a362"
      },
      "execution_count": 130,
      "outputs": [
        {
          "output_type": "execute_result",
          "data": {
            "text/plain": [
              "numpy.float32"
            ]
          },
          "metadata": {},
          "execution_count": 130
        }
      ]
    },
    {
      "cell_type": "code",
      "source": [
        "np.complex #Complex numbers represented by 128 floats"
      ],
      "metadata": {
        "colab": {
          "base_uri": "https://localhost:8080/"
        },
        "id": "Dj_hUFX7DzGk",
        "outputId": "2a24e4b6-672a-4924-92a5-039c4c03b5ed"
      },
      "execution_count": 131,
      "outputs": [
        {
          "output_type": "stream",
          "name": "stderr",
          "text": [
            "/usr/local/lib/python3.7/dist-packages/ipykernel_launcher.py:1: DeprecationWarning: `np.complex` is a deprecated alias for the builtin `complex`. To silence this warning, use `complex` by itself. Doing this will not modify any behavior and is safe. If you specifically wanted the numpy scalar type, use `np.complex128` here.\n",
            "Deprecated in NumPy 1.20; for more details and guidance: https://numpy.org/devdocs/release/1.20.0-notes.html#deprecations\n",
            "  \"\"\"Entry point for launching an IPython kernel.\n"
          ]
        },
        {
          "output_type": "execute_result",
          "data": {
            "text/plain": [
              "complex"
            ]
          },
          "metadata": {},
          "execution_count": 131
        }
      ]
    },
    {
      "cell_type": "code",
      "source": [
        "np.bool #Boolean type storing TRUE and FALSE values Numpy"
      ],
      "metadata": {
        "colab": {
          "base_uri": "https://localhost:8080/"
        },
        "id": "-29Bp0OiD9KF",
        "outputId": "a542b22c-078c-46a5-b449-e656f967f310"
      },
      "execution_count": 132,
      "outputs": [
        {
          "output_type": "stream",
          "name": "stderr",
          "text": [
            "/usr/local/lib/python3.7/dist-packages/ipykernel_launcher.py:1: DeprecationWarning: `np.bool` is a deprecated alias for the builtin `bool`. To silence this warning, use `bool` by itself. Doing this will not modify any behavior and is safe. If you specifically wanted the numpy scalar type, use `np.bool_` here.\n",
            "Deprecated in NumPy 1.20; for more details and guidance: https://numpy.org/devdocs/release/1.20.0-notes.html#deprecations\n",
            "  \"\"\"Entry point for launching an IPython kernel.\n"
          ]
        },
        {
          "output_type": "execute_result",
          "data": {
            "text/plain": [
              "bool"
            ]
          },
          "metadata": {},
          "execution_count": 132
        }
      ]
    },
    {
      "cell_type": "code",
      "source": [
        "np.object #Python object type"
      ],
      "metadata": {
        "colab": {
          "base_uri": "https://localhost:8080/"
        },
        "id": "u30xC5qrEDKe",
        "outputId": "e9e88b47-c771-4967-f3c3-888f14e9ee97"
      },
      "execution_count": 133,
      "outputs": [
        {
          "output_type": "stream",
          "name": "stderr",
          "text": [
            "/usr/local/lib/python3.7/dist-packages/ipykernel_launcher.py:1: DeprecationWarning: `np.object` is a deprecated alias for the builtin `object`. To silence this warning, use `object` by itself. Doing this will not modify any behavior and is safe. \n",
            "Deprecated in NumPy 1.20; for more details and guidance: https://numpy.org/devdocs/release/1.20.0-notes.html#deprecations\n",
            "  \"\"\"Entry point for launching an IPython kernel.\n"
          ]
        },
        {
          "output_type": "execute_result",
          "data": {
            "text/plain": [
              "object"
            ]
          },
          "metadata": {},
          "execution_count": 133
        }
      ]
    },
    {
      "cell_type": "code",
      "source": [
        "np.string_ #Fixed-length string type"
      ],
      "metadata": {
        "colab": {
          "base_uri": "https://localhost:8080/"
        },
        "id": "ECVNWxk2ETwH",
        "outputId": "ac33395c-cc41-40e2-90ad-f008ead86344"
      },
      "execution_count": 134,
      "outputs": [
        {
          "output_type": "execute_result",
          "data": {
            "text/plain": [
              "numpy.bytes_"
            ]
          },
          "metadata": {},
          "execution_count": 134
        }
      ]
    },
    {
      "cell_type": "code",
      "source": [
        "np.unicode_ #Fixed-length unicode type"
      ],
      "metadata": {
        "colab": {
          "base_uri": "https://localhost:8080/"
        },
        "id": "fhgnd0GbEVZa",
        "outputId": "4e8a4140-e5f4-4ada-def8-0ab107a91b1f"
      },
      "execution_count": 135,
      "outputs": [
        {
          "output_type": "execute_result",
          "data": {
            "text/plain": [
              "numpy.str_"
            ]
          },
          "metadata": {},
          "execution_count": 135
        }
      ]
    },
    {
      "cell_type": "markdown",
      "source": [
        "##Array Mathematics"
      ],
      "metadata": {
        "id": "2D5mnuJxEbCT"
      }
    },
    {
      "cell_type": "markdown",
      "source": [
        "###Arithmetic Operations"
      ],
      "metadata": {
        "id": "L6FXarS0Eeb6"
      }
    },
    {
      "cell_type": "code",
      "source": [
        "a - b #Subtraction"
      ],
      "metadata": {
        "colab": {
          "base_uri": "https://localhost:8080/"
        },
        "id": "5ulgUQrYEhyd",
        "outputId": "45795496-ab9f-4626-d549-7ecf6207d360"
      },
      "execution_count": 136,
      "outputs": [
        {
          "output_type": "execute_result",
          "data": {
            "text/plain": [
              "array([[-0.5,  0. ,  0. ],\n",
              "       [-3. , -3. , -3. ]])"
            ]
          },
          "metadata": {},
          "execution_count": 136
        }
      ]
    },
    {
      "cell_type": "code",
      "source": [
        "np.subtract(a,b) #Subtraction"
      ],
      "metadata": {
        "colab": {
          "base_uri": "https://localhost:8080/"
        },
        "id": "rVI9jfJuEzHT",
        "outputId": "f19fd2a7-8a61-47a1-dc66-274c454635ed"
      },
      "execution_count": 137,
      "outputs": [
        {
          "output_type": "execute_result",
          "data": {
            "text/plain": [
              "array([[-0.5,  0. ,  0. ],\n",
              "       [-3. , -3. , -3. ]])"
            ]
          },
          "metadata": {},
          "execution_count": 137
        }
      ]
    },
    {
      "cell_type": "code",
      "source": [
        "b + a #Addition"
      ],
      "metadata": {
        "colab": {
          "base_uri": "https://localhost:8080/"
        },
        "id": "4lm_ymi-E1yO",
        "outputId": "0e59fbf1-8222-46d0-f345-86503b83a3d1"
      },
      "execution_count": 138,
      "outputs": [
        {
          "output_type": "execute_result",
          "data": {
            "text/plain": [
              "array([[2.5, 4. , 6. ],\n",
              "       [5. , 7. , 9. ]])"
            ]
          },
          "metadata": {},
          "execution_count": 138
        }
      ]
    },
    {
      "cell_type": "code",
      "source": [
        "np.add(b,a) #Addition"
      ],
      "metadata": {
        "colab": {
          "base_uri": "https://localhost:8080/"
        },
        "id": "BjIAuddXFEen",
        "outputId": "fc4d122f-ffe0-442c-c8be-249f211b4e54"
      },
      "execution_count": 139,
      "outputs": [
        {
          "output_type": "execute_result",
          "data": {
            "text/plain": [
              "array([[2.5, 4. , 6. ],\n",
              "       [5. , 7. , 9. ]])"
            ]
          },
          "metadata": {},
          "execution_count": 139
        }
      ]
    },
    {
      "cell_type": "code",
      "source": [
        "a / b #Division"
      ],
      "metadata": {
        "colab": {
          "base_uri": "https://localhost:8080/"
        },
        "id": "NfmUCwbrFIRP",
        "outputId": "ca4bcb6d-9d8b-47ea-9508-e52e3c0a1991"
      },
      "execution_count": 140,
      "outputs": [
        {
          "output_type": "execute_result",
          "data": {
            "text/plain": [
              "array([[0.66666667, 1.        , 1.        ],\n",
              "       [0.25      , 0.4       , 0.5       ]])"
            ]
          },
          "metadata": {},
          "execution_count": 140
        }
      ]
    },
    {
      "cell_type": "code",
      "source": [
        "np.divide(a,b) #Division"
      ],
      "metadata": {
        "colab": {
          "base_uri": "https://localhost:8080/"
        },
        "id": "T_CcULm0FSnn",
        "outputId": "1f10f492-e061-4229-eb97-d6a0126a7411"
      },
      "execution_count": 141,
      "outputs": [
        {
          "output_type": "execute_result",
          "data": {
            "text/plain": [
              "array([[0.66666667, 1.        , 1.        ],\n",
              "       [0.25      , 0.4       , 0.5       ]])"
            ]
          },
          "metadata": {},
          "execution_count": 141
        }
      ]
    },
    {
      "cell_type": "code",
      "source": [
        "a * b #Multiplication"
      ],
      "metadata": {
        "colab": {
          "base_uri": "https://localhost:8080/"
        },
        "id": "XZtRUdeLFbst",
        "outputId": "18bd214b-3706-4549-8c73-47274c23aef1"
      },
      "execution_count": 142,
      "outputs": [
        {
          "output_type": "execute_result",
          "data": {
            "text/plain": [
              "array([[ 1.5,  4. ,  9. ],\n",
              "       [ 4. , 10. , 18. ]])"
            ]
          },
          "metadata": {},
          "execution_count": 142
        }
      ]
    },
    {
      "cell_type": "code",
      "source": [
        "np.multiply(a,b) #Multiplication"
      ],
      "metadata": {
        "colab": {
          "base_uri": "https://localhost:8080/"
        },
        "id": "N-koETrSFc3A",
        "outputId": "242fecc7-6159-4b38-cf3c-df78afe7ba52"
      },
      "execution_count": 143,
      "outputs": [
        {
          "output_type": "execute_result",
          "data": {
            "text/plain": [
              "array([[ 1.5,  4. ,  9. ],\n",
              "       [ 4. , 10. , 18. ]])"
            ]
          },
          "metadata": {},
          "execution_count": 143
        }
      ]
    },
    {
      "cell_type": "code",
      "source": [
        "np.exp(b) #Exponentiation"
      ],
      "metadata": {
        "colab": {
          "base_uri": "https://localhost:8080/"
        },
        "id": "34KHufzcFo7i",
        "outputId": "a6d7fe57-0f87-4c77-d65d-be70c70c12d7"
      },
      "execution_count": 144,
      "outputs": [
        {
          "output_type": "execute_result",
          "data": {
            "text/plain": [
              "array([[  4.48168907,   7.3890561 ,  20.08553692],\n",
              "       [ 54.59815003, 148.4131591 , 403.42879349]])"
            ]
          },
          "metadata": {},
          "execution_count": 144
        }
      ]
    },
    {
      "cell_type": "code",
      "source": [
        "np.sqrt(b) #Square root"
      ],
      "metadata": {
        "colab": {
          "base_uri": "https://localhost:8080/"
        },
        "id": "zS5rtXsgFuP1",
        "outputId": "ea1ec063-0b77-4afd-e1ba-5013eae85111"
      },
      "execution_count": 145,
      "outputs": [
        {
          "output_type": "execute_result",
          "data": {
            "text/plain": [
              "array([[1.22474487, 1.41421356, 1.73205081],\n",
              "       [2.        , 2.23606798, 2.44948974]])"
            ]
          },
          "metadata": {},
          "execution_count": 145
        }
      ]
    },
    {
      "cell_type": "code",
      "source": [
        "np.sin(a) #Print sines of an array"
      ],
      "metadata": {
        "colab": {
          "base_uri": "https://localhost:8080/"
        },
        "id": "8n1dsY3-FxMS",
        "outputId": "44dd8595-1f4e-4f0c-ae63-012293cdb3aa"
      },
      "execution_count": 146,
      "outputs": [
        {
          "output_type": "execute_result",
          "data": {
            "text/plain": [
              "array([0.84147098, 0.90929743, 0.14112001])"
            ]
          },
          "metadata": {},
          "execution_count": 146
        }
      ]
    },
    {
      "cell_type": "code",
      "source": [
        "np.cos(b) #Element-wise cosine"
      ],
      "metadata": {
        "colab": {
          "base_uri": "https://localhost:8080/"
        },
        "id": "HjLdfOv9F5P7",
        "outputId": "de5d602f-1199-45e5-cf2f-4c4edfee5e3f"
      },
      "execution_count": 147,
      "outputs": [
        {
          "output_type": "execute_result",
          "data": {
            "text/plain": [
              "array([[ 0.0707372 , -0.41614684, -0.9899925 ],\n",
              "       [-0.65364362,  0.28366219,  0.96017029]])"
            ]
          },
          "metadata": {},
          "execution_count": 147
        }
      ]
    },
    {
      "cell_type": "code",
      "source": [
        "np.log(a) #Element-wise natural logarithm"
      ],
      "metadata": {
        "colab": {
          "base_uri": "https://localhost:8080/"
        },
        "id": "88YU6ngJF6Sq",
        "outputId": "0f8e948d-2050-40a5-d382-fd1f7b9c1545"
      },
      "execution_count": 148,
      "outputs": [
        {
          "output_type": "execute_result",
          "data": {
            "text/plain": [
              "array([0.        , 0.69314718, 1.09861229])"
            ]
          },
          "metadata": {},
          "execution_count": 148
        }
      ]
    },
    {
      "cell_type": "code",
      "source": [
        "e.dot(f) #Dot product"
      ],
      "metadata": {
        "colab": {
          "base_uri": "https://localhost:8080/"
        },
        "id": "0PCa9bOUF-9y",
        "outputId": "96f5e5ab-8ce6-47ad-a453-d6f8e340c2a6"
      },
      "execution_count": 149,
      "outputs": [
        {
          "output_type": "execute_result",
          "data": {
            "text/plain": [
              "array([[7., 7.],\n",
              "       [7., 7.]])"
            ]
          },
          "metadata": {},
          "execution_count": 149
        }
      ]
    },
    {
      "cell_type": "markdown",
      "source": [
        "###Comparison"
      ],
      "metadata": {
        "id": "OTdO9abkGQhQ"
      }
    },
    {
      "cell_type": "code",
      "source": [
        "a == b #Element-wise comparison"
      ],
      "metadata": {
        "colab": {
          "base_uri": "https://localhost:8080/"
        },
        "id": "xqHkWVUHGSGm",
        "outputId": "2c232649-43b2-4e96-e9ec-1096ae65b234"
      },
      "execution_count": 150,
      "outputs": [
        {
          "output_type": "execute_result",
          "data": {
            "text/plain": [
              "array([[False,  True,  True],\n",
              "       [False, False, False]])"
            ]
          },
          "metadata": {},
          "execution_count": 150
        }
      ]
    },
    {
      "cell_type": "code",
      "source": [
        "a < 2 #Element-wise comparison"
      ],
      "metadata": {
        "colab": {
          "base_uri": "https://localhost:8080/"
        },
        "id": "7xhX4ZPJjGUQ",
        "outputId": "6e497aaa-06da-447e-97d7-6f45fc12b059"
      },
      "execution_count": 151,
      "outputs": [
        {
          "output_type": "execute_result",
          "data": {
            "text/plain": [
              "array([ True, False, False])"
            ]
          },
          "metadata": {},
          "execution_count": 151
        }
      ]
    },
    {
      "cell_type": "code",
      "source": [
        "np.array_equal(a, b) #Array-wise comparison"
      ],
      "metadata": {
        "colab": {
          "base_uri": "https://localhost:8080/"
        },
        "id": "ihxrm-kQjcYq",
        "outputId": "9a441f52-86ec-4425-aab1-14bc702924e1"
      },
      "execution_count": 152,
      "outputs": [
        {
          "output_type": "execute_result",
          "data": {
            "text/plain": [
              "False"
            ]
          },
          "metadata": {},
          "execution_count": 152
        }
      ]
    },
    {
      "cell_type": "markdown",
      "source": [
        "###Aggregate Functions"
      ],
      "metadata": {
        "id": "2QGO8HaWjkdu"
      }
    },
    {
      "cell_type": "code",
      "source": [
        "a.sum() #Array-wise sum"
      ],
      "metadata": {
        "colab": {
          "base_uri": "https://localhost:8080/"
        },
        "id": "jxiYTGVSjfCa",
        "outputId": "dafb1fa8-97ce-4847-cde9-eeeacd89680a"
      },
      "execution_count": 153,
      "outputs": [
        {
          "output_type": "execute_result",
          "data": {
            "text/plain": [
              "6"
            ]
          },
          "metadata": {},
          "execution_count": 153
        }
      ]
    },
    {
      "cell_type": "code",
      "source": [
        "a.min() #Array-wise minimum value"
      ],
      "metadata": {
        "colab": {
          "base_uri": "https://localhost:8080/"
        },
        "id": "H1M8eBI4j1u-",
        "outputId": "0447a9d5-1f3e-41ac-daee-4b985e4ccc5f"
      },
      "execution_count": 154,
      "outputs": [
        {
          "output_type": "execute_result",
          "data": {
            "text/plain": [
              "1"
            ]
          },
          "metadata": {},
          "execution_count": 154
        }
      ]
    },
    {
      "cell_type": "code",
      "source": [
        "b.max(axis=0) #Maximum value of an array row"
      ],
      "metadata": {
        "colab": {
          "base_uri": "https://localhost:8080/"
        },
        "id": "O0i9e3BHj3LW",
        "outputId": "8cfe4496-b8fa-431b-fbe7-8be6d94311f3"
      },
      "execution_count": 155,
      "outputs": [
        {
          "output_type": "execute_result",
          "data": {
            "text/plain": [
              "array([4., 5., 6.])"
            ]
          },
          "metadata": {},
          "execution_count": 155
        }
      ]
    },
    {
      "cell_type": "code",
      "source": [
        "b.cumsum(axis=1) #Cumulative sum of the elements"
      ],
      "metadata": {
        "colab": {
          "base_uri": "https://localhost:8080/"
        },
        "id": "3wYC7ridkRce",
        "outputId": "ead7048a-15e6-45ec-ed13-0feaa52338db"
      },
      "execution_count": 156,
      "outputs": [
        {
          "output_type": "execute_result",
          "data": {
            "text/plain": [
              "array([[ 1.5,  3.5,  6.5],\n",
              "       [ 4. ,  9. , 15. ]])"
            ]
          },
          "metadata": {},
          "execution_count": 156
        }
      ]
    },
    {
      "cell_type": "code",
      "source": [
        "a.mean() #Mean"
      ],
      "metadata": {
        "colab": {
          "base_uri": "https://localhost:8080/"
        },
        "id": "OQU9XGF5kWdv",
        "outputId": "f52f1791-02a2-4764-cb1f-2f2d5a3ffd32"
      },
      "execution_count": 157,
      "outputs": [
        {
          "output_type": "execute_result",
          "data": {
            "text/plain": [
              "2.0"
            ]
          },
          "metadata": {},
          "execution_count": 157
        }
      ]
    },
    {
      "cell_type": "code",
      "source": [
        "np.median(b) #Median"
      ],
      "metadata": {
        "colab": {
          "base_uri": "https://localhost:8080/"
        },
        "id": "jfb52Pq0kY77",
        "outputId": "84f552fd-8e1e-471c-c1d0-37600b6d556a"
      },
      "execution_count": 158,
      "outputs": [
        {
          "output_type": "execute_result",
          "data": {
            "text/plain": [
              "3.5"
            ]
          },
          "metadata": {},
          "execution_count": 158
        }
      ]
    },
    {
      "cell_type": "code",
      "source": [
        "np.corrcoef(a) #Correlation coefficient"
      ],
      "metadata": {
        "colab": {
          "base_uri": "https://localhost:8080/"
        },
        "id": "eKxCHgwfkc-l",
        "outputId": "f7f19000-94fb-48d6-afa3-619e68990434"
      },
      "execution_count": 159,
      "outputs": [
        {
          "output_type": "execute_result",
          "data": {
            "text/plain": [
              "1.0"
            ]
          },
          "metadata": {},
          "execution_count": 159
        }
      ]
    },
    {
      "cell_type": "code",
      "source": [
        "np.std(b) #Standard deviation"
      ],
      "metadata": {
        "colab": {
          "base_uri": "https://localhost:8080/"
        },
        "id": "fJ8BtvIOkhWf",
        "outputId": "99c325c5-afa9-40bd-f8df-e786470c947c"
      },
      "execution_count": 160,
      "outputs": [
        {
          "output_type": "execute_result",
          "data": {
            "text/plain": [
              "1.5920810978785667"
            ]
          },
          "metadata": {},
          "execution_count": 160
        }
      ]
    },
    {
      "cell_type": "markdown",
      "source": [
        "##Copying Arrays"
      ],
      "metadata": {
        "id": "c-051nkTkwxk"
      }
    },
    {
      "cell_type": "code",
      "source": [
        "h = a.view() #Create a view of the array with the same data"
      ],
      "metadata": {
        "id": "6Tv57J8YkywW"
      },
      "execution_count": 161,
      "outputs": []
    },
    {
      "cell_type": "code",
      "source": [
        "np.copy(a) #Create a copy of the array"
      ],
      "metadata": {
        "colab": {
          "base_uri": "https://localhost:8080/"
        },
        "id": "W8Izx2z3k15s",
        "outputId": "d4bb0a3b-3e6f-4dc9-998f-1373f373583a"
      },
      "execution_count": 162,
      "outputs": [
        {
          "output_type": "execute_result",
          "data": {
            "text/plain": [
              "array([1, 2, 3])"
            ]
          },
          "metadata": {},
          "execution_count": 162
        }
      ]
    },
    {
      "cell_type": "code",
      "source": [
        "h = a.copy() #Create a deep copy of the array\n",
        "h"
      ],
      "metadata": {
        "colab": {
          "base_uri": "https://localhost:8080/"
        },
        "id": "UOtKb-18k-i8",
        "outputId": "c1744d8f-913e-4088-f8fb-388cc318775a"
      },
      "execution_count": 163,
      "outputs": [
        {
          "output_type": "execute_result",
          "data": {
            "text/plain": [
              "array([1, 2, 3])"
            ]
          },
          "metadata": {},
          "execution_count": 163
        }
      ]
    },
    {
      "cell_type": "markdown",
      "source": [
        "##Sorting Arrays"
      ],
      "metadata": {
        "id": "kvvzQ6rPlkSK"
      }
    },
    {
      "cell_type": "code",
      "source": [
        "a.sort() #Sort an array\n",
        "a"
      ],
      "metadata": {
        "colab": {
          "base_uri": "https://localhost:8080/"
        },
        "id": "w0qMDfrAlmQo",
        "outputId": "bfa2fb14-58eb-4d45-fa4d-46d93b5467d1"
      },
      "execution_count": 164,
      "outputs": [
        {
          "output_type": "execute_result",
          "data": {
            "text/plain": [
              "array([1, 2, 3])"
            ]
          },
          "metadata": {},
          "execution_count": 164
        }
      ]
    },
    {
      "cell_type": "code",
      "source": [
        "c.sort(axis=0) #Sort the elements of an array's axis\n",
        "c"
      ],
      "metadata": {
        "colab": {
          "base_uri": "https://localhost:8080/"
        },
        "id": "4zHl8aQMlsqO",
        "outputId": "36de1538-7b42-4710-9dba-93b6ab78fd5d"
      },
      "execution_count": 165,
      "outputs": [
        {
          "output_type": "execute_result",
          "data": {
            "text/plain": [
              "array([[[1.5, 2. , 1. ],\n",
              "        [4. , 5. , 6. ]],\n",
              "\n",
              "       [[3. , 2. , 3. ],\n",
              "        [4. , 5. , 6. ]]])"
            ]
          },
          "metadata": {},
          "execution_count": 165
        }
      ]
    },
    {
      "cell_type": "markdown",
      "source": [
        "##Subsetting, Slicing, Indexing"
      ],
      "metadata": {
        "id": "6FLgjJDul91L"
      }
    },
    {
      "cell_type": "markdown",
      "source": [
        "Subsetting"
      ],
      "metadata": {
        "id": "MFbmC9RPmFDf"
      }
    },
    {
      "cell_type": "code",
      "source": [
        "a[2] #Select the element at the 2nd index"
      ],
      "metadata": {
        "colab": {
          "base_uri": "https://localhost:8080/"
        },
        "id": "hIbw3J4SmBCK",
        "outputId": "15f31374-c1ef-439a-afb3-ed184f291504"
      },
      "execution_count": 166,
      "outputs": [
        {
          "output_type": "execute_result",
          "data": {
            "text/plain": [
              "3"
            ]
          },
          "metadata": {},
          "execution_count": 166
        }
      ]
    },
    {
      "cell_type": "code",
      "source": [
        "b[1,2] #Select the element at row 1 column 2 (equivalent to b[1][2])\n"
      ],
      "metadata": {
        "colab": {
          "base_uri": "https://localhost:8080/"
        },
        "id": "oFho-empmQxc",
        "outputId": "1d256ad5-3c5a-4779-e902-2e1947162e47"
      },
      "execution_count": 167,
      "outputs": [
        {
          "output_type": "execute_result",
          "data": {
            "text/plain": [
              "6.0"
            ]
          },
          "metadata": {},
          "execution_count": 167
        }
      ]
    },
    {
      "cell_type": "markdown",
      "source": [
        "Slicing"
      ],
      "metadata": {
        "id": "c384VTIamW7b"
      }
    },
    {
      "cell_type": "code",
      "source": [
        "a[0:2]"
      ],
      "metadata": {
        "colab": {
          "base_uri": "https://localhost:8080/"
        },
        "id": "-aQC4S2ZmT63",
        "outputId": "74de7575-ecd2-4940-c59d-e96f1000dcb7"
      },
      "execution_count": 168,
      "outputs": [
        {
          "output_type": "execute_result",
          "data": {
            "text/plain": [
              "array([1, 2])"
            ]
          },
          "metadata": {},
          "execution_count": 168
        }
      ]
    },
    {
      "cell_type": "code",
      "source": [
        "b[0:2,1]"
      ],
      "metadata": {
        "colab": {
          "base_uri": "https://localhost:8080/"
        },
        "id": "p-wKm0g5o0--",
        "outputId": "25c937cc-d98b-4897-c697-458e33687e5f"
      },
      "execution_count": 169,
      "outputs": [
        {
          "output_type": "execute_result",
          "data": {
            "text/plain": [
              "array([2., 5.])"
            ]
          },
          "metadata": {},
          "execution_count": 169
        }
      ]
    },
    {
      "cell_type": "code",
      "source": [
        "b[:1] #Select all items at row 0 (equivalent to b[0:1, :])"
      ],
      "metadata": {
        "colab": {
          "base_uri": "https://localhost:8080/"
        },
        "id": "5PUCCp3no6jV",
        "outputId": "47326b90-0cee-4a3a-a7da-eff99dddfdb4"
      },
      "execution_count": 170,
      "outputs": [
        {
          "output_type": "execute_result",
          "data": {
            "text/plain": [
              "array([[1.5, 2. , 3. ]])"
            ]
          },
          "metadata": {},
          "execution_count": 170
        }
      ]
    },
    {
      "cell_type": "code",
      "source": [
        "c[1,...] #Same as [1,:,:]"
      ],
      "metadata": {
        "colab": {
          "base_uri": "https://localhost:8080/"
        },
        "id": "zbe-vwDhpIyM",
        "outputId": "63411817-45da-4b7f-8ebe-c6c716bb9a6e"
      },
      "execution_count": 171,
      "outputs": [
        {
          "output_type": "execute_result",
          "data": {
            "text/plain": [
              "array([[3., 2., 3.],\n",
              "       [4., 5., 6.]])"
            ]
          },
          "metadata": {},
          "execution_count": 171
        }
      ]
    },
    {
      "cell_type": "code",
      "source": [
        "a[ : :-1] #Reversed array a array([3, 2, 1])"
      ],
      "metadata": {
        "colab": {
          "base_uri": "https://localhost:8080/"
        },
        "id": "qCvPQARcpO5a",
        "outputId": "c45de0c8-9190-43c4-a22a-e3322182096c"
      },
      "execution_count": 172,
      "outputs": [
        {
          "output_type": "execute_result",
          "data": {
            "text/plain": [
              "array([3, 2, 1])"
            ]
          },
          "metadata": {},
          "execution_count": 172
        }
      ]
    },
    {
      "cell_type": "markdown",
      "source": [
        "Boolean Indexing"
      ],
      "metadata": {
        "id": "6AbUpRIEpT6N"
      }
    },
    {
      "cell_type": "code",
      "source": [
        "a[a<2] #Select elements from a less than 2"
      ],
      "metadata": {
        "colab": {
          "base_uri": "https://localhost:8080/"
        },
        "id": "kD5ZOXnEpVEI",
        "outputId": "ff31974c-3885-4da8-8fc7-5ce71df33726"
      },
      "execution_count": 173,
      "outputs": [
        {
          "output_type": "execute_result",
          "data": {
            "text/plain": [
              "array([1])"
            ]
          },
          "metadata": {},
          "execution_count": 173
        }
      ]
    },
    {
      "cell_type": "markdown",
      "source": [
        "Fancy Indexing"
      ],
      "metadata": {
        "id": "1ZxlceOzpnNs"
      }
    },
    {
      "cell_type": "code",
      "source": [
        "b[[1, 0, 1, 0],[0, 1, 2, 0]] #Select elements (1,0),(0,1),(1,2) and (0,0)"
      ],
      "metadata": {
        "colab": {
          "base_uri": "https://localhost:8080/"
        },
        "id": "5u7cTEoypnx_",
        "outputId": "ca7c1b03-ee11-47bf-93ce-72321e972dc4"
      },
      "execution_count": 174,
      "outputs": [
        {
          "output_type": "execute_result",
          "data": {
            "text/plain": [
              "array([4. , 2. , 6. , 1.5])"
            ]
          },
          "metadata": {},
          "execution_count": 174
        }
      ]
    },
    {
      "cell_type": "code",
      "source": [
        "b[[1, 0, 1, 0]][:,[0,1,2,0]] #Select a subset of the matrix’s rows and columns\n"
      ],
      "metadata": {
        "colab": {
          "base_uri": "https://localhost:8080/"
        },
        "id": "bPrygegHp54J",
        "outputId": "8ad50597-cacb-4f01-d85b-1fa5b95732e8"
      },
      "execution_count": 175,
      "outputs": [
        {
          "output_type": "execute_result",
          "data": {
            "text/plain": [
              "array([[4. , 5. , 6. , 4. ],\n",
              "       [1.5, 2. , 3. , 1.5],\n",
              "       [4. , 5. , 6. , 4. ],\n",
              "       [1.5, 2. , 3. , 1.5]])"
            ]
          },
          "metadata": {},
          "execution_count": 175
        }
      ]
    },
    {
      "cell_type": "markdown",
      "source": [
        "Other Indexing"
      ],
      "metadata": {
        "id": "17qwL4a_4s1c"
      }
    },
    {
      "cell_type": "code",
      "source": [
        "a = np.arange(100)          # initialization with 0 - 99"
      ],
      "metadata": {
        "id": "0R1kNzJX4u04"
      },
      "execution_count": 217,
      "outputs": []
    },
    {
      "cell_type": "code",
      "source": [
        "a[:3] = 0                   # set the first three indices to zero\n",
        "a"
      ],
      "metadata": {
        "colab": {
          "base_uri": "https://localhost:8080/"
        },
        "id": "_6vK6GDJ4zI-",
        "outputId": "269b1e3c-7b24-422c-fb96-ee301a986d9a"
      },
      "execution_count": 218,
      "outputs": [
        {
          "output_type": "execute_result",
          "data": {
            "text/plain": [
              "array([ 0,  0,  0,  3,  4,  5,  6,  7,  8,  9, 10, 11, 12, 13, 14, 15, 16,\n",
              "       17, 18, 19, 20, 21, 22, 23, 24, 25, 26, 27, 28, 29, 30, 31, 32, 33,\n",
              "       34, 35, 36, 37, 38, 39, 40, 41, 42, 43, 44, 45, 46, 47, 48, 49, 50,\n",
              "       51, 52, 53, 54, 55, 56, 57, 58, 59, 60, 61, 62, 63, 64, 65, 66, 67,\n",
              "       68, 69, 70, 71, 72, 73, 74, 75, 76, 77, 78, 79, 80, 81, 82, 83, 84,\n",
              "       85, 86, 87, 88, 89, 90, 91, 92, 93, 94, 95, 96, 97, 98, 99])"
            ]
          },
          "metadata": {},
          "execution_count": 218
        }
      ]
    },
    {
      "cell_type": "code",
      "source": [
        "a[2:5] = 1                  # set indices 2-4 to 1\n",
        "a"
      ],
      "metadata": {
        "colab": {
          "base_uri": "https://localhost:8080/"
        },
        "id": "SbzquO4V5JDN",
        "outputId": "275006db-d9ca-43c1-c60a-34127bc2d129"
      },
      "execution_count": 219,
      "outputs": [
        {
          "output_type": "execute_result",
          "data": {
            "text/plain": [
              "array([ 0,  0,  1,  1,  1,  5,  6,  7,  8,  9, 10, 11, 12, 13, 14, 15, 16,\n",
              "       17, 18, 19, 20, 21, 22, 23, 24, 25, 26, 27, 28, 29, 30, 31, 32, 33,\n",
              "       34, 35, 36, 37, 38, 39, 40, 41, 42, 43, 44, 45, 46, 47, 48, 49, 50,\n",
              "       51, 52, 53, 54, 55, 56, 57, 58, 59, 60, 61, 62, 63, 64, 65, 66, 67,\n",
              "       68, 69, 70, 71, 72, 73, 74, 75, 76, 77, 78, 79, 80, 81, 82, 83, 84,\n",
              "       85, 86, 87, 88, 89, 90, 91, 92, 93, 94, 95, 96, 97, 98, 99])"
            ]
          },
          "metadata": {},
          "execution_count": 219
        }
      ]
    },
    {
      "cell_type": "code",
      "source": [
        "a[:-3] = 2                  # set all but last three elements to 2\n",
        "a"
      ],
      "metadata": {
        "colab": {
          "base_uri": "https://localhost:8080/"
        },
        "id": "zqv2gU2v5Kjy",
        "outputId": "72827ace-f23b-4670-f5f4-e91a715fb21a"
      },
      "execution_count": 220,
      "outputs": [
        {
          "output_type": "execute_result",
          "data": {
            "text/plain": [
              "array([ 2,  2,  2,  2,  2,  2,  2,  2,  2,  2,  2,  2,  2,  2,  2,  2,  2,\n",
              "        2,  2,  2,  2,  2,  2,  2,  2,  2,  2,  2,  2,  2,  2,  2,  2,  2,\n",
              "        2,  2,  2,  2,  2,  2,  2,  2,  2,  2,  2,  2,  2,  2,  2,  2,  2,\n",
              "        2,  2,  2,  2,  2,  2,  2,  2,  2,  2,  2,  2,  2,  2,  2,  2,  2,\n",
              "        2,  2,  2,  2,  2,  2,  2,  2,  2,  2,  2,  2,  2,  2,  2,  2,  2,\n",
              "        2,  2,  2,  2,  2,  2,  2,  2,  2,  2,  2,  2, 97, 98, 99])"
            ]
          },
          "metadata": {},
          "execution_count": 220
        }
      ]
    },
    {
      "cell_type": "code",
      "source": [
        "a[None, :]                  # transform to column vector"
      ],
      "metadata": {
        "colab": {
          "base_uri": "https://localhost:8080/"
        },
        "id": "DsQoirm351xn",
        "outputId": "cd5188e1-7b06-4b21-f578-9217e5084421"
      },
      "execution_count": 224,
      "outputs": [
        {
          "output_type": "execute_result",
          "data": {
            "text/plain": [
              "array([[ 2,  2,  2,  2,  2,  2,  2,  2,  2,  2,  2,  2,  2,  2,  2,  2,\n",
              "         2,  2,  2,  2,  2,  2,  2,  2,  2,  2,  2,  2,  2,  2,  2,  2,\n",
              "         2,  2,  2,  2,  2,  2,  2,  2,  2,  2,  2,  2,  2,  2,  2,  2,\n",
              "         2,  2,  2,  2,  2,  2,  2,  2,  2,  2,  2,  2,  2,  2,  2,  2,\n",
              "         2,  2,  2,  2,  2,  2,  2,  2,  2,  2,  2,  2,  2,  2,  2,  2,\n",
              "         2,  2,  2,  2,  2,  2,  2,  2,  2,  2,  2,  2,  2,  2,  2,  2,\n",
              "         2, 97, 98, 99]])"
            ]
          },
          "metadata": {},
          "execution_count": 224
        }
      ]
    },
    {
      "cell_type": "code",
      "source": [
        "a[[1, 1, 3, 8]]             # return array with values of the indices"
      ],
      "metadata": {
        "colab": {
          "base_uri": "https://localhost:8080/"
        },
        "id": "c3ge39uX6JX9",
        "outputId": "5c972865-03ee-4784-c190-948ccec3585d"
      },
      "execution_count": 223,
      "outputs": [
        {
          "output_type": "execute_result",
          "data": {
            "text/plain": [
              "array([2, 2, 2, 2])"
            ]
          },
          "metadata": {},
          "execution_count": 223
        }
      ]
    },
    {
      "cell_type": "code",
      "source": [
        "a = a.reshape(10, 10)       # transform to 10 x 10 matrix\n",
        "a"
      ],
      "metadata": {
        "colab": {
          "base_uri": "https://localhost:8080/"
        },
        "id": "BOSPALo66eCA",
        "outputId": "59a8660a-e9ff-459b-c8ec-f00be662220d"
      },
      "execution_count": 225,
      "outputs": [
        {
          "output_type": "execute_result",
          "data": {
            "text/plain": [
              "array([[ 2,  2,  2,  2,  2,  2,  2,  2,  2,  2],\n",
              "       [ 2,  2,  2,  2,  2,  2,  2,  2,  2,  2],\n",
              "       [ 2,  2,  2,  2,  2,  2,  2,  2,  2,  2],\n",
              "       [ 2,  2,  2,  2,  2,  2,  2,  2,  2,  2],\n",
              "       [ 2,  2,  2,  2,  2,  2,  2,  2,  2,  2],\n",
              "       [ 2,  2,  2,  2,  2,  2,  2,  2,  2,  2],\n",
              "       [ 2,  2,  2,  2,  2,  2,  2,  2,  2,  2],\n",
              "       [ 2,  2,  2,  2,  2,  2,  2,  2,  2,  2],\n",
              "       [ 2,  2,  2,  2,  2,  2,  2,  2,  2,  2],\n",
              "       [ 2,  2,  2,  2,  2,  2,  2, 97, 98, 99]])"
            ]
          },
          "metadata": {},
          "execution_count": 225
        }
      ]
    },
    {
      "cell_type": "code",
      "source": [
        "a.T                         # return transposed view"
      ],
      "metadata": {
        "colab": {
          "base_uri": "https://localhost:8080/"
        },
        "id": "NoCOE6ur6hta",
        "outputId": "4312501e-1722-4cb8-a3ae-ddced6e3e7d3"
      },
      "execution_count": 226,
      "outputs": [
        {
          "output_type": "execute_result",
          "data": {
            "text/plain": [
              "array([[ 2,  2,  2,  2,  2,  2,  2,  2,  2,  2],\n",
              "       [ 2,  2,  2,  2,  2,  2,  2,  2,  2,  2],\n",
              "       [ 2,  2,  2,  2,  2,  2,  2,  2,  2,  2],\n",
              "       [ 2,  2,  2,  2,  2,  2,  2,  2,  2,  2],\n",
              "       [ 2,  2,  2,  2,  2,  2,  2,  2,  2,  2],\n",
              "       [ 2,  2,  2,  2,  2,  2,  2,  2,  2,  2],\n",
              "       [ 2,  2,  2,  2,  2,  2,  2,  2,  2,  2],\n",
              "       [ 2,  2,  2,  2,  2,  2,  2,  2,  2, 97],\n",
              "       [ 2,  2,  2,  2,  2,  2,  2,  2,  2, 98],\n",
              "       [ 2,  2,  2,  2,  2,  2,  2,  2,  2, 99]])"
            ]
          },
          "metadata": {},
          "execution_count": 226
        }
      ]
    },
    {
      "cell_type": "code",
      "source": [
        "b = np.transpose(a, (1, 0)) # transpose array to new axis order"
      ],
      "metadata": {
        "id": "7j5Z5FEE6l_R"
      },
      "execution_count": 227,
      "outputs": []
    },
    {
      "cell_type": "code",
      "source": [
        "a[a < 2]                    # values with elementwise condition"
      ],
      "metadata": {
        "colab": {
          "base_uri": "https://localhost:8080/"
        },
        "id": "7fw7Xm2N6ozt",
        "outputId": "6d983ae7-28bd-4e97-8b32-4eabdc8534a0"
      },
      "execution_count": 232,
      "outputs": [
        {
          "output_type": "execute_result",
          "data": {
            "text/plain": [
              "array([], dtype=int64)"
            ]
          },
          "metadata": {},
          "execution_count": 232
        }
      ]
    },
    {
      "cell_type": "markdown",
      "source": [
        "##Array Manipulation"
      ],
      "metadata": {
        "id": "Iri-fX7LqPhF"
      }
    },
    {
      "cell_type": "markdown",
      "source": [
        "Transposing Array"
      ],
      "metadata": {
        "id": "2LpCIKr5qVIY"
      }
    },
    {
      "cell_type": "code",
      "source": [
        " i = np.transpose(b) #Permute array dimensions\n",
        " i\n",
        " "
      ],
      "metadata": {
        "colab": {
          "base_uri": "https://localhost:8080/"
        },
        "id": "zVsNFfiYqT-q",
        "outputId": "d1411691-2796-4bbf-ef8b-8534d5073256"
      },
      "execution_count": 176,
      "outputs": [
        {
          "output_type": "execute_result",
          "data": {
            "text/plain": [
              "array([[1.5, 4. ],\n",
              "       [2. , 5. ],\n",
              "       [3. , 6. ]])"
            ]
          },
          "metadata": {},
          "execution_count": 176
        }
      ]
    },
    {
      "cell_type": "code",
      "source": [
        "i.T #Permute array dimensions"
      ],
      "metadata": {
        "colab": {
          "base_uri": "https://localhost:8080/"
        },
        "id": "U-nZhZ-CqZzh",
        "outputId": "bba2388b-d804-4188-de01-cab8ff4d27a1"
      },
      "execution_count": 177,
      "outputs": [
        {
          "output_type": "execute_result",
          "data": {
            "text/plain": [
              "array([[1.5, 2. , 3. ],\n",
              "       [4. , 5. , 6. ]])"
            ]
          },
          "metadata": {},
          "execution_count": 177
        }
      ]
    },
    {
      "cell_type": "markdown",
      "source": [
        "Changing Array Shape"
      ],
      "metadata": {
        "id": "ASIQMMAKqo3l"
      }
    },
    {
      "cell_type": "code",
      "source": [
        "b.ravel() #Flatten the array"
      ],
      "metadata": {
        "colab": {
          "base_uri": "https://localhost:8080/"
        },
        "id": "OtkhxEHwqpyU",
        "outputId": "57f54c72-058b-4a69-f2f7-70cbee343d1e"
      },
      "execution_count": 178,
      "outputs": [
        {
          "output_type": "execute_result",
          "data": {
            "text/plain": [
              "array([1.5, 2. , 3. , 4. , 5. , 6. ])"
            ]
          },
          "metadata": {},
          "execution_count": 178
        }
      ]
    },
    {
      "cell_type": "code",
      "source": [
        "h=i\n",
        "g=b"
      ],
      "metadata": {
        "id": "Ej7I6Ne0sYbY"
      },
      "execution_count": 189,
      "outputs": []
    },
    {
      "cell_type": "code",
      "source": [
        "h.reshape(3,-2) #Reshape, but don’t change data"
      ],
      "metadata": {
        "colab": {
          "base_uri": "https://localhost:8080/"
        },
        "id": "bmbKYcU4quPL",
        "outputId": "faf96970-7ddd-446c-bd9a-20c4b4cc11e9"
      },
      "execution_count": 184,
      "outputs": [
        {
          "output_type": "execute_result",
          "data": {
            "text/plain": [
              "array([[1.5, 4. ],\n",
              "       [2. , 5. ],\n",
              "       [3. , 6. ]])"
            ]
          },
          "metadata": {},
          "execution_count": 184
        }
      ]
    },
    {
      "cell_type": "markdown",
      "source": [
        "\n",
        "Adding/Removing Elements"
      ],
      "metadata": {
        "id": "j-vVgJLVrGAa"
      }
    },
    {
      "cell_type": "code",
      "source": [
        "h.resize((1,6)) #Return a new array with shape (2,6)"
      ],
      "metadata": {
        "id": "Et8zcBiXrIkN"
      },
      "execution_count": 187,
      "outputs": []
    },
    {
      "cell_type": "code",
      "source": [
        "h"
      ],
      "metadata": {
        "colab": {
          "base_uri": "https://localhost:8080/"
        },
        "id": "2vvEXvrvrwLE",
        "outputId": "22ec05e3-fc09-4221-db31-7b1d1ab75967"
      },
      "execution_count": 188,
      "outputs": [
        {
          "output_type": "execute_result",
          "data": {
            "text/plain": [
              "array([[1.5, 2. , 3. , 4. , 5. , 6. ]])"
            ]
          },
          "metadata": {},
          "execution_count": 188
        }
      ]
    },
    {
      "cell_type": "code",
      "source": [
        "np.append(h,g) #Append items to an array"
      ],
      "metadata": {
        "colab": {
          "base_uri": "https://localhost:8080/"
        },
        "id": "cAPbDwhds42E",
        "outputId": "5e4c5e16-f1eb-4ed5-fe49-8b54b9428143"
      },
      "execution_count": 190,
      "outputs": [
        {
          "output_type": "execute_result",
          "data": {
            "text/plain": [
              "array([1.5, 2. , 3. , 4. , 5. , 6. , 1.5, 2. , 3. , 4. , 5. , 6. ])"
            ]
          },
          "metadata": {},
          "execution_count": 190
        }
      ]
    },
    {
      "cell_type": "code",
      "source": [
        "np.insert(a, 1, 5) #Insert items in an array"
      ],
      "metadata": {
        "colab": {
          "base_uri": "https://localhost:8080/"
        },
        "id": "tKeAMR3ftLpA",
        "outputId": "74159f01-4fb8-49bc-a204-ade10dcd2203"
      },
      "execution_count": 191,
      "outputs": [
        {
          "output_type": "execute_result",
          "data": {
            "text/plain": [
              "array([1, 5, 2, 3])"
            ]
          },
          "metadata": {},
          "execution_count": 191
        }
      ]
    },
    {
      "cell_type": "code",
      "source": [
        "np.delete(a,[1]) #Delete items from an array\n"
      ],
      "metadata": {
        "colab": {
          "base_uri": "https://localhost:8080/"
        },
        "id": "d2rtCXaCtPMD",
        "outputId": "28f595fe-e566-480a-8b2a-7771a7aa4260"
      },
      "execution_count": 192,
      "outputs": [
        {
          "output_type": "execute_result",
          "data": {
            "text/plain": [
              "array([1, 3])"
            ]
          },
          "metadata": {},
          "execution_count": 192
        }
      ]
    },
    {
      "cell_type": "markdown",
      "source": [
        "Combining Arrays"
      ],
      "metadata": {
        "id": "esw10yV1tTAz"
      }
    },
    {
      "cell_type": "code",
      "source": [
        "np.concatenate((a,d),axis=0) #Concatenate arrays"
      ],
      "metadata": {
        "colab": {
          "base_uri": "https://localhost:8080/"
        },
        "id": "e0DmxqK4tVPN",
        "outputId": "89f11972-fc28-44a5-b48a-ce7478201e5e"
      },
      "execution_count": 193,
      "outputs": [
        {
          "output_type": "execute_result",
          "data": {
            "text/plain": [
              "array([ 1,  2,  3, 10, 15, 20])"
            ]
          },
          "metadata": {},
          "execution_count": 193
        }
      ]
    },
    {
      "cell_type": "code",
      "source": [
        "np.vstack((a,b)) #Stack arrays vertically (row-wise)"
      ],
      "metadata": {
        "colab": {
          "base_uri": "https://localhost:8080/"
        },
        "id": "JnXl-0Mlt2Ud",
        "outputId": "6341dc27-20e8-49e3-c32c-01b4d1811fac"
      },
      "execution_count": 194,
      "outputs": [
        {
          "output_type": "execute_result",
          "data": {
            "text/plain": [
              "array([[1. , 2. , 3. ],\n",
              "       [1.5, 2. , 3. ],\n",
              "       [4. , 5. , 6. ]])"
            ]
          },
          "metadata": {},
          "execution_count": 194
        }
      ]
    },
    {
      "cell_type": "code",
      "source": [
        "np.r_[e,f] #Stack arrays vertically (row-wise)"
      ],
      "metadata": {
        "colab": {
          "base_uri": "https://localhost:8080/"
        },
        "id": "7trcER45t7fB",
        "outputId": "c009d167-2e97-45d0-9787-885b6c753905"
      },
      "execution_count": 195,
      "outputs": [
        {
          "output_type": "execute_result",
          "data": {
            "text/plain": [
              "array([[7., 7.],\n",
              "       [7., 7.],\n",
              "       [1., 0.],\n",
              "       [0., 1.]])"
            ]
          },
          "metadata": {},
          "execution_count": 195
        }
      ]
    },
    {
      "cell_type": "code",
      "source": [
        "np.hstack((e,f)) #Stack arrays horizontally (column-wise)"
      ],
      "metadata": {
        "colab": {
          "base_uri": "https://localhost:8080/"
        },
        "id": "RDX0NtvOvAMl",
        "outputId": "f8500098-889b-4382-b54e-f1fcb26944a0"
      },
      "execution_count": 196,
      "outputs": [
        {
          "output_type": "execute_result",
          "data": {
            "text/plain": [
              "array([[7., 7., 1., 0.],\n",
              "       [7., 7., 0., 1.]])"
            ]
          },
          "metadata": {},
          "execution_count": 196
        }
      ]
    },
    {
      "cell_type": "code",
      "source": [
        "np.column_stack((a,d)) #Create stacked column-wise arrays"
      ],
      "metadata": {
        "colab": {
          "base_uri": "https://localhost:8080/"
        },
        "id": "wUmoVZ03vEUF",
        "outputId": "aa1f5278-68ea-464a-d245-400a299a6dd7"
      },
      "execution_count": 197,
      "outputs": [
        {
          "output_type": "execute_result",
          "data": {
            "text/plain": [
              "array([[ 1, 10],\n",
              "       [ 2, 15],\n",
              "       [ 3, 20]])"
            ]
          },
          "metadata": {},
          "execution_count": 197
        }
      ]
    },
    {
      "cell_type": "code",
      "source": [
        "np.c_[a,d] #Create stacked column-wise arrays"
      ],
      "metadata": {
        "colab": {
          "base_uri": "https://localhost:8080/"
        },
        "id": "Yd8fIYVKvPQl",
        "outputId": "9e5eff47-b3b1-4744-c59e-0611439d33ca"
      },
      "execution_count": 198,
      "outputs": [
        {
          "output_type": "execute_result",
          "data": {
            "text/plain": [
              "array([[ 1, 10],\n",
              "       [ 2, 15],\n",
              "       [ 3, 20]])"
            ]
          },
          "metadata": {},
          "execution_count": 198
        }
      ]
    },
    {
      "cell_type": "markdown",
      "source": [
        "Splitting Arrays"
      ],
      "metadata": {
        "id": "jbQfI2cavmoJ"
      }
    },
    {
      "cell_type": "code",
      "source": [
        "np.hsplit(a,3) #Split the array horizontally at the 3rd index\n"
      ],
      "metadata": {
        "colab": {
          "base_uri": "https://localhost:8080/"
        },
        "id": "_rX3kfBRvnn7",
        "outputId": "4d0ea6ab-5619-4ba4-936f-60f72583be24"
      },
      "execution_count": 199,
      "outputs": [
        {
          "output_type": "execute_result",
          "data": {
            "text/plain": [
              "[array([1]), array([2]), array([3])]"
            ]
          },
          "metadata": {},
          "execution_count": 199
        }
      ]
    },
    {
      "cell_type": "code",
      "source": [
        "np.vsplit(c,2) #Split the array vertically at the 2nd index"
      ],
      "metadata": {
        "colab": {
          "base_uri": "https://localhost:8080/"
        },
        "id": "C6aM7SJJvtI2",
        "outputId": "5abf9336-6bcc-451d-cab8-923057edd6d9"
      },
      "execution_count": 200,
      "outputs": [
        {
          "output_type": "execute_result",
          "data": {
            "text/plain": [
              "[array([[[1.5, 2. , 1. ],\n",
              "         [4. , 5. , 6. ]]]), array([[[3., 2., 3.],\n",
              "         [4., 5., 6.]]])]"
            ]
          },
          "metadata": {},
          "execution_count": 200
        }
      ]
    },
    {
      "cell_type": "markdown",
      "source": [
        "##Array Properties and Operations"
      ],
      "metadata": {
        "id": "ZWo0oU2q8Dol"
      }
    },
    {
      "cell_type": "code",
      "source": [
        "a.shape                # a tuple with the lengths of each axis"
      ],
      "metadata": {
        "colab": {
          "base_uri": "https://localhost:8080/"
        },
        "id": "9rizR6El8Jvf",
        "outputId": "a5aef49b-7bf7-4963-f47f-b63b5496c9cd"
      },
      "execution_count": 233,
      "outputs": [
        {
          "output_type": "execute_result",
          "data": {
            "text/plain": [
              "(10, 10)"
            ]
          },
          "metadata": {},
          "execution_count": 233
        }
      ]
    },
    {
      "cell_type": "code",
      "source": [
        "len(a)                 # length of axis 0"
      ],
      "metadata": {
        "colab": {
          "base_uri": "https://localhost:8080/"
        },
        "id": "gmUxV6ss8Mx0",
        "outputId": "9736b436-fef0-4037-b4f4-9ba210ffc468"
      },
      "execution_count": 234,
      "outputs": [
        {
          "output_type": "execute_result",
          "data": {
            "text/plain": [
              "10"
            ]
          },
          "metadata": {},
          "execution_count": 234
        }
      ]
    },
    {
      "cell_type": "code",
      "source": [
        "a.ndim                 # number of dimensions (axes)"
      ],
      "metadata": {
        "colab": {
          "base_uri": "https://localhost:8080/"
        },
        "id": "CT6Cj93D8PJH",
        "outputId": "b86b3dfc-5f63-4072-9a1f-b11a878530db"
      },
      "execution_count": 235,
      "outputs": [
        {
          "output_type": "execute_result",
          "data": {
            "text/plain": [
              "2"
            ]
          },
          "metadata": {},
          "execution_count": 235
        }
      ]
    },
    {
      "cell_type": "code",
      "source": [
        "a.sort(axis=1)         # sort array along axis\n",
        "a"
      ],
      "metadata": {
        "colab": {
          "base_uri": "https://localhost:8080/"
        },
        "id": "EaYBfUxo8Tk-",
        "outputId": "aaa55690-917b-471e-bcdc-62b0035cd798"
      },
      "execution_count": 238,
      "outputs": [
        {
          "output_type": "execute_result",
          "data": {
            "text/plain": [
              "array([[ 2,  2,  2,  2,  2,  2,  2,  2,  2,  2],\n",
              "       [ 2,  2,  2,  2,  2,  2,  2,  2,  2,  2],\n",
              "       [ 2,  2,  2,  2,  2,  2,  2,  2,  2,  2],\n",
              "       [ 2,  2,  2,  2,  2,  2,  2,  2,  2,  2],\n",
              "       [ 2,  2,  2,  2,  2,  2,  2,  2,  2,  2],\n",
              "       [ 2,  2,  2,  2,  2,  2,  2,  2,  2,  2],\n",
              "       [ 2,  2,  2,  2,  2,  2,  2,  2,  2,  2],\n",
              "       [ 2,  2,  2,  2,  2,  2,  2,  2,  2,  2],\n",
              "       [ 2,  2,  2,  2,  2,  2,  2,  2,  2,  2],\n",
              "       [ 2,  2,  2,  2,  2,  2,  2, 97, 98, 99]])"
            ]
          },
          "metadata": {},
          "execution_count": 238
        }
      ]
    },
    {
      "cell_type": "code",
      "source": [
        "a.flatten()            # collapse array to one dimension"
      ],
      "metadata": {
        "colab": {
          "base_uri": "https://localhost:8080/"
        },
        "id": "HowgbPzL8WLQ",
        "outputId": "2f1e97f6-8da9-4130-eb9f-343f3a52923e"
      },
      "execution_count": 237,
      "outputs": [
        {
          "output_type": "execute_result",
          "data": {
            "text/plain": [
              "array([ 2,  2,  2,  2,  2,  2,  2,  2,  2,  2,  2,  2,  2,  2,  2,  2,  2,\n",
              "        2,  2,  2,  2,  2,  2,  2,  2,  2,  2,  2,  2,  2,  2,  2,  2,  2,\n",
              "        2,  2,  2,  2,  2,  2,  2,  2,  2,  2,  2,  2,  2,  2,  2,  2,  2,\n",
              "        2,  2,  2,  2,  2,  2,  2,  2,  2,  2,  2,  2,  2,  2,  2,  2,  2,\n",
              "        2,  2,  2,  2,  2,  2,  2,  2,  2,  2,  2,  2,  2,  2,  2,  2,  2,\n",
              "        2,  2,  2,  2,  2,  2,  2,  2,  2,  2,  2,  2, 97, 98, 99])"
            ]
          },
          "metadata": {},
          "execution_count": 237
        }
      ]
    },
    {
      "cell_type": "code",
      "source": [
        "a.conj()               # return complex conjugate"
      ],
      "metadata": {
        "colab": {
          "base_uri": "https://localhost:8080/"
        },
        "id": "0WxqGoaQ8fVu",
        "outputId": "81492ab1-0451-4efd-ddf5-21436011ba89"
      },
      "execution_count": 239,
      "outputs": [
        {
          "output_type": "execute_result",
          "data": {
            "text/plain": [
              "array([[ 2,  2,  2,  2,  2,  2,  2,  2,  2,  2],\n",
              "       [ 2,  2,  2,  2,  2,  2,  2,  2,  2,  2],\n",
              "       [ 2,  2,  2,  2,  2,  2,  2,  2,  2,  2],\n",
              "       [ 2,  2,  2,  2,  2,  2,  2,  2,  2,  2],\n",
              "       [ 2,  2,  2,  2,  2,  2,  2,  2,  2,  2],\n",
              "       [ 2,  2,  2,  2,  2,  2,  2,  2,  2,  2],\n",
              "       [ 2,  2,  2,  2,  2,  2,  2,  2,  2,  2],\n",
              "       [ 2,  2,  2,  2,  2,  2,  2,  2,  2,  2],\n",
              "       [ 2,  2,  2,  2,  2,  2,  2,  2,  2,  2],\n",
              "       [ 2,  2,  2,  2,  2,  2,  2, 97, 98, 99]])"
            ]
          },
          "metadata": {},
          "execution_count": 239
        }
      ]
    },
    {
      "cell_type": "code",
      "source": [
        "a.astype(np.int16)     # cast to integer"
      ],
      "metadata": {
        "colab": {
          "base_uri": "https://localhost:8080/"
        },
        "id": "aA7Qx5Fl8ljp",
        "outputId": "e2190880-d2f3-48a6-80af-aa29d86e035b"
      },
      "execution_count": 240,
      "outputs": [
        {
          "output_type": "execute_result",
          "data": {
            "text/plain": [
              "array([[ 2,  2,  2,  2,  2,  2,  2,  2,  2,  2],\n",
              "       [ 2,  2,  2,  2,  2,  2,  2,  2,  2,  2],\n",
              "       [ 2,  2,  2,  2,  2,  2,  2,  2,  2,  2],\n",
              "       [ 2,  2,  2,  2,  2,  2,  2,  2,  2,  2],\n",
              "       [ 2,  2,  2,  2,  2,  2,  2,  2,  2,  2],\n",
              "       [ 2,  2,  2,  2,  2,  2,  2,  2,  2,  2],\n",
              "       [ 2,  2,  2,  2,  2,  2,  2,  2,  2,  2],\n",
              "       [ 2,  2,  2,  2,  2,  2,  2,  2,  2,  2],\n",
              "       [ 2,  2,  2,  2,  2,  2,  2,  2,  2,  2],\n",
              "       [ 2,  2,  2,  2,  2,  2,  2, 97, 98, 99]], dtype=int16)"
            ]
          },
          "metadata": {},
          "execution_count": 240
        }
      ]
    },
    {
      "cell_type": "code",
      "source": [
        "a.tolist()             # convert (possibly multidimensional) array to list"
      ],
      "metadata": {
        "colab": {
          "base_uri": "https://localhost:8080/"
        },
        "id": "Var-tcY98oHZ",
        "outputId": "4b0bf11c-a52a-48bb-b742-819fc10c7631"
      },
      "execution_count": 241,
      "outputs": [
        {
          "output_type": "execute_result",
          "data": {
            "text/plain": [
              "[[2, 2, 2, 2, 2, 2, 2, 2, 2, 2],\n",
              " [2, 2, 2, 2, 2, 2, 2, 2, 2, 2],\n",
              " [2, 2, 2, 2, 2, 2, 2, 2, 2, 2],\n",
              " [2, 2, 2, 2, 2, 2, 2, 2, 2, 2],\n",
              " [2, 2, 2, 2, 2, 2, 2, 2, 2, 2],\n",
              " [2, 2, 2, 2, 2, 2, 2, 2, 2, 2],\n",
              " [2, 2, 2, 2, 2, 2, 2, 2, 2, 2],\n",
              " [2, 2, 2, 2, 2, 2, 2, 2, 2, 2],\n",
              " [2, 2, 2, 2, 2, 2, 2, 2, 2, 2],\n",
              " [2, 2, 2, 2, 2, 2, 2, 97, 98, 99]]"
            ]
          },
          "metadata": {},
          "execution_count": 241
        }
      ]
    },
    {
      "cell_type": "code",
      "source": [
        "np.argmax(a, axis=1)   # return index of maximum along a given axis"
      ],
      "metadata": {
        "colab": {
          "base_uri": "https://localhost:8080/"
        },
        "id": "98HKnkpt8wNb",
        "outputId": "bdc7c844-dba2-4e66-b5eb-c4e570484e9f"
      },
      "execution_count": 242,
      "outputs": [
        {
          "output_type": "execute_result",
          "data": {
            "text/plain": [
              "array([0, 0, 0, 0, 0, 0, 0, 0, 0, 9])"
            ]
          },
          "metadata": {},
          "execution_count": 242
        }
      ]
    },
    {
      "cell_type": "code",
      "source": [
        "np.cumsum(a)           # return cumulative sum"
      ],
      "metadata": {
        "colab": {
          "base_uri": "https://localhost:8080/"
        },
        "id": "it_q9lIN86sq",
        "outputId": "a04e0e0f-6f54-40f8-fb13-3f4ee9e0e9bf"
      },
      "execution_count": 243,
      "outputs": [
        {
          "output_type": "execute_result",
          "data": {
            "text/plain": [
              "array([  2,   4,   6,   8,  10,  12,  14,  16,  18,  20,  22,  24,  26,\n",
              "        28,  30,  32,  34,  36,  38,  40,  42,  44,  46,  48,  50,  52,\n",
              "        54,  56,  58,  60,  62,  64,  66,  68,  70,  72,  74,  76,  78,\n",
              "        80,  82,  84,  86,  88,  90,  92,  94,  96,  98, 100, 102, 104,\n",
              "       106, 108, 110, 112, 114, 116, 118, 120, 122, 124, 126, 128, 130,\n",
              "       132, 134, 136, 138, 140, 142, 144, 146, 148, 150, 152, 154, 156,\n",
              "       158, 160, 162, 164, 166, 168, 170, 172, 174, 176, 178, 180, 182,\n",
              "       184, 186, 188, 190, 192, 194, 291, 389, 488])"
            ]
          },
          "metadata": {},
          "execution_count": 243
        }
      ]
    },
    {
      "cell_type": "code",
      "source": [
        "np.any(a)              # True if any element is True"
      ],
      "metadata": {
        "colab": {
          "base_uri": "https://localhost:8080/"
        },
        "id": "oH1usKP_8_Js",
        "outputId": "af53e8a0-9be5-4870-cd76-b91b2f97359a"
      },
      "execution_count": 244,
      "outputs": [
        {
          "output_type": "execute_result",
          "data": {
            "text/plain": [
              "True"
            ]
          },
          "metadata": {},
          "execution_count": 244
        }
      ]
    },
    {
      "cell_type": "code",
      "source": [
        "np.all(a)              # True if all elements are True"
      ],
      "metadata": {
        "colab": {
          "base_uri": "https://localhost:8080/"
        },
        "id": "BEFVXMNF9Gi2",
        "outputId": "02c21557-0594-4af7-e93d-5b2712091993"
      },
      "execution_count": 245,
      "outputs": [
        {
          "output_type": "execute_result",
          "data": {
            "text/plain": [
              "True"
            ]
          },
          "metadata": {},
          "execution_count": 245
        }
      ]
    },
    {
      "cell_type": "code",
      "source": [
        "np.argsort(a, axis=1)  # return sorted index array along axis"
      ],
      "metadata": {
        "colab": {
          "base_uri": "https://localhost:8080/"
        },
        "id": "d1ThYVGl9JSh",
        "outputId": "a2e9ec0d-1bdb-4fc5-a007-091953da1e89"
      },
      "execution_count": 246,
      "outputs": [
        {
          "output_type": "execute_result",
          "data": {
            "text/plain": [
              "array([[0, 1, 2, 3, 4, 5, 6, 7, 8, 9],\n",
              "       [0, 1, 2, 3, 4, 5, 6, 7, 8, 9],\n",
              "       [0, 1, 2, 3, 4, 5, 6, 7, 8, 9],\n",
              "       [0, 1, 2, 3, 4, 5, 6, 7, 8, 9],\n",
              "       [0, 1, 2, 3, 4, 5, 6, 7, 8, 9],\n",
              "       [0, 1, 2, 3, 4, 5, 6, 7, 8, 9],\n",
              "       [0, 1, 2, 3, 4, 5, 6, 7, 8, 9],\n",
              "       [0, 1, 2, 3, 4, 5, 6, 7, 8, 9],\n",
              "       [0, 1, 2, 3, 4, 5, 6, 7, 8, 9],\n",
              "       [0, 1, 2, 3, 4, 5, 6, 7, 8, 9]])"
            ]
          },
          "metadata": {},
          "execution_count": 246
        }
      ]
    },
    {
      "cell_type": "markdown",
      "source": [
        "## Boolean Arrays"
      ],
      "metadata": {
        "id": "4beGGrSo9btP"
      }
    },
    {
      "cell_type": "code",
      "source": [
        "a < 2                         # returns array with boolean values"
      ],
      "metadata": {
        "colab": {
          "base_uri": "https://localhost:8080/"
        },
        "id": "I1hx9hPy9gY-",
        "outputId": "72fc3032-fa24-487d-a341-5aaa416c2412"
      },
      "execution_count": 252,
      "outputs": [
        {
          "output_type": "execute_result",
          "data": {
            "text/plain": [
              "array([[False, False, False, False, False, False, False, False, False,\n",
              "        False],\n",
              "       [False, False, False, False, False, False, False, False, False,\n",
              "        False],\n",
              "       [False, False, False, False, False, False, False, False, False,\n",
              "        False],\n",
              "       [False, False, False, False, False, False, False, False, False,\n",
              "        False],\n",
              "       [False, False, False, False, False, False, False, False, False,\n",
              "        False],\n",
              "       [False, False, False, False, False, False, False, False, False,\n",
              "        False],\n",
              "       [False, False, False, False, False, False, False, False, False,\n",
              "        False],\n",
              "       [False, False, False, False, False, False, False, False, False,\n",
              "        False],\n",
              "       [False, False, False, False, False, False, False, False, False,\n",
              "        False],\n",
              "       [False, False, False, False, False, False, False, False, False,\n",
              "        False]])"
            ]
          },
          "metadata": {},
          "execution_count": 252
        }
      ]
    },
    {
      "cell_type": "code",
      "source": [
        "(a < 2) & (b > 10)            # elementwise logical and"
      ],
      "metadata": {
        "colab": {
          "base_uri": "https://localhost:8080/"
        },
        "id": "9xJn1s0096OB",
        "outputId": "c1a8f20f-5b7a-4c67-da69-02c73fe73190"
      },
      "execution_count": 253,
      "outputs": [
        {
          "output_type": "execute_result",
          "data": {
            "text/plain": [
              "array([[False, False, False, False, False, False, False, False, False,\n",
              "        False],\n",
              "       [False, False, False, False, False, False, False, False, False,\n",
              "        False],\n",
              "       [False, False, False, False, False, False, False, False, False,\n",
              "        False],\n",
              "       [False, False, False, False, False, False, False, False, False,\n",
              "        False],\n",
              "       [False, False, False, False, False, False, False, False, False,\n",
              "        False],\n",
              "       [False, False, False, False, False, False, False, False, False,\n",
              "        False],\n",
              "       [False, False, False, False, False, False, False, False, False,\n",
              "        False],\n",
              "       [False, False, False, False, False, False, False, False, False,\n",
              "        False],\n",
              "       [False, False, False, False, False, False, False, False, False,\n",
              "        False],\n",
              "       [False, False, False, False, False, False, False, False, False,\n",
              "        False]])"
            ]
          },
          "metadata": {},
          "execution_count": 253
        }
      ]
    },
    {
      "cell_type": "code",
      "source": [
        "(a < 2) | (b > 10)            # elementwise logical or"
      ],
      "metadata": {
        "colab": {
          "base_uri": "https://localhost:8080/"
        },
        "id": "BZ-YDQBc98YR",
        "outputId": "6f7668d4-6741-42ba-9830-ba68c481e3ef"
      },
      "execution_count": 254,
      "outputs": [
        {
          "output_type": "execute_result",
          "data": {
            "text/plain": [
              "array([[False, False, False, False, False, False, False, False, False,\n",
              "        False],\n",
              "       [False, False, False, False, False, False, False, False, False,\n",
              "        False],\n",
              "       [False, False, False, False, False, False, False, False, False,\n",
              "        False],\n",
              "       [False, False, False, False, False, False, False, False, False,\n",
              "        False],\n",
              "       [False, False, False, False, False, False, False, False, False,\n",
              "        False],\n",
              "       [False, False, False, False, False, False, False, False, False,\n",
              "        False],\n",
              "       [False, False, False, False, False, False, False, False, False,\n",
              "        False],\n",
              "       [False, False, False, False, False, False, False, False, False,\n",
              "         True],\n",
              "       [False, False, False, False, False, False, False, False, False,\n",
              "         True],\n",
              "       [False, False, False, False, False, False, False, False, False,\n",
              "         True]])"
            ]
          },
          "metadata": {},
          "execution_count": 254
        }
      ]
    },
    {
      "cell_type": "code",
      "source": [
        "~a                            # invert boolean array"
      ],
      "metadata": {
        "colab": {
          "base_uri": "https://localhost:8080/"
        },
        "id": "utjt2vvj-CBB",
        "outputId": "f9fd281c-b19e-44fd-d13a-3c3aff40290d"
      },
      "execution_count": 255,
      "outputs": [
        {
          "output_type": "execute_result",
          "data": {
            "text/plain": [
              "array([[  -3,   -3,   -3,   -3,   -3,   -3,   -3,   -3,   -3,   -3],\n",
              "       [  -3,   -3,   -3,   -3,   -3,   -3,   -3,   -3,   -3,   -3],\n",
              "       [  -3,   -3,   -3,   -3,   -3,   -3,   -3,   -3,   -3,   -3],\n",
              "       [  -3,   -3,   -3,   -3,   -3,   -3,   -3,   -3,   -3,   -3],\n",
              "       [  -3,   -3,   -3,   -3,   -3,   -3,   -3,   -3,   -3,   -3],\n",
              "       [  -3,   -3,   -3,   -3,   -3,   -3,   -3,   -3,   -3,   -3],\n",
              "       [  -3,   -3,   -3,   -3,   -3,   -3,   -3,   -3,   -3,   -3],\n",
              "       [  -3,   -3,   -3,   -3,   -3,   -3,   -3,   -3,   -3,   -3],\n",
              "       [  -3,   -3,   -3,   -3,   -3,   -3,   -3,   -3,   -3,   -3],\n",
              "       [  -3,   -3,   -3,   -3,   -3,   -3,   -3,  -98,  -99, -100]])"
            ]
          },
          "metadata": {},
          "execution_count": 255
        }
      ]
    },
    {
      "cell_type": "markdown",
      "source": [
        "##linear algebra/ matrix math"
      ],
      "metadata": {
        "id": "6_p_1ELK-N1i"
      }
    },
    {
      "cell_type": "code",
      "source": [
        "evals, evecs = np.linalg.eig(a)      # Find eigenvalues and eigenvectors\n",
        "evals"
      ],
      "metadata": {
        "colab": {
          "base_uri": "https://localhost:8080/"
        },
        "id": "piJBxrsx-PPa",
        "outputId": "4085f624-ca15-45ad-9f7e-7a07ba100b61"
      },
      "execution_count": 257,
      "outputs": [
        {
          "output_type": "execute_result",
          "data": {
            "text/plain": [
              "array([ 3.55271368e-15+0.00000000e+00j,  1.31320598e+01+0.00000000e+00j,\n",
              "        1.03867940e+02+0.00000000e+00j,  8.56646981e-16+9.65204888e-16j,\n",
              "        8.56646981e-16-9.65204888e-16j,  3.80642956e-15+0.00000000e+00j,\n",
              "       -6.80290433e-31+0.00000000e+00j, -8.30153297e-32+0.00000000e+00j,\n",
              "       -9.20596868e-47+0.00000000e+00j, -1.97215226e-31+0.00000000e+00j])"
            ]
          },
          "metadata": {},
          "execution_count": 257
        }
      ]
    },
    {
      "cell_type": "code",
      "source": [
        "evecs"
      ],
      "metadata": {
        "colab": {
          "base_uri": "https://localhost:8080/"
        },
        "id": "RrEizyHi-XeG",
        "outputId": "8e010efe-a061-4241-9e06-f0f816c9b861"
      },
      "execution_count": 258,
      "outputs": [
        {
          "output_type": "execute_result",
          "data": {
            "text/plain": [
              "array([[-8.68237346e-01+0.j        ,  2.58853664e-01+0.j        ,\n",
              "        -2.32349271e-02+0.j        ,  2.47231448e-01+0.29777387j,\n",
              "         2.47231448e-01-0.29777387j, -7.96143999e-01+0.j        ,\n",
              "        -3.17147076e-01+0.j        , -6.90071835e-02+0.j        ,\n",
              "        -1.18734876e-01+0.j        ,  1.10564993e-01+0.j        ],\n",
              "       [ 1.43964141e-01+0.j        ,  2.58853664e-01+0.j        ,\n",
              "        -2.32349271e-02+0.j        ,  5.88976623e-01+0.j        ,\n",
              "         5.88976623e-01-0.j        , -1.27142360e-01+0.j        ,\n",
              "        -9.52694442e-02+0.j        , -1.99937354e-02+0.j        ,\n",
              "         4.23171772e-03+0.j        ,  1.26844224e-02+0.j        ],\n",
              "       [ 1.43964141e-01+0.j        ,  2.58853664e-01+0.j        ,\n",
              "        -2.32349271e-02+0.j        , -1.58837792e-01-0.54355236j,\n",
              "        -1.58837792e-01+0.54355236j,  1.41334489e-01+0.j        ,\n",
              "        -9.24557945e-02+0.j        , -1.93955207e-02+0.j        ,\n",
              "         4.52583869e-03+0.j        ,  1.20941723e-02+0.j        ],\n",
              "       [ 1.43964141e-01+0.j        ,  2.58853664e-01+0.j        ,\n",
              "        -2.32349271e-02+0.j        , -1.68819516e-01+0.06124267j,\n",
              "        -1.68819516e-01-0.06124267j,  1.94088932e-01+0.j        ,\n",
              "         1.89072450e-02+0.j        ,  8.66246498e-01+0.j        ,\n",
              "         8.67535249e-01+0.j        , -8.43512642e-01+0.j        ],\n",
              "       [ 1.43964141e-01+0.j        ,  2.58853664e-01+0.j        ,\n",
              "        -2.32349271e-02+0.j        , -1.68819516e-01+0.06124267j,\n",
              "        -1.68819516e-01-0.06124267j,  1.94088932e-01+0.j        ,\n",
              "         3.96372808e-01+0.j        , -3.04837093e-01+0.j        ,\n",
              "        -1.52553686e-01+0.j        ,  4.91411424e-01+0.j        ],\n",
              "       [ 1.43964141e-01+0.j        ,  2.58853664e-01+0.j        ,\n",
              "        -2.32349271e-02+0.j        , -1.68819516e-01+0.06124267j,\n",
              "        -1.68819516e-01-0.06124267j,  1.94088932e-01+0.j        ,\n",
              "         5.20541797e-01+0.j        , -3.61657833e-01+0.j        ,\n",
              "        -1.89715033e-01+0.j        ,  1.33879728e-01+0.j        ],\n",
              "       [ 1.43964141e-01+0.j        ,  2.58853664e-01+0.j        ,\n",
              "        -2.32349271e-02+0.j        , -1.68819516e-01+0.06124267j,\n",
              "        -1.68819516e-01-0.06124267j,  1.94088932e-01+0.j        ,\n",
              "        -4.23727112e-01+0.j        , -8.98276539e-02+0.j        ,\n",
              "        -4.14973108e-01+0.j        ,  8.15885887e-02+0.j        ],\n",
              "       [ 1.43964141e-01+0.j        ,  2.58853664e-01+0.j        ,\n",
              "        -2.32349271e-02+0.j        , -1.68819516e-01+0.06124267j,\n",
              "        -1.68819516e-01-0.06124267j,  1.94088932e-01+0.j        ,\n",
              "        -4.23727112e-01+0.j        , -8.98276539e-02+0.j        ,\n",
              "        -3.01031494e-02+0.j        ,  8.15885887e-02+0.j        ],\n",
              "       [ 1.43964141e-01+0.j        ,  2.58853664e-01+0.j        ,\n",
              "        -2.32349271e-02+0.j        ,  1.34694033e-01-0.04412776j,\n",
              "         1.34694033e-01+0.04412776j,  1.54647943e-01+0.j        ,\n",
              "         1.46879172e-01+0.j        ,  3.14898755e-02+0.j        ,\n",
              "         2.95443877e-02+0.j        , -3.81137478e-02+0.j        ],\n",
              "       [-2.83475783e-01+0.j        , -6.30042082e-01+0.j        ,\n",
              "        -9.97567664e-01+0.j        ,  3.20332659e-02-0.0163071j ,\n",
              "         3.20332659e-02+0.0163071j , -3.43140733e-01+0.j        ,\n",
              "         2.69625517e-01+0.j        ,  5.68102998e-02+0.j        ,\n",
              "         2.42659477e-04+0.j        , -4.21855272e-02+0.j        ]])"
            ]
          },
          "metadata": {},
          "execution_count": 258
        }
      ]
    },
    {
      "cell_type": "code",
      "source": [
        "evals, evecs = np.linalg.eigh(a)     # np.linalg.eig for hermitian matrix\n",
        "evals"
      ],
      "metadata": {
        "colab": {
          "base_uri": "https://localhost:8080/"
        },
        "id": "f8I-p2qZ-iJu",
        "outputId": "781a2362-a96c-4e33-b298-1f10755b1f02"
      },
      "execution_count": 260,
      "outputs": [
        {
          "output_type": "execute_result",
          "data": {
            "text/plain": [
              "array([-9.44241999e+01, -3.30738916e-14, -4.27554840e-15, -2.30304429e-15,\n",
              "       -5.19748482e-16, -9.86076132e-31,  4.88487159e-15,  1.88560604e-14,\n",
              "        1.36768504e+01,  1.97747350e+02])"
            ]
          },
          "metadata": {},
          "execution_count": 260
        }
      ]
    },
    {
      "cell_type": "code",
      "source": [
        "evecs"
      ],
      "metadata": {
        "colab": {
          "base_uri": "https://localhost:8080/"
        },
        "id": "L6PicLSp-n_w",
        "outputId": "7e6e42ef-97e6-4605-a774-1266ca4afb18"
      },
      "execution_count": 261,
      "outputs": [
        {
          "output_type": "execute_result",
          "data": {
            "text/plain": [
              "array([[ 1.05485516e-02, -8.69632422e-01,  4.41900825e-02,\n",
              "         2.08169432e-02,  1.30700260e-01, -9.55150202e-18,\n",
              "         2.48960589e-01, -1.39403680e-01,  3.77397038e-01,\n",
              "        -1.77827858e-02],\n",
              "       [ 1.05485516e-02,  8.28337022e-02, -4.15241597e-01,\n",
              "         7.46022834e-01,  5.43859923e-02, -5.22882803e-16,\n",
              "        -3.37890713e-01, -6.46446491e-02,  3.77397038e-01,\n",
              "        -1.77827858e-02],\n",
              "       [ 1.05485516e-02,  4.48572181e-01, -7.27511947e-02,\n",
              "        -1.09951270e-02,  2.50267942e-01, -1.31772483e-16,\n",
              "         6.98612570e-01, -3.15942683e-01,  3.77397038e-01,\n",
              "        -1.77827858e-02],\n",
              "       [ 1.05485516e-02,  9.84640895e-02,  3.68081079e-01,\n",
              "         1.24656432e-01,  6.26007125e-02, -1.19554801e-16,\n",
              "         1.22408111e-01,  8.23118034e-01,  3.77397038e-01,\n",
              "        -1.77827858e-02],\n",
              "       [ 1.05485516e-02,  9.22480925e-02,  2.16364488e-02,\n",
              "        -3.86733235e-01,  2.05777653e-01,  7.07106781e-01,\n",
              "        -3.83894212e-01, -9.42567046e-02,  3.77397038e-01,\n",
              "        -1.77827858e-02],\n",
              "       [ 1.05485516e-02,  9.22480925e-02,  2.16364488e-02,\n",
              "        -3.86733235e-01,  2.05777653e-01, -7.07106781e-01,\n",
              "        -3.83894212e-01, -9.42567046e-02,  3.77397038e-01,\n",
              "        -1.77827858e-02],\n",
              "       [ 1.05485516e-02,  5.46948996e-02,  2.63286880e-02,\n",
              "        -1.09558856e-01, -9.09752258e-01,  7.86953923e-16,\n",
              "         3.68614490e-02, -1.11571343e-01,  3.77397038e-01,\n",
              "        -1.77827858e-02],\n",
              "       [-5.72732587e-01,  5.48509355e-02,  5.87524323e-01,\n",
              "         2.42327412e-01,  2.32362685e-02, -3.16939604e-16,\n",
              "        -1.11703905e-01, -2.92057846e-01, -1.24047503e-03,\n",
              "        -4.08343414e-01],\n",
              "       [-5.78872388e-01, -5.42795716e-02, -5.81404278e-01,\n",
              "        -2.39803169e-01, -2.29942240e-02,  3.21359179e-16,\n",
              "         1.10540323e-01,  2.89015577e-01, -5.22613307e-03,\n",
              "        -4.12454578e-01],\n",
              "       [ 5.79745840e-01, -1.11022302e-16,  1.38777878e-17,\n",
              "        -2.77555756e-17, -3.03576608e-17, -1.41177680e-17,\n",
              "        -1.11022302e-16,  1.20563282e-16, -5.45112486e-02,\n",
              "        -8.12971884e-01]])"
            ]
          },
          "metadata": {},
          "execution_count": 261
        }
      ]
    },
    {
      "cell_type": "markdown",
      "source": [
        "## fft"
      ],
      "metadata": {
        "id": "6ZhkgPQ_-2Fk"
      }
    },
    {
      "cell_type": "code",
      "source": [
        "np.fft.fft(a)                # complex fourier transform of a"
      ],
      "metadata": {
        "colab": {
          "base_uri": "https://localhost:8080/"
        },
        "id": "hnhAMOym-0hw",
        "outputId": "88581862-320c-4ea3-d345-2a4345be0c20"
      },
      "execution_count": 264,
      "outputs": [
        {
          "output_type": "execute_result",
          "data": {
            "text/plain": [
              "array([[  20.        +0.00000000e+00j,    0.        +0.00000000e+00j,\n",
              "           0.        +0.00000000e+00j,    0.        +0.00000000e+00j,\n",
              "           0.        +0.00000000e+00j,    0.        +0.00000000e+00j,\n",
              "           0.        +0.00000000e+00j,    0.        +0.00000000e+00j,\n",
              "           0.        +0.00000000e+00j,    0.        +0.00000000e+00j],\n",
              "       [  20.        +0.00000000e+00j,    0.        +0.00000000e+00j,\n",
              "           0.        +0.00000000e+00j,    0.        +0.00000000e+00j,\n",
              "           0.        +0.00000000e+00j,    0.        +0.00000000e+00j,\n",
              "           0.        +0.00000000e+00j,    0.        +0.00000000e+00j,\n",
              "           0.        +0.00000000e+00j,    0.        +0.00000000e+00j],\n",
              "       [  20.        +0.00000000e+00j,    0.        +0.00000000e+00j,\n",
              "           0.        +0.00000000e+00j,    0.        +0.00000000e+00j,\n",
              "           0.        +0.00000000e+00j,    0.        +0.00000000e+00j,\n",
              "           0.        +0.00000000e+00j,    0.        +0.00000000e+00j,\n",
              "           0.        +0.00000000e+00j,    0.        +0.00000000e+00j],\n",
              "       [  20.        +0.00000000e+00j,    0.        +0.00000000e+00j,\n",
              "           0.        +0.00000000e+00j,    0.        +0.00000000e+00j,\n",
              "           0.        +0.00000000e+00j,    0.        +0.00000000e+00j,\n",
              "           0.        +0.00000000e+00j,    0.        +0.00000000e+00j,\n",
              "           0.        +0.00000000e+00j,    0.        +0.00000000e+00j],\n",
              "       [  20.        +0.00000000e+00j,    0.        +0.00000000e+00j,\n",
              "           0.        +0.00000000e+00j,    0.        +0.00000000e+00j,\n",
              "           0.        +0.00000000e+00j,    0.        +0.00000000e+00j,\n",
              "           0.        +0.00000000e+00j,    0.        +0.00000000e+00j,\n",
              "           0.        +0.00000000e+00j,    0.        +0.00000000e+00j],\n",
              "       [  20.        +0.00000000e+00j,    0.        +0.00000000e+00j,\n",
              "           0.        +0.00000000e+00j,    0.        +0.00000000e+00j,\n",
              "           0.        +0.00000000e+00j,    0.        +0.00000000e+00j,\n",
              "           0.        +0.00000000e+00j,    0.        +0.00000000e+00j,\n",
              "           0.        +0.00000000e+00j,    0.        +0.00000000e+00j],\n",
              "       [  20.        +0.00000000e+00j,    0.        +0.00000000e+00j,\n",
              "           0.        +0.00000000e+00j,    0.        +0.00000000e+00j,\n",
              "           0.        +0.00000000e+00j,    0.        +0.00000000e+00j,\n",
              "           0.        +0.00000000e+00j,    0.        +0.00000000e+00j,\n",
              "           0.        +0.00000000e+00j,    0.        +0.00000000e+00j],\n",
              "       [  20.        +0.00000000e+00j,    0.        +0.00000000e+00j,\n",
              "           0.        +0.00000000e+00j,    0.        +0.00000000e+00j,\n",
              "           0.        +0.00000000e+00j,    0.        +0.00000000e+00j,\n",
              "           0.        +0.00000000e+00j,    0.        +0.00000000e+00j,\n",
              "           0.        +0.00000000e+00j,    0.        +0.00000000e+00j],\n",
              "       [  20.        +0.00000000e+00j,    0.        +0.00000000e+00j,\n",
              "           0.        +0.00000000e+00j,    0.        +0.00000000e+00j,\n",
              "           0.        +0.00000000e+00j,    0.        +0.00000000e+00j,\n",
              "           0.        +0.00000000e+00j,    0.        +0.00000000e+00j,\n",
              "           0.        +0.00000000e+00j,    0.        +0.00000000e+00j],\n",
              "       [ 308.        +0.00000000e+00j,   78.78366545+2.38666964e+02j,\n",
              "        -124.54759747+9.28402673e+01j,  -30.78366545-2.00145011e+01j,\n",
              "         -19.45240253+5.60641130e+01j,  -96.        -7.10542736e-15j,\n",
              "         -19.45240253-5.60641130e+01j,  -30.78366545+2.00145011e+01j,\n",
              "        -124.54759747-9.28402673e+01j,   78.78366545-2.38666964e+02j]])"
            ]
          },
          "metadata": {},
          "execution_count": 264
        }
      ]
    },
    {
      "cell_type": "code",
      "source": [
        "f = np.fft.fftfreq(len(a))   # fft frequencies\n",
        "f"
      ],
      "metadata": {
        "colab": {
          "base_uri": "https://localhost:8080/"
        },
        "id": "AJmm61lj_Fcs",
        "outputId": "bc9089b6-1e89-4e07-885a-c75e1f7b055d"
      },
      "execution_count": 266,
      "outputs": [
        {
          "output_type": "execute_result",
          "data": {
            "text/plain": [
              "array([ 0. ,  0.1,  0.2,  0.3,  0.4, -0.5, -0.4, -0.3, -0.2, -0.1])"
            ]
          },
          "metadata": {},
          "execution_count": 266
        }
      ]
    },
    {
      "cell_type": "code",
      "source": [
        "np.fft.fftshift(f)           # shifts zero frequency to the middle"
      ],
      "metadata": {
        "colab": {
          "base_uri": "https://localhost:8080/"
        },
        "id": "CNn_q8pS_IZV",
        "outputId": "f9e711d5-4a6f-433d-f3fb-939476ed9b0c"
      },
      "execution_count": 267,
      "outputs": [
        {
          "output_type": "execute_result",
          "data": {
            "text/plain": [
              "array([-0.5, -0.4, -0.3, -0.2, -0.1,  0. ,  0.1,  0.2,  0.3,  0.4])"
            ]
          },
          "metadata": {},
          "execution_count": 267
        }
      ]
    },
    {
      "cell_type": "code",
      "source": [
        "np.fft.rfft(a)               # real fourier transform of a"
      ],
      "metadata": {
        "colab": {
          "base_uri": "https://localhost:8080/"
        },
        "id": "pa6KwKAb_QZF",
        "outputId": "7c94e4c9-9f8a-454c-c7af-56770834ff50"
      },
      "execution_count": 268,
      "outputs": [
        {
          "output_type": "execute_result",
          "data": {
            "text/plain": [
              "array([[  20.          +0.j        ,    0.          +0.j        ,\n",
              "           0.          +0.j        ,    0.          +0.j        ,\n",
              "           0.          +0.j        ,    0.          +0.j        ],\n",
              "       [  20.          +0.j        ,    0.          +0.j        ,\n",
              "           0.          +0.j        ,    0.          +0.j        ,\n",
              "           0.          +0.j        ,    0.          +0.j        ],\n",
              "       [  20.          +0.j        ,    0.          +0.j        ,\n",
              "           0.          +0.j        ,    0.          +0.j        ,\n",
              "           0.          +0.j        ,    0.          +0.j        ],\n",
              "       [  20.          +0.j        ,    0.          +0.j        ,\n",
              "           0.          +0.j        ,    0.          +0.j        ,\n",
              "           0.          +0.j        ,    0.          +0.j        ],\n",
              "       [  20.          +0.j        ,    0.          +0.j        ,\n",
              "           0.          +0.j        ,    0.          +0.j        ,\n",
              "           0.          +0.j        ,    0.          +0.j        ],\n",
              "       [  20.          +0.j        ,    0.          +0.j        ,\n",
              "           0.          +0.j        ,    0.          +0.j        ,\n",
              "           0.          +0.j        ,    0.          +0.j        ],\n",
              "       [  20.          +0.j        ,    0.          +0.j        ,\n",
              "           0.          +0.j        ,    0.          +0.j        ,\n",
              "           0.          +0.j        ,    0.          +0.j        ],\n",
              "       [  20.          +0.j        ,    0.          +0.j        ,\n",
              "           0.          +0.j        ,    0.          +0.j        ,\n",
              "           0.          +0.j        ,    0.          +0.j        ],\n",
              "       [  20.          +0.j        ,    0.          +0.j        ,\n",
              "           0.          +0.j        ,    0.          +0.j        ,\n",
              "           0.          +0.j        ,    0.          +0.j        ],\n",
              "       [ 308.          +0.j        ,   78.78366545+238.66696408j,\n",
              "        -124.54759747 +92.84026733j,  -30.78366545 -20.01450111j,\n",
              "         -19.45240253 +56.06411296j,  -96.          +0.j        ]])"
            ]
          },
          "metadata": {},
          "execution_count": 268
        }
      ]
    },
    {
      "cell_type": "code",
      "source": [
        "np.fft.rfftfreq(len(a))      # real fft frequencies"
      ],
      "metadata": {
        "colab": {
          "base_uri": "https://localhost:8080/"
        },
        "id": "_iCzYhub_TbH",
        "outputId": "b9c2b416-4e51-4b06-9d20-d9af30b8dc49"
      },
      "execution_count": 269,
      "outputs": [
        {
          "output_type": "execute_result",
          "data": {
            "text/plain": [
              "array([0. , 0.1, 0.2, 0.3, 0.4, 0.5])"
            ]
          },
          "metadata": {},
          "execution_count": 269
        }
      ]
    },
    {
      "cell_type": "markdown",
      "source": [
        "##Rounding"
      ],
      "metadata": {
        "id": "GlH_nDkM_UnE"
      }
    },
    {
      "cell_type": "code",
      "source": [
        "np.ceil(a)   # rounds to nearest upper int"
      ],
      "metadata": {
        "colab": {
          "base_uri": "https://localhost:8080/"
        },
        "id": "kUtf4omb_Xoi",
        "outputId": "4b65acdf-1bfd-41ae-b2d8-abd0cccce02f"
      },
      "execution_count": 270,
      "outputs": [
        {
          "output_type": "execute_result",
          "data": {
            "text/plain": [
              "array([[ 2.,  2.,  2.,  2.,  2.,  2.,  2.,  2.,  2.,  2.],\n",
              "       [ 2.,  2.,  2.,  2.,  2.,  2.,  2.,  2.,  2.,  2.],\n",
              "       [ 2.,  2.,  2.,  2.,  2.,  2.,  2.,  2.,  2.,  2.],\n",
              "       [ 2.,  2.,  2.,  2.,  2.,  2.,  2.,  2.,  2.,  2.],\n",
              "       [ 2.,  2.,  2.,  2.,  2.,  2.,  2.,  2.,  2.,  2.],\n",
              "       [ 2.,  2.,  2.,  2.,  2.,  2.,  2.,  2.,  2.,  2.],\n",
              "       [ 2.,  2.,  2.,  2.,  2.,  2.,  2.,  2.,  2.,  2.],\n",
              "       [ 2.,  2.,  2.,  2.,  2.,  2.,  2.,  2.,  2.,  2.],\n",
              "       [ 2.,  2.,  2.,  2.,  2.,  2.,  2.,  2.,  2.,  2.],\n",
              "       [ 2.,  2.,  2.,  2.,  2.,  2.,  2., 97., 98., 99.]])"
            ]
          },
          "metadata": {},
          "execution_count": 270
        }
      ]
    },
    {
      "cell_type": "code",
      "source": [
        "np.floor(a)  # rounds to nearest lower int"
      ],
      "metadata": {
        "colab": {
          "base_uri": "https://localhost:8080/"
        },
        "id": "l9rz2aXL_f-l",
        "outputId": "58cf0b8c-d315-41f4-8e44-6b354e979461"
      },
      "execution_count": 271,
      "outputs": [
        {
          "output_type": "execute_result",
          "data": {
            "text/plain": [
              "array([[ 2.,  2.,  2.,  2.,  2.,  2.,  2.,  2.,  2.,  2.],\n",
              "       [ 2.,  2.,  2.,  2.,  2.,  2.,  2.,  2.,  2.,  2.],\n",
              "       [ 2.,  2.,  2.,  2.,  2.,  2.,  2.,  2.,  2.,  2.],\n",
              "       [ 2.,  2.,  2.,  2.,  2.,  2.,  2.,  2.,  2.,  2.],\n",
              "       [ 2.,  2.,  2.,  2.,  2.,  2.,  2.,  2.,  2.,  2.],\n",
              "       [ 2.,  2.,  2.,  2.,  2.,  2.,  2.,  2.,  2.,  2.],\n",
              "       [ 2.,  2.,  2.,  2.,  2.,  2.,  2.,  2.,  2.,  2.],\n",
              "       [ 2.,  2.,  2.,  2.,  2.,  2.,  2.,  2.,  2.,  2.],\n",
              "       [ 2.,  2.,  2.,  2.,  2.,  2.,  2.,  2.,  2.,  2.],\n",
              "       [ 2.,  2.,  2.,  2.,  2.,  2.,  2., 97., 98., 99.]])"
            ]
          },
          "metadata": {},
          "execution_count": 271
        }
      ]
    },
    {
      "cell_type": "code",
      "source": [
        "np.round(a)  # rounds to neares int"
      ],
      "metadata": {
        "colab": {
          "base_uri": "https://localhost:8080/"
        },
        "id": "-wIQNCVi_2ia",
        "outputId": "7b0f4a53-7064-4bd9-d2f3-8e1703fe346f"
      },
      "execution_count": 272,
      "outputs": [
        {
          "output_type": "execute_result",
          "data": {
            "text/plain": [
              "array([[ 2,  2,  2,  2,  2,  2,  2,  2,  2,  2],\n",
              "       [ 2,  2,  2,  2,  2,  2,  2,  2,  2,  2],\n",
              "       [ 2,  2,  2,  2,  2,  2,  2,  2,  2,  2],\n",
              "       [ 2,  2,  2,  2,  2,  2,  2,  2,  2,  2],\n",
              "       [ 2,  2,  2,  2,  2,  2,  2,  2,  2,  2],\n",
              "       [ 2,  2,  2,  2,  2,  2,  2,  2,  2,  2],\n",
              "       [ 2,  2,  2,  2,  2,  2,  2,  2,  2,  2],\n",
              "       [ 2,  2,  2,  2,  2,  2,  2,  2,  2,  2],\n",
              "       [ 2,  2,  2,  2,  2,  2,  2,  2,  2,  2],\n",
              "       [ 2,  2,  2,  2,  2,  2,  2, 97, 98, 99]])"
            ]
          },
          "metadata": {},
          "execution_count": 272
        }
      ]
    },
    {
      "cell_type": "markdown",
      "source": [
        "##random variables"
      ],
      "metadata": {
        "id": "AfIrGEWC_-Hp"
      }
    },
    {
      "cell_type": "code",
      "source": [
        "from numpy.random import normal, seed, rand, uniform, randint"
      ],
      "metadata": {
        "id": "h6rRpH00__pS"
      },
      "execution_count": 274,
      "outputs": []
    },
    {
      "cell_type": "code",
      "source": [
        "normal(loc=0, scale=2, size=100)  # 100 normal distributed"
      ],
      "metadata": {
        "colab": {
          "base_uri": "https://localhost:8080/"
        },
        "id": "AwB3lGBGAGG2",
        "outputId": "e1ba0b2d-c261-401a-f199-f811c49a464d"
      },
      "execution_count": 275,
      "outputs": [
        {
          "output_type": "execute_result",
          "data": {
            "text/plain": [
              "array([-2.46371796, -1.03156787,  0.0121933 , -0.07957604, -0.01589522,\n",
              "       -1.77203731, -0.63810955,  1.25051578, -0.04927469, -1.77695661,\n",
              "        0.85466303,  2.40732004,  0.47384026,  2.28313913,  1.34387821,\n",
              "        2.34121517, -0.38855628,  1.78936369,  2.47960901, -0.96800006,\n",
              "        0.27253244, -0.29129297,  1.59499561,  0.50657409,  1.85148258,\n",
              "        4.99416086,  1.5261074 ,  0.38562582,  2.40449205,  0.09682466,\n",
              "       -1.55399185,  1.24105701,  1.34173877,  0.85702401, -5.08244017,\n",
              "        4.038681  , -1.63527853, -0.10696563, -0.80309029,  0.68521276,\n",
              "        3.1943997 , -2.05988716,  1.83299571, -3.30111478, -4.55265833,\n",
              "        2.16033756,  1.75504302, -1.4806152 , -3.72587386,  1.42220003,\n",
              "       -0.27307428,  1.16033578,  2.87120945,  2.21409034, -3.94369519,\n",
              "        6.1962875 , -1.34845602, -0.08115996,  0.35452998, -1.7265815 ,\n",
              "        3.1441522 ,  0.57135528,  2.24845023, -1.34711003,  3.24682881,\n",
              "       -3.32899788, -3.07018301, -0.98169583, -0.1566893 , -2.77120032,\n",
              "       -0.74239708,  2.94884594, -0.71237749,  0.36600886, -2.12585644,\n",
              "        2.85579502, -0.76350599, -0.5330394 ,  1.06076923, -1.18970277,\n",
              "       -2.72599908,  1.21876988,  0.22112692, -0.16266064, -2.04977394,\n",
              "        1.71330139, -0.20908354, -2.14025117, -5.04137932,  0.96990567,\n",
              "        0.13105081,  3.62070954,  0.03499703, -0.10564097, -1.66255231,\n",
              "       -1.19898718,  2.2094808 ,  2.01436699,  0.77683756,  0.30525992])"
            ]
          },
          "metadata": {},
          "execution_count": 275
        }
      ]
    },
    {
      "cell_type": "code",
      "source": [
        "seed(23032)                       # resets the seed value"
      ],
      "metadata": {
        "id": "82kGuDBoAO2Q"
      },
      "execution_count": 276,
      "outputs": []
    },
    {
      "cell_type": "code",
      "source": [
        "rand(200)                         # 200 random numbers in [0, 1)"
      ],
      "metadata": {
        "colab": {
          "base_uri": "https://localhost:8080/"
        },
        "id": "bsnvTBCaASMl",
        "outputId": "118af507-3e87-49d7-f0e5-181dc8486962"
      },
      "execution_count": 277,
      "outputs": [
        {
          "output_type": "execute_result",
          "data": {
            "text/plain": [
              "array([0.57348412, 0.48893568, 0.19226917, 0.83140393, 0.16324848,\n",
              "       0.22384859, 0.31019434, 0.98469127, 0.10093018, 0.26468162,\n",
              "       0.14109166, 0.50023791, 0.15621061, 0.33585395, 0.00894233,\n",
              "       0.86371038, 0.91503039, 0.76140077, 0.52463803, 0.7433432 ,\n",
              "       0.20044724, 0.93686076, 0.95852121, 0.11031546, 0.35106453,\n",
              "       0.8581724 , 0.20178625, 0.06833438, 0.83055122, 0.15816229,\n",
              "       0.60629502, 0.68568754, 0.28549502, 0.16144249, 0.69888764,\n",
              "       0.75673814, 0.67790183, 0.89864212, 0.71630523, 0.71271108,\n",
              "       0.76914465, 0.17481175, 0.43520158, 0.80778973, 0.05457128,\n",
              "       0.90526927, 0.35085483, 0.95760039, 0.54408281, 0.4217758 ,\n",
              "       0.4022423 , 0.65001752, 0.92003353, 0.42516503, 0.10160164,\n",
              "       0.2739798 , 0.54844482, 0.81011269, 0.38102802, 0.20141009,\n",
              "       0.8911428 , 0.07906593, 0.51324394, 0.51740479, 0.11982671,\n",
              "       0.55485826, 0.65047857, 0.94853998, 0.02290521, 0.00298936,\n",
              "       0.5959863 , 0.38074375, 0.70478946, 0.41824626, 0.02322514,\n",
              "       0.42201834, 0.5036261 , 0.61217245, 0.65059435, 0.05866855,\n",
              "       0.44639296, 0.09870164, 0.07053952, 0.81011697, 0.59540352,\n",
              "       0.46406957, 0.80262338, 0.22383472, 0.7421544 , 0.70567045,\n",
              "       0.98403347, 0.19207719, 0.4888255 , 0.48211507, 0.1256826 ,\n",
              "       0.92118381, 0.81634279, 0.90682449, 0.68263631, 0.46016574,\n",
              "       0.35010695, 0.06516753, 0.17150797, 0.13648096, 0.44165551,\n",
              "       0.65133197, 0.58110478, 0.57227534, 0.55269494, 0.23048054,\n",
              "       0.80756214, 0.23456586, 0.03805122, 0.52151715, 0.80513884,\n",
              "       0.12178959, 0.0295891 , 0.92684468, 0.93367771, 0.85628035,\n",
              "       0.84599373, 0.1346264 , 0.73769981, 0.86567331, 0.20680241,\n",
              "       0.94173623, 0.24055671, 0.57496385, 0.95041413, 0.70243916,\n",
              "       0.9583565 , 0.50232493, 0.13342044, 0.50384847, 0.92664193,\n",
              "       0.06741079, 0.85111592, 0.45142317, 0.39605191, 0.41923324,\n",
              "       0.93104653, 0.62894234, 0.58507829, 0.36353445, 0.42100727,\n",
              "       0.92222704, 0.96229894, 0.42366779, 0.83437344, 0.7191396 ,\n",
              "       0.76448772, 0.97873544, 0.11959992, 0.98953001, 0.83291169,\n",
              "       0.96147181, 0.79446961, 0.88541969, 0.96344213, 0.27255926,\n",
              "       0.03498316, 0.31105976, 0.30519379, 0.86748319, 0.7970035 ,\n",
              "       0.48980987, 0.55295054, 0.54046715, 0.38991589, 0.11311385,\n",
              "       0.48989903, 0.85563468, 0.27440802, 0.6706138 , 0.56778171,\n",
              "       0.13395317, 0.29434674, 0.78177271, 0.77401987, 0.82952297,\n",
              "       0.91947011, 0.35739061, 0.12141583, 0.03301599, 0.19843917,\n",
              "       0.05927738, 0.52908912, 0.56607418, 0.6974525 , 0.80324365,\n",
              "       0.27557209, 0.48471238, 0.52580557, 0.78504003, 0.0473    ,\n",
              "       0.33579851, 0.27106058, 0.03152058, 0.72988761, 0.72137487])"
            ]
          },
          "metadata": {},
          "execution_count": 277
        }
      ]
    },
    {
      "cell_type": "code",
      "source": [
        "uniform(1, 30, 200)               # 200 random numbers in [1, 30)"
      ],
      "metadata": {
        "colab": {
          "base_uri": "https://localhost:8080/"
        },
        "id": "bOEi19uSAUfG",
        "outputId": "0ebd5efa-7e9b-4dcf-d056-4aa3ec01981e"
      },
      "execution_count": 278,
      "outputs": [
        {
          "output_type": "execute_result",
          "data": {
            "text/plain": [
              "array([19.92262177, 26.96073149,  3.33926073,  1.83293525, 11.25508058,\n",
              "       22.68808712, 26.1249969 , 23.27272688,  4.12546246,  3.32667604,\n",
              "        6.7006994 , 24.51830665, 26.01368334, 25.33708537, 29.26542152,\n",
              "       21.12517498,  5.48480174, 14.46410177, 11.544577  ,  1.46954326,\n",
              "       27.84765466,  5.76276725,  1.47120921,  7.85081224, 21.76790466,\n",
              "       29.91060338,  9.18565045, 12.62095322, 23.14588107,  2.46798349,\n",
              "       20.59100881,  1.1150185 , 29.31541802,  2.18613544,  8.20813912,\n",
              "       23.47051479,  9.96946118,  4.20775565, 15.91527999, 13.05793185,\n",
              "        7.49660015, 22.45422757, 28.93065141, 17.65266548, 10.44472637,\n",
              "       26.88836449, 12.40504872, 20.8567153 , 22.39438351, 27.15861109,\n",
              "       13.30570471, 21.77923548,  4.39050166, 23.38992276, 20.44909578,\n",
              "       29.99084365, 15.89378033,  7.0826702 , 23.12865947, 14.09324194,\n",
              "       26.40513008, 17.65166411, 18.02361187, 12.31836214, 16.13809449,\n",
              "       10.82823507, 21.10143568, 21.25409809, 12.34052984, 11.92456793,\n",
              "       13.52909086,  8.6704711 ,  4.21190897,  5.25797144, 10.48467513,\n",
              "       18.12346529,  2.62022131,  1.65268235, 10.62563338, 12.87805707,\n",
              "        7.94550707, 14.74422374, 18.98475858, 21.72565609, 23.76915425,\n",
              "       12.98426886, 27.08234658, 23.49351721, 21.29731592, 29.56157287,\n",
              "       14.92355045, 24.56112308, 12.99753341, 29.08362717,  6.28582947,\n",
              "       20.55128147,  1.4506006 ,  7.91684138, 28.82704309, 18.86775704,\n",
              "        6.86073953, 20.2597603 , 10.08925022,  3.22650463, 20.8168337 ,\n",
              "       17.86309988, 22.00315917,  6.50636767, 20.33064353, 11.20545169,\n",
              "       15.57796404, 21.45244295, 17.62233477,  1.58476429,  1.73739588,\n",
              "       12.0047532 ,  8.74970005,  9.99474741,  1.19670836,  9.14388858,\n",
              "        9.68311154,  5.7160653 , 25.69783261, 25.81063548, 17.37581716,\n",
              "        4.81508771, 13.14881835, 11.9497298 , 25.26654068,  7.39115064,\n",
              "       12.13808955, 23.91103804, 29.14407505, 15.30405142, 10.27232423,\n",
              "        2.93482426, 27.48721332, 14.47685699,  1.73931413, 19.53003794,\n",
              "       11.76999256, 15.86937652, 23.09779849, 23.4230778 ,  1.00413851,\n",
              "       15.55052542, 29.10232694, 26.13903178,  9.6395549 ,  4.5291577 ,\n",
              "        7.94494082,  2.74490583, 27.49355319, 11.67374712, 13.35552973,\n",
              "       20.49383869, 13.04604469, 26.86000108, 24.66643885,  2.5259756 ,\n",
              "       28.67936644, 27.95388497, 28.10449623, 25.39926177, 29.81184765,\n",
              "       22.30641545, 10.29239196, 17.98093   , 16.20929604, 23.23395421,\n",
              "       14.45269414,  9.04753919, 13.10811363, 14.24460908, 27.71833137,\n",
              "       19.15843189, 10.83425889,  6.80529034, 26.9440781 ,  3.19346559,\n",
              "       18.97057188, 26.59644831, 11.8371515 , 24.6362618 , 25.06418049,\n",
              "        6.87957983, 26.23740265, 15.09895607, 16.65368336,  9.37849074,\n",
              "       20.0239027 , 23.97059119, 14.5633687 , 10.70161281, 11.40014434,\n",
              "        5.37206135, 10.44570013,  1.79919994, 20.84607937,  3.83706824])"
            ]
          },
          "metadata": {},
          "execution_count": 278
        }
      ]
    },
    {
      "cell_type": "code",
      "source": [
        "randint(1, 16, 300)               # 300 random integers in [1, 16)"
      ],
      "metadata": {
        "colab": {
          "base_uri": "https://localhost:8080/"
        },
        "id": "EMFaGNzUAX-T",
        "outputId": "a48f5f4b-94d8-456b-a5eb-4b420b3a372e"
      },
      "execution_count": 279,
      "outputs": [
        {
          "output_type": "execute_result",
          "data": {
            "text/plain": [
              "array([ 8,  9,  3,  9,  2, 15,  3,  2,  3,  2,  8, 11,  1,  2, 14, 13,  3,\n",
              "        3, 13,  7,  3, 13, 15,  7, 10,  3, 15, 10,  2,  2,  8, 12, 10,  5,\n",
              "       13, 12, 11, 15,  1, 12,  7,  4,  1, 10, 13,  7,  5, 14,  8, 14, 14,\n",
              "       15,  8, 14,  4, 11,  5,  7,  5, 12,  7,  1,  5,  7, 14, 14, 10, 12,\n",
              "       13, 12,  7, 15, 13,  3, 12,  7,  6,  2, 11,  8, 10,  1, 14, 10, 13,\n",
              "        2, 12,  1,  6, 12,  9,  4,  9,  4,  3,  7, 13, 14, 10,  2,  3,  8,\n",
              "        1, 10,  4,  5,  3,  1,  4, 10,  6, 14,  2, 14,  1,  6,  3, 11,  1,\n",
              "        4, 14,  7,  2,  9,  3,  7,  6,  7,  4,  2,  9, 13, 12,  3,  4, 10,\n",
              "        2,  5, 10, 11, 14,  9, 10,  7,  2, 10,  6, 14,  7,  3,  2, 13,  9,\n",
              "        4, 10,  4,  3,  7,  3, 15,  7, 12,  5, 13,  9,  2, 10, 11,  2,  1,\n",
              "       15, 15,  5,  5,  8,  3,  2,  1, 14,  1, 10, 12,  7,  1,  5,  7, 13,\n",
              "        3,  9,  9,  8,  6,  4,  3, 11,  4,  3,  8,  6, 11, 12,  2,  1,  1,\n",
              "       13,  5, 14, 12, 12, 10,  7, 12,  4,  9,  2, 12,  9,  9,  6,  8,  2,\n",
              "        9,  8,  4, 10,  9, 15,  5, 13,  7,  7,  6, 14, 12,  1, 15,  9,  2,\n",
              "        9, 11, 15, 12,  6,  3,  1,  2, 15,  9,  3,  5, 15,  5,  2, 12,  6,\n",
              "        6,  6, 11,  8,  4,  7,  5,  6,  9,  6,  9, 11,  6,  5,  3, 15,  9,\n",
              "       13, 15, 12, 13,  4,  6, 11,  7,  8, 11, 10, 12,  2, 10, 14,  9, 15,\n",
              "       15, 10,  4,  2, 15,  5, 15, 15, 15,  8,  8])"
            ]
          },
          "metadata": {},
          "execution_count": 279
        }
      ]
    }
  ]
}