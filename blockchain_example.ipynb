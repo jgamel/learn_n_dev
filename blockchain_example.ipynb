{
  "nbformat": 4,
  "nbformat_minor": 0,
  "metadata": {
    "colab": {
      "name": "blockchain_example.ipynb",
      "provenance": [],
      "authorship_tag": "ABX9TyP9Sy2z0eDUdT2ukhPcwpB3",
      "include_colab_link": true
    },
    "kernelspec": {
      "name": "python3",
      "display_name": "Python 3"
    },
    "language_info": {
      "name": "python"
    }
  },
  "cells": [
    {
      "cell_type": "markdown",
      "metadata": {
        "id": "view-in-github",
        "colab_type": "text"
      },
      "source": [
        "<a href=\"https://colab.research.google.com/github/jgamel/learn_n_dev/blob/blockchain/blockchain_example.ipynb\" target=\"_parent\"><img src=\"https://colab.research.google.com/assets/colab-badge.svg\" alt=\"Open In Colab\"/></a>"
      ]
    },
    {
      "cell_type": "markdown",
      "source": [
        "#Build A Blockchain In < 60 Lines of Code"
      ],
      "metadata": {
        "id": "Gw8C7-ITnPj4"
      }
    },
    {
      "cell_type": "markdown",
      "source": [
        "Learn Bitcoin’s underlying data structure in 4 short steps\n",
        "\n",
        "What is a blockchain? \n",
        "\n",
        "A blockchain is open-source software that is shared between thousands of computers. These computers all follow a set of rules to track money that’s been sent from accounts tied to the blockchain software.\n",
        "\n",
        "Each “block” is a group of data that says, for example, “Alice paid Bob $100 on Monday, February 15th.” On the blockchain, I can send you money without using a bank!\n",
        "\n",
        "For this project you’ll only need Python. Keep in mind, our blockchain will be a simplified, high-level introduction…we won’t build the full-blown Bitcoin blockchain. Instead we’ll create functions to add blocks, transactions, and encryption so that our data’s tamper-proof.\n",
        "\n"
      ],
      "metadata": {
        "id": "Jm9r3q4-nSKK"
      }
    },
    {
      "cell_type": "markdown",
      "source": [
        "## Step 1: Create a Blockchain Class"
      ],
      "metadata": {
        "id": "0ePVBKn7o13v"
      }
    },
    {
      "cell_type": "code",
      "execution_count": 1,
      "metadata": {
        "id": "LhLXYXykmRWB"
      },
      "outputs": [],
      "source": [
        "import hashlib\n",
        "import json\n",
        "from time import time\n",
        "\n",
        "class Blockchain(object):\n",
        "    def __init__(self):\n",
        "        self.chain = []\n",
        "        self.pending_transactions = []\n",
        "\n",
        "        self.new_block(previous_hash=\"The Times 03/Jan/2009 Chancellor on brink of second bailout for banks.\", proof=100)\n"
      ]
    },
    {
      "cell_type": "markdown",
      "source": [
        "First step: imports! We’ll need hashlib for the encryption, JSON to format our blocks, and time for each block’s timestamp.\n",
        "\n",
        "Since we’ll be writing this with object-oriented programming in mind, let’s create a **Blockchain** class and initialize the following variables:\n",
        "\n",
        "**chain:** an empty list that we’ll add blocks to. Quite literally our ‘block-chain’.\n",
        "\n",
        "**pending_transactions:** when users send our coins to each other, their transactions will sit in this array until we approve & add them to a new block.\n",
        "\n",
        "**new_block:** this is a method that we’ll define soon, and we’ll use it to add each block to the chain. Let’s borrow Satoshi’s message from the Bitcoin genesis block (the very first block ever mined) for inspiration :)"
      ],
      "metadata": {
        "id": "m-hHUEhvpf0_"
      }
    },
    {
      "cell_type": "markdown",
      "source": [
        "##Step 2: Write a Function to Build New Blocks"
      ],
      "metadata": {
        "id": "CYOPbYZCqeal"
      }
    },
    {
      "cell_type": "code",
      "source": [
        "# Create a new block listing key/value pairs of block information in a JSON object. Reset the list of pending transactions & append the newest block to the chain.\n",
        "\n",
        "def new_block(self, proof, previous_hash=None):\n",
        "        block = {\n",
        "            'index': len(self.chain) + 1,\n",
        "            'timestamp': time(),\n",
        "            'transactions': self.pending_transactions,\n",
        "            'proof': proof,\n",
        "            'previous_hash': previous_hash or self.hash(self.chain[-1]),\n",
        "        }\n",
        "        self.pending_transactions = []\n",
        "        self.chain.append(block)\n",
        "\n",
        "        return block"
      ],
      "metadata": {
        "id": "bLp_SF9Cql7A"
      },
      "execution_count": 3,
      "outputs": []
    },
    {
      "cell_type": "markdown",
      "source": [
        "Now that we have an empty chain, let’s add blocks to it! On ```block = {```  we’ll add a block variable describing a JSON object with these properties:\n",
        "\n",
        "**index:** Take the length of our blockchain and add 1 to it. We’ll use this to reference an individual block, so for example the genesis block has index = 1\n",
        "\n",
        "**timestamp:** using our time() import, stamp the block when it’s created. Users can now check when their transaction was confirmed on-chain.\n",
        "\n",
        "**transactions:** any transactions that are sitting in the ‘pending’ list will be included in our new block.\n",
        "\n",
        "**proof:** this comes from our miner who thinks they found a valid “nonce”, or “proof”. We’ll talk about this some more in a bit.\n",
        "\n",
        "**previous_hash:** a hashed version of the most recent approved block.\n",
        "\n",
        "Ok, so every new block will contain those properties, and that’s all well and good, but we still need to add it to the chain! Lines ```self.pending_transactions = []``` & ```self.chain.append(block)```  will take care of this: first we empty the pending list of transactions (since we added them to our new block on ```block = {```), then add our new block to self.chain and return it."
      ],
      "metadata": {
        "id": "WVh_oR7SqgSx"
      }
    },
    {
      "cell_type": "markdown",
      "source": [
        "##Step 3: Write Functions to Create New Transactions & Get the Last Block"
      ],
      "metadata": {
        "id": "w1n2j4Tgt611"
      }
    },
    {
      "cell_type": "code",
      "source": [
        "#Search the blockchain for the most recent block.\n",
        "\n",
        "@property\n",
        "def last_block(self):\n",
        " \n",
        "        return self.chain[-1]\n",
        "\n",
        "# Add a transaction with relevant info to the 'blockpool' - list of pending tx's. \n",
        "\n",
        "def new_transaction(self, sender, recipient, amount):\n",
        "        transaction = {\n",
        "            'sender': sender,\n",
        "            'recipient': recipient,\n",
        "            'amount': amount\n",
        "        }\n",
        "        self.pending_transactions.append(transaction)\n",
        "        return self.last_block['index'] + 1\n"
      ],
      "metadata": {
        "id": "i5GI4z3uuTbk"
      },
      "execution_count": 8,
      "outputs": []
    },
    {
      "cell_type": "markdown",
      "source": [
        "Without a list of transactions (ie. “Mike sent 1 BTC to reader”) this whole exercise is pretty pointless. Let’s first define a last_block() method, so that we can call our chain and receive the block that was added most recently (we’ll use this in a second for our new index).\n",
        "\n",
        "Now let’s create a new_transaction() method with our three most important variables: sender, recipient, and amount. Without these included in each and every transaction, our users can’t spend, earn, or buy things with our newly-minted cryptocurrency! Just keep in mind that our transactions today are over-simplified, and don’t reflect what you’d find in a true cryptocurrency.\n",
        "\n",
        "On ```self.pending_transactions.append(transaction)``` we add our transaction JSON object to our pool of pending_transactions. These will sit in limbo until a new block is mined and added to our blockchain. And for future reference, let’s return the index of the block which our new transaction’s going to be added to.\n",
        "\n"
      ],
      "metadata": {
        "id": "K0he7qlDvQwM"
      }
    },
    {
      "cell_type": "markdown",
      "source": [
        "## Step 4: Write a Function to “Hash” Our Blocks"
      ],
      "metadata": {
        "id": "NrZ0ZG9wvzgZ"
      }
    },
    {
      "cell_type": "code",
      "source": [
        "# receive one block. Turn it into a string, turn that into Unicode (for hashing). Hash with SHA256 encryption, then translate the Unicode into a hexidecimal string.\n",
        "\n",
        "def hash(self, block):\n",
        "        string_object = json.dumps(block, sort_keys=True)\n",
        "        block_string = string_object.encode()\n",
        "\n",
        "        raw_hash = hashlib.sha256(block_string)\n",
        "        hex_hash = raw_hash.hexdigest()\n",
        "\n",
        "        return hex_hash"
      ],
      "metadata": {
        "id": "mQhHoTrxv7L9"
      },
      "execution_count": 9,
      "outputs": []
    },
    {
      "cell_type": "markdown",
      "source": [
        "Bitcoin and many other blockchains use SHA-256, an encryption hash function, which takes in some text string (stored as a Unicode value) and spits out a 64-character long encrypted string. In a blockchain, the text that we encrypt is actually our block. For example, the encrypted string, or “hash”, of the Bitcoin genesis block looks like this:\n",
        "\n",
        "![1_JSGFTtEGtMNdG1kxNJTDjQ.png](data:image/png;base64,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)"
      ],
      "metadata": {
        "id": "_rhGJNGPwv1K"
      }
    },
    {
      "cell_type": "markdown",
      "source": [
        "Why do we care? Blockchains are considered “tamper-proof” because every single block contains a copy of the previous block’s hash. And since your new hash is derived from the previous block, you can’t change any aspect of a block without changing every single hash in front of it.\n",
        "\n",
        "If I wanted to, I could download the Bitcoin blockchain to my computer, write “Satoshi sends Mike 7,235,900 Bitcoin!” into the genesis block, and broadcast this to the Bitcoin network and claim that I’m a secret billionaire. But as soon as any self-respecting miner compares their current copy of the blockchain, specifically the hash values stored in each block, with my copy of the chain, they’ll see that I’m a liar, refuse to validate it, and run me off the network.\n",
        "\n",
        "Let’s look back at our code. Our hash() method on line 48 takes our new block and changes its key/value pairs all into strings. ```block_string = string_object.encode()``` urns that string into Unicode, which we pass into our SHA256 method from hashlib, and we create a hexidecimal string from its return value. Then we return our new hash."
      ],
      "metadata": {
        "id": "7Zw07Aurw-GU"
      }
    },
    {
      "cell_type": "markdown",
      "source": [
        "### Step 5: Create a new Blockchain & Send Some Money!"
      ],
      "metadata": {
        "id": "8dMmvzKAxdk4"
      }
    },
    {
      "cell_type": "code",
      "source": [
        "'''\n",
        "blockchain = Blockchain()\n",
        "t1 = blockchain.new_transaction(\"Satoshi\", \"Mike\", '5 BTC')\n",
        "t2 = blockchain.new_transaction(\"Mike\", \"Satoshi\", '1 BTC')\n",
        "t3 = blockchain.new_transaction(\"Satoshi\", \"Hal Finney\", '5 BTC')\n",
        "blockchain.new_block(12345)\n",
        "\n",
        "t4 = blockchain.new_transaction(\"Mike\", \"Alice\", '1 BTC')\n",
        "t5 = blockchain.new_transaction(\"Alice\", \"Bob\", '0.5 BTC')\n",
        "t6 = blockchain.new_transaction(\"Bob\", \"Mike\", '0.5 BTC')\n",
        "blockchain.new_block(6789)\n",
        "\n",
        "print(\"Genesis block: \", blockchain.chain)\n",
        "'''"
      ],
      "metadata": {
        "colab": {
          "base_uri": "https://localhost:8080/",
          "height": 107
        },
        "id": "zgbV5LyLxocZ",
        "outputId": "4c488a1f-f7ae-45e9-87d2-241ebaaf28bb"
      },
      "execution_count": 12,
      "outputs": [
        {
          "output_type": "execute_result",
          "data": {
            "text/plain": [
              "'\\nblockchain = Blockchain()\\nt1 = blockchain.new_transaction(\"Satoshi\", \"Mike\", \\'5 BTC\\')\\nt2 = blockchain.new_transaction(\"Mike\", \"Satoshi\", \\'1 BTC\\')\\nt3 = blockchain.new_transaction(\"Satoshi\", \"Hal Finney\", \\'5 BTC\\')\\nblockchain.new_block(12345)\\n\\nt4 = blockchain.new_transaction(\"Mike\", \"Alice\", \\'1 BTC\\')\\nt5 = blockchain.new_transaction(\"Alice\", \"Bob\", \\'0.5 BTC\\')\\nt6 = blockchain.new_transaction(\"Bob\", \"Mike\", \\'0.5 BTC\\')\\nblockchain.new_block(6789)\\n\\nprint(\"Genesis block: \", blockchain.chain)\\n'"
            ],
            "application/vnd.google.colaboratory.intrinsic+json": {
              "type": "string"
            }
          },
          "metadata": {},
          "execution_count": 12
        }
      ]
    },
    {
      "cell_type": "markdown",
      "source": [
        "Let’s recap how much we’ve done. First, we created a class for our blockchain. Next, we wrote methods to build a new block and a new transaction, along with a custom method used to hash any block with SHA256 encryption.\n",
        "\n",
        "So let’s build our chain! We initialize an instance of our Blockchain class on ```blockchain = Blockchain()```. Then we add some dummy transactions, making sure to list them in some blocks that we add to our chain. All that’s left is to save the above lines of code into your text editor & run the file in your terminal."
      ],
      "metadata": {
        "id": "n6as8P9rywym"
      }
    },
    {
      "cell_type": "markdown",
      "source": [
        "Here’s our result:"
      ],
      "metadata": {
        "id": "kkYY_lhZzm_K"
      }
    },
    {
      "cell_type": "code",
      "source": [
        "import hashlib\n",
        "import json\n",
        "from time import time\n",
        "\n",
        "class Blockchain(object):\n",
        "    def __init__(self):\n",
        "        self.chain = []\n",
        "        self.pending_transactions = []\n",
        "\n",
        "        self.new_block(previous_hash=\"The Times 03/Jan/2009 Chancellor on brink of second bailout for banks.\", proof=100)\n",
        "\n",
        "# Create a new block listing key/value pairs of block information in a JSON object. Reset the list of pending transactions & append the newest block to the chain.\n",
        "\n",
        "    def new_block(self, proof, previous_hash=None):\n",
        "        block = {\n",
        "            'index': len(self.chain) + 1,\n",
        "            'timestamp': time(),\n",
        "            'transactions': self.pending_transactions,\n",
        "            'proof': proof,\n",
        "            'previous_hash': previous_hash or self.hash(self.chain[-1]),\n",
        "        }\n",
        "        self.pending_transactions = []\n",
        "        self.chain.append(block)\n",
        "\n",
        "        return block\n",
        "\n",
        "#Search the blockchain for the most recent block.\n",
        "\n",
        "    @property\n",
        "    def last_block(self):\n",
        " \n",
        "        return self.chain[-1]\n",
        "\n",
        "# Add a transaction with relevant info to the 'blockpool' - list of pending tx's. \n",
        "\n",
        "    def new_transaction(self, sender, recipient, amount):\n",
        "        transaction = {\n",
        "            'sender': sender,\n",
        "            'recipient': recipient,\n",
        "            'amount': amount\n",
        "        }\n",
        "        self.pending_transactions.append(transaction)\n",
        "        return self.last_block['index'] + 1\n",
        "\n",
        "# receive one block. Turn it into a string, turn that into Unicode (for hashing). Hash with SHA256 encryption, then translate the Unicode into a hexidecimal string.\n",
        "\n",
        "    def hash(self, block):\n",
        "        string_object = json.dumps(block, sort_keys=True)\n",
        "        block_string = string_object.encode()\n",
        "\n",
        "        raw_hash = hashlib.sha256(block_string)\n",
        "        hex_hash = raw_hash.hexdigest()\n",
        "\n",
        "        return hex_hash\n",
        "\n",
        "\n",
        "blockchain = Blockchain()\n",
        "t1 = blockchain.new_transaction(\"Satoshi\", \"Mike\", '5 BTC')\n",
        "t2 = blockchain.new_transaction(\"Mike\", \"Satoshi\", '1 BTC')\n",
        "t3 = blockchain.new_transaction(\"Satoshi\", \"Hal Finney\", '5 BTC')\n",
        "blockchain.new_block(12345)\n",
        "\n",
        "t4 = blockchain.new_transaction(\"Mike\", \"Alice\", '1 BTC')\n",
        "t5 = blockchain.new_transaction(\"Alice\", \"Bob\", '0.5 BTC')\n",
        "t6 = blockchain.new_transaction(\"Bob\", \"Mike\", '0.5 BTC')\n",
        "blockchain.new_block(6789)\n",
        "\n",
        "print(\"Genesis block: \", blockchain.chain)"
      ],
      "metadata": {
        "colab": {
          "base_uri": "https://localhost:8080/"
        },
        "id": "WZY9bn8-x5YS",
        "outputId": "40e0ef78-1556-4c5c-e014-b37b497144d4"
      },
      "execution_count": 11,
      "outputs": [
        {
          "output_type": "stream",
          "name": "stdout",
          "text": [
            "Genesis block:  [{'index': 1, 'timestamp': 1653323833.3587966, 'transactions': [], 'proof': 100, 'previous_hash': 'The Times 03/Jan/2009 Chancellor on brink of second bailout for banks.'}, {'index': 2, 'timestamp': 1653323833.3588758, 'transactions': [{'sender': 'Satoshi', 'recipient': 'Mike', 'amount': '5 BTC'}, {'sender': 'Mike', 'recipient': 'Satoshi', 'amount': '1 BTC'}, {'sender': 'Satoshi', 'recipient': 'Hal Finney', 'amount': '5 BTC'}], 'proof': 12345, 'previous_hash': '759678b74721f89040c30b2c42979fb446ac8b1c80c5ebbd4cf62f07c39e1417'}, {'index': 3, 'timestamp': 1653323833.3589942, 'transactions': [{'sender': 'Mike', 'recipient': 'Alice', 'amount': '1 BTC'}, {'sender': 'Alice', 'recipient': 'Bob', 'amount': '0.5 BTC'}, {'sender': 'Bob', 'recipient': 'Mike', 'amount': '0.5 BTC'}], 'proof': 6789, 'previous_hash': '960e1a9d62a692bad2d5e1121d2aa9f0a046e3c76d28c60366cff4b3a3d7c436'}]\n"
          ]
        }
      ]
    },
    {
      "cell_type": "markdown",
      "source": [
        "Our blockchain includes 3 blocks right now: the genesis block (with an index of 1 and no transactions), plus the 2 that we added ourselves. \n",
        "\n",
        "One more thing: do you notice any account balances?\n",
        "\n",
        "Blockchains != banks and here’s a good example of the difference. A cryptocurrency wallet will calculate your balance by scanning the entire chain and adding up how many coins you received vs. how much you spent. "
      ],
      "metadata": {
        "id": "cfJKgLo0z_wo"
      }
    }
  ]
}