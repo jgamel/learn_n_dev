{
  "nbformat": 4,
  "nbformat_minor": 0,
  "metadata": {
    "colab": {
      "name": "Feedparser_example.ipynb",
      "provenance": [],
      "collapsed_sections": [],
      "authorship_tag": "ABX9TyOgSY8vFwY74njPeYh7r/NU",
      "include_colab_link": true
    },
    "kernelspec": {
      "name": "python3",
      "display_name": "Python 3"
    },
    "language_info": {
      "name": "python"
    }
  },
  "cells": [
    {
      "cell_type": "markdown",
      "metadata": {
        "id": "view-in-github",
        "colab_type": "text"
      },
      "source": [
        "<a href=\"https://colab.research.google.com/github/jgamel/learn_n_dev/blob/python_web_scrapping/Feedparser_example.ipynb\" target=\"_parent\"><img src=\"https://colab.research.google.com/assets/colab-badge.svg\" alt=\"Open In Colab\"/></a>"
      ]
    },
    {
      "cell_type": "markdown",
      "source": [
        "# Feedparser"
      ],
      "metadata": {
        "id": "yuX0mvVneja1"
      }
    },
    {
      "cell_type": "markdown",
      "source": [
        "The FeedParser Python library runs on Python3.6 or later and can be used to parse syndicated feeds. In short, it can parse RSS or Atom feeds and provide you with the information in the form of easy-to-understand data points. It acts as a news scraper and we can use it to mine news data from RSS feeds of different news websites."
      ],
      "metadata": {
        "id": "f8D2pqcwewH_"
      }
    },
    {
      "cell_type": "markdown",
      "source": [
        "By default, you would need to first find the RSS URL for feedparser to parse. However, in this article, we will use feedparser in conjunction with the feedsearch Python library that can be used to find RSS URLs by scraping the URL of a news website."
      ],
      "metadata": {
        "id": "5j448G4pe02R"
      }
    },
    {
      "cell_type": "markdown",
      "source": [
        "Install feedsearch not currently installed on Google Colabs.  If this changes in the future this step will be unnecessary."
      ],
      "metadata": {
        "id": "FeP-K2jEoCJG"
      }
    },
    {
      "cell_type": "code",
      "source": [
        "#Install feedsearch\n",
        "!pip install feedsearch"
      ],
      "metadata": {
        "id": "5-F4rHCwnwkM",
        "outputId": "d97622b6-a024-4fb0-9051-24c5f010fde0",
        "colab": {
          "base_uri": "https://localhost:8080/"
        }
      },
      "execution_count": 2,
      "outputs": [
        {
          "output_type": "stream",
          "name": "stdout",
          "text": [
            "Collecting feedsearch\n",
            "  Downloading feedsearch-1.0.12-py35.py36.py37-none-any.whl (18 kB)\n",
            "Collecting feedparser\n",
            "  Downloading feedparser-6.0.8-py3-none-any.whl (81 kB)\n",
            "\u001b[K     |████████████████████████████████| 81 kB 5.1 MB/s \n",
            "\u001b[?25hRequirement already satisfied: requests in /usr/local/lib/python3.7/dist-packages (from feedsearch) (2.23.0)\n",
            "Requirement already satisfied: beautifulsoup4 in /usr/local/lib/python3.7/dist-packages (from feedsearch) (4.6.3)\n",
            "Requirement already satisfied: click in /usr/local/lib/python3.7/dist-packages (from feedsearch) (7.1.2)\n",
            "Requirement already satisfied: Werkzeug in /usr/local/lib/python3.7/dist-packages (from feedsearch) (1.0.1)\n",
            "Collecting sgmllib3k\n",
            "  Downloading sgmllib3k-1.0.0.tar.gz (5.8 kB)\n",
            "Requirement already satisfied: chardet<4,>=3.0.2 in /usr/local/lib/python3.7/dist-packages (from requests->feedsearch) (3.0.4)\n",
            "Requirement already satisfied: idna<3,>=2.5 in /usr/local/lib/python3.7/dist-packages (from requests->feedsearch) (2.10)\n",
            "Requirement already satisfied: urllib3!=1.25.0,!=1.25.1,<1.26,>=1.21.1 in /usr/local/lib/python3.7/dist-packages (from requests->feedsearch) (1.24.3)\n",
            "Requirement already satisfied: certifi>=2017.4.17 in /usr/local/lib/python3.7/dist-packages (from requests->feedsearch) (2021.10.8)\n",
            "Building wheels for collected packages: sgmllib3k\n",
            "  Building wheel for sgmllib3k (setup.py) ... \u001b[?25l\u001b[?25hdone\n",
            "  Created wheel for sgmllib3k: filename=sgmllib3k-1.0.0-py3-none-any.whl size=6066 sha256=fdac10ced885936a5e76f2bb4045a9f4f24c2dd8a157e261bfb7b4c3b01376ad\n",
            "  Stored in directory: /root/.cache/pip/wheels/73/ad/a4/0dff4a6ef231fc0dfa12ffbac2a36cebfdddfe059f50e019aa\n",
            "Successfully built sgmllib3k\n",
            "Installing collected packages: sgmllib3k, feedparser, feedsearch\n",
            "Successfully installed feedparser-6.0.8 feedsearch-1.0.12 sgmllib3k-1.0.0\n"
          ]
        }
      ]
    },
    {
      "cell_type": "markdown",
      "source": [
        "### Example 1"
      ],
      "metadata": {
        "id": "lgZvqicnEnOY"
      }
    },
    {
      "cell_type": "code",
      "source": [
        "from feedsearch import search\n",
        "feeds = search('https://www.theatlantic.com/')\n",
        "urls = [f.url for f in feeds]\n",
        "\n",
        "print(urls)\n",
        "\n"
      ],
      "metadata": {
        "colab": {
          "base_uri": "https://localhost:8080/"
        },
        "id": "DTWh2f0Ad05T",
        "outputId": "4109c692-6008-487d-a67c-d1d683c7953e"
      },
      "execution_count": 3,
      "outputs": [
        {
          "output_type": "stream",
          "name": "stdout",
          "text": [
            "['https://www.theatlantic.com/feed/best-of/', 'https://www.theatlantic.com/feed/all/']\n"
          ]
        }
      ]
    },
    {
      "cell_type": "code",
      "source": [
        "import feedparser\n",
        "import time\n",
        "if len(urls) > 0:\n",
        "  news_feed = feedparser.parse(urls[0])\n",
        "  entries = news_feed[\"entries\"]\n",
        "  count=0\n",
        "  for entry in entries:\n",
        "    count = count + 1\n",
        "    print(\n",
        "     str(count) + \". \" + entry[\"title\"] \\\n",
        "     + \"\\n\\t\\t\" + entry[\"published\"] \\\n",
        "     + \"\\n\\t\\t\" + entry[\"link\"]\\\n",
        "     + \"\\n\\n\"\n",
        "     )\n",
        "    time.sleep(0.33)"
      ],
      "metadata": {
        "colab": {
          "base_uri": "https://localhost:8080/"
        },
        "id": "vT2a1yWCd1RN",
        "outputId": "80d41c08-13d9-474f-9bd6-6bc7c2afb4be"
      },
      "execution_count": 4,
      "outputs": [
        {
          "output_type": "stream",
          "name": "stdout",
          "text": [
            "1. My Great-Uncle, The Holocaust’s First Jewish Victim\n",
            "\t\t2022-05-05T10:07:15-04:00\n",
            "\t\thttps://www.theatlantic.com/family/archive/2022/05/arthur-kahn-german-jewish-holocaust-history/629762/?utm_source=feed\n",
            "\n",
            "\n",
            "2. The Right to Move Is Under Attack\n",
            "\t\t2022-05-04T13:00:00-04:00\n",
            "\t\thttps://www.theatlantic.com/ideas/archive/2022/05/red-state-abortion-ban-help-people-move/629756/?utm_source=feed\n",
            "\n",
            "\n",
            "3. America’s Blue-Red Divide Is About to Get Starker\n",
            "\t\t2022-05-05T07:00:00-04:00\n",
            "\t\thttps://www.theatlantic.com/politics/archive/2022/05/roe-abortion-supreme-court-republican-divide/629768/?utm_source=feed\n",
            "\n",
            "\n",
            "4. China’s Troubling New Military Strategy Is Coming Into View\n",
            "\t\t2022-05-05T05:00:00-04:00\n",
            "\t\thttps://www.theatlantic.com/ideas/archive/2022/05/china-security-agreement-solomon-islands/629771/?utm_source=feed\n",
            "\n",
            "\n",
            "5. How to Win the Abortion Argument\n",
            "\t\t2022-05-05T07:00:00-04:00\n",
            "\t\thttps://www.theatlantic.com/ideas/archive/2022/05/feminist-activism-roe-abortion-debate/629769/?utm_source=feed\n",
            "\n",
            "\n",
            "6. Omicron Undid America’s Concept of COVID Surges\n",
            "\t\t2022-05-05T08:00:00-04:00\n",
            "\t\thttps://www.theatlantic.com/health/archive/2022/05/omicron-us-covid-surge-meaning/629765/?utm_source=feed\n",
            "\n",
            "\n",
            "7. A Late-Night Show for Red America\n",
            "\t\t2022-05-05T06:00:00-04:00\n",
            "\t\thttps://www.theatlantic.com/magazine/archive/2022/06/fox-news-greg-gutfeld-late-night-rise/629634/?utm_source=feed\n",
            "\n",
            "\n",
            "8. The Great Rage\n",
            "\t\t2022-05-05T07:00:00-04:00\n",
            "\t\thttps://www.theatlantic.com/ideas/archive/2022/05/us-politics-threats-violence-harassment/629739/?utm_source=feed\n",
            "\n",
            "\n",
            "9. Alito’s Plan to Repeal the 20th Century\n",
            "\t\t2022-05-03T16:17:26-04:00\n",
            "\t\thttps://www.theatlantic.com/ideas/archive/2022/05/alito-leaked-roe-opinion-abortion-supreme-court-civil-rights/629748/?utm_source=feed\n",
            "\n",
            "\n",
            "10. Ben Franklin’s Radical Theory of Happiness\n",
            "\t\t2022-05-05T06:00:00-04:00\n",
            "\t\thttps://www.theatlantic.com/family/archive/2022/05/ben-franklin-happiness-self-improvement-advice/629767/?utm_source=feed\n",
            "\n",
            "\n",
            "11. What Alito Got Right\n",
            "\t\t2022-05-04T14:24:15-04:00\n",
            "\t\thttps://www.theatlantic.com/ideas/archive/2022/05/alito-roe-opinion-abortion-states-rights-constitution/629755/?utm_source=feed\n",
            "\n",
            "\n",
            "12. If Biden Forgives Student Loans, Voters Won’t Forget It\n",
            "\t\t2022-05-04T06:00:00-04:00\n",
            "\t\thttps://www.theatlantic.com/ideas/archive/2022/05/biden-student-loan-forgiveness-popularity/629752/?utm_source=feed\n",
            "\n",
            "\n",
            "13. Please Ignore My Last 577 Tweets\n",
            "\t\t2022-05-03T14:53:00-04:00\n",
            "\t\thttps://www.theatlantic.com/technology/archive/2022/05/moonbirds-nft-scam-twitter-hack/629745/?utm_source=feed\n",
            "\n",
            "\n",
            "14. Americans Are Missing a Key Stratum of Modern Knowledge\n",
            "\t\t2022-05-04T13:11:52-04:00\n",
            "\t\thttps://www.theatlantic.com/science/archive/2022/05/earth-science-education-climate-change/629761/?utm_source=feed\n",
            "\n",
            "\n",
            "15. Should Courts Assess the Sincerity of Religious Beliefs?\n",
            "\t\t2022-05-05T07:00:00-04:00\n",
            "\t\thttps://www.theatlantic.com/ideas/archive/2022/05/supreme-court-sincere-religious-belief-coach-kennedy/629737/?utm_source=feed\n",
            "\n",
            "\n",
            "16. 20 Bold Takes on the <em>Roe </em>Draft Opinion\n",
            "\t\t2022-05-04T15:27:00-04:00\n",
            "\t\thttps://www.theatlantic.com/newsletters/archive/2022/05/abortion-debate-roe-v-wade-opinion/629763/?utm_source=feed\n",
            "\n",
            "\n",
            "17. The Fight for <em>Roe</em>\n",
            "\t\t2022-05-04T13:48:36-04:00\n",
            "\t\thttps://www.theatlantic.com/photo/2022/05/photos-abortion-rights-supporters-protest-usa/629757/?utm_source=feed\n",
            "\n",
            "\n",
            "18. America Is Starting to See What COVID Immunity Really Looks Like\n",
            "\t\t2022-05-04T12:06:39-04:00\n",
            "\t\thttps://www.theatlantic.com/health/archive/2022/05/omicron-covid-transmission-herd-immunity/629758/?utm_source=feed\n",
            "\n",
            "\n",
            "19. Wheat Can’t Catch a Break Right Now\n",
            "\t\t2022-05-04T08:00:00-04:00\n",
            "\t\thttps://www.theatlantic.com/science/archive/2022/05/india-pakistan-heatwave-wheat-economic-costs/629753/?utm_source=feed\n",
            "\n",
            "\n",
            "20. The Wackadoodle Wave\n",
            "\t\t2022-05-04T07:44:38-04:00\n",
            "\t\thttps://www.theatlantic.com/ideas/archive/2022/05/republican-congressional-candidates-2022-midterm-elections/629733/?utm_source=feed\n",
            "\n",
            "\n",
            "21. Biden Is Rightsizing the COVID Crisis\n",
            "\t\t2022-05-04T07:00:00-04:00\n",
            "\t\thttps://www.theatlantic.com/ideas/archive/2022/05/biden-covid-policy-individual-preferences/629751/?utm_source=feed\n",
            "\n",
            "\n",
            "22. The GOP’s Strange Turn Against Rape Exceptions\n",
            "\t\t2022-05-04T06:00:00-04:00\n",
            "\t\thttps://www.theatlantic.com/politics/archive/2022/05/supreme-court-overturn-roe-v-wade-no-rape-incest-exceptions/629747/?utm_source=feed\n",
            "\n",
            "\n",
            "23. The Art of the Dealer\n",
            "\t\t2022-05-04T00:13:22-04:00\n",
            "\t\thttps://www.theatlantic.com/ideas/archive/2022/05/jd-vance-ohio-senate-trump-cultural-heroin/629754/?utm_source=feed\n",
            "\n",
            "\n",
            "24. My Mother Was Wrong\n",
            "\t\t2022-05-03T15:41:19-04:00\n",
            "\t\thttps://www.theatlantic.com/ideas/archive/2022/05/supreme-court-overturn-abortion-peaceful-protest/629746/?utm_source=feed\n",
            "\n",
            "\n",
            "25. The New <em>Doctor Strange </em>Is Not Just Another Marvel Movie\n",
            "\t\t2022-05-03T14:51:05-04:00\n",
            "\t\thttps://www.theatlantic.com/culture/archive/2022/05/doctor-strange-multiverse-madness-sam-raimi-marvel-review/629744/?utm_source=feed\n",
            "\n",
            "\n"
          ]
        }
      ]
    },
    {
      "cell_type": "markdown",
      "source": [
        "### Example 2"
      ],
      "metadata": {
        "id": "WUFRJ3EuEtXR"
      }
    },
    {
      "cell_type": "code",
      "source": [
        "from feedsearch import search"
      ],
      "metadata": {
        "id": "rBjAm1zlE0tq"
      },
      "execution_count": 5,
      "outputs": []
    },
    {
      "cell_type": "code",
      "source": [
        "feeds = search('theatlantic.com')\n",
        "feeds \n",
        "feeds[0].url"
      ],
      "metadata": {
        "id": "GGxPwXHkE2im",
        "outputId": "d858f4ea-fca4-4448-c3bf-22850b0e25c8",
        "colab": {
          "base_uri": "https://localhost:8080/",
          "height": 35
        }
      },
      "execution_count": 6,
      "outputs": [
        {
          "output_type": "execute_result",
          "data": {
            "text/plain": [
              "'https://www.theatlantic.com/feed/best-of/'"
            ],
            "application/vnd.google.colaboratory.intrinsic+json": {
              "type": "string"
            }
          },
          "metadata": {},
          "execution_count": 6
        }
      ]
    },
    {
      "cell_type": "markdown",
      "source": [
        "To get Feed and Site metadata:"
      ],
      "metadata": {
        "id": "xMVm1m3FF53s"
      }
    },
    {
      "cell_type": "code",
      "source": [
        "feeds = search('theatlantic.com', info=True)\n",
        "feeds\n",
        "print(vars(feeds[0]))"
      ],
      "metadata": {
        "id": "O7QF6e8gF6em",
        "outputId": "96244482-b20b-42c0-8df1-008ffff8b166",
        "colab": {
          "base_uri": "https://localhost:8080/"
        }
      },
      "execution_count": 7,
      "outputs": [
        {
          "output_type": "stream",
          "name": "stdout",
          "text": [
            "{'url': 'https://www.theatlantic.com/feed/best-of/', 'site_url': 'https://www.theatlantic.com', 'title': 'Best of The Atlantic', 'description': None, 'site_name': 'The Atlantic', 'favicon': 'https://cdn.theatlantic.com/_next/static/images/favicon-3888b0e329526a975703e3059a02b92d.ico', 'hubs': [], 'is_push': False, 'content_type': 'application/xml; charset=utf-8', 'version': 'atom10', 'self_url': 'https://www.theatlantic.com/feed/best-of/', 'bozo': 0, 'score': 13, 'favicon_data_uri': ''}\n"
          ]
        }
      ]
    },
    {
      "cell_type": "markdown",
      "source": [
        "If you only want the raw urls, then use a list comprehension on the result, or set the as_urls parameter to True:"
      ],
      "metadata": {
        "id": "uXRib0V1Ggph"
      }
    },
    {
      "cell_type": "code",
      "source": [
        "feeds = search('http://theatlantic.com')\n",
        "feeds "
      ],
      "metadata": {
        "id": "9M1QwDX4Ghjb",
        "outputId": "71d5d4ec-3c37-4037-bb71-2a96a362f672",
        "colab": {
          "base_uri": "https://localhost:8080/"
        }
      },
      "execution_count": 8,
      "outputs": [
        {
          "output_type": "execute_result",
          "data": {
            "text/plain": [
              "[FeedInfo(<method-wrapper '__repr__' of str object at 0x7f5e300abb10>),\n",
              " FeedInfo(<method-wrapper '__repr__' of str object at 0x7f5e300ab1b0>)]"
            ]
          },
          "metadata": {},
          "execution_count": 8
        }
      ]
    },
    {
      "cell_type": "code",
      "source": [
        "urls = [f.url for f in feeds]\n",
        "urls"
      ],
      "metadata": {
        "id": "IVUMhrIMGuYi",
        "outputId": "46cb0bd7-2d99-406b-e210-a54c0f3ab18e",
        "colab": {
          "base_uri": "https://localhost:8080/"
        }
      },
      "execution_count": 9,
      "outputs": [
        {
          "output_type": "execute_result",
          "data": {
            "text/plain": [
              "['https://www.theatlantic.com/feed/best-of/',\n",
              " 'https://www.theatlantic.com/feed/all/']"
            ]
          },
          "metadata": {},
          "execution_count": 9
        }
      ]
    },
    {
      "cell_type": "code",
      "source": [
        "feeds = search('http://www.fivethirtyeight.com', as_urls=True)\n",
        "feeds"
      ],
      "metadata": {
        "id": "aBb7n9xqG25R",
        "outputId": "5a142030-fa1b-4556-9f06-5dcd3911a424",
        "colab": {
          "base_uri": "https://localhost:8080/"
        }
      },
      "execution_count": 10,
      "outputs": [
        {
          "output_type": "execute_result",
          "data": {
            "text/plain": [
              "['https://fivethirtyeight.com/features/feed/']"
            ]
          },
          "metadata": {},
          "execution_count": 10
        }
      ]
    }
  ]
}